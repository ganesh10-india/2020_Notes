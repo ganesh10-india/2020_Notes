{
 "cells": [
  {
   "cell_type": "markdown",
   "metadata": {},
   "source": [
    "# Notes on TensorFlow"
   ]
  },
  {
   "cell_type": "code",
   "execution_count": 2,
   "metadata": {},
   "outputs": [],
   "source": [
    "import tensorflow as tf\n",
    "\n",
    "#enable eager execution\n",
    "tf.enable_eager_execution()"
   ]
  },
  {
   "cell_type": "markdown",
   "metadata": {},
   "source": [
    "## Eager Execution\n",
    "Evaluates operations immediately without building a graph.... more pythonic."
   ]
  },
  {
   "cell_type": "code",
   "execution_count": 3,
   "metadata": {},
   "outputs": [
    {
     "data": {
      "text/plain": [
       "True"
      ]
     },
     "execution_count": 3,
     "metadata": {},
     "output_type": "execute_result"
    }
   ],
   "source": [
    "tf.executing_eagerly()"
   ]
  },
  {
   "cell_type": "code",
   "execution_count": 4,
   "metadata": {},
   "outputs": [
    {
     "name": "stdout",
     "output_type": "stream",
     "text": [
      "tf.Tensor([[4.]], shape=(1, 1), dtype=float32)\n"
     ]
    }
   ],
   "source": [
    "x = [[2.0]]\n",
    "print(tf.matmul(x,x))"
   ]
  },
  {
   "cell_type": "markdown",
   "metadata": {},
   "source": [
    "__tf.Tensor__ is a multidimensional array. Has a data type and a shape. Has many operations that consume and produce tensors. Object references concrete values instead of a symbolic handles to nodes in a computational graph.\n",
    "\n",
    "With eager execution, we can evaluate and print the values of Tensors without breaking the program.\n"
   ]
  },
  {
   "cell_type": "code",
   "execution_count": 7,
   "metadata": {},
   "outputs": [
    {
     "name": "stdout",
     "output_type": "stream",
     "text": [
      "tf.Tensor(\n",
      "[[1 2]\n",
      " [3 4]], shape=(2, 2), dtype=int32)\n",
      "tf.Tensor(\n",
      "[[2 3]\n",
      " [4 5]], shape=(2, 2), dtype=int32)\n",
      "tf.Tensor(\n",
      "[[ 2  6]\n",
      " [12 20]], shape=(2, 2), dtype=int32)\n"
     ]
    }
   ],
   "source": [
    "a = tf.constant([[1, 2],\n",
    "                [3, 4]])\n",
    "b = tf.add(a, 1)\n",
    "print(a)\n",
    "print(b) #broadcasting supported\n",
    "print(a * b)"
   ]
  },
  {
   "cell_type": "markdown",
   "metadata": {},
   "source": [
    "### Dynamic Control Flow\n",
    "Python functionality is available while the TF program is executing (unlike graphs executed in C++)"
   ]
  },
  {
   "cell_type": "code",
   "execution_count": 9,
   "metadata": {},
   "outputs": [
    {
     "name": "stdout",
     "output_type": "stream",
     "text": [
      "tf.Tensor(0, shape=(), dtype=int32)\n",
      "tf.Tensor(1, shape=(), dtype=int32)\n",
      "tf.Tensor(2, shape=(), dtype=int32)\n",
      "tf.Tensor(3, shape=(), dtype=int32)\n",
      "3 Reached breaking\n"
     ]
    }
   ],
   "source": [
    "num = tf.constant(0)\n",
    "for i in range(4):\n",
    "    print(num)\n",
    "    if num>2:\n",
    "        print(\"3 Reached breaking\")\n",
    "        break\n",
    "    num+=1  "
   ]
  },
  {
   "cell_type": "markdown",
   "metadata": {},
   "source": [
    "### Building a Model\n",
    "We can compose models with __tf.keras.layers__ which contains many premade layers. We can  build layers with __tf.keras.layers.Layers__ base class."
   ]
  },
  {
   "cell_type": "code",
   "execution_count": null,
   "metadata": {},
   "outputs": [],
   "source": [
    "#Custom Layer\n",
    "class MySimpleLayer(tf.keras.layers.Layer):\n",
    "    def __init__(self, output_units):\n",
    "        super(MySimpleLayer, self).__init__()\n",
    "        self.output_units = output_units\n",
    "    def build(self, input_shape):\n",
    "        self.kernel = self.add_variable(\"kernel\", [input_shape[-1], self.output_units])\n",
    "    def call(self, input):\n",
    "        return tf.matmul(input, self.kernel)\n",
    "    \n",
    "#Sequential Keras Model\n",
    "model = tf.keras.Sequential([\n",
    "    tf.keras.layers.Dense(10, input_shape=(784,)),\n",
    "    tf.keras.layers.Dense(10)\n",
    "])\n",
    "\n",
    "#Custom Model Class\n",
    "class Model(tf.keras.model):\n",
    "    def __init__(self):\n",
    "        super(Model, self).__init__()\n",
    "        self.dense1 = tf.keras.layers.Dense(10,)\n",
    "        self.dense2 = tf.keras.layers.Dense(10,)\n",
    "    def call(self, input):\n",
    "        result = self.dense1(input)\n",
    "        result = self.dense2(result)\n",
    "        result = self.dense2(result)\n",
    "        return result\n",
    "    "
   ]
  },
  {
   "cell_type": "markdown",
   "metadata": {},
   "source": [
    "## Eager Training\n",
    "__Computing Gradients__ uses automatic differentiation (iterative use of chain rule on computers applications of add, multiply, sin,cos to find derivative)\n",
    "\n",
    "__tf.GradientTape__ is used in eager execution to trace operations for later derivation during backprop. All forward operations are recorded to the tape, later played back to compute gradient, and thrown away."
   ]
  },
  {
   "cell_type": "code",
   "execution_count": 10,
   "metadata": {},
   "outputs": [
    {
     "name": "stdout",
     "output_type": "stream",
     "text": [
      "tf.Tensor([[6.]], shape=(1, 1), dtype=float32)\n"
     ]
    }
   ],
   "source": [
    "w = tf.Variable([[3.0]]) #variables exists outside of a session.run\n",
    "with tf.GradientTape() as tape:\n",
    "    loss = w*w  # = [[9.0]] = x^2  : Gradient ~~ [[6.0]] = 2*x\n",
    "    \n",
    "grad = tape.gradient(loss, w)\n",
    "print(grad)"
   ]
  },
  {
   "cell_type": "code",
   "execution_count": 11,
   "metadata": {},
   "outputs": [
    {
     "name": "stdout",
     "output_type": "stream",
     "text": [
      "Downloading data from https://storage.googleapis.com/tensorflow/tf-keras-datasets/mnist.npz\n",
      "11493376/11490434 [==============================] - 1s 0us/step\n"
     ]
    }
   ],
   "source": [
    "# Fetch and format the mnist data\n",
    "(mnist_images, mnist_labels), _ = tf.keras.datasets.mnist.load_data()\n",
    "\n",
    "\"\"\"Creates a `Dataset` whose elements are slices of \n",
    "the given tensors.\"\"\"\n",
    "dataset = tf.data.Dataset.from_tensor_slices(\n",
    "  (tf.cast(mnist_images[...,tf.newaxis]/255, tf.float32),\n",
    "   tf.cast(mnist_labels,tf.int64)))\n",
    "\n",
    "dataset = dataset.shuffle(1000).batch(32)"
   ]
  },
  {
   "cell_type": "code",
   "execution_count": 14,
   "metadata": {},
   "outputs": [
    {
     "name": "stdout",
     "output_type": "stream",
     "text": [
      "........................................"
     ]
    }
   ],
   "source": [
    "model = tf.keras.Sequential([\n",
    "    tf.keras.layers.Conv2D(16, [3,3], activation='relu'),\n",
    "    tf.keras.layers.Conv2D(16, [3,3], activation='relu'),\n",
    "    tf.keras.layers.GlobalAveragePooling2D(),\n",
    "    tf.keras.layers.Dense(10)\n",
    "])\n",
    "\n",
    "\n",
    "optimizer = tf.train.AdamOptimizer()\n",
    "loss_history = []\n",
    "\n",
    "for (batch, (images, labels)) in enumerate(dataset.take(400)):\n",
    "    if batch % 10 == 0:\n",
    "        print('.', end='')\n",
    "    #Forward Pass: run input through model, calculate loss(logits_preds, true)\n",
    "    with tf.GradientTape() as tape:\n",
    "        logits = model(images, training=True)\n",
    "        loss_value = tf.losses.sparse_softmax_cross_entropy(labels,logits)\n",
    "    #save the loss value for bookkeeping\n",
    "    loss_history.append(loss_value.numpy())\n",
    "    #Backwards pass -> run through tape and compute gradient for each model param\n",
    "    grads = tape.gradient(loss_value, model.trainable_variables)\n",
    "    #Update params with weighted gradient. (optimizer)\n",
    "    optimizer.apply_gradients(zip(grads, model.trainable_variables),\n",
    "                             global_step = tf.train.get_or_create_global_step())\n"
   ]
  },
  {
   "cell_type": "code",
   "execution_count": 16,
   "metadata": {
    "scrolled": true
   },
   "outputs": [
    {
     "data": {
      "image/png": "[encoded data removed]",
      "text/plain": [
       "<Figure size 432x288 with 1 Axes>"
      ]
     },
     "metadata": {
      "needs_background": "light"
     },
     "output_type": "display_data"
    }
   ],
   "source": [
    "import matplotlib.pyplot as plt\n",
    "\n",
    "plt.plot(loss_history)\n",
    "plt.xlabel('Batch #')\n",
    "plt.ylabel('Loss [entropy]')\n",
    "plt.show()"
   ]
  },
  {
   "cell_type": "markdown",
   "metadata": {},
   "source": [
    "### Derivatives in TensorFlow\n",
    "\n",
    "__Higher order derivatives__"
   ]
  },
  {
   "cell_type": "code",
   "execution_count": 21,
   "metadata": {},
   "outputs": [
    {
     "name": "stdout",
     "output_type": "stream",
     "text": [
      "tf.Tensor(6.0, shape=(), dtype=float32)\n",
      "tf.Tensor(2.0, shape=(), dtype=float32)\n"
     ]
    }
   ],
   "source": [
    "#tf.GradientTape()\n",
    "\"\"\"\n",
    "Operations are recorded if at least one input is being watched. \n",
    "Trainable variables are automatically watched (trainable=True)\n",
    "\n",
    "the GradientTape.watch() method can be used to manually \n",
    "set a variable to be watched \n",
    "\n",
    "Gradients can be nested to compute higher order gradients.\n",
    "\"\"\"\n",
    "x = tf.constant(3.)\n",
    "with tf.GradientTape() as g:\n",
    "    g.watch(x)\n",
    "    with tf.GradientTape() as gg:\n",
    "        gg.watch(x)\n",
    "        y = x * x\n",
    "    #unravel the inner gradient tape\n",
    "    #evaluate gradient with val x\n",
    "    dy_dx = gg.gradient(y, x)\n",
    "dy_dx2 = g.gradient(dy_dx, x)\n",
    "print(dy_dx) # f'(x) = 2x\n",
    "print(dy_dx2) # f''(x) = 2"
   ]
  },
  {
   "cell_type": "markdown",
   "metadata": {},
   "source": [
    "__Computing Multiple gradients from a single pass__"
   ]
  },
  {
   "cell_type": "code",
   "execution_count": 18,
   "metadata": {},
   "outputs": [
    {
     "name": "stdout",
     "output_type": "stream",
     "text": [
      "tf.Tensor(108.0, shape=(), dtype=float32)\n",
      "tf.Tensor(6.0, shape=(), dtype=float32)\n"
     ]
    }
   ],
   "source": [
    "\"\"\"\n",
    "Resources held by GradientTape are released upon call of the \n",
    "GradientTape.gradient() method. Compute multiple gradients over \n",
    "same computation with persistent gradient tape\n",
    "\"\"\"\n",
    "x = tf.constant(3.0)\n",
    "with tf.GradientTape(persistent=True) as g:\n",
    "    g.watch(x) #manually set x to be watched\n",
    "    y = x * x   # x^2\n",
    "    z = y * y  #still a fuction of x -> x^4\n",
    "    \n",
    "#can think of    \n",
    "dz_dx = g.gradient(z, x)  # 108.0 (4*x^3 at x = 3)\n",
    "dy_dx = g.gradient(y, x)  # 6.0\n",
    "print(dz_dx)\n",
    "print(dy_dx)\n",
    "del g  # Drop the reference to the tape"
   ]
  },
  {
   "cell_type": "markdown",
   "metadata": {},
   "source": [
    "__Useful GradientTape Methods__"
   ]
  },
  {
   "cell_type": "code",
   "execution_count": null,
   "metadata": {},
   "outputs": [],
   "source": [
    "GradientTape.gradient(target, sources)\n",
    "GradientTape.jacobian(target, sources)\n",
    "GradientTape.reset()\n",
    "GradientTape.watch()"
   ]
  },
  {
   "cell_type": "markdown",
   "metadata": {},
   "source": [
    "## Variables and Optimizers\n",
    "\n",
    "__tf.Variable__ stores mutable __tf.Tensor__ values accessed during training to make differentiation easier. Model parameters can be encapsulated within classes as variables."
   ]
  },
  {
   "cell_type": "code",
   "execution_count": 27,
   "metadata": {},
   "outputs": [
    {
     "name": "stdout",
     "output_type": "stream",
     "text": [
      "Loss at step 000: 66.657\n",
      "Loss at step 020: 30.104\n",
      "Loss at step 040: 13.910\n",
      "Loss at step 060: 6.734\n",
      "Loss at step 080: 3.554\n",
      "Loss at step 100: 2.144\n",
      "Loss at step 120: 1.519\n",
      "Loss at step 140: 1.242\n",
      "Loss at step 160: 1.120\n",
      "Loss at step 180: 1.065\n",
      "Loss at step 200: 1.041\n",
      "Loss at step 220: 1.030\n",
      "Loss at step 240: 1.026\n",
      "Loss at step 260: 1.023\n",
      "Loss at step 280: 1.022\n",
      "W: 2.9749281 B: 2.032821\n"
     ]
    }
   ],
   "source": [
    "class Model(tf.keras.Model):\n",
    "    def __init__(self):\n",
    "        super(Model, self).__init__()\n",
    "        self.W = tf.Variable(5., name='weight')\n",
    "        self.B = tf.Variable(10., name='bias')\n",
    "    def call(self, inputs):\n",
    "        return inputs * self.W + self.B\n",
    "    \n",
    "    \n",
    "# A toy dataset of points around 3 * x + 2\n",
    "NUM_EXAMPLES = 2000\n",
    "training_inputs = tf.random_normal([NUM_EXAMPLES])\n",
    "noise = tf.random_normal([NUM_EXAMPLES])\n",
    "training_outputs = training_inputs * 3 + 2 + noise\n",
    "\n",
    "#custom loss function\n",
    "def loss(model, inputs, targets):\n",
    "    error = model(inputs)-targets\n",
    "    #reduce_mean() ~compute mean across dimensions of a tensor\n",
    "    #returns one value without axis=\n",
    "    return tf.reduce_mean(tf.square(error))\n",
    "\n",
    "def grad(model, inputs, targets):\n",
    "    with tf.GradientTape() as tape:\n",
    "        loss_value = loss(model, inputs, targets)\n",
    "    return tape.gradient(loss_value, [model.W, model.B])\n",
    "\n",
    "model = Model()\n",
    "optimizer = tf.train.GradientDescentOptimizer(learning_rate=0.01)\n",
    "\n",
    "for i in range(300):\n",
    "    grads = grad(model, training_inputs, training_outputs)\n",
    "    optimizer.apply_gradients(zip(grads,[model.W, model.B]), \n",
    "                              global_step=tf.train.get_or_create_global_step())\n",
    "    if i % 20 == 0:  \n",
    "        print(\"Loss at step {:03d}: {:.3f}\".format(i, loss(model, training_inputs, training_outputs)))\n",
    "print('W:',model.W.numpy(),'B:', model.B.numpy())"
   ]
  },
  {
   "cell_type": "markdown",
   "metadata": {},
   "source": [
    "## Smart Memory Management\n",
    "In eager execution,  lifetime of state object is determined if there exists a reference pointing to the object. The object will be removed when the reference is deleted."
   ]
  },
  {
   "cell_type": "code",
   "execution_count": null,
   "metadata": {},
   "outputs": [],
   "source": [
    "if tf.test.is_gpu_available():\n",
    "    with tf.device(\"gpu:0\"):\n",
    "        v = tf.Variable(tf.random_normal([1000, 1000]))\n",
    "        v = None  # v no longer takes up GPU memory"
   ]
  },
  {
   "cell_type": "markdown",
   "metadata": {},
   "source": [
    "## Object-Based Saving\n",
    "__tf.train.Checkpoint__ can save and restore __tf.Variable__ to and from checkpoints."
   ]
  },
  {
   "cell_type": "code",
   "execution_count": 31,
   "metadata": {},
   "outputs": [
    {
     "name": "stdout",
     "output_type": "stream",
     "text": [
      "<tf.Variable 'Variable:0' shape=() dtype=float32, numpy=2.0>\n"
     ]
    }
   ],
   "source": [
    "\"\"\"\n",
    "`Checkpoint`'s constructor accepts keyword arguments whose values are types\n",
    "that contain trackable state, such as `tf.compat.v1.train.Optimizer`\n",
    "implementations, `tf.Variable`, `tf.keras.Layer` implementations, or\n",
    "`tf.keras.Model` implementations. It saves these values with a checkpoint, and\n",
    "maintains a `save_counter` for numbering checkpoints.\n",
    "\"\"\"\n",
    "\n",
    "x = tf.Variable(5.)\n",
    "checkpoint = tf.train.Checkpoint(x=x)\n",
    "\n",
    "x.assign(2.)   # Assign a new value to the variables and save.\n",
    "checkpoint_path = './ckpt/'\n",
    "checkpoint.save('./ckpt/')\n",
    "\n",
    "\n",
    "x.assign(11.)  # Change the variable after saving.\n",
    "\n",
    "# Restore values from the checkpoint\n",
    "checkpoint.restore(tf.train.latest_checkpoint(checkpoint_path))\n",
    "\n",
    "print(x)  # => 2.0"
   ]
  },
  {
   "cell_type": "code",
   "execution_count": null,
   "metadata": {},
   "outputs": [],
   "source": []
  }
 ],
 "metadata": {
  "kernelspec": {
   "display_name": "Python 3",
   "language": "python",
   "name": "python3"
  },
  "language_info": {
   "codemirror_mode": {
    "name": "ipython",
    "version": 3
   },
   "file_extension": ".py",
   "mimetype": "text/x-python",
   "name": "python",
   "nbconvert_exporter": "python",
   "pygments_lexer": "ipython3",
   "version": "3.6.1"
  }
 },
 "nbformat": 4,
 "nbformat_minor": 2
}
