{
 "cells": [
  {
   "cell_type": "code",
   "execution_count": 1,
   "metadata": {
    "ExecuteTime": {
     "end_time": "2019-10-20T18:18:15.715097Z",
     "start_time": "2019-10-20T18:18:15.711108Z"
    }
   },
   "outputs": [],
   "source": [
    "import torch\n",
    "import torch.nn as nn\n",
    "import torch.autograd as autograd"
   ]
  },
  {
   "cell_type": "code",
   "execution_count": null,
   "metadata": {},
   "outputs": [],
   "source": [
    "class simpleRNN(torch.nn.Module):\n",
    "    def __init__(self, vec_size):\n",
    "        super(nn.Module).__init__()\n",
    "        #self.W_hy = torch.randn(vec_size, 1) / math.sqrt(10)\n",
    "        self.W_hx = torch.randn(vec_size, 1) / math.sqrt(10)\n",
    "        self.W_hh = torch.randn(vec_size, 1) / math.sqrt(10)\n",
    "        \n",
    "    def step(self, h, X):\n",
    "        #returns the hidden layer at a step t\n",
    "        return nn.ReLU(torch.mm(h, self.W_hh) + torch.mm(X, self.W_hx))\n",
    "    \n",
    "    def forward(self, X):\n",
    "        self.h = torch.zeros(X.shape[0], X.shape[0]+1)\n",
    "        for k in range(0, X.shape[1]):\n",
    "            self.h[:, k+1] = self.step(self.h[:, k], X[:, k])\n",
    "        return self.h[:,1:]\n",
    "    \n",
    "    def loss_grad(self, y):\n",
    "        # dL/dy  * dy/dh_n = dl/dh_n                             \n",
    "        return (2*(self.h[:,-1] - y))*(self.h[:,-1]*(1-self.h[:,-1]))\n",
    "    \n",
    "        \n",
    "    def backward(self, X, y):\n",
    "        self.grad_over_time = torch.zeros(X.shape[0], X.shape[1] + 1)\n",
    "        #gradient of loss w.r.t. h_n\n",
    "        self.grad_over_time[:,-1] = self.loss_grad(y)\n",
    "        \n",
    "        self.wx_grad = 0\n",
    "        self.wh_grad = 0\n",
    "        for k in range(self.X.shape[1], 0, -1):\n",
    "            self.wh_grad += torch.mean(self.grad_over_time[:, k] * X[:,k-1], axis=0)\n",
    "            self.wx_grad += torch.mean(self.grad_over_time[:, k] * self.h[:,k-1], axis=0)\n",
    "            \n",
    "            self.grad_over_time[:,k-1] = self.grad_over_time[:,k] * self.W_hh * (self.h[:, k-1](1-self.h[:, k-1]))\n",
    "        return (self.wx_grad, self.wh_grad)\n",
    "    \n",
    "    def gradient_checking(self, X, y, epsilon = 1e-7):\n",
    "        saved_wx_grad = self.wx_grad\n",
    "        saved_wh_grad = self.wh_grad\n",
    "        for w_idx, _ in enumerate(self.W_hh):\n",
    "            self.W_hh[w_idx,0] += epsilon\n",
    "            self.forward(X)\n",
    "            plus_loss = self.backward(X, y)[1][w_idx,0]\n",
    "            \n",
    "            self.W_hh[w_idx,0] -= 2*epsilon\n",
    "            self.forward(X)\n",
    "            minus_loss = self.backward(X, y)[1][w_idx,0]\n",
    "            #reset W_hh\n",
    "            self.W_hh[w_idx,0] += epsilon\n",
    "            \n",
    "            grad_num = (plus_loss-minus_loss)/(2*epsilon)\n",
    "            \n",
    "            if (abs(grad_num - saved_wh_grad[w_idx,0])>epsilon*100):\n",
    "                raise ValueError((\n",
    "                    f'Numerical gradient of {grad_num:.6f} is not close to '\n",
    "                    f'the backpropagation gradient of {grad_backprop:.6f}!'))\n",
    "        print('No gradient errors\n",
    "        self.wh_grad = saved_wh_grad\n",
    "                \n",
    "        \n",
    "\n",
    "         "
   ]
  }
 ],
 "metadata": {
  "kernelspec": {
   "display_name": "Python [conda env:tensorflow]",
   "language": "python",
   "name": "conda-env-tensorflow-py"
  },
  "language_info": {
   "codemirror_mode": {
    "name": "ipython",
    "version": 3
   },
   "file_extension": ".py",
   "mimetype": "text/x-python",
   "name": "python",
   "nbconvert_exporter": "python",
   "pygments_lexer": "ipython3",
   "version": "3.5.4"
  },
  "varInspector": {
   "cols": {
    "lenName": 16,
    "lenType": 16,
    "lenVar": 40
   },
   "kernels_config": {
    "python": {
     "delete_cmd_postfix": "",
     "delete_cmd_prefix": "del ",
     "library": "var_list.py",
     "varRefreshCmd": "print(var_dic_list())"
    },
    "r": {
     "delete_cmd_postfix": ") ",
     "delete_cmd_prefix": "rm(",
     "library": "var_list.r",
     "varRefreshCmd": "cat(var_dic_list()) "
    }
   },
   "types_to_exclude": [
    "module",
    "function",
    "builtin_function_or_method",
    "instance",
    "_Feature"
   ],
   "window_display": false
  }
 },
 "nbformat": 4,
 "nbformat_minor": 2
}
