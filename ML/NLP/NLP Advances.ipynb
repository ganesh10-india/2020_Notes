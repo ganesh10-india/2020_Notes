{
 "cells": [
  {
   "cell_type": "markdown",
   "metadata": {},
   "source": [
    "# Advances in NLP (2019)\n",
    "\n",
    "[The Best and Most Current of Modern Natural Language Processing](https://medium.com/huggingface/the-best-and-most-current-of-modern-natural-language-processing-5055f409a1d1)\n",
    "\n",
    "## Intro\n",
    "\n",
    "For a long time, we used pre-trained word embeddings such as word2vec or GloVe to initialize the first layer of a neural network, followed by a task-specific architecture that is trained in a supervised way using a single dataset.\n",
    "\n",
    "\n",
    "Recently, several works demonstrated that we can learn hierarchical contextualized representations on web-scale datasets 📖 leveraging unsupervised (or self-supervised) signals such as language modeling and transfer this pre-training to downstream tasks (Transfer Learning)\n",
    "\n",
    "\n",
    "__“Which papers can I read to catch up with the latest trends in modern NLP?”__\n",
    "\n",
    "## Attention (Google) - 2017\n",
    "[Attention is All You Need](https://arxiv.org/abs/1706.03762)\n",
    "\n",
    "Sequence based models utilized recurrent/convolutional neural networks that enclude an encoder and a decoder. This paper proposes a type of architecture called a Transformer based solely on an attention mechanism. \n",
    "\n",
    "### Introduction\n",
    "Recurrent neural networks, long short-term memory and gated recurrent neural networks\n",
    "in particular, have been firmly established as state of the art approaches in sequence modeling  \n",
    "\n",
    "\n",
    "\n",
    "\n",
    "## GPT-2\n",
    "Was trained simply to predict the next word in 40 Gb of internet text\n",
    "\n",
    "\n",
    "\n",
    "\n",
    "\n",
    "\n",
    "\n",
    "\n"
   ]
  }
 ],
 "metadata": {
  "kernelspec": {
   "display_name": "Python 3",
   "language": "python",
   "name": "python3"
  },
  "language_info": {
   "codemirror_mode": {
    "name": "ipython",
    "version": 3
   },
   "file_extension": ".py",
   "mimetype": "text/x-python",
   "name": "python",
   "nbconvert_exporter": "python",
   "pygments_lexer": "ipython3",
   "version": "3.6.1"
  }
 },
 "nbformat": 4,
 "nbformat_minor": 2
}
