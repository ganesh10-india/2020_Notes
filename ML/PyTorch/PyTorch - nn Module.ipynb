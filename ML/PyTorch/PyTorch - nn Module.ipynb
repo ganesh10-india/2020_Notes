{
 "cells": [
  {
   "cell_type": "markdown",
   "metadata": {},
   "source": [
    "# PyTorch NN Module"
   ]
  },
  {
   "cell_type": "code",
   "execution_count": 1,
   "metadata": {
    "ExecuteTime": {
     "end_time": "2019-10-19T18:29:41.567278Z",
     "start_time": "2019-10-19T18:29:40.608625Z"
    }
   },
   "outputs": [],
   "source": [
    "import torch\n",
    "import torch.nn as nn\n",
    "from torch.autograd import Variable\n",
    "import torch.nn.functional as F\n",
    "\n",
    "def _print(val):\n",
    "    print(val, val.shape, '\\n')"
   ]
  },
  {
   "cell_type": "code",
   "execution_count": 5,
   "metadata": {
    "ExecuteTime": {
     "end_time": "2019-10-18T02:02:32.988593Z",
     "start_time": "2019-10-18T02:02:32.759958Z"
    }
   },
   "outputs": [],
   "source": [
    "from pathlib import Path\n",
    "import requests\n",
    "\n",
    "DATA_PATH = Path(\"data\")\n",
    "PATH = DATA_PATH / \"mnist\"\n",
    "\n",
    "PATH.mkdir(parents=True, exist_ok=True)\n",
    "\n",
    "URL = \"http://deeplearning.net/data/mnist/\"\n",
    "FILENAME = \"mnist.pkl.gz\"\n",
    "\n",
    "if not (PATH / FILENAME).exists():\n",
    "        content = requests.get(URL + FILENAME).content\n",
    "        (PATH / FILENAME).open(\"wb\").write(content)"
   ]
  },
  {
   "cell_type": "code",
   "execution_count": 6,
   "metadata": {
    "ExecuteTime": {
     "end_time": "2019-10-18T02:02:35.113811Z",
     "start_time": "2019-10-18T02:02:34.013033Z"
    }
   },
   "outputs": [],
   "source": [
    "import pickle\n",
    "import gzip\n",
    "\n",
    "with gzip.open((PATH / FILENAME).as_posix(), 'rb') as f:\n",
    "    ((x_train, y_train), (x_valid, y_valid), _) = pickle.load(f, encoding='latin-1')"
   ]
  },
  {
   "cell_type": "code",
   "execution_count": null,
   "metadata": {
    "ExecuteTime": {
     "end_time": "2019-10-18T02:02:35.137787Z",
     "start_time": "2019-10-18T02:02:34.724Z"
    }
   },
   "outputs": [],
   "source": [
    "x_train.shape"
   ]
  },
  {
   "cell_type": "code",
   "execution_count": 7,
   "metadata": {
    "ExecuteTime": {
     "end_time": "2019-10-18T02:02:36.034830Z",
     "start_time": "2019-10-18T02:02:35.307318Z"
    }
   },
   "outputs": [
    {
     "data": {
      "text/plain": [
       "<matplotlib.image.AxesImage at 0x25d4cfcd470>"
      ]
     },
     "execution_count": 7,
     "metadata": {},
     "output_type": "execute_result"
    }
   ],
   "source": [
    "import matplotlib.pyplot as plt\n",
    "import numpy as np\n",
    "plt.imshow(x_train[0].reshape(-1,28,28).squeeze(), cmap='gray')\n"
   ]
  },
  {
   "cell_type": "code",
   "execution_count": 8,
   "metadata": {
    "ExecuteTime": {
     "end_time": "2019-10-18T02:02:43.437644Z",
     "start_time": "2019-10-18T02:02:43.339871Z"
    }
   },
   "outputs": [
    {
     "name": "stdout",
     "output_type": "stream",
     "text": [
      "torch.Size([50000, 784])\n",
      "tensor([5, 0, 4,  ..., 8, 4, 8]) tensor(0) tensor(9)\n"
     ]
    }
   ],
   "source": [
    "x_train, y_train, x_valid, y_valid = map(torch.tensor, \n",
    "                                       (x_train, y_train, x_valid, y_valid))\n",
    "print(x_train.shape)\n",
    "print(y_train, y_train.min(), y_train.max())"
   ]
  },
  {
   "cell_type": "markdown",
   "metadata": {},
   "source": [
    "## Neural Nets from Scratch"
   ]
  },
  {
   "cell_type": "markdown",
   "metadata": {},
   "source": [
    "### Activation log_softmax\n",
    "\n",
    "LogSoftMax works better than regular SoftMax? [link](https://discuss.pytorch.org/t/logsoftmax-vs-softmax/21386/2)\n",
    "\n",
    "The point is, even though logsoftmax and softmax are monotonic, their effect on the relative values of the loss function changes. Using the log-softmax will punish bigger mistakes in likelihood space higher."
   ]
  },
  {
   "cell_type": "code",
   "execution_count": 20,
   "metadata": {
    "ExecuteTime": {
     "end_time": "2019-10-18T02:04:42.999850Z",
     "start_time": "2019-10-18T02:04:42.985333Z"
    }
   },
   "outputs": [
    {
     "name": "stdout",
     "output_type": "stream",
     "text": [
      "torch.Size([3, 784])\n",
      "torch.Size([3, 10]) \n",
      "\n",
      "tensor([ 0.7441, -4.9573,  0.6557,  4.8720, -6.0488,  4.6307, -1.1482,  0.2511,\n",
      "         1.4903, -0.5320], grad_fn=<SelectBackward>) \n",
      "\n",
      "tensor([ 0.4224, -4.6121,  0.7242,  4.6341, -5.9888,  5.7190, -1.2207,  0.8001,\n",
      "         0.2427, -0.7631], grad_fn=<AddBackward0>) \n",
      "\n",
      "tensor([[ 6.0292],\n",
      "        [11.3561],\n",
      "        [ 4.8723]], grad_fn=<UnsqueezeBackward0>) \n",
      "\n",
      "tensor([ -5.6069, -10.6414,  -5.3051,  -1.3951, -12.0181,  -0.3102,  -7.2499,\n",
      "         -5.2292,  -5.7866,  -6.7923], grad_fn=<SelectBackward>)\n",
      "tensor([5, 0, 4])\n",
      "tensor([5, 0, 4])\n"
     ]
    }
   ],
   "source": [
    "xb = x_train[:3]\n",
    "yb = y_train[:3]\n",
    "print(xb.shape)\n",
    "print(xb.mm(weights).shape,'\\n')\n",
    "print(xb.mm(weights)[0],'\\n')\n",
    "print(xb.mm(weights)[0]+bias,'\\n')\n",
    "xb = xb.mm(weights)+bias\n",
    "print(xb.exp().sum(-1).log().unsqueeze(-1),'\\n')\n",
    "print((xb - xb.exp().sum(-1).log().unsqueeze(-1))[0])\n",
    "pred = xb - xb.exp().sum(-1).log().unsqueeze(-1)\n",
    "print(torch.argmax(pred, 1))\n",
    "print(yb)"
   ]
  },
  {
   "cell_type": "code",
   "execution_count": 21,
   "metadata": {
    "ExecuteTime": {
     "end_time": "2019-10-18T02:04:43.458613Z",
     "start_time": "2019-10-18T02:04:43.449664Z"
    }
   },
   "outputs": [
    {
     "name": "stdout",
     "output_type": "stream",
     "text": [
      "torch.Size([50000, 784])\n",
      "torch.Size([784, 10])\n",
      "torch.Size([10])\n"
     ]
    }
   ],
   "source": [
    "import math\n",
    "\n",
    "#Activation function Outputs log-probabilities\n",
    "def log_softmax(x):\n",
    "    return x - x.exp().sum(-1).log().unsqueeze(-1)\n",
    "\n",
    "def model(xb):\n",
    "    return log_softmax(xb.mm(weights) + bias)\n",
    "\n",
    "#Xavier Initialization\n",
    "weights = torch.randn(784,10) / math.sqrt(784)\n",
    "weights.requires_grad_()\n",
    "bias = torch.zeros(10)\n",
    "bias.requires_grad_()\n",
    "\n",
    "print(x_train.shape)\n",
    "print(weights.shape)\n",
    "print(bias.shape)"
   ]
  },
  {
   "cell_type": "markdown",
   "metadata": {},
   "source": [
    "### Negative log loss\n",
    "\n",
    "Log loss (related to cross entropy mesures performance of classification where prediction input is a prob value between 0 and 1. Perfect model should have log loss 0. \n",
    "\n",
    "Log loss increases as predicted prob diverges from actual label.\n",
    "\n",
    "<img src=http://wiki.fast.ai/images/math/8/a/a/8aa1e513366a2046bee816f7a0f8dd1c.png>\n",
    "\n",
    "Note that y=0 if incorrect class\n",
    "\n",
    "Since the activation function was log_softmax, we dot have to take the log of the activation again. Just take the negative activation of the True class for each example"
   ]
  },
  {
   "cell_type": "code",
   "execution_count": 23,
   "metadata": {
    "ExecuteTime": {
     "end_time": "2019-10-18T02:05:13.551662Z",
     "start_time": "2019-10-18T02:05:13.545673Z"
    }
   },
   "outputs": [
    {
     "data": {
      "text/plain": [
       "torch.Size([3, 10])"
      ]
     },
     "execution_count": 23,
     "metadata": {},
     "output_type": "execute_result"
    }
   ],
   "source": [
    "pred.shape"
   ]
  },
  {
   "cell_type": "code",
   "execution_count": 24,
   "metadata": {
    "ExecuteTime": {
     "end_time": "2019-10-18T02:05:41.707654Z",
     "start_time": "2019-10-18T02:05:41.701757Z"
    }
   },
   "outputs": [
    {
     "data": {
      "text/plain": [
       "'yb = y_train[:batch_size]\\nprint(accuracy(pred,yb))\\nprint(nll(preds,yb))'"
      ]
     },
     "execution_count": 24,
     "metadata": {},
     "output_type": "execute_result"
    }
   ],
   "source": [
    "batch_size = 64\n",
    "def nll(input, target):\n",
    "    return -input[range(target.shape[0]),target].mean()\n",
    "\n",
    "def accuracy(input, target):\n",
    "    p = torch.argmax(input, dim=1)\n",
    "    return (p==target).float().mean()\n",
    "\n",
    "\"\"\"yb = y_train[:batch_size]\n",
    "print(accuracy(pred,yb))\n",
    "print(nll(preds,yb))\"\"\""
   ]
  },
  {
   "cell_type": "code",
   "execution_count": 25,
   "metadata": {
    "ExecuteTime": {
     "end_time": "2019-10-18T02:05:44.827621Z",
     "start_time": "2019-10-18T02:05:44.792303Z"
    }
   },
   "outputs": [
    {
     "name": "stdout",
     "output_type": "stream",
     "text": [
      "tensor(0.3102, grad_fn=<NegBackward>)\n"
     ]
    },
    {
     "ename": "IndexError",
     "evalue": "index 3 is out of bounds for dimension 0 with size 3",
     "output_type": "error",
     "traceback": [
      "\u001b[1;31m---------------------------------------------------------------------------\u001b[0m",
      "\u001b[1;31mIndexError\u001b[0m                                Traceback (most recent call last)",
      "\u001b[1;32m<ipython-input-25-8865740f2743>\u001b[0m in \u001b[0;36m<module>\u001b[1;34m()\u001b[0m\n\u001b[0;32m      1\u001b[0m \u001b[0mprint\u001b[0m\u001b[1;33m(\u001b[0m\u001b[1;33m-\u001b[0m\u001b[0mpred\u001b[0m\u001b[1;33m[\u001b[0m\u001b[1;36m0\u001b[0m\u001b[1;33m]\u001b[0m\u001b[1;33m.\u001b[0m\u001b[0mmax\u001b[0m\u001b[1;33m(\u001b[0m\u001b[1;33m)\u001b[0m\u001b[1;33m)\u001b[0m\u001b[1;33m\u001b[0m\u001b[0m\n\u001b[0;32m      2\u001b[0m \u001b[1;31m# grab the log-prob of correct class\u001b[0m\u001b[1;33m\u001b[0m\u001b[1;33m\u001b[0m\u001b[0m\n\u001b[1;32m----> 3\u001b[1;33m \u001b[0mprint\u001b[0m\u001b[1;33m(\u001b[0m\u001b[1;33m-\u001b[0m\u001b[0mpred\u001b[0m\u001b[1;33m[\u001b[0m\u001b[0mrange\u001b[0m\u001b[1;33m(\u001b[0m\u001b[0myb\u001b[0m\u001b[1;33m.\u001b[0m\u001b[0mshape\u001b[0m\u001b[1;33m[\u001b[0m\u001b[1;36m0\u001b[0m\u001b[1;33m]\u001b[0m\u001b[1;33m)\u001b[0m\u001b[1;33m,\u001b[0m\u001b[0myb\u001b[0m\u001b[1;33m]\u001b[0m\u001b[1;33m)\u001b[0m\u001b[1;33m\u001b[0m\u001b[0m\n\u001b[0m\u001b[0;32m      4\u001b[0m \u001b[1;31m#this is neg_log_loss for each example ->\u001b[0m\u001b[1;33m\u001b[0m\u001b[1;33m\u001b[0m\u001b[0m\n\u001b[0;32m      5\u001b[0m \u001b[1;31m#average them for cost\u001b[0m\u001b[1;33m\u001b[0m\u001b[1;33m\u001b[0m\u001b[0m\n",
      "\u001b[1;31mIndexError\u001b[0m: index 3 is out of bounds for dimension 0 with size 3"
     ]
    }
   ],
   "source": [
    "print(-pred[0].max())\n",
    "# grab the log-prob of correct class\n",
    "print(-pred[range(yb.shape[0]),yb])\n",
    "#this is neg_log_loss for each example -> \n",
    "#average them for cost\n",
    "print(-pred[range(yb.shape[0]),yb].mean())\n",
    "#want to maximize this number -> make correct class as\n",
    "#large as possible\n",
    "\n",
    "#How does this work? seems like signs are wrong"
   ]
  },
  {
   "cell_type": "markdown",
   "metadata": {},
   "source": [
    "### Training the parameters"
   ]
  },
  {
   "cell_type": "markdown",
   "metadata": {},
   "source": [
    "We then set the gradients to zero, so that we are ready for the next loop. Otherwise, our gradients would record a running tally of all the operations that had happened (i.e. loss.backward() adds the gradients to whatever is already stored, rather than replacing them).\n",
    "\n"
   ]
  },
  {
   "cell_type": "code",
   "execution_count": 26,
   "metadata": {
    "ExecuteTime": {
     "end_time": "2019-10-18T02:07:14.341333Z",
     "start_time": "2019-10-18T02:06:36.033495Z"
    }
   },
   "outputs": [
    {
     "data": {
      "image/png": "[encoded data removed]",
      "text/plain": [
       "<Figure size 432x288 with 1 Axes>"
      ]
     },
     "metadata": {},
     "output_type": "display_data"
    }
   ],
   "source": [
    "from IPython.core.debugger import set_trace\n",
    "\n",
    "#Xavier Initialization\n",
    "weights = torch.randn(784,10) / math.sqrt(784)\n",
    "weights.requires_grad_()\n",
    "bias = torch.zeros(10)\n",
    "bias.requires_grad_()\n",
    "\n",
    "\n",
    "epochs = 50 # each epoch goes over the entire training set\n",
    "batch_size = 64\n",
    "lr = 0.01\n",
    "n = x_train.shape[0]\n",
    "\n",
    "loss_hist = []\n",
    "for epoch in range(epochs):\n",
    "    for i in range((n-1)//batch_size): # // ~ int division\n",
    "        start = i * batch_size\n",
    "        end = (i + 1) * batch_size\n",
    "\n",
    "        xb, yb = x_train[start:end], y_train[start:end]\n",
    "        pred = model(xb)\n",
    "        loss = nll(pred, yb)\n",
    "        loss.backward()\n",
    "\n",
    "        with torch.no_grad(): #no_grad so we can do an in-place operation on a leaf node\n",
    "            weights -= lr*weights.grad\n",
    "            bias -= lr*bias.grad\n",
    "            weights.grad.zero_()\n",
    "            bias.grad.zero_()\n",
    "    loss_hist.append(loss.data.item())\n",
    "\n",
    "plt.title(\"Training Loss\")\n",
    "plt.plot(range(len(loss_hist)),loss_hist) \n",
    "plt.show()"
   ]
  },
  {
   "cell_type": "code",
   "execution_count": 27,
   "metadata": {
    "ExecuteTime": {
     "end_time": "2019-10-18T02:07:14.656565Z",
     "start_time": "2019-10-18T02:07:14.640503Z"
    }
   },
   "outputs": [
    {
     "name": "stdout",
     "output_type": "stream",
     "text": [
      "tensor(0.2802, grad_fn=<NegBackward>)\n",
      "tensor(0.9211)\n"
     ]
    }
   ],
   "source": [
    "pred = model(x_valid)\n",
    "print(nll(pred, y_valid))\n",
    "print(accuracy(pred, y_valid))"
   ]
  },
  {
   "cell_type": "markdown",
   "metadata": {},
   "source": [
    "## Factoring with torch.nn\n",
    "Either make your code shorter, more understandable, or more flexible."
   ]
  },
  {
   "cell_type": "code",
   "execution_count": 28,
   "metadata": {
    "ExecuteTime": {
     "end_time": "2019-10-18T02:07:14.888290Z",
     "start_time": "2019-10-18T02:07:14.882742Z"
    }
   },
   "outputs": [],
   "source": [
    "import torch.nn.functional as F\n",
    "\n",
    "#combines neg-log-likelihood loss and log-softmax\n",
    "loss_func = F.cross_entropy\n",
    "def model(xb):\n",
    "    return xb.mm(weights)+bias"
   ]
  },
  {
   "cell_type": "markdown",
   "metadata": {},
   "source": [
    "### Package the model into a Class\n",
    "Use nn.Module and nn.Parameter . Create a class that holds weights and methords for forward and backward prop.\n",
    "\n",
    "nn.Module has a number of attributes and methods (such as .parameters() and .zero_grad()) which we will be using."
   ]
  },
  {
   "cell_type": "code",
   "execution_count": 29,
   "metadata": {
    "ExecuteTime": {
     "end_time": "2019-10-18T02:07:15.061285Z",
     "start_time": "2019-10-18T02:07:15.056039Z"
    }
   },
   "outputs": [],
   "source": [
    "class Model(nn.Module):\n",
    "    def __init__(self):\n",
    "        super().__init__()\n",
    "        self.weights = nn.Parameter(torch.randn(784,10) / math.sqrt(784))\n",
    "        self.bias = nn.Parameter(torch.zeros(10))\n",
    "        return None\n",
    "        \n",
    "    def forward(self, xb):\n",
    "        return xb.mm(self.weights) + self.bias"
   ]
  },
  {
   "cell_type": "markdown",
   "metadata": {},
   "source": [
    "### Train with model.parameters() and model.zero_grad()"
   ]
  },
  {
   "cell_type": "code",
   "execution_count": 32,
   "metadata": {
    "ExecuteTime": {
     "end_time": "2019-10-18T02:07:36.390875Z",
     "start_time": "2019-10-18T02:07:36.382867Z"
    }
   },
   "outputs": [
    {
     "name": "stdout",
     "output_type": "stream",
     "text": [
      "Parameter containing:\n",
      "tensor([[-0.0597, -0.0197,  0.0201,  ...,  0.0039, -0.0627,  0.0058],\n",
      "        [-0.0211, -0.0283, -0.0180,  ..., -0.0046, -0.0135,  0.0162],\n",
      "        [ 0.0199,  0.0144, -0.0121,  ..., -0.0021,  0.0103, -0.0513],\n",
      "        ...,\n",
      "        [ 0.0355,  0.0428, -0.0355,  ..., -0.0044,  0.0119,  0.0456],\n",
      "        [-0.0001, -0.0549, -0.0634,  ...,  0.0794,  0.0762,  0.0046],\n",
      "        [ 0.0455,  0.0297,  0.0243,  ...,  0.0222, -0.0531,  0.0072]],\n",
      "       requires_grad=True)\n",
      "Parameter containing:\n",
      "tensor([0., 0., 0., 0., 0., 0., 0., 0., 0., 0.], requires_grad=True)\n"
     ]
    }
   ],
   "source": [
    "model = Model()\n",
    "for param in model.parameters():\n",
    "        print(param)"
   ]
  },
  {
   "cell_type": "code",
   "execution_count": 33,
   "metadata": {
    "ExecuteTime": {
     "end_time": "2019-10-18T02:08:07.018247Z",
     "start_time": "2019-10-18T02:07:36.669418Z"
    }
   },
   "outputs": [
    {
     "data": {
      "image/png": "[encoded data removed]",
      "text/plain": [
       "<Figure size 432x288 with 1 Axes>"
      ]
     },
     "metadata": {},
     "output_type": "display_data"
    }
   ],
   "source": [
    "model = Model()\n",
    "loss_func = F.cross_entropy\n",
    "\n",
    "def fit():\n",
    "    loss_hist = []\n",
    "    for epoch in range(epochs):\n",
    "        for i in range((n-1)//batch_size): # // ~ int division\n",
    "            start = i * batch_size\n",
    "            end = (i + 1) * batch_size\n",
    "\n",
    "            xb, yb = x_train[start:end], y_train[start:end]\n",
    "            pred = model(xb)\n",
    "            loss = loss_func(pred, yb)\n",
    "            \n",
    "            loss.backward()\n",
    "            with torch.no_grad():\n",
    "                for p in model.parameters(): #Update all weights at once\n",
    "                    p -= lr*p.grad\n",
    "                model.zero_grad()   #zero out gradients for all parameters\n",
    "        loss_hist.append(loss.data.item())\n",
    "        \n",
    "    return loss_hist\n",
    "    \n",
    "loss_hist = fit()\n",
    "\n",
    "plt.title(\"Training Loss\")\n",
    "plt.plot(range(len(loss_hist)),loss_hist) \n",
    "plt.show()"
   ]
  },
  {
   "cell_type": "markdown",
   "metadata": {},
   "source": [
    "### With nn.Linear\n",
    "[link](https://pytorch.org/tutorials/beginner/nn_tutorial.html#refactor-using-nn-linear)"
   ]
  },
  {
   "cell_type": "code",
   "execution_count": 34,
   "metadata": {
    "ExecuteTime": {
     "end_time": "2019-10-18T02:08:07.210271Z",
     "start_time": "2019-10-18T02:08:07.203240Z"
    }
   },
   "outputs": [
    {
     "data": {
      "text/plain": [
       "torch.Size([50000, 784])"
      ]
     },
     "execution_count": 34,
     "metadata": {},
     "output_type": "execute_result"
    }
   ],
   "source": [
    "x_train.shape"
   ]
  },
  {
   "cell_type": "code",
   "execution_count": 35,
   "metadata": {
    "ExecuteTime": {
     "end_time": "2019-10-18T02:08:07.390280Z",
     "start_time": "2019-10-18T02:08:07.385292Z"
    }
   },
   "outputs": [],
   "source": [
    "class Model(nn.Module):\n",
    "    def __init__(self):\n",
    "        super().__init__()\n",
    "        self.lin = nn.Linear(784,10)  #no need to initialize weights\n",
    "    def forward(self, xb):\n",
    "        return self.lin(xb)"
   ]
  },
  {
   "cell_type": "markdown",
   "metadata": {},
   "source": [
    "### With optim\n",
    "instead of `p -= p.grad * lr`, use `torch.optim` to calculate an optimal step for rach batch."
   ]
  },
  {
   "cell_type": "code",
   "execution_count": 36,
   "metadata": {
    "ExecuteTime": {
     "end_time": "2019-10-18T02:08:12.732212Z",
     "start_time": "2019-10-18T02:08:07.574101Z"
    }
   },
   "outputs": [],
   "source": [
    "from torch import optim\n",
    "\n",
    "epochs = 10\n",
    "bs = 64\n",
    "lr = 0.01\n",
    "\n",
    "model = Model()\n",
    "loss_func = F.cross_entropy\n",
    "opt = optim.SGD(model.parameters(), lr=lr)\n",
    "\n",
    "for epoch in range(epochs):\n",
    "    for i in range((n - 1) // bs + 1):\n",
    "        start_i = i * bs\n",
    "        end_i = start_i + bs\n",
    "        xb = x_train[start_i:end_i]\n",
    "        yb = y_train[start_i:end_i]\n",
    "        pred = model(xb)\n",
    "        loss = loss_func(pred, yb)\n",
    "\n",
    "        loss.backward()\n",
    "        #update parameters automatically based on gradients\n",
    "        opt.step()  \n",
    "        opt.zero_grad()"
   ]
  },
  {
   "cell_type": "markdown",
   "metadata": {},
   "source": [
    "### With Dataset\n",
    "\n",
    "PyTorch’s `TensorDataset` is a Dataset wrapping tensors. By defining a length and way of indexing, this also gives us a way to iterate, index, and slice along the first dimension of a tensor. This will make it easier to access both the independent and dependent variables in the same line as we train."
   ]
  },
  {
   "cell_type": "code",
   "execution_count": 37,
   "metadata": {
    "ExecuteTime": {
     "end_time": "2019-10-18T02:12:59.964668Z",
     "start_time": "2019-10-18T02:12:54.814885Z"
    }
   },
   "outputs": [],
   "source": [
    "from torch.utils.data import TensorDataset\n",
    "\n",
    "train_ds = TensorDataset(x_train, y_train) #smoosh that data together\n",
    "\n",
    "for epoch in range(epochs):\n",
    "    for i in range((n - 1) // bs + 1):\n",
    "        xb, yb = train_ds[i * bs: i * bs + bs] #iterate in one line\n",
    "        pred = model(xb)\n",
    "        loss = loss_func(pred, yb)\n",
    "\n",
    "        loss.backward()\n",
    "        opt.step()\n",
    "        opt.zero_grad()"
   ]
  },
  {
   "cell_type": "markdown",
   "metadata": {},
   "source": [
    "### With DataLoader"
   ]
  },
  {
   "cell_type": "code",
   "execution_count": 38,
   "metadata": {
    "ExecuteTime": {
     "end_time": "2019-10-18T02:13:18.365462Z",
     "start_time": "2019-10-18T02:13:00.233821Z"
    }
   },
   "outputs": [],
   "source": [
    "from torch.utils.data import DataLoader\n",
    "\n",
    "train_ds = TensorDataset(x_train, y_train)\n",
    "train_dl = DataLoader(train_ds, \n",
    "                      batch_size=bs,\n",
    "                     shuffle=True)\n",
    "for epoch in range(epochs):\n",
    "    for xb,yb in train_dl: #easy iteration through your dataset\n",
    "        pred = model(xb)\n",
    "        loss = loss_func(pred, yb)\n",
    "        loss.backward()\n",
    "        opt.step()\n",
    "        opt.zero_grad()"
   ]
  },
  {
   "cell_type": "markdown",
   "metadata": {},
   "source": [
    "### Add Validation\n",
    "\n",
    "In section 1, we were just trying to get a reasonable training loop set up for use on our training data. In reality, you always should also have a __validation set__, in order to identify if you are overfitting.\n",
    "\n",
    "__Shuffling the training data__ is important to prevent correlation between batches and overfitting. On the other hand, the validation loss will be identical whether we shuffle the validation set or not. Since shuffling takes extra time, it makes no sense to shuffle the validation data.\n",
    "\n",
    "We’ll use a batch size for the validation set that is twice as large as that for the training set. This is because the __validation set does not need backpropagation and thus takes less memory__ (it doesn’t need to store the gradients). We take advantage of this to use a larger batch size and compute the loss more quickly."
   ]
  },
  {
   "cell_type": "code",
   "execution_count": 39,
   "metadata": {
    "ExecuteTime": {
     "end_time": "2019-10-18T02:14:19.161730Z",
     "start_time": "2019-10-18T02:13:18.649954Z"
    }
   },
   "outputs": [
    {
     "data": {
      "image/png": "[encoded data removed]",
      "text/plain": [
       "<Figure size 432x288 with 1 Axes>"
      ]
     },
     "metadata": {},
     "output_type": "display_data"
    }
   ],
   "source": [
    "valid_ds = TensorDataset(x_valid, y_valid)\n",
    "valid_dl = DataLoader(valid_ds, batch_size=bs * 2)\n",
    "\n",
    "epochs = 30\n",
    "model = Model()\n",
    "loss_func = F.cross_entropy\n",
    "opt = optim.SGD(model.parameters(), lr=lr)\n",
    "\n",
    "train_loss =[]\n",
    "val_loss = []\n",
    "for epoch in range(epochs):\n",
    "    model.train()\n",
    "    for xb,yb in train_dl:\n",
    "        pred = model(xb)\n",
    "        loss = loss_func(pred, yb)\n",
    "        \n",
    "        loss.backward()\n",
    "        opt.step()\n",
    "        opt.zero_grad()\n",
    "    \n",
    "    train_loss.append(loss.item())\n",
    "    model.eval() #call this to keep models like batchnorm and dropout \n",
    "    with torch.no_grad():\n",
    "        valid = sum(loss_func(model(xb), yb) for xb, yb in valid_dl)/(y_valid.shape[0]//bs)\n",
    "        val_loss.append(valid.item())\n",
    "\n",
    "plt.title(\"Training-Validation Loss\")\n",
    "plt.plot(range(len(train_loss)),train_loss) \n",
    "plt.plot(range(len(val_loss)),val_loss) \n",
    "plt.show()"
   ]
  },
  {
   "cell_type": "markdown",
   "metadata": {},
   "source": [
    "### Create helper functions\n",
    "\n",
    "[link](https://pytorch.org/tutorials/beginner/nn_tutorial.html)"
   ]
  },
  {
   "cell_type": "code",
   "execution_count": 43,
   "metadata": {
    "ExecuteTime": {
     "end_time": "2019-10-18T02:20:49.842145Z",
     "start_time": "2019-10-18T02:19:47.182704Z"
    }
   },
   "outputs": [
    {
     "name": "stdout",
     "output_type": "stream",
     "text": [
      "0 0.3389158097743988\n",
      "1 0.3067798109531403\n",
      "2 0.29315096558332443\n",
      "3 0.28442450717687606\n",
      "4 0.2801130482196808\n",
      "5 0.2775348304629326\n",
      "6 0.27625955839157107\n",
      "7 0.27282633156776426\n",
      "8 0.2709454197406769\n",
      "9 0.2699028342008591\n",
      "10 0.2673029819011688\n",
      "11 0.26685731422901154\n",
      "12 0.26715501942634584\n",
      "13 0.26514497152566907\n",
      "14 0.2663704557955265\n",
      "15 0.26351123942136767\n",
      "16 0.26445348378419875\n",
      "17 0.26294642906188964\n",
      "18 0.26230059801340105\n",
      "19 0.26210777661800383\n",
      "20 0.2611381888628006\n",
      "21 0.26052178966403006\n",
      "22 0.26141355090141294\n",
      "23 0.2642173074483872\n",
      "24 0.26045167765021326\n",
      "25 0.2590922660529614\n",
      "26 0.26138583382368086\n",
      "27 0.2592720721840858\n",
      "28 0.26183348557949065\n",
      "29 0.25875099403262136\n"
     ]
    }
   ],
   "source": [
    "import numpy as np\n",
    "\n",
    "def get_model():\n",
    "    model = Model()\n",
    "    return model, optim.SGD(model.parameters(), lr=lr, momentum=0.9)\n",
    "\n",
    "\n",
    "def loss_batch(model, loss_func, xb, yb, opt=None):\n",
    "    loss = loss_func(model(xb), yb)\n",
    "\n",
    "    if opt is not None:\n",
    "        loss.backward()\n",
    "        opt.step()\n",
    "        opt.zero_grad()\n",
    "\n",
    "    return loss.item(), len(xb)\n",
    "\n",
    "\n",
    "\n",
    "\n",
    "\n",
    "def fit(epochs, model, loss_func, opt, train_dl, valid_dl):\n",
    "    for epoch in range(epochs):\n",
    "        model.train()\n",
    "        for xb, yb in train_dl:\n",
    "            loss_batch(model, loss_func, xb, yb, opt)\n",
    "\n",
    "        model.eval()\n",
    "        with torch.no_grad():\n",
    "            losses, nums = zip(\n",
    "                *[loss_batch(model, loss_func, xb, yb) for xb, yb in valid_dl]\n",
    "            )\n",
    "        val_loss = np.sum(np.multiply(losses, nums)) / np.sum(nums)\n",
    "\n",
    "        print(epoch, val_loss)\n",
    "        \n",
    "        \n",
    "def get_data(train_ds, valid_ds, bs):\n",
    "    return (\n",
    "        DataLoader(train_ds, batch_size=bs, shuffle=True),\n",
    "        DataLoader(valid_ds, batch_size=bs * 2),\n",
    "    )\n",
    "\n",
    "\n",
    "train_dl, valid_dl = get_data(train_ds, valid_ds, bs)\n",
    "model, opt = get_model()\n",
    "fit(epochs, model, loss_func, opt, train_dl, valid_dl)"
   ]
  },
  {
   "cell_type": "markdown",
   "metadata": {},
   "source": [
    "### ConvNets"
   ]
  },
  {
   "cell_type": "code",
   "execution_count": 79,
   "metadata": {
    "ExecuteTime": {
     "end_time": "2019-10-18T02:47:28.780977Z",
     "start_time": "2019-10-18T02:47:28.774792Z"
    }
   },
   "outputs": [],
   "source": [
    "class CNN(nn.Module):\n",
    "    def __init__(self):\n",
    "        super().__init__()\n",
    "        self.conv1 = nn.Conv2d(1,16, kernel_size=3,stride=2,padding=1)\n",
    "        self.conv2 = nn.Conv2d(16, 16, kernel_size=3, stride=2, padding=1)\n",
    "        self.conv3 = nn.Conv2d(16, 10, kernel_size=3, stride=2, padding=1)\n",
    "    def forward(self, xb):\n",
    "        xb = xb.view(-1, 1, 28, 28)\n",
    "        xb = F.relu(self.conv1(xb))\n",
    "        xb = F.relu(self.conv2(xb))\n",
    "        xb = F.relu(self.conv3(xb))\n",
    "        xb = F.avg_pool2d(xb, 4)\n",
    "        return xb.view(-1, xb.size(1))\n",
    "    "
   ]
  },
  {
   "cell_type": "code",
   "execution_count": 80,
   "metadata": {
    "ExecuteTime": {
     "end_time": "2019-10-18T02:49:04.833706Z",
     "start_time": "2019-10-18T02:47:29.387859Z"
    }
   },
   "outputs": [
    {
     "name": "stdout",
     "output_type": "stream",
     "text": [
      "0 0.5522479145050049\n",
      "1 0.3980927963256836\n",
      "2 0.2782034362077713\n",
      "3 0.21448879919052125\n",
      "4 0.22370268186330794\n"
     ]
    }
   ],
   "source": [
    "model=CNN()\n",
    "opt=optim.SGD(model.parameters(), lr=0.03, momentum=0.9)\n",
    "fit(epochs, model, loss_func, opt, train_dl, valid_dl)\n"
   ]
  },
  {
   "cell_type": "markdown",
   "metadata": {},
   "source": [
    "### With Sequential"
   ]
  },
  {
   "cell_type": "code",
   "execution_count": 83,
   "metadata": {
    "ExecuteTime": {
     "end_time": "2019-10-18T02:49:35.291544Z",
     "start_time": "2019-10-18T02:49:35.286586Z"
    }
   },
   "outputs": [],
   "source": [
    "#create a custom layer\n",
    "\n",
    "class Lambda(nn.Module):\n",
    "    def __init__(self, func):\n",
    "        super().__init__()\n",
    "        self.func = func\n",
    "\n",
    "    def forward(self, x):\n",
    "        return self.func(x)\n",
    "\n",
    "\n",
    "def preprocess(x):\n",
    "    return x.view(-1, 1, 28, 28)"
   ]
  },
  {
   "cell_type": "code",
   "execution_count": 84,
   "metadata": {
    "ExecuteTime": {
     "end_time": "2019-10-18T02:51:10.965413Z",
     "start_time": "2019-10-18T02:49:35.817193Z"
    }
   },
   "outputs": [
    {
     "name": "stdout",
     "output_type": "stream",
     "text": [
      "0 0.6595972821235657\n",
      "1 0.3279928419113159\n",
      "2 0.2508931781232357\n",
      "3 0.21666518794894218\n",
      "4 0.27602433536946774\n",
      "tensor([3, 0, 4])\n",
      "tensor([5, 0, 4])\n"
     ]
    }
   ],
   "source": [
    "epochs = 5\n",
    "lr=0.03\n",
    "model = nn.Sequential(\n",
    "    Lambda(preprocess),\n",
    "    nn.Conv2d(1, 16, kernel_size=3, stride=2, padding=1),\n",
    "    nn.ReLU(),\n",
    "    nn.Conv2d(16, 16, kernel_size=3, stride=2, padding=1),\n",
    "    nn.ReLU(),\n",
    "    nn.Conv2d(16, 10, kernel_size=3, stride=2, padding=1),\n",
    "    nn.ReLU(),\n",
    "    nn.AvgPool2d(4),\n",
    "    Lambda(lambda x: x.view(x.size(0), -1)),\n",
    ")\n",
    "\n",
    "opt = optim.SGD(model.parameters(), lr=lr, momentum=0.3)\n",
    "fit(epochs,model,loss_func,opt,train_dl,valid_dl)\n",
    "\n",
    "print(torch.argmax(model(x_train[:3]), dim=1))\n",
    "print(y_train[:3])"
   ]
  },
  {
   "cell_type": "markdown",
   "metadata": {},
   "source": [
    "### Wrapping DataLoader"
   ]
  },
  {
   "cell_type": "code",
   "execution_count": 94,
   "metadata": {
    "ExecuteTime": {
     "end_time": "2019-10-18T03:01:09.225633Z",
     "start_time": "2019-10-18T03:01:09.219432Z"
    }
   },
   "outputs": [],
   "source": [
    "def preprocess(x, y): # the iterator gives X and y\n",
    "    return x.view(-1,1,28,28), y\n",
    "\n",
    "class WrappedDataLoader():\n",
    "    \"\"\"\n",
    "    Create a custom iterator that processes your dataset.\n",
    "    \"\"\"\n",
    "    def __init__(self, dl, func):\n",
    "        self.dl = dl\n",
    "        self.func = func\n",
    "    def __len__(self):\n",
    "        return len(self.dl)\n",
    "    def __iter__(self):\n",
    "        batches = iter(self.dl)\n",
    "        for b in batches:\n",
    "            yield (self.func(*b))\n",
    "            \n",
    "train_dl, valid_dl = get_data(train_ds, valid_ds, bs)\n",
    "train_dl = WrappedDataLoader(train_dl, preprocess)\n",
    "valid_dl = WrappedDataLoader(valid_dl, preprocess)    "
   ]
  },
  {
   "cell_type": "code",
   "execution_count": 95,
   "metadata": {
    "ExecuteTime": {
     "end_time": "2019-10-18T03:02:45.355518Z",
     "start_time": "2019-10-18T03:01:09.478952Z"
    }
   },
   "outputs": [
    {
     "name": "stdout",
     "output_type": "stream",
     "text": [
      "0 0.9293505615234375\n",
      "1 0.333184059882164\n",
      "2 0.2696040114879608\n",
      "3 0.2218672159910202\n",
      "4 0.231476465600729\n"
     ]
    }
   ],
   "source": [
    "model = nn.Sequential(\n",
    "    nn.Conv2d(1, 16, kernel_size=3, stride=2, padding=1),\n",
    "    nn.ReLU(),\n",
    "    nn.Conv2d(16, 16, kernel_size=3, stride=2, padding=1),\n",
    "    nn.ReLU(),\n",
    "    nn.Conv2d(16, 10, kernel_size=3, stride=2, padding=1),\n",
    "    nn.ReLU(),\n",
    "    nn.AdaptiveAvgPool2d(1), #adapts to the size of the image, outputs 1 dim\n",
    "    Lambda(lambda x: x.view(x.size(0), -1)),\n",
    ")\n",
    "\n",
    "opt = optim.SGD(model.parameters(), lr=lr, momentum=0.9)\n",
    "\n",
    "fit(epochs, model, loss_func, opt, train_dl, valid_dl)\n"
   ]
  },
  {
   "cell_type": "markdown",
   "metadata": {},
   "source": [
    "### Using your GPU"
   ]
  },
  {
   "cell_type": "code",
   "execution_count": 96,
   "metadata": {
    "ExecuteTime": {
     "end_time": "2019-10-18T03:02:45.860208Z",
     "start_time": "2019-10-18T03:02:45.855221Z"
    }
   },
   "outputs": [
    {
     "name": "stdout",
     "output_type": "stream",
     "text": [
      "True\n"
     ]
    }
   ],
   "source": [
    "print(torch.cuda.is_available())"
   ]
  },
  {
   "cell_type": "code",
   "execution_count": 97,
   "metadata": {
    "ExecuteTime": {
     "end_time": "2019-10-18T03:02:46.155115Z",
     "start_time": "2019-10-18T03:02:46.151293Z"
    }
   },
   "outputs": [],
   "source": [
    "#create a device object to represent your GPU\n",
    "dev = torch.device('cuda')"
   ]
  },
  {
   "cell_type": "code",
   "execution_count": 102,
   "metadata": {
    "ExecuteTime": {
     "end_time": "2019-10-18T03:11:49.660616Z",
     "start_time": "2019-10-18T03:11:08.113317Z"
    }
   },
   "outputs": [
    {
     "name": "stdout",
     "output_type": "stream",
     "text": [
      "0 2.2595356033325196\n",
      "1 1.642110375213623\n",
      "2 1.2932282413482665\n",
      "3 0.8977149812698364\n",
      "4 0.7996481155395507\n",
      "5 0.8012100366592407\n",
      "6 0.707154974269867\n",
      "7 0.5995462689399719\n",
      "8 0.7608398029327392\n",
      "9 0.4844808643341064\n"
     ]
    }
   ],
   "source": [
    "model = nn.Sequential(\n",
    "    nn.Conv2d(1, 16, kernel_size=3, stride=2, padding=1),\n",
    "    nn.ReLU(),\n",
    "    nn.Conv2d(16, 16, kernel_size=3, stride=2, padding=1),\n",
    "    nn.ReLU(),\n",
    "    nn.Conv2d(16, 10, kernel_size=3, stride=2, padding=1),\n",
    "    nn.ReLU(),\n",
    "    nn.AdaptiveAvgPool2d(1), #adapts to the size of the image, outputs 1 dim\n",
    "    Lambda(lambda x: x.view(x.size(0), -1)),\n",
    ")\n",
    "\n",
    "\n",
    "def preprocess(x, y):\n",
    "    return x.view(-1,1,28,28).to(dev), y.to(dev)\n",
    "\n",
    "train_dl = DataLoader(train_ds,batch_size=bs,shuffle=True)\n",
    "valid_dl = DataLoader(valid_ds, batch_size=bs)\n",
    "train_dl = WrappedDataLoader(train_dl, preprocess)\n",
    "valid_dl = WrappedDataLoader(valid_dl, preprocess)\n",
    "\n",
    "model.to(dev)\n",
    "opt = optim.SGD(model.parameters(),lr=0.03)\n",
    "fit(10, model, loss_func, opt, train_dl, valid_dl)"
   ]
  },
  {
   "cell_type": "markdown",
   "metadata": {},
   "source": [
    "### Closing thoughts\n",
    "We now have a general data pipeline and training loop which you can use for training many types of models using Pytorch. To see how simple training a model can now be, take a look at the mnist_sample sample notebook.\n",
    "\n",
    "Of course, there are many things you’ll want to add, such as data augmentation, hyperparameter tuning, monitoring training, transfer learning, and so forth. These features are available in the fastai library, which has been developed using the same design approach shown in this tutorial, providing a natural next step for practitioners looking to take their models further.\n",
    "\n",
    "We promised at the start of this tutorial we’d explain through example each of torch.nn, torch.optim, Dataset, and DataLoader. So let’s summarize what we’ve seen:\n",
    "\n",
    "torch.nn\n",
    "\n",
    "Module: creates a callable which behaves like a function, but can also contain state(such as neural net layer weights). It knows what Parameter (s) it contains and can zero all their gradients, loop through them for weight updates, etc.\n",
    "\n",
    "Parameter: a wrapper for a tensor that tells a Module that it has weights that need updating during backprop. Only tensors with the requires_grad attribute set are updated\n",
    "\n",
    "functional: a module(usually imported into the F namespace by convention) which contains activation functions, loss functions, etc, as well as non-stateful versions of layers such as convolutional and linear layers.\n",
    "\n",
    "torch.optim: Contains optimizers such as SGD, which update the weights of Parameter during the backward step\n",
    "\n",
    "Dataset: An abstract interface of objects with a __len__ and a __getitem__, including classes provided with Pytorch such as TensorDataset\n",
    "\n",
    "DataLoader: Takes any Dataset and creates an iterator which returns batches of data."
   ]
  },
  {
   "cell_type": "markdown",
   "metadata": {},
   "source": [
    "## Saving and Loading Modules\n",
    "[link](https://pytorch.org/tutorials/beginner/saving_loading_models.html)\n",
    "\n",
    "### Three core functionalities\n",
    "1. `torch.save` - serialize an object to disk using pickle.\n",
    "2. `torch.load` - deserialize a file into an object\n",
    "3. `torch.nn.Module.load_save_dict` -Model has a parameter dictionary, this loads that parameter dict with a deserialized state_dict.\n",
    "\n",
    "### What is a `state dict`?\n",
    "Parameters are stored and can be accessed `model.parameters()`. State_dict is a Python dictionary that maps each layer to its parameter tensor. Only layers with learnable parameters are present in the state_dict. `torch.optim` objects also have a `state_dict`\n"
   ]
  },
  {
   "cell_type": "code",
   "execution_count": 5,
   "metadata": {
    "ExecuteTime": {
     "end_time": "2019-10-19T19:07:25.156276Z",
     "start_time": "2019-10-19T19:07:25.143795Z"
    }
   },
   "outputs": [
    {
     "name": "stdout",
     "output_type": "stream",
     "text": [
      "Model's state dict\n",
      "conv1.weight \t torch.Size([6, 3, 5, 5])\n",
      "conv1.bias \t torch.Size([6])\n",
      "conv2.weight \t torch.Size([16, 6, 5, 5])\n",
      "conv2.bias \t torch.Size([16])\n",
      "fc1.weight \t torch.Size([100, 400])\n",
      "fc1.bias \t torch.Size([100])\n",
      "fc2.weight \t torch.Size([84, 100])\n",
      "fc2.bias \t torch.Size([84])\n",
      "fc3.weight \t torch.Size([10, 84])\n",
      "fc3.bias \t torch.Size([10])\n",
      "\n",
      "Optiimizer state dict\n",
      "param_groups \t [{'nesterov': False, 'weight_decay': 0, 'lr': 0.001, 'dampening': 0, 'momentum': 0.9, 'params': [1965805366008, 1965805478248, 1965805478320, 1965805478104, 1965805367016, 1965805478896, 1965805478752, 1965805478680, 1965805478464, 1965805478968]}]\n",
      "state \t {}\n"
     ]
    }
   ],
   "source": [
    "class Model(nn.Module):\n",
    "    \n",
    "    def __init__(self):\n",
    "        super(Model, self).__init__()\n",
    "        self.conv1 = nn.Conv2d(3,6,5)\n",
    "        self.pool = nn.MaxPool2d(2,2)\n",
    "        self.conv2 = nn.Conv2d(6,16, 5)\n",
    "        self.fc1 = nn.Linear(5*5*16,100)\n",
    "        self.fc2 = nn.Linear(100,84)\n",
    "        self.fc3 = nn.Linear(84,10)\n",
    "    \n",
    "    def forward(self, x):\n",
    "        x = self.pool(F.relu(self.conv1(x)))\n",
    "        x = self.pool(F.relu(self.conv2(x)))\n",
    "        x = F.relu(self.fc1(x))\n",
    "        x = F.relu(self.fc2(x))\n",
    "        x = self.fc3(x)\n",
    "        return x\n",
    "    \n",
    "model = Model()\n",
    "optimizer = torch.optim.SGD(model.parameters(), lr=0.001, momentum = 0.9)\n",
    "\n",
    "print(\"Model's state dict\")\n",
    "for param in model.state_dict():\n",
    "    print(param, '\\t', model.state_dict()[param].size())\n",
    "print()\n",
    "\n",
    "print(\"Optiimizer state dict\")\n",
    "for param in optimizer.state_dict():\n",
    "    print(param, '\\t', optimizer.state_dict()[param])"
   ]
  },
  {
   "cell_type": "code",
   "execution_count": 8,
   "metadata": {
    "ExecuteTime": {
     "end_time": "2019-10-19T19:09:51.591378Z",
     "start_time": "2019-10-19T19:09:51.563334Z"
    }
   },
   "outputs": [
    {
     "name": "stdout",
     "output_type": "stream",
     "text": [
      "\n",
      "Parameter containing:\n",
      "tensor([[[[-0.0677,  0.0495, -0.1024, -0.0288,  0.0150],\n",
      "          [ 0.0089,  0.0648, -0.0243, -0.1149, -0.0608],\n",
      "          [-0.0073,  0.0856,  0.0961,  0.0575, -0.0908],\n",
      "          [ 0.0819, -0.0539, -0.0713, -0.0717, -0.1135],\n",
      "          [ 0.0187, -0.0606, -0.0438,  0.0182,  0.1140]],\n",
      "\n",
      "         [[-0.0478,  0.0610,  0.1071,  0.0622,  0.0474],\n",
      "          [-0.0730,  0.1031,  0.0523, -0.1106,  0.0753],\n",
      "          [ 0.0329,  0.0756, -0.0991, -0.0225,  0.0712],\n",
      "          [ 0.0546,  0.0377, -0.1027, -0.0913,  0.0827],\n",
      "          [-0.1059,  0.1057,  0.0868,  0.0855, -0.0582]],\n",
      "\n",
      "         [[ 0.0763, -0.0679, -0.0913,  0.0349,  0.0207],\n",
      "          [-0.0685, -0.0617,  0.0178,  0.0948,  0.0173],\n",
      "          [-0.0272, -0.0427, -0.0233, -0.0380,  0.1089],\n",
      "          [ 0.0600, -0.0861,  0.0348, -0.0092, -0.0611],\n",
      "          [-0.0331,  0.0114, -0.0381,  0.1013,  0.0244]]],\n",
      "\n",
      "\n",
      "        [[[-0.0183,  0.0002,  0.0252,  0.0493,  0.1008],\n",
      "          [ 0.1019,  0.1145,  0.0533, -0.0264, -0.0061],\n",
      "          [ 0.0525,  0.0838, -0.0589, -0.0818, -0.0882],\n",
      "          [ 0.0589, -0.0496,  0.0184,  0.1043,  0.0401],\n",
      "          [ 0.0805, -0.0861,  0.0942,  0.1091,  0.0974]],\n",
      "\n",
      "         [[ 0.0051, -0.0517,  0.0830, -0.0182,  0.0161],\n",
      "          [ 0.0405,  0.0920,  0.1044, -0.0109, -0.0623],\n",
      "          [ 0.0793, -0.0589,  0.0848, -0.0030, -0.0935],\n",
      "          [-0.0187,  0.0164,  0.0856,  0.0457,  0.0779],\n",
      "          [-0.0371, -0.0902, -0.0427, -0.1045, -0.0164]],\n",
      "\n",
      "         [[-0.0627, -0.0032, -0.0109, -0.0624, -0.0141],\n",
      "          [ 0.0293, -0.0453, -0.0561,  0.0284, -0.0869],\n",
      "          [ 0.0944, -0.0003, -0.0312,  0.0227, -0.0571],\n",
      "          [ 0.0801,  0.0366,  0.0655, -0.0944, -0.0213],\n",
      "          [-0.0137,  0.0252,  0.0397,  0.1100,  0.0105]]],\n",
      "\n",
      "\n",
      "        [[[-0.1099, -0.0535,  0.0056,  0.0513,  0.0099],\n",
      "          [ 0.0263,  0.0530, -0.0942, -0.0076, -0.0445],\n",
      "          [-0.0140, -0.0776,  0.0016, -0.1138, -0.0575],\n",
      "          [ 0.0886, -0.0986, -0.0267,  0.0300,  0.0383],\n",
      "          [-0.0226, -0.0444, -0.0706,  0.0969,  0.0489]],\n",
      "\n",
      "         [[-0.1101, -0.0540, -0.0375,  0.0541,  0.0799],\n",
      "          [ 0.0127, -0.0872,  0.0028,  0.0450, -0.0909],\n",
      "          [ 0.0355,  0.0117, -0.0119, -0.1005, -0.0240],\n",
      "          [-0.0632,  0.1091,  0.0540,  0.0001, -0.0891],\n",
      "          [ 0.0351, -0.0787,  0.0255, -0.0296,  0.1114]],\n",
      "\n",
      "         [[-0.0378, -0.0160,  0.0241,  0.0410,  0.0435],\n",
      "          [-0.0041,  0.0081,  0.0613,  0.0843, -0.0107],\n",
      "          [-0.0574,  0.1138,  0.0793,  0.0532, -0.0779],\n",
      "          [ 0.0719,  0.0569,  0.0875, -0.1127,  0.0943],\n",
      "          [ 0.0488,  0.0376, -0.0003, -0.0778,  0.0572]]],\n",
      "\n",
      "\n",
      "        [[[-0.0435,  0.0551,  0.0299, -0.0950, -0.0882],\n",
      "          [ 0.0527, -0.1051, -0.0035, -0.0343, -0.0459],\n",
      "          [ 0.1141,  0.0854,  0.1088, -0.0967,  0.0412],\n",
      "          [-0.0148,  0.0918,  0.0274,  0.1118, -0.0290],\n",
      "          [ 0.0862,  0.0996, -0.0650, -0.0802,  0.0623]],\n",
      "\n",
      "         [[-0.1128, -0.0129,  0.0975,  0.0956, -0.1096],\n",
      "          [-0.0404,  0.0453, -0.0062,  0.0635, -0.0200],\n",
      "          [ 0.0618, -0.0542, -0.0357, -0.1058, -0.1030],\n",
      "          [-0.0066,  0.1043, -0.0870, -0.0504, -0.0115],\n",
      "          [-0.0958, -0.0311,  0.0929, -0.1138, -0.0809]],\n",
      "\n",
      "         [[ 0.0477,  0.0633,  0.0313, -0.0580, -0.1102],\n",
      "          [-0.0353, -0.0650,  0.0518,  0.0291, -0.1095],\n",
      "          [-0.1146,  0.1151,  0.0644, -0.0883,  0.0020],\n",
      "          [-0.0515, -0.1086, -0.0821, -0.1019, -0.0097],\n",
      "          [ 0.0531,  0.0028, -0.0414, -0.0179,  0.1133]]],\n",
      "\n",
      "\n",
      "        [[[ 0.0247, -0.0193,  0.0508, -0.0298, -0.0135],\n",
      "          [-0.0706, -0.1116,  0.0903, -0.0337, -0.0800],\n",
      "          [-0.1048, -0.0352, -0.0935,  0.0349,  0.1108],\n",
      "          [ 0.0704,  0.0522,  0.0402,  0.0724, -0.0194],\n",
      "          [ 0.0384,  0.0965,  0.0536, -0.0888, -0.0669]],\n",
      "\n",
      "         [[ 0.0215,  0.0564,  0.0973,  0.0736,  0.0222],\n",
      "          [-0.0414,  0.0227, -0.0771, -0.0450,  0.0592],\n",
      "          [ 0.0565, -0.0721,  0.0455, -0.0593, -0.0346],\n",
      "          [ 0.0490,  0.0318,  0.0067, -0.0965,  0.0933],\n",
      "          [ 0.0809,  0.0577,  0.0323, -0.0659,  0.0120]],\n",
      "\n",
      "         [[ 0.0388,  0.0307, -0.0260,  0.0541, -0.0375],\n",
      "          [ 0.0206, -0.0408, -0.0297, -0.0725, -0.0679],\n",
      "          [-0.0004,  0.0602, -0.0323, -0.0770, -0.0787],\n",
      "          [ 0.0428,  0.0183,  0.0716, -0.0009, -0.1043],\n",
      "          [-0.0257,  0.0359,  0.0734, -0.0499, -0.0208]]],\n",
      "\n",
      "\n",
      "        [[[-0.0617,  0.0079, -0.0380, -0.0305,  0.0946],\n",
      "          [-0.0045,  0.0835, -0.0842, -0.1050,  0.0358],\n",
      "          [ 0.0427, -0.0116,  0.1103,  0.0045,  0.0512],\n",
      "          [ 0.0916,  0.1074,  0.1009,  0.0173,  0.1001],\n",
      "          [ 0.0250,  0.0994, -0.0152,  0.0182, -0.0531]],\n",
      "\n",
      "         [[ 0.0145, -0.0267, -0.0792, -0.1118, -0.0600],\n",
      "          [-0.0504, -0.0199,  0.0320,  0.0730,  0.0647],\n",
      "          [ 0.0168, -0.0371, -0.0312, -0.0868,  0.1067],\n",
      "          [ 0.0197, -0.0408,  0.0284,  0.0649, -0.0301],\n",
      "          [ 0.0167,  0.0773, -0.1147,  0.0989, -0.0410]],\n",
      "\n",
      "         [[ 0.0086,  0.0629, -0.0226, -0.0522,  0.0201],\n",
      "          [-0.0048, -0.0743,  0.0506, -0.0271, -0.0113],\n",
      "          [-0.0662, -0.1096,  0.0228,  0.0245,  0.0919],\n",
      "          [ 0.1045,  0.0505, -0.0263,  0.0540, -0.0089],\n",
      "          [ 0.0331,  0.0226, -0.0386, -0.1130,  0.0732]]]], requires_grad=True)\n"
     ]
    }
   ],
   "source": [
    "#print(model.state_dict()) dictionary with all parameters\n",
    "print()\n",
    "#print(model.parameters()) #python generator with \n",
    "start = True\n",
    "for i in model.parameters():\n",
    "    if start:\n",
    "        print(i)\n",
    "        start=False"
   ]
  },
  {
   "cell_type": "markdown",
   "metadata": {},
   "source": [
    "### Saving a model for inference\n",
    "Remember that you must call `model.eval()` to set dropout and batch normalization layers to evaluation mode before running inference. Failing to do this will yield inconsistent inference results.\n",
    "\n"
   ]
  },
  {
   "cell_type": "code",
   "execution_count": 9,
   "metadata": {
    "ExecuteTime": {
     "end_time": "2019-10-19T19:12:57.196100Z",
     "start_time": "2019-10-19T19:12:57.155528Z"
    }
   },
   "outputs": [
    {
     "data": {
      "text/plain": [
       "Model(\n",
       "  (conv1): Conv2d(3, 6, kernel_size=(5, 5), stride=(1, 1))\n",
       "  (pool): MaxPool2d(kernel_size=2, stride=2, padding=0, dilation=1, ceil_mode=False)\n",
       "  (conv2): Conv2d(6, 16, kernel_size=(5, 5), stride=(1, 1))\n",
       "  (fc1): Linear(in_features=400, out_features=100, bias=True)\n",
       "  (fc2): Linear(in_features=100, out_features=84, bias=True)\n",
       "  (fc3): Linear(in_features=84, out_features=10, bias=True)\n",
       ")"
      ]
     },
     "execution_count": 9,
     "metadata": {},
     "output_type": "execute_result"
    }
   ],
   "source": [
    "torch.save(model.state_dict(), 'model_state_dict.pkl')\n",
    "taco = Model()\n",
    "\n",
    "#takes dictionary object\n",
    "taco.load_state_dict(torch.load('model_state_dict.pkl'))\n",
    "taco.eval()   #ets the module in evaluation mode."
   ]
  },
  {
   "cell_type": "markdown",
   "metadata": {},
   "source": [
    "### save load entire model\n",
    "This save/load process uses the most intuitive syntax and involves the least amount of code. Saving a model in this way will save the entire module using Python’s pickle module. The disadvantage of this approach is that the serialized data is bound to the specific classes and the exact directory structure used when the model is saved. The reason for this is because pickle does not save the model class itself. Rather, __it saves a path to the file containing the class, which is used during load time. Because of this, your code can break__ in various ways when used in other projects or after refactors."
   ]
  },
  {
   "cell_type": "code",
   "execution_count": null,
   "metadata": {},
   "outputs": [],
   "source": [
    "torch.save(model, PATH)\n",
    "# Model class must be defined somewhere\n",
    "model = torch.load(PATH)\n",
    "model.eval()"
   ]
  },
  {
   "cell_type": "markdown",
   "metadata": {},
   "source": [
    "### Saving a general checkpoint for inference and testing"
   ]
  },
  {
   "cell_type": "code",
   "execution_count": null,
   "metadata": {},
   "outputs": [],
   "source": [
    "PATH='model_state_dict.pkl'\n",
    "\n",
    "state = {\n",
    "    'epoch':epoch+1,\n",
    "    'state_dict':model.state_dict(),\n",
    "    'optim_dict':optimizer.state_dict(),\n",
    "}\n",
    "\n",
    "torch.save(state, PATH)\n",
    "\n",
    "\n",
    "model = TheModelClass(*args, **kwargs)\n",
    "optimizer = TheOptimizerClass(*args, **kwargs)\n",
    "\n",
    "checkpoint = torch.load(PATH)\n",
    "model.load_state_dict(checkpoint['model_state_dict'])\n",
    "optimizer.load_state_dict(checkpoint['optimizer_state_dict'])\n",
    "epoch = checkpoint['epoch']\n",
    "loss = checkpoint['loss']\n",
    "\n",
    "model.eval()\n",
    "# or\n",
    "model.train()"
   ]
  },
  {
   "cell_type": "markdown",
   "metadata": {},
   "source": [
    "### Saving Multiple Models in One File\n",
    "When saving a model comprised of multiple torch.nn.Modules, such as a GAN, a sequence-to-sequence model, or an ensemble of models, you follow the same approach as when you are saving a general checkpoint. In other words, save a dictionary of each model’s state_dict and corresponding optimi"
   ]
  },
  {
   "cell_type": "code",
   "execution_count": null,
   "metadata": {},
   "outputs": [],
   "source": [
    "torch.save({\n",
    "            'modelA_state_dict': modelA.state_dict(),\n",
    "            'modelB_state_dict': modelB.state_dict(),\n",
    "            'optimizerA_state_dict': optimizerA.state_dict(),\n",
    "            'optimizerB_state_dict': optimizerB.state_dict(),\n",
    "            ...\n",
    "            }, PATH)\n",
    "\n",
    "checkpoint = torch.load(PATH)\n",
    "modelA.load_state_dict(checkpoint['modelA_state_dict'])\n",
    "modelB.load_state_dict(checkpoint['modelB_state_dict'])\n",
    "optimizerA.load_state_dict(checkpoint['optimizerA_state_dict'])\n",
    "optimizerB.load_state_dict(checkpoint['optimizerB_state_dict'])\n",
    "\n",
    "modelA.eval()\n",
    "modelB.eval()\n",
    "# - or -\n",
    "modelA.train()\n",
    "modelB.train()"
   ]
  },
  {
   "cell_type": "markdown",
   "metadata": {},
   "source": [
    "### Warmstarting with params from a trained model\n",
    "\n",
    "Whether you are loading from a partial state_dict, which is missing some keys, or loading a state_dict with more keys than the model that you are loading into, you can set the strict argument to False in the `load_state_dict()` function to ignore non-matching keys.\n",
    "\n",
    "If you want to load parameters from one layer to another, but some keys do not match, simply change the name of the parameter keys in the state_dict that you are loading to match the keys in the model that you are loading into."
   ]
  },
  {
   "cell_type": "code",
   "execution_count": null,
   "metadata": {},
   "outputs": [],
   "source": [
    "torch.save(modelA.state_dict(), PATH)\n",
    "\n",
    "\n",
    "modelB = TheModelBClass(*args, **kwargs)\n",
    "modelB.load_state_dict(torch.load(PATH), strict=False)"
   ]
  },
  {
   "cell_type": "markdown",
   "metadata": {},
   "source": [
    "### Save on GPU, Load on GPU\n",
    "\n",
    "When loading a model on a GPU that was trained and saved on GPU, simply convert the initialized model to a CUDA optimized model using `model.to(torch.device('cuda'))`. Also, be sure to use the `.to(torch.device('cuda'))` function __on all model inputs__ to prepare the data for the model. Note that calling `my_tensor.to(device)` __returns a new copy of my_tensor on GPU__. It does NOT overwrite my_tensor. __Therefore, remember to manually overwrite tensors__: `my_tensor = my_tensor.to(torch.device('cuda'))`."
   ]
  },
  {
   "cell_type": "code",
   "execution_count": null,
   "metadata": {},
   "outputs": [],
   "source": [
    "#SAVE\n",
    "torch.save(model.state_dict(), PATH)\n",
    "\n",
    "\n",
    "#LOAD\n",
    "device = torch.device('cuda')\n",
    "model = Model()\n",
    "model.load_state_dict(torch.load(PATH))\n",
    "model.to(device)"
   ]
  },
  {
   "cell_type": "code",
   "execution_count": null,
   "metadata": {},
   "outputs": [],
   "source": [
    "utils.save_checkpoint(state,\n",
    "                     isbest=True,\n",
    "                     checkpoint='filepath')\n",
    "utils.load_checkpoint(restore_path, \n",
    "                      model, \n",
    "                      optimizer)"
   ]
  },
  {
   "cell_type": "code",
   "execution_count": null,
   "metadata": {},
   "outputs": [],
   "source": []
  },
  {
   "cell_type": "code",
   "execution_count": null,
   "metadata": {},
   "outputs": [],
   "source": []
  },
  {
   "cell_type": "code",
   "execution_count": null,
   "metadata": {},
   "outputs": [],
   "source": []
  },
  {
   "cell_type": "code",
   "execution_count": null,
   "metadata": {},
   "outputs": [],
   "source": []
  },
  {
   "cell_type": "markdown",
   "metadata": {},
   "source": [
    "# Functions"
   ]
  },
  {
   "cell_type": "markdown",
   "metadata": {},
   "source": [
    "### Convolutions"
   ]
  },
  {
   "cell_type": "code",
   "execution_count": 8,
   "metadata": {},
   "outputs": [
    {
     "name": "stdout",
     "output_type": "stream",
     "text": [
      "torch.Size([20, 16, 50, 100])\n"
     ]
    },
    {
     "data": {
      "text/plain": [
       "torch.Size([20, 33, 26, 100])"
      ]
     },
     "execution_count": 8,
     "metadata": {},
     "output_type": "execute_result"
    }
   ],
   "source": [
    "m = nn.Conv2d(16,33,(3,5), \n",
    "              stride=(2,1), \n",
    "              padding = (4,2), \n",
    "              dilation=(3,1))\n",
    "input = Variable(torch.randn(20,16,50,100))\n",
    "print(input.shape)\n",
    "m(input).shape"
   ]
  },
  {
   "cell_type": "markdown",
   "metadata": {},
   "source": [
    "### Pooling"
   ]
  },
  {
   "cell_type": "code",
   "execution_count": 28,
   "metadata": {},
   "outputs": [
    {
     "name": "stdout",
     "output_type": "stream",
     "text": [
      "tensor([[[ 0.,  1.,  2.,  3.],\n",
      "         [ 4.,  5.,  6.,  7.],\n",
      "         [ 8.,  9., 10., 11.],\n",
      "         [12., 13., 14., 15.]]], dtype=torch.float64) torch.Size([1, 4, 4]) \n",
      "\n",
      "tensor([[[ 5.,  7.],\n",
      "         [13., 15.]]], dtype=torch.float64) torch.Size([1, 2, 2]) \n",
      "\n"
     ]
    }
   ],
   "source": [
    "\"\"\"\n",
    "Max Pooling - cuts the size in have by retaining only the max \n",
    "value in a subset of a matrix. Outputs a smaller matrix with\n",
    "the combined max values for the subcells.\n",
    "\n",
    "Reduces the number of parameters to learn and provides basic \n",
    " translation invariance to the internal representation.\n",
    "\"\"\"\n",
    "m = nn.MaxPool2d((2,2))\n",
    "x = torch.arange(16, dtype = torch.float64).reshape(-1,4).unsqueeze(0)\n",
    "pooled= m(x)\n",
    "_print(x)\n",
    "_print(pooled)"
   ]
  },
  {
   "cell_type": "code",
   "execution_count": 29,
   "metadata": {},
   "outputs": [
    {
     "name": "stdout",
     "output_type": "stream",
     "text": [
      "tensor([[[ 2.5000,  4.5000],\n",
      "         [10.5000, 12.5000]]], dtype=torch.float64) torch.Size([1, 2, 2]) \n",
      "\n"
     ]
    }
   ],
   "source": [
    "m = nn.AvgPool2d(2)\n",
    "_print(m(x))"
   ]
  },
  {
   "cell_type": "markdown",
   "metadata": {},
   "source": [
    "## Non-Linear Activation"
   ]
  },
  {
   "cell_type": "code",
   "execution_count": 40,
   "metadata": {},
   "outputs": [
    {
     "name": "stdout",
     "output_type": "stream",
     "text": [
      "tensor([[-0.6745,  0.9691,  1.0134],\n",
      "        [-0.3971,  0.3070, -0.0195],\n",
      "        [ 0.0943, -0.8966,  0.7574]]) torch.Size([3, 3]) \n",
      "\n"
     ]
    }
   ],
   "source": [
    "x = Variable(torch.randn(3,3))\n",
    "_print(x)"
   ]
  },
  {
   "cell_type": "code",
   "execution_count": 41,
   "metadata": {},
   "outputs": [
    {
     "name": "stdout",
     "output_type": "stream",
     "text": [
      "tensor([[0.0000, 0.9691, 1.0134],\n",
      "        [0.0000, 0.3070, 0.0000],\n",
      "        [0.0943, 0.0000, 0.7574]]) torch.Size([3, 3]) \n",
      "\n"
     ]
    }
   ],
   "source": [
    "m = nn.ReLU()\n",
    "_print(m(x))"
   ]
  },
  {
   "cell_type": "code",
   "execution_count": 42,
   "metadata": {},
   "outputs": [
    {
     "name": "stdout",
     "output_type": "stream",
     "text": [
      "tensor([[-6.7450e-03,  9.6910e-01,  1.0134e+00],\n",
      "        [-3.9710e-03,  3.0700e-01, -1.9512e-04],\n",
      "        [ 9.4303e-02, -8.9660e-03,  7.5740e-01]]) torch.Size([3, 3]) \n",
      "\n"
     ]
    }
   ],
   "source": [
    "m = nn.LeakyReLU()\n",
    "_print(m(x))"
   ]
  },
  {
   "cell_type": "code",
   "execution_count": 43,
   "metadata": {},
   "outputs": [
    {
     "name": "stdout",
     "output_type": "stream",
     "text": [
      "tensor([[0.3375, 0.7249, 0.7337],\n",
      "        [0.4020, 0.5762, 0.4951],\n",
      "        [0.5236, 0.2897, 0.6808]]) torch.Size([3, 3]) \n",
      "\n"
     ]
    }
   ],
   "source": [
    "m = nn.Sigmoid()\n",
    "_print(m(x))"
   ]
  },
  {
   "cell_type": "code",
   "execution_count": 48,
   "metadata": {},
   "outputs": [
    {
     "name": "stdout",
     "output_type": "stream",
     "text": [
      "tensor([[0.2234, 0.5986, 0.4695],\n",
      "        [0.2948, 0.3087, 0.1671],\n",
      "        [0.4819, 0.0927, 0.3634]]) torch.Size([3, 3]) \n",
      "\n"
     ]
    }
   ],
   "source": [
    "m = nn.Softmax(dim=0)\n",
    "_print(m(x))"
   ]
  },
  {
   "cell_type": "markdown",
   "metadata": {},
   "source": [
    "## Normalization"
   ]
  },
  {
   "cell_type": "code",
   "execution_count": null,
   "metadata": {},
   "outputs": [],
   "source": [
    "\"\"\"\n",
    "nn.BatchNorm1d(\n",
    "    num_features,\n",
    "    eps=1e-05,\n",
    "    momentum=0.1,\n",
    "    affine=True,\n",
    "    track_running_stats=True,\n",
    ")\n",
    "Docstring:     \n",
    "Applies Batch Normalization over a 2D or 3D input (a mini-batch of 1D\n",
    "inputs with optional additional channel dimension) as described in the paper\n",
    "`Batch Normalization: Accelerating Deep Network Training by Reducing Internal Covariate Shift`_ .\n",
    "\"\"\"\n",
    "\n",
    "nn.BatchNorm1d(100)"
   ]
  },
  {
   "cell_type": "markdown",
   "metadata": {},
   "source": [
    "## Recurrent Layers"
   ]
  },
  {
   "cell_type": "code",
   "execution_count": 53,
   "metadata": {},
   "outputs": [
    {
     "name": "stdout",
     "output_type": "stream",
     "text": [
      "torch.Size([5, 3, 20])\n"
     ]
    }
   ],
   "source": [
    "    \n",
    "\"\"\"\n",
    "Applies a multi-layer Elman RNN with :math:`tanh` or :math:`ReLU` non-linearity to an\n",
    "input sequence.\n",
    "\n",
    "\n",
    "For each element in the input sequence, each layer computes the following\n",
    "function:\n",
    "\n",
    ".. math::\n",
    "    h_t = \\text{tanh}(W_{ih} x_t + b_{ih} + W_{hh} h_{(t-1)} + b_{hh})\n",
    "\n",
    "where :math:`h_t` is the hidden state at time `t`, :math:`x_t` is\n",
    "the input at time `t`, and :math:`h_{(t-1)}` is the hidden state of the\n",
    "previous layer at time `t-1` or the initial hidden state at time `0`.\n",
    "If :attr:`nonlinearity` is ``'relu'``, then `ReLU` is used instead of `tanh`.\n",
    "\n",
    "Args:\n",
    "    input_size: The number of expected features in the input `x`\n",
    "    hidden_size: The number of features in the hidden state `h`\n",
    "    num_layers: Number of recurrent layers. E.g., setting ``num_layers=2``\n",
    "        would mean stacking two RNNs together to form a `stacked RNN`,\n",
    "        with the second RNN taking in outputs of the first RNN and\n",
    "        computing the final results. Default: 1\n",
    "    nonlinearity: The non-linearity to use. Can be either ``'tanh'`` or ``'relu'``. Default: ``'tanh'``\n",
    "    bias: If ``False``, then the layer does not use bias weights `b_ih` and `b_hh`.\n",
    "        Default: ``True``\n",
    "    batch_first: If ``True``, then the input and output tensors are provided\n",
    "        as `(batch, seq, feature)`. Default: ``False``\n",
    "    dropout: If non-zero, introduces a `Dropout` layer on the outputs of each\n",
    "        RNN layer except the last layer, with dropout probability equal to\n",
    "        :attr:`dropout`. Default: 0\n",
    "    bidirectional: If ``True``, becomes a bidirectional RNN. Default: ``False``\n",
    "\n",
    "Inputs: input, h_0\n",
    "    - **input** of shape `(seq_len, batch, input_size)`: tensor containing the features\n",
    "      of the input sequence. The input can also be a packed variable length\n",
    "      sequence. See :func:`torch.nn.utils.rnn.pack_padded_sequence`\n",
    "      or :func:`torch.nn.utils.rnn.pack_sequence`\n",
    "      for details.\n",
    "    - **h_0** of shape `(num_layers * num_directions, batch, hidden_size)`: tensor\n",
    "      containing the initial hidden state for each element in the batch.\n",
    "      Defaults to zero if not provided. If the RNN is bidirectional,\n",
    "      num_directions should be 2, else it should be 1.\n",
    "\n",
    "Outputs: output, h_n\n",
    "    - **output** of shape `(seq_len, batch, num_directions * hidden_size)`: tensor\n",
    "      containing the output features (`h_t`) from the last layer of the RNN,\n",
    "      for each `t`.  If a :class:`torch.nn.utils.rnn.PackedSequence` has\n",
    "      been given as the input, the output will also be a packed sequence.\n",
    "\n",
    "      For the unpacked case, the directions can be separated\n",
    "      using ``output.view(seq_len, batch, num_directions, hidden_size)``,\n",
    "      with forward and backward being direction `0` and `1` respectively.\n",
    "      Similarly, the directions can be separated in the packed case.\n",
    "    - **h_n** of shape `(num_layers * num_directions, batch, hidden_size)`: tensor\n",
    "      containing the hidden state for `t = seq_len`.\n",
    "\n",
    "      Like *output*, the layers can be separated using\n",
    "      ``h_n.view(num_layers, num_directions, batch, hidden_size)``.\n",
    "\n",
    "Shape:\n",
    "    - Input1: :math:`(L, N, H_{in})` tensor containing input features where\n",
    "      :math:`H_{in}=\\text{input\\_size}` and `L` represents a sequence length.\n",
    "    - Input2: :math:`(S, N, H_{out})` tensor\n",
    "      containing the initial hidden state for each element in the batch.\n",
    "      :math:`H_{out}=\\text{hidden\\_size}`\n",
    "      Defaults to zero if not provided. where :math:`S=\\text{num\\_layers} * \\text{num\\_directions}`\n",
    "      If the RNN is bidirectional, num_directions should be 2, else it should be 1.\n",
    "    - Output1: :math:`(L, N, H_{all})` where :math:`H_{all}=\\text{num\\_directions} * \\text{hidden\\_size}`\n",
    "    - Output2: :math:`(S, N, H_{out})` tensor containing the next hidden state\n",
    "      for each element in the batch\n",
    "\n",
    "Attributes:\n",
    "    weight_ih_l[k]: the learnable input-hidden weights of the k-th layer,\n",
    "        of shape `(hidden_size, input_size)` for `k = 0`. Otherwise, the shape is\n",
    "        `(hidden_size, num_directions * hidden_size)`\n",
    "    weight_hh_l[k]: the learnable hidden-hidden weights of the k-th layer,\n",
    "        of shape `(hidden_size, hidden_size)`\n",
    "    bias_ih_l[k]: the learnable input-hidden bias of the k-th layer,\n",
    "        of shape `(hidden_size)`\n",
    "    bias_hh_l[k]: the learnable hidden-hidden bias of the k-th layer,\n",
    "        of shape `(hidden_size)`\n",
    "\n",
    ".. note::\n",
    "    All the weights and biases are initialized from :math:`\\mathcal{U}(-\\sqrt{k}, \\sqrt{k})`\n",
    "    where :math:`k = \\frac{1}{\\text{hidden\\_size}}`\n",
    "\n",
    ".. include:: cudnn_persistent_rnn.rst\n",
    "\n",
    "Examples::\n",
    "\n",
    "    >>> rnn = nn.RNN(10, 20, 2)\n",
    "    >>> input = torch.randn(5, 3, 10)\n",
    "    >>> h0 = torch.randn(2, 3, 20)\n",
    "    >>> output, hn = rnn(input, h0)\n",
    "\"\"\"\n",
    "#nn.RNN(input_size, hidden_size, num_recurrent_layers, nonlinearity,)\n",
    "x = Variable(torch.randn(5,3,10))\n",
    "rnn = nn.RNN(10,20,2)\n",
    "h0 = Variable(torch.randn(2,3,20))\n",
    "out, hn = rnn(x, h0)\n",
    "print(out.shape)"
   ]
  },
  {
   "cell_type": "code",
   "execution_count": 52,
   "metadata": {},
   "outputs": [
    {
     "name": "stdout",
     "output_type": "stream",
     "text": [
      "torch.Size([5, 3, 20])\n"
     ]
    }
   ],
   "source": [
    "lstm = nn.LSTM(10,20,2)\n",
    "c0 = Variable(torch.randn(2,3,20))\n",
    "out, hn = lstm(x,(h0,c0))\n",
    "print(out.shape)"
   ]
  },
  {
   "cell_type": "code",
   "execution_count": 55,
   "metadata": {},
   "outputs": [
    {
     "name": "stdout",
     "output_type": "stream",
     "text": [
      "torch.Size([5, 3, 20])\n"
     ]
    }
   ],
   "source": [
    "gru = nn.GRU(10,20,2)\n",
    "out,hnn = gru(x, h0)\n",
    "print(out.shape)"
   ]
  },
  {
   "cell_type": "markdown",
   "metadata": {},
   "source": [
    "## Linear"
   ]
  },
  {
   "cell_type": "code",
   "execution_count": 56,
   "metadata": {},
   "outputs": [
    {
     "name": "stdout",
     "output_type": "stream",
     "text": [
      "torch.Size([128, 2])\n"
     ]
    }
   ],
   "source": [
    "\"\"\"\n",
    "nn.Linear(in_features, out_features, bias=True)\n",
    "Docstring:     \n",
    "Applies a linear transformation to the incoming data: :math:`y = xA^T + b`\n",
    "\n",
    "Args:\n",
    "    in_features: size of each input sample\n",
    "    out_features: size of each output sample\n",
    "\"\"\"\n",
    "x = Variable(torch.randn(128,20))\n",
    "m = nn.Linear(20,2)\n",
    "print(m(x).shape)"
   ]
  },
  {
   "cell_type": "markdown",
   "metadata": {},
   "source": [
    "## Dropout"
   ]
  },
  {
   "cell_type": "code",
   "execution_count": 72,
   "metadata": {},
   "outputs": [
    {
     "data": {
      "text/plain": [
       "tensor([[-0.0000, -0.0000],\n",
       "        [-1.4435, -0.1157],\n",
       "        [ 0.0000, -2.5524],\n",
       "        [ 0.0000, -0.0000],\n",
       "        [ 2.6681, -1.1160]])"
      ]
     },
     "execution_count": 72,
     "metadata": {},
     "output_type": "execute_result"
    }
   ],
   "source": [
    "#zeroes out some of the values in the input tensor\n",
    "m = nn.Dropout(p=0.5)\n",
    "input = Variable(torch.randn(5, 2))\n",
    "output = m(input)\n",
    "output"
   ]
  },
  {
   "cell_type": "markdown",
   "metadata": {},
   "source": [
    "## Embedding"
   ]
  },
  {
   "cell_type": "code",
   "execution_count": 73,
   "metadata": {},
   "outputs": [
    {
     "data": {
      "text/plain": [
       "tensor([[[-1.0281, -0.1043, -0.9801],\n",
       "         [ 0.0454,  1.2075, -0.5769],\n",
       "         [ 0.0454,  1.2075, -0.5769]],\n",
       "\n",
       "        [[ 0.7194,  1.8701, -0.5869],\n",
       "         [ 0.8274,  0.9918,  0.6741],\n",
       "         [-1.0281, -0.1043, -0.9801]]], grad_fn=<EmbeddingBackward>)"
      ]
     },
     "execution_count": 73,
     "metadata": {},
     "output_type": "execute_result"
    }
   ],
   "source": [
    "# the input is an integer that selects the embedding\n",
    "embedding = nn.Embedding(10,3)\n",
    "x = torch.tensor([[2,1,1],[3,5,2]], dtype = torch.long)\n",
    "embedding(x)"
   ]
  },
  {
   "cell_type": "markdown",
   "metadata": {},
   "source": [
    "## Cosine Similarity"
   ]
  },
  {
   "cell_type": "code",
   "execution_count": 75,
   "metadata": {},
   "outputs": [
    {
     "name": "stdout",
     "output_type": "stream",
     "text": [
      "torch.Size([100])\n"
     ]
    }
   ],
   "source": [
    "input1 = Variable(torch.randn(100, 128))\n",
    "input2 = Variable(torch.randn(100, 128))\n",
    "cos = nn.CosineSimilarity()\n",
    "print(cos(input1,input2).shape)"
   ]
  },
  {
   "cell_type": "markdown",
   "metadata": {},
   "source": [
    "## Loss Functions"
   ]
  },
  {
   "cell_type": "code",
   "execution_count": 81,
   "metadata": {},
   "outputs": [
    {
     "name": "stdout",
     "output_type": "stream",
     "text": [
      "tensor(1.1297, grad_fn=<L1LossBackward>)\n"
     ]
    }
   ],
   "source": [
    "loss = nn.L1Loss()\n",
    "pred = Variable(torch.randn(1,10), requires_grad=True)\n",
    "target = Variable(torch.randn(1,10))\n",
    "print(loss(pred,target))"
   ]
  },
  {
   "cell_type": "code",
   "execution_count": 82,
   "metadata": {},
   "outputs": [
    {
     "name": "stdout",
     "output_type": "stream",
     "text": [
      "tensor(1.8602, grad_fn=<MseLossBackward>)\n"
     ]
    }
   ],
   "source": [
    "loss = nn.MSELoss()\n",
    "print(loss(pred,target))"
   ]
  },
  {
   "cell_type": "code",
   "execution_count": 95,
   "metadata": {},
   "outputs": [
    {
     "name": "stdout",
     "output_type": "stream",
     "text": [
      "tensor(1.7376, grad_fn=<NllLossBackward>)\n"
     ]
    }
   ],
   "source": [
    "loss = nn.CrossEntropyLoss()\n",
    "target = Variable(torch.LongTensor(1).random_(5))\n",
    "target = Variable(torch.randint(5, (1,),dtype=torch.long))\n",
    "print(loss(pred,target))"
   ]
  },
  {
   "cell_type": "code",
   "execution_count": 93,
   "metadata": {
    "scrolled": true
   },
   "outputs": [
    {
     "data": {
      "text/plain": [
       "tensor([4])"
      ]
     },
     "execution_count": 93,
     "metadata": {},
     "output_type": "execute_result"
    }
   ],
   "source": [
    "target"
   ]
  },
  {
   "cell_type": "markdown",
   "metadata": {},
   "source": [
    "## init"
   ]
  },
  {
   "cell_type": "code",
   "execution_count": 97,
   "metadata": {},
   "outputs": [
    {
     "name": "stderr",
     "output_type": "stream",
     "text": [
      "c:\\program files\\python36\\lib\\site-packages\\ipykernel_launcher.py:2: UserWarning: nn.init.normal is now deprecated in favor of nn.init.normal_.\n",
      "  \n"
     ]
    },
    {
     "data": {
      "text/plain": [
       "tensor([[-1.1021, -2.0721, -1.0736, -0.4213,  1.4890],\n",
       "        [-0.1656, -0.0502, -1.2592, -0.7588, -0.2377],\n",
       "        [ 0.2969,  0.1076,  0.6622,  0.1856, -0.0085]])"
      ]
     },
     "execution_count": 97,
     "metadata": {},
     "output_type": "execute_result"
    }
   ],
   "source": [
    "w = torch.empty(3,5)\n",
    "nn.init.normal(w) #operates inplace"
   ]
  },
  {
   "cell_type": "code",
   "execution_count": null,
   "metadata": {},
   "outputs": [],
   "source": []
  },
  {
   "cell_type": "code",
   "execution_count": null,
   "metadata": {},
   "outputs": [],
   "source": []
  },
  {
   "cell_type": "code",
   "execution_count": null,
   "metadata": {},
   "outputs": [],
   "source": []
  }
 ],
 "metadata": {
  "kernelspec": {
   "display_name": "Python [conda env:tensorflow]",
   "language": "python",
   "name": "conda-env-tensorflow-py"
  },
  "language_info": {
   "codemirror_mode": {
    "name": "ipython",
    "version": 3
   },
   "file_extension": ".py",
   "mimetype": "text/x-python",
   "name": "python",
   "nbconvert_exporter": "python",
   "pygments_lexer": "ipython3",
   "version": "3.5.4"
  },
  "varInspector": {
   "cols": {
    "lenName": 16,
    "lenType": 16,
    "lenVar": 40
   },
   "kernels_config": {
    "python": {
     "delete_cmd_postfix": "",
     "delete_cmd_prefix": "del ",
     "library": "var_list.py",
     "varRefreshCmd": "print(var_dic_list())"
    },
    "r": {
     "delete_cmd_postfix": ") ",
     "delete_cmd_prefix": "rm(",
     "library": "var_list.r",
     "varRefreshCmd": "cat(var_dic_list()) "
    }
   },
   "types_to_exclude": [
    "module",
    "function",
    "builtin_function_or_method",
    "instance",
    "_Feature"
   ],
   "window_display": false
  }
 },
 "nbformat": 4,
 "nbformat_minor": 2
}
