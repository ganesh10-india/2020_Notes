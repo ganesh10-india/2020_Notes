{
 "cells": [
  {
   "cell_type": "markdown",
   "metadata": {},
   "source": [
    "# PyTorch NN Module"
   ]
  },
  {
   "cell_type": "code",
   "execution_count": 1,
   "metadata": {},
   "outputs": [],
   "source": [
    "import torch\n",
    "import torch.nn as nn\n",
    "from torch.autograd import Variable\n",
    "import torch.nn.functional as F\n",
    "\n",
    "def _print(val):\n",
    "    print(val, val.shape, '\\n')"
   ]
  },
  {
   "cell_type": "code",
   "execution_count": 2,
   "metadata": {},
   "outputs": [],
   "source": [
    "from pathlib import Path\n",
    "import requests\n",
    "\n",
    "DATA_PATH = Path(\"data\")\n",
    "PATH = DATA_PATH / \"mnist\"\n",
    "\n",
    "PATH.mkdir(parents=True, exist_ok=True)\n",
    "\n",
    "URL = \"http://deeplearning.net/data/mnist/\"\n",
    "FILENAME = \"mnist.pkl.gz\"\n",
    "\n",
    "if not (PATH / FILENAME).exists():\n",
    "        content = requests.get(URL + FILENAME).content\n",
    "        (PATH / FILENAME).open(\"wb\").write(content)"
   ]
  },
  {
   "cell_type": "code",
   "execution_count": 3,
   "metadata": {},
   "outputs": [],
   "source": [
    "import pickle\n",
    "import gzip\n",
    "\n",
    "with gzip.open((PATH / FILENAME).as_posix(), 'rb') as f:\n",
    "    ((x_train, y_train), (x_valid, y_valid), _) = pickle.load(f, encoding='latin-1')"
   ]
  },
  {
   "cell_type": "code",
   "execution_count": 4,
   "metadata": {},
   "outputs": [
    {
     "data": {
      "text/plain": [
       "(50000, 784)"
      ]
     },
     "execution_count": 4,
     "metadata": {},
     "output_type": "execute_result"
    }
   ],
   "source": [
    "x_train.shape"
   ]
  },
  {
   "cell_type": "code",
   "execution_count": 13,
   "metadata": {},
   "outputs": [
    {
     "data": {
      "text/plain": [
       "<matplotlib.image.AxesImage at 0x1e806b65470>"
      ]
     },
     "execution_count": 13,
     "metadata": {},
     "output_type": "execute_result"
    },
    {
     "data": {
      "image/png": "[encoded data removed]",
      "text/plain": [
       "<Figure size 432x288 with 1 Axes>"
      ]
     },
     "metadata": {
      "needs_background": "light"
     },
     "output_type": "display_data"
    }
   ],
   "source": [
    "import matplotlib.pyplot as plt\n",
    "import numpy as np\n",
    "plt.imshow(x_train[0].reshape(-1,28,28).squeeze(), cmap='gray')\n"
   ]
  },
  {
   "cell_type": "code",
   "execution_count": 15,
   "metadata": {},
   "outputs": [
    {
     "name": "stderr",
     "output_type": "stream",
     "text": [
      "c:\\program files\\python36\\lib\\site-packages\\ipykernel_launcher.py:2: UserWarning: To copy construct from a tensor, it is recommended to use sourceTensor.clone().detach() or sourceTensor.clone().detach().requires_grad_(True), rather than torch.tensor(sourceTensor).\n",
      "  \n"
     ]
    },
    {
     "name": "stdout",
     "output_type": "stream",
     "text": [
      "torch.Size([50000, 784])\n",
      "tensor([5, 0, 4,  ..., 8, 4, 8]) tensor(0) tensor(9)\n"
     ]
    }
   ],
   "source": [
    "x_train, y_train, x_valid, y_valid = map(torch.tensor, \n",
    "                                       (x_train, y_train, x_valid, y_valid))\n",
    "print(x_train.shape)\n",
    "print(y_train, y_train.min(), y_train.max())"
   ]
  },
  {
   "cell_type": "markdown",
   "metadata": {},
   "source": [
    "## Neural Nets from Scratch"
   ]
  },
  {
   "cell_type": "markdown",
   "metadata": {},
   "source": [
    "### Activation log_softmax\n",
    "\n",
    "LogSoftMax works better than regular SoftMax? [link](https://discuss.pytorch.org/t/logsoftmax-vs-softmax/21386/2)\n",
    "\n",
    "The point is, even though logsoftmax and softmax are monotonic, their effect on the relative values of the loss function changes. Using the log-softmax will punish bigger mistakes in likelihood space higher."
   ]
  },
  {
   "cell_type": "code",
   "execution_count": 18,
   "metadata": {},
   "outputs": [
    {
     "name": "stdout",
     "output_type": "stream",
     "text": [
      "torch.Size([50000, 784])\n",
      "torch.Size([784, 10])\n",
      "torch.Size([10])\n"
     ]
    }
   ],
   "source": [
    "import math\n",
    "\n",
    "#Activation function Outputs log-probabilities\n",
    "def log_softmax(x):\n",
    "    return x - x.exp().sum(-1).log().unsqueeze(-1)\n",
    "\n",
    "def model(xb):\n",
    "    return log_softmax(xb.mm(weights) + bias)\n",
    "\n",
    "\n",
    "\n",
    "#Xavier Initialization\n",
    "weights = torch.randn(784,10) / math.sqrt(784)\n",
    "weights.requires_grad_()\n",
    "bias = torch.zeros(10)\n",
    "bias.requires_grad_()\n",
    "\n",
    "print(x_train.shape)\n",
    "print(weights.shape)\n",
    "print(bias.shape)"
   ]
  },
  {
   "cell_type": "code",
   "execution_count": 111,
   "metadata": {},
   "outputs": [
    {
     "name": "stdout",
     "output_type": "stream",
     "text": [
      "torch.Size([3, 784])\n",
      "torch.Size([3, 10]) \n",
      "\n",
      "tensor([ 0.8506, -4.5983,  0.6762,  4.9477, -6.0592,  4.6678, -1.0155,  0.1793,\n",
      "         1.5168, -0.6079], grad_fn=<SelectBackward>) \n",
      "\n",
      "tensor([ 0.5322, -4.2668,  0.7402,  4.7284, -6.0082,  5.7624, -1.0864,  0.7272,\n",
      "         0.2620, -0.8336], grad_fn=<AddBackward0>) \n",
      "\n",
      "tensor([[ 6.0849],\n",
      "        [11.4318],\n",
      "        [ 4.9742]], grad_fn=<UnsqueezeBackward0>) \n",
      "\n",
      "tensor([ -5.5527, -10.3517,  -5.3447,  -1.3565, -12.0931,  -0.3225,  -7.1713,\n",
      "         -5.3577,  -5.8229,  -6.9185], grad_fn=<SelectBackward>)\n",
      "tensor([5, 0, 4])\n",
      "tensor([5, 0, 4])\n"
     ]
    }
   ],
   "source": [
    "xb = x_train[:3]\n",
    "yb = y_train[:3]\n",
    "print(xb.shape)\n",
    "print(xb.mm(weights).shape,'\\n')\n",
    "print(xb.mm(weights)[0],'\\n')\n",
    "print(xb.mm(weights)[0]+bias,'\\n')\n",
    "xb = xb.mm(weights)+bias\n",
    "print(xb.exp().sum(-1).log().unsqueeze(-1),'\\n')\n",
    "print((xb - xb.exp().sum(-1).log().unsqueeze(-1))[0])\n",
    "pred = xb - xb.exp().sum(-1).log().unsqueeze(-1)\n",
    "print(torch.argmax(pred, 1))\n",
    "print(yb)"
   ]
  },
  {
   "cell_type": "markdown",
   "metadata": {},
   "source": [
    "### Negative log loss\n",
    "\n",
    "Log loss (related to cross entropy mesures performance of classification where prediction input is a prob value between 0 and 1. Perfect model should have log loss 0. \n",
    "\n",
    "Log loss increases as predicted prob diverges from actual label.\n",
    "\n",
    "<img src=http://wiki.fast.ai/images/math/8/a/a/8aa1e513366a2046bee816f7a0f8dd1c.png>\n",
    "\n",
    "Note that y=0 if incorrect class\n",
    "\n",
    "Since the activation function was log_softmax, we dot have to take the log of the activation again. Just take the negative activation of the True class for each example"
   ]
  },
  {
   "cell_type": "code",
   "execution_count": 30,
   "metadata": {},
   "outputs": [
    {
     "name": "stdout",
     "output_type": "stream",
     "text": [
      "tensor(0.0469)\n",
      "tensor(2.4654, grad_fn=<NegBackward>)\n"
     ]
    }
   ],
   "source": [
    "def nll(input, target):\n",
    "    return -input[range(target.shape[0]),target].mean()\n",
    "\n",
    "def accuracy(input, target):\n",
    "    p = torch.argmax(input, dim=1)\n",
    "    return (p==target).float().mean()\n",
    "\n",
    "yb = y_train[:batch_size]\n",
    "print(accuracy(pred,yb))\n",
    "print(nll(preds,yb))"
   ]
  },
  {
   "cell_type": "code",
   "execution_count": 103,
   "metadata": {},
   "outputs": [
    {
     "name": "stdout",
     "output_type": "stream",
     "text": [
      "tensor(0.3225, grad_fn=<NegBackward>)\n",
      "tensor([0.3225, 0.0006, 0.1621], grad_fn=<NegBackward>)\n",
      "tensor(0.1617, grad_fn=<NegBackward>)\n"
     ]
    }
   ],
   "source": [
    "print(-pred[0].max())\n",
    "# grab the log-prob of correct class\n",
    "print(-pred[range(yb.shape[0]),yb])\n",
    "#this is neg_log_loss for each example -> \n",
    "#average them for cost\n",
    "print(-pred[range(yb.shape[0]),yb].mean())\n",
    "#want to maximize this number -> make correct class as\n",
    "#large as possible\n",
    "\n",
    "#How does this work? seems like signs are wrong"
   ]
  },
  {
   "cell_type": "markdown",
   "metadata": {},
   "source": [
    "### Training the parameters"
   ]
  },
  {
   "cell_type": "markdown",
   "metadata": {},
   "source": [
    "We then set the gradients to zero, so that we are ready for the next loop. Otherwise, our gradients would record a running tally of all the operations that had happened (i.e. loss.backward() adds the gradients to whatever is already stored, rather than replacing them).\n",
    "\n"
   ]
  },
  {
   "cell_type": "code",
   "execution_count": 51,
   "metadata": {},
   "outputs": [
    {
     "data": {
      "image/png": "[encoded data removed]",
      "text/plain": [
       "<Figure size 432x288 with 1 Axes>"
      ]
     },
     "metadata": {
      "needs_background": "light"
     },
     "output_type": "display_data"
    }
   ],
   "source": [
    "from IPython.core.debugger import set_trace\n",
    "\n",
    "#Xavier Initialization\n",
    "weights = torch.randn(784,10) / math.sqrt(784)\n",
    "weights.requires_grad_()\n",
    "bias = torch.zeros(10)\n",
    "bias.requires_grad_()\n",
    "\n",
    "\n",
    "epochs = 50 # each epoch goes over the entire training set\n",
    "batch_size = 64\n",
    "lr = 0.01\n",
    "n = x_train.shape[0]\n",
    "\n",
    "loss_hist = []\n",
    "for epoch in range(epochs):\n",
    "    for i in range((n-1)//batch_size): # // ~ int division\n",
    "        start = i * batch_size\n",
    "        end = (i + 1) * batch_size\n",
    "\n",
    "        xb, yb = x_train[start:end], y_train[start:end]\n",
    "        pred = model(xb)\n",
    "        loss = nll(pred, yb)\n",
    "        loss.backward()\n",
    "\n",
    "        with torch.no_grad(): #no_grad so we can do an in-place operation on a leaf node\n",
    "            weights -= lr*weights.grad\n",
    "            bias -= lr*bias.grad\n",
    "            weights.grad.zero_()\n",
    "            bias.grad.zero_()\n",
    "    loss_hist.append(loss.data.item())\n",
    "\n",
    "plt.title(\"Training Loss\")\n",
    "plt.plot(range(len(loss_hist)),loss_hist) \n",
    "plt.show()"
   ]
  },
  {
   "cell_type": "code",
   "execution_count": 52,
   "metadata": {},
   "outputs": [
    {
     "name": "stdout",
     "output_type": "stream",
     "text": [
      "tensor(0.2794, grad_fn=<NegBackward>)\n",
      "tensor(0.9224)\n"
     ]
    }
   ],
   "source": [
    "pred = model(x_valid)\n",
    "print(nll(pred, y_valid))\n",
    "print(accuracy(pred, y_valid))"
   ]
  },
  {
   "cell_type": "markdown",
   "metadata": {},
   "source": [
    "## Factoring with torch.nn\n",
    "Either make your code shorter, more understandable, or more flexible."
   ]
  },
  {
   "cell_type": "code",
   "execution_count": null,
   "metadata": {},
   "outputs": [],
   "source": [
    "import torch.nn.functional as F\n",
    "\n",
    "#combines neg-log-likelihood loss and log-softmax\n",
    "loss_func = F.cross_entropy\n",
    "def model(xb):\n",
    "    return xb.mm(weights)+bias"
   ]
  },
  {
   "cell_type": "markdown",
   "metadata": {},
   "source": [
    "### Package the model into a Class\n",
    "Use nn.Module and nn.Parameter . Create a class that holds weights and methords for forward and backward prop.\n",
    "\n",
    "nn.Module has a number of attributes and methods (such as .parameters() and .zero_grad()) which we will be using."
   ]
  },
  {
   "cell_type": "code",
   "execution_count": 104,
   "metadata": {},
   "outputs": [],
   "source": [
    "class Model(nn.Module):\n",
    "    def __init__(self):\n",
    "        super().__init__()\n",
    "        self.weights = nn.Parameter(torch.randn(784,10) / math.sqrt(784))\n",
    "        self.bias = nn.Parameter(torch.zeros(10))\n",
    "        return None\n",
    "        \n",
    "    def forward(self, xb):\n",
    "        return xb.mm(self.weights) + self.bias"
   ]
  },
  {
   "cell_type": "markdown",
   "metadata": {},
   "source": [
    "### Train with model.parameters() and model.zero_grad()"
   ]
  },
  {
   "cell_type": "code",
   "execution_count": 115,
   "metadata": {},
   "outputs": [
    {
     "name": "stdout",
     "output_type": "stream",
     "text": [
      "Parameter containing:\n",
      "tensor([[ 0.0077, -0.0490, -0.0650,  ..., -0.0799, -0.0376,  0.0465],\n",
      "        [ 0.0032,  0.0115,  0.0170,  ...,  0.0832, -0.0065,  0.0299],\n",
      "        [ 0.0209, -0.0426,  0.0061,  ...,  0.0147,  0.0168, -0.0500],\n",
      "        ...,\n",
      "        [ 0.0304, -0.0111,  0.0396,  ..., -0.0030,  0.0064,  0.0461],\n",
      "        [ 0.0436,  0.0159, -0.0118,  ...,  0.0390, -0.0258, -0.0533],\n",
      "        [-0.1070, -0.0257, -0.0111,  ...,  0.0088,  0.0612, -0.0377]],\n",
      "       requires_grad=True)\n",
      "Parameter containing:\n",
      "tensor([-0.3168,  0.3398,  0.0577, -0.2241,  0.0583,  1.0992, -0.0698,  0.5458,\n",
      "        -1.2579, -0.2323], requires_grad=True)\n"
     ]
    }
   ],
   "source": [
    "for param in model.parameters():\n",
    "        print(param)"
   ]
  },
  {
   "cell_type": "code",
   "execution_count": 109,
   "metadata": {},
   "outputs": [
    {
     "data": {
      "image/png": "[encoded data removed]",
      "text/plain": [
       "<Figure size 432x288 with 1 Axes>"
      ]
     },
     "metadata": {
      "needs_background": "light"
     },
     "output_type": "display_data"
    }
   ],
   "source": [
    "model = Model()\n",
    "loss_func = F.cross_entropy\n",
    "\n",
    "def fit():\n",
    "    loss_hist = []\n",
    "    for epoch in range(epochs):\n",
    "        for i in range((n-1)//batch_size): # // ~ int division\n",
    "            start = i * batch_size\n",
    "            end = (i + 1) * batch_size\n",
    "\n",
    "            xb, yb = x_train[start:end], y_train[start:end]\n",
    "            pred = model(xb)\n",
    "            loss = loss_func(pred, yb)\n",
    "            \n",
    "            loss.backward()\n",
    "            with torch.no_grad():\n",
    "                for p in model.parameters(): #Update all weights at once\n",
    "                    p -= lr*p.grad\n",
    "                model.zero_grad()   #zero out gradients for all parameters\n",
    "        loss_hist.append(loss.data.item())\n",
    "        \n",
    "    return loss_hist\n",
    "    \n",
    "loss_hist = fit()\n",
    "\n",
    "plt.title(\"Training Loss\")\n",
    "plt.plot(range(len(loss_hist)),loss_hist) \n",
    "plt.show()"
   ]
  },
  {
   "cell_type": "markdown",
   "metadata": {},
   "source": [
    "### With nn.Linear\n",
    "[link](https://pytorch.org/tutorials/beginner/nn_tutorial.html#refactor-using-nn-linear)"
   ]
  },
  {
   "cell_type": "markdown",
   "metadata": {},
   "source": []
  },
  {
   "cell_type": "code",
   "execution_count": null,
   "metadata": {},
   "outputs": [],
   "source": []
  },
  {
   "cell_type": "markdown",
   "metadata": {},
   "source": [
    "## Models in PyTorch\n",
    "Model can be definde by subclassing the torch.nn.Module class. Define the parameters, then define the forward propagation of inputs."
   ]
  },
  {
   "cell_type": "code",
   "execution_count": null,
   "metadata": {},
   "outputs": [],
   "source": [
    "class myNetwork(nn.Module):\n",
    "    def __init(self):\n",
    "        super(myNetwork, self).__init__()\n",
    "        self.linear1 = nn.Linear(D_in, H_out)\n",
    "        self.linear2 = nn.Linear(H_out, D_out)\n",
    "    def forward(self, data):\n",
    "        out = F.relu(self.linear1(data))\n",
    "        out = self.linear2(out)\n",
    "        return out"
   ]
  },
  {
   "cell_type": "markdown",
   "metadata": {},
   "source": [
    "## Saving and Loading Modules"
   ]
  },
  {
   "cell_type": "code",
   "execution_count": null,
   "metadata": {},
   "outputs": [],
   "source": [
    "state = {\n",
    "    'epoch':epoch+1\n",
    "    'state_dict':model.state_dict()\n",
    "    'optim_dict':optimider.state_dict()\n",
    "}\n",
    "utils.save_checkpoint(state,\n",
    "                     isbest=True,\n",
    "                     checkpoint='filepath')\n",
    "utils.load_checkpoint(restore_path, \n",
    "                      model, \n",
    "                      optimizer)"
   ]
  },
  {
   "cell_type": "code",
   "execution_count": null,
   "metadata": {},
   "outputs": [],
   "source": []
  },
  {
   "cell_type": "code",
   "execution_count": null,
   "metadata": {},
   "outputs": [],
   "source": []
  },
  {
   "cell_type": "code",
   "execution_count": null,
   "metadata": {},
   "outputs": [],
   "source": []
  },
  {
   "cell_type": "code",
   "execution_count": null,
   "metadata": {},
   "outputs": [],
   "source": []
  },
  {
   "cell_type": "markdown",
   "metadata": {},
   "source": [
    "# Functions"
   ]
  },
  {
   "cell_type": "markdown",
   "metadata": {},
   "source": [
    "### Convolutions"
   ]
  },
  {
   "cell_type": "code",
   "execution_count": 8,
   "metadata": {},
   "outputs": [
    {
     "name": "stdout",
     "output_type": "stream",
     "text": [
      "torch.Size([20, 16, 50, 100])\n"
     ]
    },
    {
     "data": {
      "text/plain": [
       "torch.Size([20, 33, 26, 100])"
      ]
     },
     "execution_count": 8,
     "metadata": {},
     "output_type": "execute_result"
    }
   ],
   "source": [
    "m = nn.Conv2d(16,33,(3,5), \n",
    "              stride=(2,1), \n",
    "              padding = (4,2), \n",
    "              dilation=(3,1))\n",
    "input = Variable(torch.randn(20,16,50,100))\n",
    "print(input.shape)\n",
    "m(input).shape"
   ]
  },
  {
   "cell_type": "markdown",
   "metadata": {},
   "source": [
    "### Pooling"
   ]
  },
  {
   "cell_type": "code",
   "execution_count": 28,
   "metadata": {},
   "outputs": [
    {
     "name": "stdout",
     "output_type": "stream",
     "text": [
      "tensor([[[ 0.,  1.,  2.,  3.],\n",
      "         [ 4.,  5.,  6.,  7.],\n",
      "         [ 8.,  9., 10., 11.],\n",
      "         [12., 13., 14., 15.]]], dtype=torch.float64) torch.Size([1, 4, 4]) \n",
      "\n",
      "tensor([[[ 5.,  7.],\n",
      "         [13., 15.]]], dtype=torch.float64) torch.Size([1, 2, 2]) \n",
      "\n"
     ]
    }
   ],
   "source": [
    "\"\"\"\n",
    "Max Pooling - cuts the size in have by retaining only the max \n",
    "value in a subset of a matrix. Outputs a smaller matrix with\n",
    "the combined max values for the subcells.\n",
    "\n",
    "Reduces the number of parameters to learn and provides basic \n",
    " translation invariance to the internal representation.\n",
    "\"\"\"\n",
    "m = nn.MaxPool2d((2,2))\n",
    "x = torch.arange(16, dtype = torch.float64).reshape(-1,4).unsqueeze(0)\n",
    "pooled= m(x)\n",
    "_print(x)\n",
    "_print(pooled)"
   ]
  },
  {
   "cell_type": "code",
   "execution_count": 29,
   "metadata": {},
   "outputs": [
    {
     "name": "stdout",
     "output_type": "stream",
     "text": [
      "tensor([[[ 2.5000,  4.5000],\n",
      "         [10.5000, 12.5000]]], dtype=torch.float64) torch.Size([1, 2, 2]) \n",
      "\n"
     ]
    }
   ],
   "source": [
    "m = nn.AvgPool2d(2)\n",
    "_print(m(x))"
   ]
  },
  {
   "cell_type": "markdown",
   "metadata": {},
   "source": [
    "## Non-Linear Activation"
   ]
  },
  {
   "cell_type": "code",
   "execution_count": 40,
   "metadata": {},
   "outputs": [
    {
     "name": "stdout",
     "output_type": "stream",
     "text": [
      "tensor([[-0.6745,  0.9691,  1.0134],\n",
      "        [-0.3971,  0.3070, -0.0195],\n",
      "        [ 0.0943, -0.8966,  0.7574]]) torch.Size([3, 3]) \n",
      "\n"
     ]
    }
   ],
   "source": [
    "x = Variable(torch.randn(3,3))\n",
    "_print(x)"
   ]
  },
  {
   "cell_type": "code",
   "execution_count": 41,
   "metadata": {},
   "outputs": [
    {
     "name": "stdout",
     "output_type": "stream",
     "text": [
      "tensor([[0.0000, 0.9691, 1.0134],\n",
      "        [0.0000, 0.3070, 0.0000],\n",
      "        [0.0943, 0.0000, 0.7574]]) torch.Size([3, 3]) \n",
      "\n"
     ]
    }
   ],
   "source": [
    "m = nn.ReLU()\n",
    "_print(m(x))"
   ]
  },
  {
   "cell_type": "code",
   "execution_count": 42,
   "metadata": {},
   "outputs": [
    {
     "name": "stdout",
     "output_type": "stream",
     "text": [
      "tensor([[-6.7450e-03,  9.6910e-01,  1.0134e+00],\n",
      "        [-3.9710e-03,  3.0700e-01, -1.9512e-04],\n",
      "        [ 9.4303e-02, -8.9660e-03,  7.5740e-01]]) torch.Size([3, 3]) \n",
      "\n"
     ]
    }
   ],
   "source": [
    "m = nn.LeakyReLU()\n",
    "_print(m(x))"
   ]
  },
  {
   "cell_type": "code",
   "execution_count": 43,
   "metadata": {},
   "outputs": [
    {
     "name": "stdout",
     "output_type": "stream",
     "text": [
      "tensor([[0.3375, 0.7249, 0.7337],\n",
      "        [0.4020, 0.5762, 0.4951],\n",
      "        [0.5236, 0.2897, 0.6808]]) torch.Size([3, 3]) \n",
      "\n"
     ]
    }
   ],
   "source": [
    "m = nn.Sigmoid()\n",
    "_print(m(x))"
   ]
  },
  {
   "cell_type": "code",
   "execution_count": 48,
   "metadata": {},
   "outputs": [
    {
     "name": "stdout",
     "output_type": "stream",
     "text": [
      "tensor([[0.2234, 0.5986, 0.4695],\n",
      "        [0.2948, 0.3087, 0.1671],\n",
      "        [0.4819, 0.0927, 0.3634]]) torch.Size([3, 3]) \n",
      "\n"
     ]
    }
   ],
   "source": [
    "m = nn.Softmax(dim=0)\n",
    "_print(m(x))"
   ]
  },
  {
   "cell_type": "markdown",
   "metadata": {},
   "source": [
    "## Normalization"
   ]
  },
  {
   "cell_type": "code",
   "execution_count": null,
   "metadata": {},
   "outputs": [],
   "source": [
    "\"\"\"\n",
    "nn.BatchNorm1d(\n",
    "    num_features,\n",
    "    eps=1e-05,\n",
    "    momentum=0.1,\n",
    "    affine=True,\n",
    "    track_running_stats=True,\n",
    ")\n",
    "Docstring:     \n",
    "Applies Batch Normalization over a 2D or 3D input (a mini-batch of 1D\n",
    "inputs with optional additional channel dimension) as described in the paper\n",
    "`Batch Normalization: Accelerating Deep Network Training by Reducing Internal Covariate Shift`_ .\n",
    "\"\"\"\n",
    "\n",
    "nn.BatchNorm1d(100)"
   ]
  },
  {
   "cell_type": "markdown",
   "metadata": {},
   "source": [
    "## Recurrent Layers"
   ]
  },
  {
   "cell_type": "code",
   "execution_count": 53,
   "metadata": {},
   "outputs": [
    {
     "name": "stdout",
     "output_type": "stream",
     "text": [
      "torch.Size([5, 3, 20])\n"
     ]
    }
   ],
   "source": [
    "    \n",
    "\"\"\"\n",
    "Applies a multi-layer Elman RNN with :math:`tanh` or :math:`ReLU` non-linearity to an\n",
    "input sequence.\n",
    "\n",
    "\n",
    "For each element in the input sequence, each layer computes the following\n",
    "function:\n",
    "\n",
    ".. math::\n",
    "    h_t = \\text{tanh}(W_{ih} x_t + b_{ih} + W_{hh} h_{(t-1)} + b_{hh})\n",
    "\n",
    "where :math:`h_t` is the hidden state at time `t`, :math:`x_t` is\n",
    "the input at time `t`, and :math:`h_{(t-1)}` is the hidden state of the\n",
    "previous layer at time `t-1` or the initial hidden state at time `0`.\n",
    "If :attr:`nonlinearity` is ``'relu'``, then `ReLU` is used instead of `tanh`.\n",
    "\n",
    "Args:\n",
    "    input_size: The number of expected features in the input `x`\n",
    "    hidden_size: The number of features in the hidden state `h`\n",
    "    num_layers: Number of recurrent layers. E.g., setting ``num_layers=2``\n",
    "        would mean stacking two RNNs together to form a `stacked RNN`,\n",
    "        with the second RNN taking in outputs of the first RNN and\n",
    "        computing the final results. Default: 1\n",
    "    nonlinearity: The non-linearity to use. Can be either ``'tanh'`` or ``'relu'``. Default: ``'tanh'``\n",
    "    bias: If ``False``, then the layer does not use bias weights `b_ih` and `b_hh`.\n",
    "        Default: ``True``\n",
    "    batch_first: If ``True``, then the input and output tensors are provided\n",
    "        as `(batch, seq, feature)`. Default: ``False``\n",
    "    dropout: If non-zero, introduces a `Dropout` layer on the outputs of each\n",
    "        RNN layer except the last layer, with dropout probability equal to\n",
    "        :attr:`dropout`. Default: 0\n",
    "    bidirectional: If ``True``, becomes a bidirectional RNN. Default: ``False``\n",
    "\n",
    "Inputs: input, h_0\n",
    "    - **input** of shape `(seq_len, batch, input_size)`: tensor containing the features\n",
    "      of the input sequence. The input can also be a packed variable length\n",
    "      sequence. See :func:`torch.nn.utils.rnn.pack_padded_sequence`\n",
    "      or :func:`torch.nn.utils.rnn.pack_sequence`\n",
    "      for details.\n",
    "    - **h_0** of shape `(num_layers * num_directions, batch, hidden_size)`: tensor\n",
    "      containing the initial hidden state for each element in the batch.\n",
    "      Defaults to zero if not provided. If the RNN is bidirectional,\n",
    "      num_directions should be 2, else it should be 1.\n",
    "\n",
    "Outputs: output, h_n\n",
    "    - **output** of shape `(seq_len, batch, num_directions * hidden_size)`: tensor\n",
    "      containing the output features (`h_t`) from the last layer of the RNN,\n",
    "      for each `t`.  If a :class:`torch.nn.utils.rnn.PackedSequence` has\n",
    "      been given as the input, the output will also be a packed sequence.\n",
    "\n",
    "      For the unpacked case, the directions can be separated\n",
    "      using ``output.view(seq_len, batch, num_directions, hidden_size)``,\n",
    "      with forward and backward being direction `0` and `1` respectively.\n",
    "      Similarly, the directions can be separated in the packed case.\n",
    "    - **h_n** of shape `(num_layers * num_directions, batch, hidden_size)`: tensor\n",
    "      containing the hidden state for `t = seq_len`.\n",
    "\n",
    "      Like *output*, the layers can be separated using\n",
    "      ``h_n.view(num_layers, num_directions, batch, hidden_size)``.\n",
    "\n",
    "Shape:\n",
    "    - Input1: :math:`(L, N, H_{in})` tensor containing input features where\n",
    "      :math:`H_{in}=\\text{input\\_size}` and `L` represents a sequence length.\n",
    "    - Input2: :math:`(S, N, H_{out})` tensor\n",
    "      containing the initial hidden state for each element in the batch.\n",
    "      :math:`H_{out}=\\text{hidden\\_size}`\n",
    "      Defaults to zero if not provided. where :math:`S=\\text{num\\_layers} * \\text{num\\_directions}`\n",
    "      If the RNN is bidirectional, num_directions should be 2, else it should be 1.\n",
    "    - Output1: :math:`(L, N, H_{all})` where :math:`H_{all}=\\text{num\\_directions} * \\text{hidden\\_size}`\n",
    "    - Output2: :math:`(S, N, H_{out})` tensor containing the next hidden state\n",
    "      for each element in the batch\n",
    "\n",
    "Attributes:\n",
    "    weight_ih_l[k]: the learnable input-hidden weights of the k-th layer,\n",
    "        of shape `(hidden_size, input_size)` for `k = 0`. Otherwise, the shape is\n",
    "        `(hidden_size, num_directions * hidden_size)`\n",
    "    weight_hh_l[k]: the learnable hidden-hidden weights of the k-th layer,\n",
    "        of shape `(hidden_size, hidden_size)`\n",
    "    bias_ih_l[k]: the learnable input-hidden bias of the k-th layer,\n",
    "        of shape `(hidden_size)`\n",
    "    bias_hh_l[k]: the learnable hidden-hidden bias of the k-th layer,\n",
    "        of shape `(hidden_size)`\n",
    "\n",
    ".. note::\n",
    "    All the weights and biases are initialized from :math:`\\mathcal{U}(-\\sqrt{k}, \\sqrt{k})`\n",
    "    where :math:`k = \\frac{1}{\\text{hidden\\_size}}`\n",
    "\n",
    ".. include:: cudnn_persistent_rnn.rst\n",
    "\n",
    "Examples::\n",
    "\n",
    "    >>> rnn = nn.RNN(10, 20, 2)\n",
    "    >>> input = torch.randn(5, 3, 10)\n",
    "    >>> h0 = torch.randn(2, 3, 20)\n",
    "    >>> output, hn = rnn(input, h0)\n",
    "\"\"\"\n",
    "#nn.RNN(input_size, hidden_size, num_recurrent_layers, nonlinearity,)\n",
    "x = Variable(torch.randn(5,3,10))\n",
    "rnn = nn.RNN(10,20,2)\n",
    "h0 = Variable(torch.randn(2,3,20))\n",
    "out, hn = rnn(x, h0)\n",
    "print(out.shape)"
   ]
  },
  {
   "cell_type": "code",
   "execution_count": 52,
   "metadata": {},
   "outputs": [
    {
     "name": "stdout",
     "output_type": "stream",
     "text": [
      "torch.Size([5, 3, 20])\n"
     ]
    }
   ],
   "source": [
    "lstm = nn.LSTM(10,20,2)\n",
    "c0 = Variable(torch.randn(2,3,20))\n",
    "out, hn = lstm(x,(h0,c0))\n",
    "print(out.shape)"
   ]
  },
  {
   "cell_type": "code",
   "execution_count": 55,
   "metadata": {},
   "outputs": [
    {
     "name": "stdout",
     "output_type": "stream",
     "text": [
      "torch.Size([5, 3, 20])\n"
     ]
    }
   ],
   "source": [
    "gru = nn.GRU(10,20,2)\n",
    "out,hnn = gru(x, h0)\n",
    "print(out.shape)"
   ]
  },
  {
   "cell_type": "markdown",
   "metadata": {},
   "source": [
    "## Linear"
   ]
  },
  {
   "cell_type": "code",
   "execution_count": 56,
   "metadata": {},
   "outputs": [
    {
     "name": "stdout",
     "output_type": "stream",
     "text": [
      "torch.Size([128, 2])\n"
     ]
    }
   ],
   "source": [
    "\"\"\"\n",
    "nn.Linear(in_features, out_features, bias=True)\n",
    "Docstring:     \n",
    "Applies a linear transformation to the incoming data: :math:`y = xA^T + b`\n",
    "\n",
    "Args:\n",
    "    in_features: size of each input sample\n",
    "    out_features: size of each output sample\n",
    "\"\"\"\n",
    "x = Variable(torch.randn(128,20))\n",
    "m = nn.Linear(20,2)\n",
    "print(m(x).shape)"
   ]
  },
  {
   "cell_type": "markdown",
   "metadata": {},
   "source": [
    "## Dropout"
   ]
  },
  {
   "cell_type": "code",
   "execution_count": 72,
   "metadata": {},
   "outputs": [
    {
     "data": {
      "text/plain": [
       "tensor([[-0.0000, -0.0000],\n",
       "        [-1.4435, -0.1157],\n",
       "        [ 0.0000, -2.5524],\n",
       "        [ 0.0000, -0.0000],\n",
       "        [ 2.6681, -1.1160]])"
      ]
     },
     "execution_count": 72,
     "metadata": {},
     "output_type": "execute_result"
    }
   ],
   "source": [
    "#zeroes out some of the values in the input tensor\n",
    "m = nn.Dropout(p=0.5)\n",
    "input = Variable(torch.randn(5, 2))\n",
    "output = m(input)\n",
    "output"
   ]
  },
  {
   "cell_type": "markdown",
   "metadata": {},
   "source": [
    "## Embedding"
   ]
  },
  {
   "cell_type": "code",
   "execution_count": 73,
   "metadata": {},
   "outputs": [
    {
     "data": {
      "text/plain": [
       "tensor([[[-1.0281, -0.1043, -0.9801],\n",
       "         [ 0.0454,  1.2075, -0.5769],\n",
       "         [ 0.0454,  1.2075, -0.5769]],\n",
       "\n",
       "        [[ 0.7194,  1.8701, -0.5869],\n",
       "         [ 0.8274,  0.9918,  0.6741],\n",
       "         [-1.0281, -0.1043, -0.9801]]], grad_fn=<EmbeddingBackward>)"
      ]
     },
     "execution_count": 73,
     "metadata": {},
     "output_type": "execute_result"
    }
   ],
   "source": [
    "# the input is an integer that selects the embedding\n",
    "embedding = nn.Embedding(10,3)\n",
    "x = torch.tensor([[2,1,1],[3,5,2]], dtype = torch.long)\n",
    "embedding(x)"
   ]
  },
  {
   "cell_type": "markdown",
   "metadata": {},
   "source": [
    "## Cosine Similarity"
   ]
  },
  {
   "cell_type": "code",
   "execution_count": 75,
   "metadata": {},
   "outputs": [
    {
     "name": "stdout",
     "output_type": "stream",
     "text": [
      "torch.Size([100])\n"
     ]
    }
   ],
   "source": [
    "input1 = Variable(torch.randn(100, 128))\n",
    "input2 = Variable(torch.randn(100, 128))\n",
    "cos = nn.CosineSimilarity()\n",
    "print(cos(input1,input2).shape)"
   ]
  },
  {
   "cell_type": "markdown",
   "metadata": {},
   "source": [
    "## Loss Functions"
   ]
  },
  {
   "cell_type": "code",
   "execution_count": 81,
   "metadata": {},
   "outputs": [
    {
     "name": "stdout",
     "output_type": "stream",
     "text": [
      "tensor(1.1297, grad_fn=<L1LossBackward>)\n"
     ]
    }
   ],
   "source": [
    "loss = nn.L1Loss()\n",
    "pred = Variable(torch.randn(1,10), requires_grad=True)\n",
    "target = Variable(torch.randn(1,10))\n",
    "print(loss(pred,target))"
   ]
  },
  {
   "cell_type": "code",
   "execution_count": 82,
   "metadata": {},
   "outputs": [
    {
     "name": "stdout",
     "output_type": "stream",
     "text": [
      "tensor(1.8602, grad_fn=<MseLossBackward>)\n"
     ]
    }
   ],
   "source": [
    "loss = nn.MSELoss()\n",
    "print(loss(pred,target))"
   ]
  },
  {
   "cell_type": "code",
   "execution_count": 95,
   "metadata": {},
   "outputs": [
    {
     "name": "stdout",
     "output_type": "stream",
     "text": [
      "tensor(1.7376, grad_fn=<NllLossBackward>)\n"
     ]
    }
   ],
   "source": [
    "loss = nn.CrossEntropyLoss()\n",
    "target = Variable(torch.LongTensor(1).random_(5))\n",
    "target = Variable(torch.randint(5, (1,),dtype=torch.long))\n",
    "print(loss(pred,target))"
   ]
  },
  {
   "cell_type": "code",
   "execution_count": 93,
   "metadata": {
    "scrolled": true
   },
   "outputs": [
    {
     "data": {
      "text/plain": [
       "tensor([4])"
      ]
     },
     "execution_count": 93,
     "metadata": {},
     "output_type": "execute_result"
    }
   ],
   "source": [
    "target"
   ]
  },
  {
   "cell_type": "markdown",
   "metadata": {},
   "source": [
    "## init"
   ]
  },
  {
   "cell_type": "code",
   "execution_count": 97,
   "metadata": {},
   "outputs": [
    {
     "name": "stderr",
     "output_type": "stream",
     "text": [
      "c:\\program files\\python36\\lib\\site-packages\\ipykernel_launcher.py:2: UserWarning: nn.init.normal is now deprecated in favor of nn.init.normal_.\n",
      "  \n"
     ]
    },
    {
     "data": {
      "text/plain": [
       "tensor([[-1.1021, -2.0721, -1.0736, -0.4213,  1.4890],\n",
       "        [-0.1656, -0.0502, -1.2592, -0.7588, -0.2377],\n",
       "        [ 0.2969,  0.1076,  0.6622,  0.1856, -0.0085]])"
      ]
     },
     "execution_count": 97,
     "metadata": {},
     "output_type": "execute_result"
    }
   ],
   "source": [
    "w = torch.empty(3,5)\n",
    "nn.init.normal(w) #operates inplace"
   ]
  },
  {
   "cell_type": "code",
   "execution_count": null,
   "metadata": {},
   "outputs": [],
   "source": []
  },
  {
   "cell_type": "code",
   "execution_count": null,
   "metadata": {},
   "outputs": [],
   "source": []
  },
  {
   "cell_type": "code",
   "execution_count": null,
   "metadata": {},
   "outputs": [],
   "source": []
  }
 ],
 "metadata": {
  "kernelspec": {
   "display_name": "Python 3",
   "language": "python",
   "name": "python3"
  },
  "language_info": {
   "codemirror_mode": {
    "name": "ipython",
    "version": 3
   },
   "file_extension": ".py",
   "mimetype": "text/x-python",
   "name": "python",
   "nbconvert_exporter": "python",
   "pygments_lexer": "ipython3",
   "version": "3.6.1"
  }
 },
 "nbformat": 4,
 "nbformat_minor": 2
}
