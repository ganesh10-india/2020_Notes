{
 "cells": [
  {
   "cell_type": "markdown",
   "metadata": {},
   "source": [
    "# Chapter 1 Clean Code\n",
    "\n",
    "\n",
    "A book about good programming.\n",
    "\n",
    "## There will be code\n",
    "\n",
    "The level of abstraction of languages will increase (coughcoughPython). Domain specif languages will grow.\n",
    "\n",
    "Well-specified requirements are as formal as code and are executable tests of processes.\n",
    "\n",
    "Code is the language of requirements.\n",
    "\n",
    "## The total cost of owning a mess\n",
    "\n",
    "With bad code, no change is trivial. One commit can break 2-3 other parts of the code. Every addition to the code requires more and more complex code to be understood. -> The longer this goes on the harder the code will be to change. \n",
    "\n",
    "Productivity decreases as time goes on. Pressure increases from management that worsens the problem.\n",
    "\n",
    "## The grand redesign\n",
    "\n",
    "Eventually the developers demand a redesign. Creates two teams, one maintaining and adding to the old system, another raing to redesign the old system to something new. The race goes on for a long time until the code base is as jumbled as the old system.\n",
    "\n",
    "## What is Clean Code\n",
    "\n",
    "Good code is __elegant__ and __works close to optimal__ (So others arent tempted to optimize it further). Good code __does one thing well__\n",
    "\n",
    "Good code has __crisp abstractions and straightforward lines of control__\n",
    "\n",
    "Good code __can be read and enhanced by another developer__. Good code __has unit tests__. Good code is __minimal__.\n",
    "\n",
    "Good code __minimizes duplication__. Good code is __expressed well__, with meaningful names and objects that don't do to many things.\n",
    "\n",
    "Good code __reads to be exactly what you expect it to be__, good code __makes the language look like it was made for the problem__\n",
    "\n",
    "__Good code focuses on expressiveness, little duplication, tiny abstractions__\n",
    "\n",
    "\n",
    "## We are authors\n",
    "\n",
    "Authors are responsible for communicating with their readers. They will judge your effort.\n",
    "\n",
    "__You are constantly reading old code.__ Make the reading of code easy, even if it makes the writing harder.\n",
    "\n",
    "\n",
    "\n",
    "## The boyscout rule\n",
    "\n",
    "*Leave it cleaner than you found it.*\n",
    "\n",
    "\n",
    "# Chapter 2 Meaningful Names"
   ]
  }
 ],
 "metadata": {
  "kernelspec": {
   "display_name": "Python [conda env:Anaconda3]",
   "language": "python",
   "name": "conda-env-Anaconda3-py"
  },
  "language_info": {
   "codemirror_mode": {
    "name": "ipython",
    "version": 3
   },
   "file_extension": ".py",
   "mimetype": "text/x-python",
   "name": "python",
   "nbconvert_exporter": "python",
   "pygments_lexer": "ipython3",
   "version": "3.6.4"
  },
  "toc": {
   "base_numbering": 1,
   "nav_menu": {},
   "number_sections": true,
   "sideBar": true,
   "skip_h1_title": false,
   "title_cell": "Table of Contents",
   "title_sidebar": "Contents",
   "toc_cell": false,
   "toc_position": {},
   "toc_section_display": true,
   "toc_window_display": false
  },
  "varInspector": {
   "cols": {
    "lenName": 16,
    "lenType": 16,
    "lenVar": 40
   },
   "kernels_config": {
    "python": {
     "delete_cmd_postfix": "",
     "delete_cmd_prefix": "del ",
     "library": "var_list.py",
     "varRefreshCmd": "print(var_dic_list())"
    },
    "r": {
     "delete_cmd_postfix": ") ",
     "delete_cmd_prefix": "rm(",
     "library": "var_list.r",
     "varRefreshCmd": "cat(var_dic_list()) "
    }
   },
   "types_to_exclude": [
    "module",
    "function",
    "builtin_function_or_method",
    "instance",
    "_Feature"
   ],
   "window_display": false
  }
 },
 "nbformat": 4,
 "nbformat_minor": 2
}
