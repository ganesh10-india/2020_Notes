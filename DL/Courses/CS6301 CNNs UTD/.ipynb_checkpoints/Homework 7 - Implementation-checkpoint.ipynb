{
 "cells": [
  {
   "cell_type": "code",
   "execution_count": 1,
   "metadata": {
    "ExecuteTime": {
     "end_time": "2020-04-02T18:08:32.933592Z",
     "start_time": "2020-04-02T18:08:29.933698Z"
    }
   },
   "outputs": [
    {
     "name": "stdout",
     "output_type": "stream",
     "text": [
      "2.1.0\n"
     ]
    }
   ],
   "source": [
    "import tensorflow as tf\n",
    "import numpy as np\n",
    "import matplotlib.pyplot as plt\n",
    "\n",
    "print(tf.__version__)"
   ]
  },
  {
   "cell_type": "markdown",
   "metadata": {},
   "source": [
    "# Homework 7 - Implementation"
   ]
  },
  {
   "cell_type": "markdown",
   "metadata": {},
   "source": [
    "## Reading\n",
    "\n",
    "1. Implementation\n",
    "Motivation: understand xNN implementation\n",
    "https://github.com/arthurredfern/UT-Dallas-CS-6301-CNNs/blob/master/Lectures/xNNs_070_Implementation.pdf\n",
    "\n",
    "__Completed__\n",
    "\n",
    "2. Efficient processing of deep neural networks: a tutorial and survey\n",
    "Motivation: an alternative presentation of xNN hardware circa 2017\n",
    "https://arxiv.org/abs/1703.09039\n",
    "\n",
    "__Completed__\n",
    "\n",
    "3. A new golden age for computer architecture\n",
    "Motivation: a very nice talk from the Turing award winners on the past and future of\n",
    "hardware and software, available in text and video form\n",
    "https://cacm.acm.org/magazines/2019/2/234352-a-new-golden-age-for-computer-architecture/fulltext\n",
    "https://www.youtube.com/watch?v=3LVeEjsn8Ts\n",
    "\n",
    "__Completed__\n"
   ]
  },
  {
   "cell_type": "markdown",
   "metadata": {},
   "source": [
    "## Theory\n",
    "\n",
    "4. Write out all of the terms of Strassen based matrix matrix multiplication for C = A B with BLAS dimensions M = N = K = 4 by applying the Strassen decomposition twice (an initial decomposition then a recursive decomposition). Use the following notation for the scalars in the 3 matrices\n",
    "\n",
    "\n",
    "<img src=\"img/hw7_p1.png\">\n",
    "\n",
    "Apologies for the un beautiful matrix formatting, but the above is meant to represent C = A B"
   ]
  },
  {
   "cell_type": "code",
   "execution_count": 54,
   "metadata": {
    "ExecuteTime": {
     "end_time": "2020-04-04T22:13:07.155700Z",
     "start_time": "2020-04-04T22:13:07.148718Z"
    }
   },
   "outputs": [],
   "source": [
    "def add_matr(A,B=None):\n",
    "    if B is None:\n",
    "        return A\n",
    "    dim = len(A)\n",
    "    C = [[0 for j in range(dim)] for i in range(dim)]\n",
    "    \n",
    "    for i in range(dim):\n",
    "        for j in range(dim):\n",
    "            C[i][j] = str(A[i][j])+ \"+\" + str(B[i][j])\n",
    "    return np.array(C)\n",
    "        \n",
    "def add(a,b=None):\n",
    "    if b is None:\n",
    "        return np.asscalar(a)\n",
    "    else:\n",
    "        return np.asscalar(a)+\"+\"+np.asscalar(b)"
   ]
  },
  {
   "cell_type": "code",
   "execution_count": 59,
   "metadata": {
    "ExecuteTime": {
     "end_time": "2020-04-04T22:14:58.935781Z",
     "start_time": "2020-04-04T22:14:58.923789Z"
    }
   },
   "outputs": [],
   "source": [
    "def strassen(mat_A, mat_B):\n",
    "    half = int(len(mat_A)/2)\n",
    "    A_00 = mat_A[:half, :half]\n",
    "    A_10 = mat_A[half:,:half]\n",
    "    A_01 = mat_A[:half,half:]\n",
    "    A_11 = mat_A[half:, half:]\n",
    "    B_00 = mat_B[:half, :half]\n",
    "    B_10 = mat_B[half:,:half]\n",
    "    B_01 = mat_B[:half,half:]\n",
    "    B_11 = mat_B[half:, half:]\n",
    "\n",
    "    partials = []\n",
    "    if half>1:\n",
    "        op=add_matr\n",
    "    else:\n",
    "        op=add\n",
    "    \n",
    "    partials.append([op(A_00, A_11), op(B_00, B_11)])\n",
    "    partials.append([op(A_10, A_11), op(B_00)])\n",
    "    partials.append([op(A_00), op(B_01, B_11)])\n",
    "    partials.append([op(A_11), op(B_10, B_00)])\n",
    "    partials.append([op(A_00, A_01), op(B_11)])\n",
    "    partials.append([op(A_10,A_00), op(B_00, B_01)])\n",
    "    partials.append([op(A_01, A_11), op(B_10, B_11)])\n",
    "    \n",
    "    \n",
    "    if half>1:\n",
    "        for i in range(7):\n",
    "            print(\"S\"+str(i+1))\n",
    "            print(np.array([[\"M1+M4-M5+M7\", \"M3+M5\"],[\"M2+M4\",\"M1-M2+M3+M6\"]]))\n",
    "            strassen(partials[i][0],partials[i][1])\n",
    "    else:\n",
    "        for i in range(7):\n",
    "            print(\"\\tM\"+str(i)+\" = (\"+partials[i][0]+\")*(\"+partials[i][1]+\")\")\n",
    "    "
   ]
  },
  {
   "cell_type": "code",
   "execution_count": 60,
   "metadata": {
    "ExecuteTime": {
     "end_time": "2020-04-04T22:14:59.283434Z",
     "start_time": "2020-04-04T22:14:59.275430Z"
    }
   },
   "outputs": [
    {
     "name": "stdout",
     "output_type": "stream",
     "text": [
      "S1\n",
      "[['M1+M4-M5+M7' 'M3+M5']\n",
      " ['M2+M4' 'M1-M2+M3+M6']]\n",
      "\tM0 = (A00+A22+A11+A33)*(B00+B22+B11+B33)\n",
      "\tM1 = (A10+A32+A11+A33)*(B00+B22)\n",
      "\tM2 = (A00+A22)*(B01+B23+B11+B33)\n",
      "\tM3 = (A11+A33)*(B10+B32+B00+B22)\n",
      "\tM4 = (A00+A22+A01+A23)*(B11+B33)\n",
      "\tM5 = (A10+A32+A00+A22)*(B00+B22+B01+B23)\n",
      "\tM6 = (A01+A23+A11+A33)*(B10+B32+B11+B33)\n",
      "S2\n",
      "[['M1+M4-M5+M7' 'M3+M5']\n",
      " ['M2+M4' 'M1-M2+M3+M6']]\n",
      "\tM0 = (A20+A22+A31+A33)*(B00+B11)\n",
      "\tM1 = (A30+A32+A31+A33)*(B00)\n",
      "\tM2 = (A20+A22)*(B01+B11)\n",
      "\tM3 = (A31+A33)*(B10+B00)\n",
      "\tM4 = (A20+A22+A21+A23)*(B11)\n",
      "\tM5 = (A30+A32+A20+A22)*(B00+B01)\n",
      "\tM6 = (A21+A23+A31+A33)*(B10+B11)\n",
      "S3\n",
      "[['M1+M4-M5+M7' 'M3+M5']\n",
      " ['M2+M4' 'M1-M2+M3+M6']]\n",
      "\tM0 = (A00+A11)*(B02+B22+B13+B33)\n",
      "\tM1 = (A10+A11)*(B02+B22)\n",
      "\tM2 = (A00)*(B03+B23+B13+B33)\n",
      "\tM3 = (A11)*(B12+B32+B02+B22)\n",
      "\tM4 = (A00+A01)*(B13+B33)\n",
      "\tM5 = (A10+A00)*(B02+B22+B03+B23)\n",
      "\tM6 = (A01+A11)*(B12+B32+B13+B33)\n",
      "S4\n",
      "[['M1+M4-M5+M7' 'M3+M5']\n",
      " ['M2+M4' 'M1-M2+M3+M6']]\n",
      "\tM0 = (A22+A33)*(B20+B00+B31+B11)\n",
      "\tM1 = (A32+A33)*(B20+B00)\n",
      "\tM2 = (A22)*(B21+B01+B31+B11)\n",
      "\tM3 = (A33)*(B30+B10+B20+B00)\n",
      "\tM4 = (A22+A23)*(B31+B11)\n",
      "\tM5 = (A32+A22)*(B20+B00+B21+B01)\n",
      "\tM6 = (A23+A33)*(B30+B10+B31+B11)\n",
      "S5\n",
      "[['M1+M4-M5+M7' 'M3+M5']\n",
      " ['M2+M4' 'M1-M2+M3+M6']]\n",
      "\tM0 = (A00+A02+A11+A13)*(B22+B33)\n",
      "\tM1 = (A10+A12+A11+A13)*(B22)\n",
      "\tM2 = (A00+A02)*(B23+B33)\n",
      "\tM3 = (A11+A13)*(B32+B22)\n",
      "\tM4 = (A00+A02+A01+A03)*(B33)\n",
      "\tM5 = (A10+A12+A00+A02)*(B22+B23)\n",
      "\tM6 = (A01+A03+A11+A13)*(B32+B33)\n",
      "S6\n",
      "[['M1+M4-M5+M7' 'M3+M5']\n",
      " ['M2+M4' 'M1-M2+M3+M6']]\n",
      "\tM0 = (A20+A00+A31+A11)*(B00+B02+B11+B13)\n",
      "\tM1 = (A30+A10+A31+A11)*(B00+B02)\n",
      "\tM2 = (A20+A00)*(B01+B03+B11+B13)\n",
      "\tM3 = (A31+A11)*(B10+B12+B00+B02)\n",
      "\tM4 = (A20+A00+A21+A01)*(B11+B13)\n",
      "\tM5 = (A30+A10+A20+A00)*(B00+B02+B01+B03)\n",
      "\tM6 = (A21+A01+A31+A11)*(B10+B12+B11+B13)\n",
      "S7\n",
      "[['M1+M4-M5+M7' 'M3+M5']\n",
      " ['M2+M4' 'M1-M2+M3+M6']]\n",
      "\tM0 = (A02+A22+A13+A33)*(B20+B22+B31+B33)\n",
      "\tM1 = (A12+A32+A13+A33)*(B20+B22)\n",
      "\tM2 = (A02+A22)*(B21+B23+B31+B33)\n",
      "\tM3 = (A13+A33)*(B30+B32+B20+B22)\n",
      "\tM4 = (A02+A22+A03+A23)*(B31+B33)\n",
      "\tM5 = (A12+A32+A02+A22)*(B20+B22+B21+B23)\n",
      "\tM6 = (A03+A23+A13+A33)*(B30+B32+B31+B33)\n"
     ]
    }
   ],
   "source": [
    "strassen(A,B)"
   ]
  },
  {
   "cell_type": "markdown",
   "metadata": {},
   "source": [
    "## Practice\n",
    "\n",
    "5. We’ve seen the importance of quantization to reducing memory, reducing data movement and increasing compute (with the same resources). To gain more experience with quantization, read the following introduction of post training quantization and its implementation in TensorFlow Lite and work through the following examples (though remember that quantization during training is better):\n",
    "\n",
    "• https://www.tensorflow.org/lite/performance/post_training_quantization\n",
    "\n",
    "• https://www.tensorflow.org/lite/performance/post_training_quant\n",
    "\n",
    "• https://www.tensorflow.org/lite/performance/post_training_integer_quant\n",
    "\n",
    "• https://www.tensorflow.org/lite/performance/post_training_float16_quant"
   ]
  },
  {
   "cell_type": "markdown",
   "metadata": {},
   "source": [
    "\n",
    "6. Creating tools to automate work is a common activity when working with xNNs. For this problem, you will build a tool to predict performance using a simplified network specification for a simplified hardware architecture specification. \n",
    "\n",
    "The network specification can come from scraping the graph of the network created by TensorFlow (preferred), or it can be hand specified as follows. Specify a network as a text file using the following to describe each layer (ID is a unique identifier like a unique number)"
   ]
  }
 ],
 "metadata": {
  "kernelspec": {
   "display_name": "Python [conda env:deep-learning]",
   "language": "python",
   "name": "conda-env-deep-learning-py"
  },
  "language_info": {
   "codemirror_mode": {
    "name": "ipython",
    "version": 3
   },
   "file_extension": ".py",
   "mimetype": "text/x-python",
   "name": "python",
   "nbconvert_exporter": "python",
   "pygments_lexer": "ipython3",
   "version": "3.7.6"
  },
  "toc": {
   "base_numbering": 1,
   "nav_menu": {},
   "number_sections": true,
   "sideBar": true,
   "skip_h1_title": false,
   "title_cell": "Table of Contents",
   "title_sidebar": "Contents",
   "toc_cell": false,
   "toc_position": {},
   "toc_section_display": true,
   "toc_window_display": false
  },
  "varInspector": {
   "cols": {
    "lenName": 16,
    "lenType": 16,
    "lenVar": 40
   },
   "kernels_config": {
    "python": {
     "delete_cmd_postfix": "",
     "delete_cmd_prefix": "del ",
     "library": "var_list.py",
     "varRefreshCmd": "print(var_dic_list())"
    },
    "r": {
     "delete_cmd_postfix": ") ",
     "delete_cmd_prefix": "rm(",
     "library": "var_list.r",
     "varRefreshCmd": "cat(var_dic_list()) "
    }
   },
   "types_to_exclude": [
    "module",
    "function",
    "builtin_function_or_method",
    "instance",
    "_Feature"
   ],
   "window_display": false
  }
 },
 "nbformat": 4,
 "nbformat_minor": 2
}
