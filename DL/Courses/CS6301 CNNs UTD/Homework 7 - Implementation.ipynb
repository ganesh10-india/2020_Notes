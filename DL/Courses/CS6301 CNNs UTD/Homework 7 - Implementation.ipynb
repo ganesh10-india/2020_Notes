{
 "cells": [
  {
   "cell_type": "code",
   "execution_count": 1,
   "metadata": {
    "ExecuteTime": {
     "end_time": "2020-04-02T18:08:32.933592Z",
     "start_time": "2020-04-02T18:08:29.933698Z"
    }
   },
   "outputs": [
    {
     "name": "stdout",
     "output_type": "stream",
     "text": [
      "2.1.0\n"
     ]
    }
   ],
   "source": [
    "import tensorflow as tf\n",
    "import numpy as np\n",
    "import matplotlib.pyplot as plt\n",
    "\n",
    "print(tf.__version__)"
   ]
  },
  {
   "cell_type": "markdown",
   "metadata": {},
   "source": [
    "# Homework 7 - Implementation"
   ]
  },
  {
   "cell_type": "markdown",
   "metadata": {},
   "source": [
    "## Reading\n",
    "\n",
    "1. Implementation\n",
    "Motivation: understand xNN implementation\n",
    "https://github.com/arthurredfern/UT-Dallas-CS-6301-CNNs/blob/master/Lectures/xNNs_070_Implementation.pdf\n",
    "\n",
    "__Completed__\n",
    "\n",
    "2. Efficient processing of deep neural networks: a tutorial and survey\n",
    "Motivation: an alternative presentation of xNN hardware circa 2017\n",
    "https://arxiv.org/abs/1703.09039\n",
    "\n",
    "__Completed__\n",
    "\n",
    "3. A new golden age for computer architecture\n",
    "Motivation: a very nice talk from the Turing award winners on the past and future of\n",
    "hardware and software, available in text and video form\n",
    "https://cacm.acm.org/magazines/2019/2/234352-a-new-golden-age-for-computer-architecture/fulltext\n",
    "https://www.youtube.com/watch?v=3LVeEjsn8Ts\n",
    "\n",
    "__Completed__\n"
   ]
  },
  {
   "cell_type": "markdown",
   "metadata": {},
   "source": [
    "## Theory\n",
    "\n",
    "4. Write out all of the terms of Strassen based matrix matrix multiplication for C = A B with BLAS dimensions M = N = K = 4 by applying the Strassen decomposition twice (an initial decomposition then a recursive decomposition). Use the following notation for the scalars in the 3 matrices\n",
    "\n",
    "\n",
    "<img src=\"img/hw7_p1.png\">\n",
    "\n",
    "Apologies for the un beautiful matrix formatting, but the above is meant to represent C = A B"
   ]
  },
  {
   "cell_type": "markdown",
   "metadata": {},
   "source": [
    "## Practice\n",
    "\n",
    "5. We’ve seen the importance of quantization to reducing memory, reducing data movement and increasing compute (with the same resources). To gain more experience with quantization, read the following introduction of post training quantization and its implementation in TensorFlow Lite and work through the following examples (though remember that quantization during training is better):\n",
    "\n",
    "• https://www.tensorflow.org/lite/performance/post_training_quantization\n",
    "\n",
    "• https://www.tensorflow.org/lite/performance/post_training_quant\n",
    "\n",
    "• https://www.tensorflow.org/lite/performance/post_training_integer_quant\n",
    "\n",
    "• https://www.tensorflow.org/lite/performance/post_training_float16_quant"
   ]
  },
  {
   "cell_type": "markdown",
   "metadata": {},
   "source": [
    "\n",
    "6. Creating tools to automate work is a common activity when working with xNNs. For this problem, you will build a tool to predict performance using a simplified network specification for a simplified hardware architecture specification. \n",
    "\n",
    "The network specification can come from scraping the graph of the network created by TensorFlow (preferred), or it can be hand specified as follows. Specify a network as a text file using the following to describe each layer (ID is a unique identifier like a unique number)"
   ]
  }
 ],
 "metadata": {
  "kernelspec": {
   "display_name": "Python [conda env:deep-learning]",
   "language": "python",
   "name": "conda-env-deep-learning-py"
  },
  "language_info": {
   "codemirror_mode": {
    "name": "ipython",
    "version": 3
   },
   "file_extension": ".py",
   "mimetype": "text/x-python",
   "name": "python",
   "nbconvert_exporter": "python",
   "pygments_lexer": "ipython3",
   "version": "3.7.6"
  },
  "toc": {
   "base_numbering": 1,
   "nav_menu": {},
   "number_sections": true,
   "sideBar": true,
   "skip_h1_title": false,
   "title_cell": "Table of Contents",
   "title_sidebar": "Contents",
   "toc_cell": false,
   "toc_position": {},
   "toc_section_display": true,
   "toc_window_display": false
  },
  "varInspector": {
   "cols": {
    "lenName": 16,
    "lenType": 16,
    "lenVar": 40
   },
   "kernels_config": {
    "python": {
     "delete_cmd_postfix": "",
     "delete_cmd_prefix": "del ",
     "library": "var_list.py",
     "varRefreshCmd": "print(var_dic_list())"
    },
    "r": {
     "delete_cmd_postfix": ") ",
     "delete_cmd_prefix": "rm(",
     "library": "var_list.r",
     "varRefreshCmd": "cat(var_dic_list()) "
    }
   },
   "types_to_exclude": [
    "module",
    "function",
    "builtin_function_or_method",
    "instance",
    "_Feature"
   ],
   "window_display": false
  }
 },
 "nbformat": 4,
 "nbformat_minor": 2
}
