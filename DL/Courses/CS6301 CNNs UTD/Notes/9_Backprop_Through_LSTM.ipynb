{
 "cells": [
  {
   "cell_type": "markdown",
   "metadata": {},
   "source": [
    "# Backpropagation through LSTM\n",
    "\n",
    "\n",
    "## Forward\n",
    "\n",
    "RNNs output a vector $H_t$ (In LSTMs, the hidden state is also the output) for a input Matrix $X$ with shape $(K,T)$. Here, $K$ is the number of features and $T$ is the number of timesteps.\n",
    "\n",
    "At each time step We take a vector from input matrix $X$ from and put it through __the same LSTM cell__. This is important, the same LSTM cell is used across the entire input. (without weights being updated between different time-steps)\n",
    "\n",
    "<img src=\"../img/lstm_explainer/lstm1.PNG\">\n",
    "\n",
    "\n",
    "\n",
    "### Implementation\n",
    "\n",
    "Note that the \n",
    "\n",
    "\n"
   ]
  },
  {
   "cell_type": "markdown",
   "metadata": {},
   "source": [
    "__In Code, this looks like__\n",
    "\n",
    "```\n",
    "for vector in input_matrix:\n",
    "    \n",
    "```\n",
    "\n",
    "Once we have an output vector $H_t$ we can compare it to the training data to calculate a loss value for each time-step. \n",
    "\n",
    "`for`"
   ]
  }
 ],
 "metadata": {
  "kernelspec": {
   "display_name": "Python [conda env:deep-learning]",
   "language": "python",
   "name": "conda-env-deep-learning-py"
  },
  "language_info": {
   "codemirror_mode": {
    "name": "ipython",
    "version": 3
   },
   "file_extension": ".py",
   "mimetype": "text/x-python",
   "name": "python",
   "nbconvert_exporter": "python",
   "pygments_lexer": "ipython3",
   "version": "3.7.6"
  },
  "toc": {
   "base_numbering": 1,
   "nav_menu": {},
   "number_sections": true,
   "sideBar": true,
   "skip_h1_title": false,
   "title_cell": "Table of Contents",
   "title_sidebar": "Contents",
   "toc_cell": false,
   "toc_position": {},
   "toc_section_display": true,
   "toc_window_display": false
  },
  "varInspector": {
   "cols": {
    "lenName": 16,
    "lenType": 16,
    "lenVar": 40
   },
   "kernels_config": {
    "python": {
     "delete_cmd_postfix": "",
     "delete_cmd_prefix": "del ",
     "library": "var_list.py",
     "varRefreshCmd": "print(var_dic_list())"
    },
    "r": {
     "delete_cmd_postfix": ") ",
     "delete_cmd_prefix": "rm(",
     "library": "var_list.r",
     "varRefreshCmd": "cat(var_dic_list()) "
    }
   },
   "types_to_exclude": [
    "module",
    "function",
    "builtin_function_or_method",
    "instance",
    "_Feature"
   ],
   "window_display": false
  }
 },
 "nbformat": 4,
 "nbformat_minor": 2
}
