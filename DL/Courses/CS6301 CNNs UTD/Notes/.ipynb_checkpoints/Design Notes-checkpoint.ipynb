{
 "cells": [
  {
   "cell_type": "markdown",
   "metadata": {},
   "source": [
    "# Neural Network Design\n",
    "\n",
    "[Source](https://github.com/arthurredfern/UT-Dallas-CS-6301-CNNs/blob/master/Lectures/xNNs_050_Design.pdf)\n",
    "\n",
    "## Keep your goals Simple\n",
    "- The simpler the task, the more training data there is. The more data, the better a NN will perform\n",
    "- Handle complex problems with a shallow combination of simple problems.\n",
    "\n",
    "## CNN Design Overview\n",
    "- CNN exploits spatial structure in data. correlations between loaclized regions of pixels.\n",
    "- Encoder (Tail & Body for feature extraction) + decoder (head for prediction)\n",
    "    - Commonly: Serial, Parallel, Dense, or Residual\n",
    "    \n",
    "- __Tail__- few specialized layers with weaker features and better localization.\n",
    "- __Body__ - layers that define the network. strong features with worse localization.\n",
    "- __Head__ - task specific layers that produce the output of the network\n",
    "\n",
    "\n",
    "### How CNNs work (Image Classification)\n",
    "\n",
    "Classification network inputs an image and ouputs a vector, whose largest elements are the predicted class.\n",
    "\n",
    "#### Head\n",
    "\n",
    "The __head__ estimates the dominant object in a specific region by using the feature vector in the corresponding region of the feature maps at the body ouput. \n",
    "- __Global average pooling__ will extract information from each feature map (presence of feature across all areas) and the head will use a linear combination of these global features to predict the dominant object of the image.\n",
    "\n",
    "Global average Pooling or vectorization can be used to conver the output of the body to a 1xN vector for input into the Linear layers of the head.\n",
    "\n",
    "GAP is more popular since it allows arbitrary sized input images and also reduces the computational complexity of the decoding phase.\n",
    "\n",
    "The __linear classifier__ uses softmax layer during training and argmax to select ouput during inference\n",
    "\n",
    "Different head designs can be created to accomplish different goals, and more than one head can be attached to the end of a tail and body.\n",
    "\n",
    "#### Tail and Body\n",
    "\n",
    "Tail and body transform entire regions of the input image to feature vectures across the ouput feature maps. The __receptive field__ is the area of pixels from the input that can be mapped to a feature vector output.\n",
    "\n",
    "##### Tail\n",
    "- High compute, high feature map memory low parameter memory, lots of spatial redundancy.\n",
    "- Aggressive down sampling and aggressive increase in number of channels.\n",
    "\n",
    "Common architectures:\n",
    "- conv (7,7) stride 2, 64 channels -> max pool (3x3) stride 2\n",
    "- conv(3,3) stride 2, 32 channels -> conv (3,3) s=1, c=64 -> conv(3,3) s=2, c=64\n",
    "\n",
    "\n",
    "##### Body\n",
    "Blocks followed by down-sampling. Gradual reduction in memory required for feature maps. Leads to a loss in spatial resolution (pooling throws out pixels) Increase in number of channels\n",
    "\n",
    "Common design practices:\n",
    "- reduce cols and rows by 1/2 and double the number of channels\n",
    "    - data volume shrinks by a factor of 2 (reduces compute by factor of 2)\n",
    "  \n",
    "#### Receptive field size at the head\n",
    "Shows the area of information that the classifier has to work with at inference. May affect images with higher resolution.\n",
    "\n",
    "__Calculation__\n",
    "1. Start at the output of the body and set r.f.=1\n",
    "2. Move backwards in network.\n",
    "3. Everytime you reach a filter, increase the receptive field size by F-1.\n",
    "4. Everytime you reach a down sample multiply the receptive field by S, then subtract by S -1\n"
   ]
  },
  {
   "cell_type": "markdown",
   "metadata": {},
   "source": [
    "### CNN Networks\n",
    "\n",
    "#### Serial\n",
    "Sequenctial set of IO ops (LeNer, AlexNet, VGG, MobileNet V1)\n",
    "- VGGNet introduced stacked 3x3 conv filters. Used vectorization at the head\n",
    "- MobileNet V1 uses cascade of 3x3 spatial and 1x1 channel convs. Utilized global avg pool at head.\n",
    "\n",
    "\n",
    "#### Parallel \n",
    "Input split -> parallel ops -> output combine. (GoogLeNet, Inception V3,V4, SqueezeNet)\n",
    "- GoogLeNet/Inceptions - parallel paths with different receptive field sizes referred to as inception modules\n",
    "\n",
    "#### Dense\n",
    "Input split into a trasformation path and an identity path. Results are concatenated (Adds width to the netwprk w/ features at different depths) (DenseNet)\n",
    "\n",
    "#### Residual\n",
    "Instead of concat as in DenseNet perform an add on the two splits."
   ]
  },
  {
   "cell_type": "markdown",
   "metadata": {},
   "source": [
    "### Notes for Vision Optimized CNNs\n",
    "- Target a feature size of 6-8x6-8 before GAP\n",
    "- Early body blocks will have a high compute cost, while late blocks will require more memory."
   ]
  },
  {
   "cell_type": "code",
   "execution_count": 2,
   "metadata": {
    "ExecuteTime": {
     "end_time": "2020-02-27T02:44:54.538848Z",
     "start_time": "2020-02-27T02:44:49.538995Z"
    }
   },
   "outputs": [],
   "source": [
    "#GETTING THE CIFAR DATASET READY FOR EXPERIMENTATION\n",
    "import tensorflow_datasets as tfds\n",
    "import tensorflow as     tf\n",
    "import math\n",
    "import numpy             as np\n",
    "import matplotlib.pyplot as plt"
   ]
  },
  {
   "cell_type": "code",
   "execution_count": 3,
   "metadata": {
    "ExecuteTime": {
     "end_time": "2020-02-27T02:44:54.597692Z",
     "start_time": "2020-02-27T02:44:54.557798Z"
    }
   },
   "outputs": [],
   "source": [
    "DATA_NUM_CLASSES        = 10\n",
    "DATA_CHANNELS           = 3\n",
    "DATA_ROWS               = 32\n",
    "DATA_COLS               = 32\n",
    "DATA_CROP_ROWS          = 28\n",
    "DATA_CROP_COLS          = 28\n",
    "DATA_MEAN               = np.array([[[125.30691805, 122.95039414, 113.86538318]]]) # CIFAR10\n",
    "DATA_STD_DEV            = np.array([[[ 62.99321928,  62.08870764,  66.70489964]]]) # CIFAR10\n",
    "\n",
    "# model\n",
    "MODEL_LEVEL_0_BLOCKS    = 4\n",
    "MODEL_LEVEL_1_BLOCKS    = 6\n",
    "MODEL_LEVEL_2_BLOCKS    = 3\n",
    "\n",
    "# training\n",
    "TRAINING_BATCH_SIZE      = 128\n",
    "TRAINING_SHUFFLE_BUFFER  = 5000\n",
    "TRAINING_BN_MOMENTUM     = 0.9\n",
    "TRAINING_BN_EPSILON      = 0.001\n",
    "\n",
    "TRAINING_LR_MAX          = 0.001\n",
    "# TRAINING_LR_SCALE        = 0.1\n",
    "# TRAINING_LR_EPOCHS       = 2\n",
    "TRAINING_LR_INIT_SCALE   = 0.01\n",
    "TRAINING_LR_INIT_EPOCHS  = 5\n",
    "TRAINING_LR_FINAL_SCALE  = 0.01\n",
    "TRAINING_LR_FINAL_EPOCHS = 25\n",
    "\n",
    "# training (derived)\n",
    "TRAINING_NUM_EPOCHS = TRAINING_LR_INIT_EPOCHS + TRAINING_LR_FINAL_EPOCHS\n",
    "TRAINING_LR_INIT    = TRAINING_LR_MAX*TRAINING_LR_INIT_SCALE\n",
    "TRAINING_LR_FINAL   = TRAINING_LR_MAX*TRAINING_LR_FINAL_SCALE\n",
    "\n",
    "# saving\n",
    "SAVE_MODEL_PATH = 'F://Models/Model_Design/'\n",
    "\n",
    "def pre_processing_train(example):\n",
    "    image = example[\"image\"]\n",
    "    label = example[\"label\"]\n",
    "    image = tf.math.divide(tf.math.subtract(tf.dtypes.cast(image, tf.float32), DATA_MEAN), DATA_STD_DEV)\n",
    "    image = tf.image.random_flip_left_right(image)\n",
    "    image = tf.image.random_crop(image, size=[DATA_CROP_ROWS, DATA_CROP_COLS, 3])\n",
    "    label = tf.dtypes.cast(label, tf.int32)\n",
    "    return image, label\n",
    "\n",
    "def pre_processing_test(example):\n",
    "    image = example[\"image\"]\n",
    "    label = example[\"label\"]\n",
    "    image = tf.math.divide(tf.math.subtract(tf.dtypes.cast(image, tf.float32), DATA_MEAN), DATA_STD_DEV)\n",
    "    image = tf.image.crop_to_bounding_box(image, (DATA_ROWS - DATA_CROP_ROWS) // 2, (DATA_COLS - DATA_CROP_COLS) // 2, DATA_CROP_ROWS, DATA_CROP_COLS)\n",
    "    label = tf.dtypes.cast(label, tf.int32)\n",
    "    return image, label\n",
    "\n",
    "# learning rate schedule\n",
    "def lr_schedule(epoch):\n",
    "\n",
    "    # staircase\n",
    "    # lr = TRAINING_LR_MAX*math.pow(TRAINING_LR_SCALE, math.floor(epoch/TRAINING_LR_EPOCHS))\n",
    "\n",
    "    # linear warmup followed by cosine decay\n",
    "    if epoch < TRAINING_LR_INIT_EPOCHS:\n",
    "        lr = (TRAINING_LR_MAX - TRAINING_LR_INIT)*(float(epoch)/TRAINING_LR_INIT_EPOCHS) + TRAINING_LR_INIT\n",
    "    else:\n",
    "        lr = (TRAINING_LR_MAX - TRAINING_LR_FINAL)*max(0.0, math.cos(((float(epoch) - TRAINING_LR_INIT_EPOCHS)/(TRAINING_LR_FINAL_EPOCHS - 1.0))*(math.pi/2.0))) + TRAINING_LR_FINAL\n",
    "\n",
    "    # debug - learning rate display\n",
    "    # print(epoch)\n",
    "    # print(lr)\n",
    "\n",
    "    return lr\n",
    "\n",
    "# plot training accuracy and loss curves\n",
    "def plot_training_curves(history):\n",
    "\n",
    "    # training and validation data accuracy\n",
    "    acc     = history.history['accuracy']\n",
    "    val_acc = history.history['val_accuracy']\n",
    "\n",
    "    # training and validation data loss\n",
    "    loss     = history.history['loss']\n",
    "    val_loss = history.history['val_loss']\n",
    "\n",
    "    # plot accuracy\n",
    "    plt.figure(figsize=(8, 8))\n",
    "    plt.subplot(2, 1, 1)\n",
    "    plt.plot(acc, label='Training Accuracy')\n",
    "    plt.plot(val_acc, label='Validation Accuracy')\n",
    "    plt.legend(loc='lower right')\n",
    "    plt.ylabel('Accuracy')\n",
    "    plt.ylim([min(plt.ylim()), 1])\n",
    "    plt.title('Training and Validation Accuracy')\n",
    "\n",
    "    # plot loss\n",
    "    plt.subplot(2, 1, 2)\n",
    "    plt.plot(loss, label='Training Loss')\n",
    "    plt.plot(val_loss, label='Validation Loss')\n",
    "    plt.legend(loc='upper right')\n",
    "    plt.ylabel('Cross Entropy')\n",
    "    plt.ylim([0, 2.0])\n",
    "    plt.title('Training and Validation Loss')\n",
    "    plt.xlabel('epoch')\n",
    "    plt.show()\n",
    "\n",
    "\n",
    "def benchmark(MODEL, model_name, logs=False):\n",
    "    print(\"######################################################\")\n",
    "    print(model_name)\n",
    "    print(\"######################################################\")\n",
    "    \n",
    "    callbacks = [tf.keras.callbacks.LearningRateScheduler(lr_schedule),\n",
    "                 tf.keras.callbacks.ModelCheckpoint(filepath=str(SAVE_MODEL_PATH)+model_name+'/', \n",
    "                                                    save_best_only=True, \n",
    "                                                    monitor='val_loss', \n",
    "                                                    verbose=0)]\n",
    "    # training\n",
    "    initial_epoch_num = 0\n",
    "    print(\"Training model {}...\".format(model_name))\n",
    "    history  = MODEL.fit(x=dataset_train, \n",
    "                          epochs=TRAINING_NUM_EPOCHS, \n",
    "                          verbose=logs, \n",
    "                          callbacks=callbacks, \n",
    "                          validation_data=dataset_test,                               \n",
    "                          initial_epoch=initial_epoch_num)\n",
    "\n",
    "    print(\"Training complete.\")\n",
    "    # plot accuracy and loss curves\n",
    "    plot_training_curves(history)\n",
    "\n",
    "    # test\n",
    "    test_loss, test_accuracy = MODEL.evaluate(x=dataset_test)\n",
    "    print('Test loss:     ', test_loss)\n",
    "    print('Test accuracy: ', test_accuracy)\n",
    "    return history"
   ]
  },
  {
   "cell_type": "code",
   "execution_count": 4,
   "metadata": {
    "ExecuteTime": {
     "end_time": "2020-02-27T02:44:57.187783Z",
     "start_time": "2020-02-27T02:44:54.620661Z"
    }
   },
   "outputs": [],
   "source": [
    "# download data and split into training and testing datasets\n",
    "dataset_train, info = tfds.load(\"cifar10\", split=tfds.Split.TRAIN, with_info=True)\n",
    "dataset_test,  info = tfds.load(\"cifar10\", split=tfds.Split.TEST,  with_info=True)\n",
    "\n",
    "dataset_train = dataset_train.map(pre_processing_train, num_parallel_calls=4)\n",
    "dataset_train = dataset_train.shuffle(buffer_size=TRAINING_SHUFFLE_BUFFER)\n",
    "dataset_train = dataset_train.batch(TRAINING_BATCH_SIZE)\n",
    "dataset_train = dataset_train.prefetch(buffer_size=3)\n",
    "\n",
    "# transform testing dataset\n",
    "dataset_test = dataset_test.map(pre_processing_test, num_parallel_calls=4)\n",
    "dataset_test = dataset_test.batch(TRAINING_BATCH_SIZE)\n",
    "dataset_test = dataset_test.prefetch(buffer_size=3)"
   ]
  },
  {
   "cell_type": "code",
   "execution_count": 5,
   "metadata": {
    "ExecuteTime": {
     "end_time": "2020-02-27T02:44:58.006590Z",
     "start_time": "2020-02-27T02:44:57.206712Z"
    }
   },
   "outputs": [
    {
     "name": "stdout",
     "output_type": "stream",
     "text": [
      "tf.Tensor(\n",
      "[[[[ 0.40787065  0.45176664  0.4967343 ]\n",
      "   [ 0.8682377   1.0637943   1.1413646 ]\n",
      "   [ 0.91586185  0.7255684   0.55669993]\n",
      "   ...\n",
      "   [ 1.074609    1.4342319   1.606098  ]\n",
      "   [ 1.0587344   1.4342319   1.6960465 ]\n",
      "   [ 1.0428597   1.4342319   1.6810551 ]]\n",
      "\n",
      "  [[ 0.7888641   0.9188403   0.91649354]\n",
      "   [ 1.1857321   1.4503379   1.5461324 ]\n",
      "   [ 0.7412399   0.6611445   0.60167414]\n",
      "   ...\n",
      "   [ 1.1698575   1.4503379   1.5611238 ]\n",
      "   [ 1.1063585   1.4342319   1.606098  ]\n",
      "   [ 1.1222333   1.4342319   1.7260293 ]]\n",
      "\n",
      "  [[ 0.26499814  0.41955465  0.43676868]\n",
      "   [ 1.1222333   1.40202     1.5461324 ]\n",
      "   [ 0.6301168   0.69335645  0.7515881 ]\n",
      "   ...\n",
      "   [ 1.1539828   1.305384    1.3512442 ]\n",
      "   [ 1.1698575   1.4342319   1.4262012 ]\n",
      "   [ 1.0428597   1.257066    1.30627   ]]\n",
      "\n",
      "  ...\n",
      "\n",
      "  [[ 1.1539828   1.4825499   1.4711754 ]\n",
      "   [ 1.2492311   1.257066    1.1713474 ]\n",
      "   [ 0.9476113   0.8866283   0.7515881 ]\n",
      "   ...\n",
      "   [ 1.0111102   1.1926421   1.2912786 ]\n",
      "   [ 1.0269849   1.1765361   1.3212614 ]\n",
      "   [ 0.97936076  1.2087481   1.381227  ]]\n",
      "\n",
      "  [[ 0.83648825  0.9993702   0.90150213]\n",
      "   [ 0.6936157   0.8060984   0.61666554]\n",
      "   [ 0.8206135   0.90273434  0.8415365 ]\n",
      "   ...\n",
      "   [ 1.0904838   1.32149     1.531141  ]\n",
      "   [ 1.1539828   1.4342319   1.7110379 ]\n",
      "   [ 1.1539828   1.4825499   1.7410207 ]]\n",
      "\n",
      "  [[ 0.47136956  0.5322966   0.58668274]\n",
      "   [ 0.80473876  1.0154762   1.1863388 ]\n",
      "   [ 1.0269849   1.40202     1.6210895 ]\n",
      "   ...\n",
      "   [ 1.138108    1.5147619   1.606098  ]\n",
      "   [ 1.0428597   1.4825499   1.6360809 ]\n",
      "   [ 1.074609    1.4825499   1.6660637 ]]]\n",
      "\n",
      "\n",
      " [[[-1.7193425  -1.480952   -0.80751765]\n",
      "   [-0.43348977  0.0813289   0.4967343 ]\n",
      "   [-0.02074692  0.6128265   0.97645915]\n",
      "   ...\n",
      "   [-0.16361944  0.4839786   0.8565279 ]\n",
      "   [-0.35411614  0.12964687  0.5417085 ]\n",
      "   [-0.10012054  0.3873427   0.7665795 ]]\n",
      "\n",
      "  [[-1.7828414  -1.577588   -1.0173973 ]\n",
      "   [-0.89385676 -0.54680467 -0.01297336]\n",
      "   [-0.02074692  0.5161906   1.0364248 ]\n",
      "   ...\n",
      "   [-0.16361944  0.45176664  0.7965623 ]\n",
      "   [-0.49698865 -0.07973098  0.3168375 ]\n",
      "   [-0.11599527  0.30681273  0.6616397 ]]\n",
      "\n",
      "  [[-1.687593   -1.561482   -1.1673113 ]\n",
      "   [-1.2589755  -1.1427262  -0.6875864 ]\n",
      "   [ 0.0586267   0.43566066  0.99145055]\n",
      "   ...\n",
      "   [-0.17949417  0.37123668  0.6916225 ]\n",
      "   [-0.56048757 -0.20857888  0.15193206]\n",
      "   [-0.21124361  0.14575286  0.4667515 ]]\n",
      "\n",
      "  ...\n",
      "\n",
      "  [[-0.4017403  -0.3374268  -0.20786159]\n",
      "   [-0.36999086 -0.3374268  -0.2378444 ]\n",
      "   [-0.3858656  -0.3374268  -0.25283578]\n",
      "   ...\n",
      "   [-0.4017403  -0.3374268  -0.2828186 ]\n",
      "   [-0.43348977 -0.3374268  -0.29781   ]\n",
      "   [-0.41761506 -0.30521482 -0.3427842 ]]\n",
      "\n",
      "  [[-0.32236668 -0.27300283 -0.13290457]\n",
      "   [-0.30649197 -0.27300283 -0.19287018]\n",
      "   [-0.29061726 -0.24079087 -0.16288738]\n",
      "   ...\n",
      "   [-0.32236668 -0.27300283 -0.14789598]\n",
      "   [-0.35411614 -0.24079087 -0.13290457]\n",
      "   [-0.3858656  -0.25689685 -0.20786159]]\n",
      "\n",
      "  [[-0.33824143 -0.27300283 -0.14789598]\n",
      "   [-0.32236668 -0.27300283 -0.17787878]\n",
      "   [-0.30649197 -0.25689685 -0.14789598]\n",
      "   ...\n",
      "   [-0.29061726 -0.24079087 -0.07293897]\n",
      "   [-0.33824143 -0.25689685 -0.07293897]\n",
      "   [-0.36999086 -0.25689685 -0.13290457]]]\n",
      "\n",
      "\n",
      " [[[ 1.2492311   1.385914    0.97645915]\n",
      "   [ 1.2492311   1.385914    0.97645915]\n",
      "   [ 1.2492311   1.385914    0.97645915]\n",
      "   ...\n",
      "   [-1.3700986  -1.416528   -1.2272769 ]\n",
      "   [-1.4494722  -1.4970579  -1.3022339 ]\n",
      "   [-1.5605953  -1.577588   -1.377191  ]]\n",
      "\n",
      "  [[ 1.2492311   1.385914    0.97645915]\n",
      "   [ 1.2492311   1.385914    0.97645915]\n",
      "   [ 1.2492311   1.385914    0.97645915]\n",
      "   ...\n",
      "   [-0.8303579  -0.8850304  -0.73256063]\n",
      "   [-1.1319777  -1.1749382  -1.0024059 ]\n",
      "   [-1.4177227  -1.432634   -1.2572597 ]]\n",
      "\n",
      "  [[ 1.2651058   1.40202     0.96146774]\n",
      "   [ 1.2492311   1.385914    0.96146774]\n",
      "   [ 1.2492311   1.40202     0.97645915]\n",
      "   ...\n",
      "   [ 0.32849702  0.19407082  0.28685468]\n",
      "   [-0.7033601  -0.7722885  -0.6276208 ]\n",
      "   [-1.6082194  -1.6259059  -1.4371566 ]]\n",
      "\n",
      "  ...\n",
      "\n",
      "  [[ 1.2492311   1.4664439   0.6916225 ]\n",
      "   [ 0.8999871   1.0315822   1.3512442 ]\n",
      "   [-0.86210734 -0.5629106   0.99145055]\n",
      "   ...\n",
      "   [ 1.2968552   1.4986559   1.006442  ]\n",
      "   [ 1.2809805   1.4825499   1.1113818 ]\n",
      "   [ 1.2809805   1.385914    0.8865107 ]]\n",
      "\n",
      "  [[ 1.0428597   1.337596    1.0664076 ]\n",
      "   [-0.4017403  -0.1924729   0.8715193 ]\n",
      "   [-1.3859732  -1.0944083   0.58668274]\n",
      "   ...\n",
      "   [ 1.31273     1.4664439   0.99145055]\n",
      "   [ 1.1857321   1.369808    0.96146774]\n",
      "   [ 1.2333564   1.353702    0.94647634]]\n",
      "\n",
      "  [[ 0.0586267   0.37123668  1.2013302 ]\n",
      "   [-1.3383491  -0.9816663   0.61666554]\n",
      "   [-0.73510957 -0.4823807   0.63165694]\n",
      "   ...\n",
      "   [ 1.2809805   1.418126    0.94647634]\n",
      "   [ 1.0587344   1.2409601   0.8115537 ]\n",
      "   [ 0.97936076  1.1121122   0.8715193 ]]]\n",
      "\n",
      "\n",
      " ...\n",
      "\n",
      "\n",
      " [[[-1.9574634  -1.9802376  -1.3921824 ]\n",
      "   [-1.9574634  -1.9802376  -1.377191  ]\n",
      "   [-1.9574634  -1.9802376  -1.3621995 ]\n",
      "   ...\n",
      "   [-1.9733381  -1.9802376  -1.4371566 ]\n",
      "   [-1.9733381  -1.9802376  -1.4371566 ]\n",
      "   [-1.9733381  -1.9802376  -1.452148  ]]\n",
      "\n",
      "  [[-1.9574634  -1.9641316  -1.3621995 ]\n",
      "   [-1.9574634  -1.9641316  -1.3472081 ]\n",
      "   [-1.9415886  -1.9802376  -1.3322167 ]\n",
      "   ...\n",
      "   [-1.9733381  -1.9802376  -1.4371566 ]\n",
      "   [-1.9733381  -1.9802376  -1.4371566 ]\n",
      "   [-1.9733381  -1.9802376  -1.452148  ]]\n",
      "\n",
      "  [[-1.9892129  -1.9480257  -1.3322167 ]\n",
      "   [-1.9892129  -1.9641316  -1.3172253 ]\n",
      "   [-1.9733381  -1.9802376  -1.3172253 ]\n",
      "   ...\n",
      "   [-1.9733381  -1.9802376  -1.4371566 ]\n",
      "   [-1.9733381  -1.9802376  -1.4371566 ]\n",
      "   [-1.9733381  -1.9802376  -1.452148  ]]\n",
      "\n",
      "  ...\n",
      "\n",
      "  [[-1.9733381  -1.9802376  -1.4371566 ]\n",
      "   [-1.9733381  -1.9802376  -1.4221652 ]\n",
      "   [-1.9733381  -1.9802376  -1.4071738 ]\n",
      "   ...\n",
      "   [-1.9733381  -1.9641316  -1.4371566 ]\n",
      "   [-1.9892129  -1.9641316  -1.4371566 ]\n",
      "   [-1.9733381  -1.9802376  -1.452148  ]]\n",
      "\n",
      "  [[-1.9733381  -1.9802376  -1.4371566 ]\n",
      "   [-1.9733381  -1.9802376  -1.4371566 ]\n",
      "   [-1.9733381  -1.9641316  -1.4071738 ]\n",
      "   ...\n",
      "   [-1.9733381  -1.9641316  -1.4371566 ]\n",
      "   [-1.9892129  -1.9641316  -1.4371566 ]\n",
      "   [-1.9733381  -1.9802376  -1.4371566 ]]\n",
      "\n",
      "  [[-1.9733381  -1.9802376  -1.4371566 ]\n",
      "   [-1.9733381  -1.9802376  -1.4371566 ]\n",
      "   [-1.9733381  -1.9802376  -1.4221652 ]\n",
      "   ...\n",
      "   [-1.9733381  -1.9802376  -1.4371566 ]\n",
      "   [-1.9892129  -1.9641316  -1.4371566 ]\n",
      "   [-1.9733381  -1.9802376  -1.4371566 ]]]\n",
      "\n",
      "\n",
      " [[[-1.7193425   0.21017681  1.231313  ]\n",
      "   [-1.7034677   0.25849476  1.2762872 ]\n",
      "   [-1.7034677   0.27460077  1.2612958 ]\n",
      "   ...\n",
      "   [-1.6240941   0.3873427   1.3512442 ]\n",
      "   [-1.6399689   0.3551307   1.3212614 ]\n",
      "   [-1.6240941   0.3551307   1.3212614 ]]\n",
      "\n",
      "  [[-1.7034677   0.24238878  1.2463044 ]\n",
      "   [-1.6717184   0.27460077  1.2912786 ]\n",
      "   [-1.687593    0.29070675  1.2762872 ]\n",
      "   ...\n",
      "   [-1.6082194   0.40344867  1.3662356 ]\n",
      "   [-1.6082194   0.3873427   1.3512442 ]\n",
      "   [-1.6082194   0.3873427   1.3362528 ]]\n",
      "\n",
      "  [[-1.7034677   0.27460077  1.2612958 ]\n",
      "   [-1.687593    0.30681273  1.2762872 ]\n",
      "   [-1.6717184   0.32291874  1.2912786 ]\n",
      "   ...\n",
      "   [-1.6240941   0.45176664  1.3512442 ]\n",
      "   [-1.5923446   0.41955465  1.3512442 ]\n",
      "   [-1.6082194   0.40344867  1.3362528 ]]\n",
      "\n",
      "  ...\n",
      "\n",
      "  [[-1.1319777   0.06522291  0.7965623 ]\n",
      "   [-1.1319777   0.16185884  0.91649354]\n",
      "   [-1.2113513   0.33902472  1.1713474 ]\n",
      "   ...\n",
      "   [-1.1637272   0.6772505   1.5761153 ]\n",
      "   [-1.1637272   0.62893254  1.531141  ]\n",
      "   [-1.227226    0.6128265   1.5011582 ]]\n",
      "\n",
      "  [[-1.1796018  -0.6434406  -0.08793037]\n",
      "   [-1.0684788  -0.54680467  0.07697505]\n",
      "   [-1.0367293  -0.22468488  0.3468203 ]\n",
      "   ...\n",
      "   [-1.3224744   0.5967205   1.5611238 ]\n",
      "   [-1.3542238   0.56450856  1.531141  ]\n",
      "   [-1.401848    0.5161906   1.4861668 ]]\n",
      "\n",
      "  [[-0.2588678  -0.09583697  0.16692346]\n",
      "   [-0.48111394  0.25849476  0.8265451 ]\n",
      "   [-0.81448317 -0.01530703  0.6616397 ]\n",
      "   ...\n",
      "   [-0.78273374  0.82220435  1.5611238 ]\n",
      "   [-0.78273374  0.83831036  1.5611238 ]\n",
      "   [-0.7986084   0.82220435  1.5461324 ]]]\n",
      "\n",
      "\n",
      " [[[-0.7033601  -0.67565256 -0.49269822]\n",
      "   [-0.49698865 -0.4662747  -0.29781   ]\n",
      "   [ 0.02687725  0.06522291  0.19690627]\n",
      "   ...\n",
      "   [-1.401848   -1.3843161  -1.1523199 ]\n",
      "   [-1.9892129  -1.9802376  -1.7070018 ]\n",
      "   [-1.9733381  -1.9641316  -1.6920104 ]]\n",
      "\n",
      "  [[-1.751092   -1.7386478  -1.4821308 ]\n",
      "   [-1.7193425  -1.7064358  -1.452148  ]\n",
      "   [-1.6399689  -1.6259059  -1.377191  ]\n",
      "   ...\n",
      "   [-1.8939644  -1.8836017  -1.6170534 ]\n",
      "   [-1.9892129  -1.9802376  -1.7070018 ]\n",
      "   [-1.9733381  -1.9641316  -1.6920104 ]]\n",
      "\n",
      "  [[-1.9733381  -1.9641316  -1.6920104 ]\n",
      "   [-1.9733381  -1.9641316  -1.6920104 ]\n",
      "   [-1.9733381  -1.9641316  -1.6920104 ]\n",
      "   ...\n",
      "   [-1.9733381  -1.9641316  -1.6920104 ]\n",
      "   [-1.9733381  -1.9641316  -1.6920104 ]\n",
      "   [-1.9733381  -1.9641316  -1.6920104 ]]\n",
      "\n",
      "  ...\n",
      "\n",
      "  [[-1.9733381  -1.9641316  -1.6920104 ]\n",
      "   [-1.9574634  -1.9480257  -1.677019  ]\n",
      "   [-1.9733381  -1.9641316  -1.6920104 ]\n",
      "   ...\n",
      "   [-1.9574634  -1.9641316  -1.6620276 ]\n",
      "   [-1.9733381  -1.9641316  -1.6920104 ]\n",
      "   [-1.9733381  -1.9641316  -1.6920104 ]]\n",
      "\n",
      "  [[-1.9892129  -1.9802376  -1.7070018 ]\n",
      "   [-1.9892129  -1.9802376  -1.7070018 ]\n",
      "   [-1.9892129  -1.9802376  -1.7070018 ]\n",
      "   ...\n",
      "   [-1.9574634  -1.9641316  -1.677019  ]\n",
      "   [-1.9892129  -1.9802376  -1.7070018 ]\n",
      "   [-1.9892129  -1.9802376  -1.7070018 ]]\n",
      "\n",
      "  [[-1.7193425  -1.7064358  -1.452148  ]\n",
      "   [-1.5923446  -1.577588   -1.3322167 ]\n",
      "   [-1.6399689  -1.6259059  -1.377191  ]\n",
      "   ...\n",
      "   [-1.9733381  -1.9802376  -1.7070018 ]\n",
      "   [-1.9892129  -1.9802376  -1.7070018 ]\n",
      "   [-1.9892129  -1.9802376  -1.7070018 ]]]], shape=(128, 28, 28, 3), dtype=float32) tf.Tensor(\n",
      "[2 0 3 6 3 1 2 7 7 9 9 3 8 6 5 2 6 0 3 0 0 2 6 5 3 9 2 7 4 6 9 1 2 6 5 1 1\n",
      " 0 8 4 3 6 1 3 1 0 3 6 4 9 2 7 5 8 8 9 0 6 6 1 1 6 1 9 1 8 8 3 5 9 4 2 3 6\n",
      " 3 8 5 0 5 7 6 6 0 3 9 0 1 8 6 8 9 3 4 0 0 9 7 7 2 1 7 5 2 1 4 9 3 5 6 6 6\n",
      " 3 4 2 0 7 8 2 8 0 9 9 2 7 9 0 2 3], shape=(128,), dtype=int32)\n"
     ]
    }
   ],
   "source": [
    "for x, y in dataset_train.take(1):\n",
    "    print(x, y) #shapes:(32,28,28) (32,)"
   ]
  },
  {
   "cell_type": "code",
   "execution_count": null,
   "metadata": {},
   "outputs": [],
   "source": []
  },
  {
   "cell_type": "code",
   "execution_count": null,
   "metadata": {},
   "outputs": [],
   "source": []
  },
  {
   "cell_type": "markdown",
   "metadata": {},
   "source": [
    "## ResNet Architecture\n",
    "\n",
    "### Sources \n",
    "- [1](https://arxiv.org/pdf/1611.05431.pdf)\n",
    "- [2](https://arxiv.org/pdf/1512.03385.pdf)\n",
    "- [3](https://arxiv.org/pdf/1603.05027.pdf)\n",
    "\n",
    "### Notes\n",
    "[ResNet V1 Paper](https://arxiv.org/pdf/1512.03385.pdf)\n",
    "\n",
    "__Intuition behind Residual Connenction__\n",
    "\n",
    "*The degradation (of training accuracy) indicates that not\n",
    "all systems are similarly easy to optimize... There exists a solution by construction\n",
    "to the deeper model: the added layers are identity mapping,\n",
    "and the other layers are copied from the learned shallower\n",
    "model. The existence of this constructed solution indicates\n",
    "that a deeper model should produce no higher training error\n",
    "than its shallower counterpart.*\n",
    "\n",
    "*or unable to do so in feasible time).\n",
    "In this paper, we address the degradation problem by\n",
    "introducing a deep residual learning framework.... we let the stacked nonlinear\n",
    "layers fit another mapping of F(x) := H(x)−x. The original mapping is recast into F(x)+x. We hypothesize that it\n",
    "is easier to optimize the residual mapping than to optimize\n",
    "the original, unreferenced mapping. To the extreme, if an\n",
    "identity mapping were optimal, it would be easier to push\n",
    "the residual to zero than to fit an identity mapping by a stack\n",
    "of nonlinear layers.*\n",
    "\n",
    "*. With the residual learning reformulation, if identity mappings are optimal, the solvers\n",
    "may simply drive the weights of the multiple nonlinear layers toward zero to approach identity mappings.*"
   ]
  },
  {
   "cell_type": "code",
   "execution_count": 6,
   "metadata": {
    "ExecuteTime": {
     "end_time": "2020-02-27T02:46:19.586361Z",
     "start_time": "2020-02-27T02:46:19.572559Z"
    }
   },
   "outputs": [],
   "source": [
    "from tensorflow.keras.layers import *\n",
    "\n",
    "#RESNET V1\n",
    "conv_params = {\"padding\":'same',\n",
    "              \"use_bias\":False, #why? (Because the paper says so)\n",
    "              \"activation\":None}\n",
    "\n",
    "bn_params = {\"axis\":-1,\n",
    "             \"momentum\":TRAINING_BN_MOMENTUM, \n",
    "             \"epsilon\":TRAINING_BN_EPSILON, \n",
    "             \"center\":True, \n",
    "             \"scale\":True}\n",
    "\n",
    "def conv_block(filters, kernel_size=(3,3), strides=(1,1)):\n",
    "    model = tf.keras.Sequential()\n",
    "    model.add(Conv2D(filters, kernel_size, strides=strides, **conv_params))\n",
    "    model.add(BatchNormalization(**bn_params))\n",
    "    model.add(ReLU())\n",
    "    return model\n"
   ]
  },
  {
   "cell_type": "markdown",
   "metadata": {},
   "source": [
    "__What to do during down sampling__\n",
    "\n",
    "*The dimensions of x and F must be equal in Eqn.(1).\n",
    "If this is not the case (e.g., when changing the input/output\n",
    "channels), we can perform a __linear projection Ws__ by the\n",
    "shortcut connections to match the dimensions:\n",
    "y = F(x, {Wi}) + Wsx.*\n",
    "\n",
    "*The identity shortcuts (Eqn.(1)) can be directly used when the input and utput are of the same dimensions (solid line shortcuts in ig. 3). When the dimensions increase (dotted line shortcuts in Fig. 3), we consider two options: (A) The shortcut still performs identity mapping, with extra zero entries padded for increasing dimensions. This option introduces no extra parameter; (B) __The projection shortcut in Eqn.(2) is used to match dimensions (done by 1×1 convolutions)__. For both options, when the shortcuts go across feature maps of two sizes, they are performed with a stride of 2.*"
   ]
  },
  {
   "cell_type": "code",
   "execution_count": 36,
   "metadata": {
    "ExecuteTime": {
     "end_time": "2020-02-26T20:07:51.226731Z",
     "start_time": "2020-02-26T19:33:54.449310Z"
    }
   },
   "outputs": [
    {
     "name": "stdout",
     "output_type": "stream",
     "text": [
      "######################################################\n",
      "Plain ResNet\n",
      "######################################################\n",
      "Training model Plain ResNet...\n",
      "INFO:tensorflow:Assets written to: F://Models/Model_Design/Plain ResNet/assets\n"
     ]
    },
    {
     "name": "stderr",
     "output_type": "stream",
     "text": [
      "INFO:tensorflow:Assets written to: F://Models/Model_Design/Plain ResNet/assets\n"
     ]
    },
    {
     "name": "stdout",
     "output_type": "stream",
     "text": [
      "INFO:tensorflow:Assets written to: F://Models/Model_Design/Plain ResNet/assets\n"
     ]
    },
    {
     "name": "stderr",
     "output_type": "stream",
     "text": [
      "INFO:tensorflow:Assets written to: F://Models/Model_Design/Plain ResNet/assets\n"
     ]
    },
    {
     "name": "stdout",
     "output_type": "stream",
     "text": [
      "INFO:tensorflow:Assets written to: F://Models/Model_Design/Plain ResNet/assets\n"
     ]
    },
    {
     "name": "stderr",
     "output_type": "stream",
     "text": [
      "INFO:tensorflow:Assets written to: F://Models/Model_Design/Plain ResNet/assets\n"
     ]
    },
    {
     "name": "stdout",
     "output_type": "stream",
     "text": [
      "INFO:tensorflow:Assets written to: F://Models/Model_Design/Plain ResNet/assets\n"
     ]
    },
    {
     "name": "stderr",
     "output_type": "stream",
     "text": [
      "INFO:tensorflow:Assets written to: F://Models/Model_Design/Plain ResNet/assets\n"
     ]
    },
    {
     "name": "stdout",
     "output_type": "stream",
     "text": [
      "INFO:tensorflow:Assets written to: F://Models/Model_Design/Plain ResNet/assets\n"
     ]
    },
    {
     "name": "stderr",
     "output_type": "stream",
     "text": [
      "INFO:tensorflow:Assets written to: F://Models/Model_Design/Plain ResNet/assets\n"
     ]
    },
    {
     "name": "stdout",
     "output_type": "stream",
     "text": [
      "INFO:tensorflow:Assets written to: F://Models/Model_Design/Plain ResNet/assets\n"
     ]
    },
    {
     "name": "stderr",
     "output_type": "stream",
     "text": [
      "INFO:tensorflow:Assets written to: F://Models/Model_Design/Plain ResNet/assets\n"
     ]
    },
    {
     "name": "stdout",
     "output_type": "stream",
     "text": [
      "INFO:tensorflow:Assets written to: F://Models/Model_Design/Plain ResNet/assets\n"
     ]
    },
    {
     "name": "stderr",
     "output_type": "stream",
     "text": [
      "INFO:tensorflow:Assets written to: F://Models/Model_Design/Plain ResNet/assets\n"
     ]
    },
    {
     "name": "stdout",
     "output_type": "stream",
     "text": [
      "INFO:tensorflow:Assets written to: F://Models/Model_Design/Plain ResNet/assets\n"
     ]
    },
    {
     "name": "stderr",
     "output_type": "stream",
     "text": [
      "INFO:tensorflow:Assets written to: F://Models/Model_Design/Plain ResNet/assets\n"
     ]
    },
    {
     "name": "stdout",
     "output_type": "stream",
     "text": [
      "INFO:tensorflow:Assets written to: F://Models/Model_Design/Plain ResNet/assets\n"
     ]
    },
    {
     "name": "stderr",
     "output_type": "stream",
     "text": [
      "INFO:tensorflow:Assets written to: F://Models/Model_Design/Plain ResNet/assets\n"
     ]
    },
    {
     "name": "stdout",
     "output_type": "stream",
     "text": [
      "INFO:tensorflow:Assets written to: F://Models/Model_Design/Plain ResNet/assets\n"
     ]
    },
    {
     "name": "stderr",
     "output_type": "stream",
     "text": [
      "INFO:tensorflow:Assets written to: F://Models/Model_Design/Plain ResNet/assets\n"
     ]
    },
    {
     "name": "stdout",
     "output_type": "stream",
     "text": [
      "INFO:tensorflow:Assets written to: F://Models/Model_Design/Plain ResNet/assets\n"
     ]
    },
    {
     "name": "stderr",
     "output_type": "stream",
     "text": [
      "INFO:tensorflow:Assets written to: F://Models/Model_Design/Plain ResNet/assets\n"
     ]
    },
    {
     "name": "stdout",
     "output_type": "stream",
     "text": [
      "INFO:tensorflow:Assets written to: F://Models/Model_Design/Plain ResNet/assets\n"
     ]
    },
    {
     "name": "stderr",
     "output_type": "stream",
     "text": [
      "INFO:tensorflow:Assets written to: F://Models/Model_Design/Plain ResNet/assets\n"
     ]
    },
    {
     "name": "stdout",
     "output_type": "stream",
     "text": [
      "INFO:tensorflow:Assets written to: F://Models/Model_Design/Plain ResNet/assets\n"
     ]
    },
    {
     "name": "stderr",
     "output_type": "stream",
     "text": [
      "INFO:tensorflow:Assets written to: F://Models/Model_Design/Plain ResNet/assets\n"
     ]
    },
    {
     "name": "stdout",
     "output_type": "stream",
     "text": [
      "INFO:tensorflow:Assets written to: F://Models/Model_Design/Plain ResNet/assets\n"
     ]
    },
    {
     "name": "stderr",
     "output_type": "stream",
     "text": [
      "INFO:tensorflow:Assets written to: F://Models/Model_Design/Plain ResNet/assets\n"
     ]
    },
    {
     "name": "stdout",
     "output_type": "stream",
     "text": [
      "INFO:tensorflow:Assets written to: F://Models/Model_Design/Plain ResNet/assets\n"
     ]
    },
    {
     "name": "stderr",
     "output_type": "stream",
     "text": [
      "INFO:tensorflow:Assets written to: F://Models/Model_Design/Plain ResNet/assets\n"
     ]
    },
    {
     "name": "stdout",
     "output_type": "stream",
     "text": [
      "INFO:tensorflow:Assets written to: F://Models/Model_Design/Plain ResNet/assets\n"
     ]
    },
    {
     "name": "stderr",
     "output_type": "stream",
     "text": [
      "INFO:tensorflow:Assets written to: F://Models/Model_Design/Plain ResNet/assets\n"
     ]
    },
    {
     "name": "stdout",
     "output_type": "stream",
     "text": [
      "Training complete.\n"
     ]
    },
    {
     "data": {
      "image/png": "[encoded data removed]",
      "text/plain": [
       "<Figure size 576x576 with 2 Axes>"
      ]
     },
     "metadata": {
      "needs_background": "light"
     },
     "output_type": "display_data"
    },
    {
     "name": "stdout",
     "output_type": "stream",
     "text": [
      "     79/Unknown - 2s 24ms/step - loss: 0.3366 - accuracy: 0.9273Test loss:      0.3366017235985285\n",
      "Test accuracy:  0.9273\n"
     ]
    }
   ],
   "source": [
    "#################################################################\n",
    "#RESNET (Plain Network) \n",
    "#This isnt quite right as the OG paper puts the final ReLU \n",
    "#at each block after the add of shortcut and residual\n",
    "#################################################################\n",
    "model_input = Input(shape=(DATA_CROP_ROWS, DATA_CROP_COLS, DATA_CHANNELS), name='input_image')\n",
    "x = model_input\n",
    "x = Conv2D(32, (3,3), **conv_params)(x)\n",
    "\n",
    "for i in range(MODEL_LEVEL_0_BLOCKS):\n",
    "    resid = conv_block(32)(x)\n",
    "    resid = conv_block(32)(resid)\n",
    "    x = Add()([x,resid])\n",
    "    \n",
    "resid = conv_block(64, strides=(2,2))(x)\n",
    "resid = conv_block(64)(resid)\n",
    "x = Conv2D(64, (1,1), strides=(2,2), **conv_params)(x)\n",
    "x = Add()([x,resid])\n",
    "\n",
    "for i in range(MODEL_LEVEL_1_BLOCKS):\n",
    "    resid = conv_block(64)(x)\n",
    "    resid = conv_block(64)(resid)\n",
    "    x = Add()([x,resid])\n",
    "    \n",
    "resid = conv_block(128, strides=(2,2))(x)\n",
    "resid = conv_block(128)(resid)\n",
    "x = Conv2D(128, (1,1), strides=(2,2), **conv_params)(x)\n",
    "x = Add()([x,resid])\n",
    "\n",
    "    \n",
    "for i in range(MODEL_LEVEL_2_BLOCKS):\n",
    "    resid = conv_block(128)(x)\n",
    "    resid = conv_block(128)(resid)\n",
    "    x = Add()([x,resid])\n",
    "\n",
    "x = GlobalAveragePooling2D()(x)\n",
    "x = Dense(DATA_NUM_CLASSES, activation='softmax')(x)\n",
    "model_output=x\n",
    "\n",
    "resnet_plain = tf.keras.Model(inputs=model_input, outputs=model_output, name='resnet_plain')    \n",
    "resnet_plain.compile(optimizer=tf.keras.optimizers.Adam(TRAINING_LR_MAX), loss='sparse_categorical_crossentropy', metrics=['accuracy'])\n",
    "\n",
    "hist = benchmark(resnet_plain, 'Plain ResNet')"
   ]
  },
  {
   "cell_type": "markdown",
   "metadata": {},
   "source": [
    "*__Deeper Bottleneck Architectures__. Next we describe our\n",
    "deeper nets for ImageNet. Because of concerns on the training time that we can afford, we modify the building block\n",
    "as a bottleneck design4\n",
    ". For each residual function F, we\n",
    "use a stack of 3 layers instead of 2 (Fig. 5). The three layers\n",
    "are 1×1, 3×3, and 1×1 convolutions, where the 1×1 layers\n",
    "are responsible for reducing and then increasing (restoring)\n",
    "dimensions, leaving the 3×3 layer a bottleneck with smaller\n",
    "input/output dimensions. Fig. 5 shows an example, where\n",
    "both designs have similar time complexity.*\n",
    "\n",
    "[Optimizing Residual Block Architecture](https://arxiv.org/pdf/1603.05027.pdf)\n",
    "\n",
    "*(i) The feature xL of any deeper unit L can be represented as the\n",
    "feature xl of any shallower unit l plus a residual function in a form of $\\sum F,$*\n",
    "\n",
    "*The additive term of ∂E∂xL ensures that information isdirectly propagated back to any shallower unit l. Eqn.(5) also suggests that it is unlikely for the gradient ∂E ∂xl to be canceled out for a mini-batch, because in\n",
    "general the term ∂ ∂xl PL−1i=l F cannot be always -1 for all samples in a mini-batch. This implies that the gradient of a layer does not vanish even when the weights are arbitrarily small.*\n",
    "\n",
    "__TLDR__ Signals in both forward and backward pass can be passed directly from any layer to another (in the direction of the process)\n",
    "\n",
    "*We want to make f an identity mapping, which is done by re-arranging\n",
    "the activation functions (ReLU and/or BN). The original Residual Unit in [1]\n",
    "has a shape in Fig. 4(a) — BN is used after each weight layer, and ReLU is\n",
    "adopted after BN except that the last ReLU in a Residual Unit is after elementwise addition (f = ReLU). Fig. 4(b-e) show the alternatives we investigated,\n",
    "explained as following.*"
   ]
  },
  {
   "cell_type": "code",
   "execution_count": 46,
   "metadata": {
    "ExecuteTime": {
     "end_time": "2020-02-26T20:59:59.817501Z",
     "start_time": "2020-02-26T20:33:33.887943Z"
    },
    "scrolled": false
   },
   "outputs": [
    {
     "name": "stdout",
     "output_type": "stream",
     "text": [
      "######################################################\n",
      "resnet_deep\n",
      "######################################################\n",
      "Training model resnet_deep...\n",
      "INFO:tensorflow:Assets written to: F://Models/Model_Design/resnet_deep/assets\n"
     ]
    },
    {
     "name": "stderr",
     "output_type": "stream",
     "text": [
      "INFO:tensorflow:Assets written to: F://Models/Model_Design/resnet_deep/assets\n"
     ]
    },
    {
     "name": "stdout",
     "output_type": "stream",
     "text": [
      "INFO:tensorflow:Assets written to: F://Models/Model_Design/resnet_deep/assets\n"
     ]
    },
    {
     "name": "stderr",
     "output_type": "stream",
     "text": [
      "INFO:tensorflow:Assets written to: F://Models/Model_Design/resnet_deep/assets\n"
     ]
    },
    {
     "name": "stdout",
     "output_type": "stream",
     "text": [
      "INFO:tensorflow:Assets written to: F://Models/Model_Design/resnet_deep/assets\n"
     ]
    },
    {
     "name": "stderr",
     "output_type": "stream",
     "text": [
      "INFO:tensorflow:Assets written to: F://Models/Model_Design/resnet_deep/assets\n"
     ]
    },
    {
     "name": "stdout",
     "output_type": "stream",
     "text": [
      "INFO:tensorflow:Assets written to: F://Models/Model_Design/resnet_deep/assets\n"
     ]
    },
    {
     "name": "stderr",
     "output_type": "stream",
     "text": [
      "INFO:tensorflow:Assets written to: F://Models/Model_Design/resnet_deep/assets\n"
     ]
    },
    {
     "name": "stdout",
     "output_type": "stream",
     "text": [
      "INFO:tensorflow:Assets written to: F://Models/Model_Design/resnet_deep/assets\n"
     ]
    },
    {
     "name": "stderr",
     "output_type": "stream",
     "text": [
      "INFO:tensorflow:Assets written to: F://Models/Model_Design/resnet_deep/assets\n"
     ]
    },
    {
     "name": "stdout",
     "output_type": "stream",
     "text": [
      "INFO:tensorflow:Assets written to: F://Models/Model_Design/resnet_deep/assets\n"
     ]
    },
    {
     "name": "stderr",
     "output_type": "stream",
     "text": [
      "INFO:tensorflow:Assets written to: F://Models/Model_Design/resnet_deep/assets\n"
     ]
    },
    {
     "name": "stdout",
     "output_type": "stream",
     "text": [
      "INFO:tensorflow:Assets written to: F://Models/Model_Design/resnet_deep/assets\n"
     ]
    },
    {
     "name": "stderr",
     "output_type": "stream",
     "text": [
      "INFO:tensorflow:Assets written to: F://Models/Model_Design/resnet_deep/assets\n"
     ]
    },
    {
     "name": "stdout",
     "output_type": "stream",
     "text": [
      "INFO:tensorflow:Assets written to: F://Models/Model_Design/resnet_deep/assets\n"
     ]
    },
    {
     "name": "stderr",
     "output_type": "stream",
     "text": [
      "INFO:tensorflow:Assets written to: F://Models/Model_Design/resnet_deep/assets\n"
     ]
    },
    {
     "name": "stdout",
     "output_type": "stream",
     "text": [
      "INFO:tensorflow:Assets written to: F://Models/Model_Design/resnet_deep/assets\n"
     ]
    },
    {
     "name": "stderr",
     "output_type": "stream",
     "text": [
      "INFO:tensorflow:Assets written to: F://Models/Model_Design/resnet_deep/assets\n"
     ]
    },
    {
     "name": "stdout",
     "output_type": "stream",
     "text": [
      "INFO:tensorflow:Assets written to: F://Models/Model_Design/resnet_deep/assets\n"
     ]
    },
    {
     "name": "stderr",
     "output_type": "stream",
     "text": [
      "INFO:tensorflow:Assets written to: F://Models/Model_Design/resnet_deep/assets\n"
     ]
    },
    {
     "name": "stdout",
     "output_type": "stream",
     "text": [
      "INFO:tensorflow:Assets written to: F://Models/Model_Design/resnet_deep/assets\n"
     ]
    },
    {
     "name": "stderr",
     "output_type": "stream",
     "text": [
      "INFO:tensorflow:Assets written to: F://Models/Model_Design/resnet_deep/assets\n"
     ]
    },
    {
     "name": "stdout",
     "output_type": "stream",
     "text": [
      "INFO:tensorflow:Assets written to: F://Models/Model_Design/resnet_deep/assets\n"
     ]
    },
    {
     "name": "stderr",
     "output_type": "stream",
     "text": [
      "INFO:tensorflow:Assets written to: F://Models/Model_Design/resnet_deep/assets\n"
     ]
    },
    {
     "name": "stdout",
     "output_type": "stream",
     "text": [
      "INFO:tensorflow:Assets written to: F://Models/Model_Design/resnet_deep/assets\n"
     ]
    },
    {
     "name": "stderr",
     "output_type": "stream",
     "text": [
      "INFO:tensorflow:Assets written to: F://Models/Model_Design/resnet_deep/assets\n"
     ]
    },
    {
     "name": "stdout",
     "output_type": "stream",
     "text": [
      "INFO:tensorflow:Assets written to: F://Models/Model_Design/resnet_deep/assets\n"
     ]
    },
    {
     "name": "stderr",
     "output_type": "stream",
     "text": [
      "INFO:tensorflow:Assets written to: F://Models/Model_Design/resnet_deep/assets\n"
     ]
    },
    {
     "name": "stdout",
     "output_type": "stream",
     "text": [
      "INFO:tensorflow:Assets written to: F://Models/Model_Design/resnet_deep/assets\n"
     ]
    },
    {
     "name": "stderr",
     "output_type": "stream",
     "text": [
      "INFO:tensorflow:Assets written to: F://Models/Model_Design/resnet_deep/assets\n"
     ]
    },
    {
     "name": "stdout",
     "output_type": "stream",
     "text": [
      "INFO:tensorflow:Assets written to: F://Models/Model_Design/resnet_deep/assets\n"
     ]
    },
    {
     "name": "stderr",
     "output_type": "stream",
     "text": [
      "INFO:tensorflow:Assets written to: F://Models/Model_Design/resnet_deep/assets\n"
     ]
    },
    {
     "name": "stdout",
     "output_type": "stream",
     "text": [
      "INFO:tensorflow:Assets written to: F://Models/Model_Design/resnet_deep/assets\n"
     ]
    },
    {
     "name": "stderr",
     "output_type": "stream",
     "text": [
      "INFO:tensorflow:Assets written to: F://Models/Model_Design/resnet_deep/assets\n"
     ]
    },
    {
     "name": "stdout",
     "output_type": "stream",
     "text": [
      "INFO:tensorflow:Assets written to: F://Models/Model_Design/resnet_deep/assets\n"
     ]
    },
    {
     "name": "stderr",
     "output_type": "stream",
     "text": [
      "INFO:tensorflow:Assets written to: F://Models/Model_Design/resnet_deep/assets\n"
     ]
    },
    {
     "name": "stdout",
     "output_type": "stream",
     "text": [
      "INFO:tensorflow:Assets written to: F://Models/Model_Design/resnet_deep/assets\n"
     ]
    },
    {
     "name": "stderr",
     "output_type": "stream",
     "text": [
      "INFO:tensorflow:Assets written to: F://Models/Model_Design/resnet_deep/assets\n"
     ]
    },
    {
     "name": "stdout",
     "output_type": "stream",
     "text": [
      "INFO:tensorflow:Assets written to: F://Models/Model_Design/resnet_deep/assets\n"
     ]
    },
    {
     "name": "stderr",
     "output_type": "stream",
     "text": [
      "INFO:tensorflow:Assets written to: F://Models/Model_Design/resnet_deep/assets\n"
     ]
    },
    {
     "name": "stdout",
     "output_type": "stream",
     "text": [
      "INFO:tensorflow:Assets written to: F://Models/Model_Design/resnet_deep/assets\n"
     ]
    },
    {
     "name": "stderr",
     "output_type": "stream",
     "text": [
      "INFO:tensorflow:Assets written to: F://Models/Model_Design/resnet_deep/assets\n"
     ]
    },
    {
     "name": "stdout",
     "output_type": "stream",
     "text": [
      "INFO:tensorflow:Assets written to: F://Models/Model_Design/resnet_deep/assets\n"
     ]
    },
    {
     "name": "stderr",
     "output_type": "stream",
     "text": [
      "INFO:tensorflow:Assets written to: F://Models/Model_Design/resnet_deep/assets\n"
     ]
    },
    {
     "name": "stdout",
     "output_type": "stream",
     "text": [
      "INFO:tensorflow:Assets written to: F://Models/Model_Design/resnet_deep/assets\n"
     ]
    },
    {
     "name": "stderr",
     "output_type": "stream",
     "text": [
      "INFO:tensorflow:Assets written to: F://Models/Model_Design/resnet_deep/assets\n"
     ]
    },
    {
     "name": "stdout",
     "output_type": "stream",
     "text": [
      "INFO:tensorflow:Assets written to: F://Models/Model_Design/resnet_deep/assets\n"
     ]
    },
    {
     "name": "stderr",
     "output_type": "stream",
     "text": [
      "INFO:tensorflow:Assets written to: F://Models/Model_Design/resnet_deep/assets\n"
     ]
    },
    {
     "name": "stdout",
     "output_type": "stream",
     "text": [
      "INFO:tensorflow:Assets written to: F://Models/Model_Design/resnet_deep/assets\n"
     ]
    },
    {
     "name": "stderr",
     "output_type": "stream",
     "text": [
      "INFO:tensorflow:Assets written to: F://Models/Model_Design/resnet_deep/assets\n"
     ]
    },
    {
     "name": "stdout",
     "output_type": "stream",
     "text": [
      "INFO:tensorflow:Assets written to: F://Models/Model_Design/resnet_deep/assets\n"
     ]
    },
    {
     "name": "stderr",
     "output_type": "stream",
     "text": [
      "INFO:tensorflow:Assets written to: F://Models/Model_Design/resnet_deep/assets\n"
     ]
    },
    {
     "name": "stdout",
     "output_type": "stream",
     "text": [
      "INFO:tensorflow:Assets written to: F://Models/Model_Design/resnet_deep/assets\n"
     ]
    },
    {
     "name": "stderr",
     "output_type": "stream",
     "text": [
      "INFO:tensorflow:Assets written to: F://Models/Model_Design/resnet_deep/assets\n"
     ]
    },
    {
     "name": "stdout",
     "output_type": "stream",
     "text": [
      "Training complete.\n"
     ]
    },
    {
     "data": {
      "image/png": "[encoded data removed]",
      "text/plain": [
       "<Figure size 576x576 with 2 Axes>"
      ]
     },
     "metadata": {
      "needs_background": "light"
     },
     "output_type": "display_data"
    },
    {
     "name": "stdout",
     "output_type": "stream",
     "text": [
      "     79/Unknown - 2s 25ms/step - loss: 0.3416 - accuracy: 0.8880Test loss:      0.34156969482008415\n",
      "Test accuracy:  0.888\n"
     ]
    }
   ],
   "source": [
    "#################################################################\n",
    "#RESNET w/ BottleNecks\n",
    "#################################################################\n",
    "model_input = Input(shape=(DATA_CROP_ROWS, DATA_CROP_COLS, DATA_CHANNELS))\n",
    "x = model_input\n",
    "x = Conv2D(16, (3,3), **conv_params)(x)\n",
    "\n",
    "#INCREASE-DEPTH BOTTLENECK 16 -> 64\n",
    "#RESIDUAL PATH ->\n",
    "resid = BatchNormalization(**bn_params)(x)\n",
    "resid = ReLU()(resid)\n",
    "resid = conv_block(16,kernel_size=(1,1))(resid)\n",
    "resid = conv_block(16,kernel_size=(3,3))(resid)\n",
    "resid = Conv2D(64,1,strides=1,**conv_params)(resid)\n",
    "#SKIP CONNECTION <-\n",
    "x = Conv2D(64,1,strides=1,**conv_params)(x)\n",
    "#COMBINE\n",
    "x = Add()([x, resid])\n",
    "\n",
    "\n",
    "for i in range(MODEL_LEVEL_0_BLOCKS-1):\n",
    "    #RESIDUAL PATH ->\n",
    "    resid = BatchNormalization(**bn_params)(x)\n",
    "    resid = ReLU()(resid)\n",
    "    resid = conv_block(16,kernel_size=(1,1))(resid)\n",
    "    resid = conv_block(16,kernel_size=(3,3))(resid)\n",
    "    resid = Conv2D(64,1,strides=1,**conv_params)(resid)\n",
    "    #COMBINE\n",
    "    x = Add()([x, resid])\n",
    "        \n",
    "###########\n",
    "\n",
    "#Down sample INCREASE-DEPTH BOTTLENECK 64 -> 128\n",
    "#RESIDUAL PATH ->\n",
    "resid = BatchNormalization(**bn_params)(x)\n",
    "resid = ReLU()(resid)\n",
    "resid = conv_block(32, kernel_size=(1,1), strides=2)(resid)\n",
    "resid = conv_block(32, kernel_size=(3,3))(resid)\n",
    "resid = Conv2D(128, 1, **conv_params)(resid)\n",
    "#SKIP CONNECTION <-\n",
    "x = Conv2D(128, 1, strides=2,**conv_params)(x)\n",
    "#COMBINE\n",
    "x = Add()([x, resid])\n",
    "\n",
    "\n",
    "for i in range(MODEL_LEVEL_1_BLOCKS):\n",
    "    #RESIDUAL PATH ->\n",
    "    resid = BatchNormalization(**bn_params)(x)\n",
    "    resid = ReLU()(resid)\n",
    "    resid = conv_block(32,kernel_size=(1,1))(resid)\n",
    "    resid = conv_block(32,kernel_size=(3,3))(resid)\n",
    "    resid = Conv2D(128,1,strides=1,**conv_params)(resid)\n",
    "    #COMBINE\n",
    "    x = Add()([x, resid])\n",
    "\n",
    "    \n",
    "#############\n",
    "\n",
    "    \n",
    "#INCREASE-DEPTH BOTTLENECK 128 -> 256\n",
    "#RESIDUAL PATH ->\n",
    "resid = BatchNormalization(**bn_params)(x)\n",
    "resid = ReLU()(resid)\n",
    "resid = conv_block(64,kernel_size=(1,1),strides=2)(resid)\n",
    "resid = conv_block(64,kernel_size=(3,3))(resid)\n",
    "resid = Conv2D(256,1,**conv_params)(resid)\n",
    "#SKIP CONNECTION <-\n",
    "x = Conv2D(256,1,strides=2,**conv_params)(x)\n",
    "#COMBINE\n",
    "x = Add()([x, resid])\n",
    "\n",
    "for i in range(MODEL_LEVEL_2_BLOCKS):\n",
    "    #RESIDUAL PATH ->\n",
    "    resid = BatchNormalization(**bn_params)(x)\n",
    "    resid = ReLU()(resid)\n",
    "    resid = conv_block(64,kernel_size=(1,1))(resid)\n",
    "    resid = conv_block(64,kernel_size=(3,3))(resid)\n",
    "    resid = Conv2D(256,1,strides=1,**conv_params)(resid)\n",
    "    #COMBINE\n",
    "    x = Add()([x, resid])\n",
    "\n",
    "x = tf.keras.layers.BatchNormalization(**bn_params)(x)\n",
    "x = tf.keras.layers.ReLU()(x)\n",
    "##############    \n",
    "    \n",
    "x = GlobalAveragePooling2D()(x)\n",
    "x = Dense(DATA_NUM_CLASSES, activation='softmax')(x)\n",
    "model_output = x\n",
    "\n",
    "resnet_deep = tf.keras.Model(inputs=model_input, outputs=model_output, name='resnet_deep')    \n",
    "resnet_deep.compile(optimizer=tf.keras.optimizers.Adam(TRAINING_LR_MAX), loss='sparse_categorical_crossentropy', metrics=['accuracy'])\n",
    "\n",
    "hist = benchmark(resnet_deep, 'resnet_deep')"
   ]
  },
  {
   "cell_type": "markdown",
   "metadata": {},
   "source": [
    "## ResNext Architecture\n",
    "\n",
    "### Sources\n",
    "- [1](https://arxiv.org/pdf/1611.05431.pdf)\n",
    "\n",
    "\n",
    "*. Our network is constructed\n",
    "by repeating a building block that aggregates a set of transformations with the same topology. Our simple design results in a homogeneous, multi-branch architecture that has\n",
    "only a few hyper-parameters to set. This strategy exposes a\n",
    "new dimension, which we call “cardinality” (the size of the\n",
    "set of transformations), as an essential factor in addition to\n",
    "the dimensions of depth and width*\n",
    "\n",
    "*In this paper, we present a simple architecture which\n",
    "adopts VGG/ResNets’ strategy of repeating layers, while\n",
    "exploiting the split-transform-merge strategy in an easy, extensible way. A module in our network performs a set\n",
    "of transformations, each on a low-dimensional embedding,\n",
    "whose outputs are aggregated by summation. We pursuit a\n",
    "simple realization of this idea — the transformations to be\n",
    "aggregated are all of the same topology (e.g., Fig. 1 (right)).\n",
    "This design allows us to extend to any large number of\n",
    "transformations without specialized designs*\n"
   ]
  },
  {
   "cell_type": "code",
   "execution_count": null,
   "metadata": {},
   "outputs": [],
   "source": [
    "CARDINALITY = 3\n",
    "\n",
    "#################################################################\n",
    "#RESNEXT w/ BottleNecks\n",
    "#################################################################\n",
    "\n",
    "hist = benchmark(resnext, 'resnet_deep')"
   ]
  },
  {
   "cell_type": "code",
   "execution_count": null,
   "metadata": {},
   "outputs": [],
   "source": []
  },
  {
   "cell_type": "markdown",
   "metadata": {},
   "source": [
    "## MobileNet V2 Architecture\n",
    "\n",
    "- [1](https://arxiv.org/pdf/1801.04381.pdf)\n",
    "\n",
    "- [2](https://towardsdatascience.com/mobilenetv2-inverted-residuals-and-linear-bottlenecks-8a4362f4ffd5)\n",
    "\n",
    "__Main Contributions__\n",
    "- Depthwise Seperable Convolutions - reduce the computational complexity of a standard 2D Conv by replacing this layer with two layers. The first, a __3x3 depthwise convolution__ applying K kernels with each channel (where K is the number of input channels). Second, a __1x1 pointwise convolution__ to produce linear combinations of channel pixels.\n",
    "\n",
    "- Linear Bottlenecks - TLDR when you are compressing your representation with a convolutional operation, do not use a nonlinearity after the compression. (especially ReLU which throws out negative activations) Instead, make bottleneck layers linear operations.\n",
    "\n",
    "- Inverted Residuals"
   ]
  },
  {
   "cell_type": "code",
   "execution_count": 17,
   "metadata": {
    "ExecuteTime": {
     "end_time": "2020-02-27T02:55:28.430847Z",
     "start_time": "2020-02-27T02:55:28.417881Z"
    }
   },
   "outputs": [],
   "source": [
    "def inverted_residual(inputs, expand_channels, squeeze_channels, strides=(1,1)):\n",
    "    \"\"\"\n",
    "    inputs: Tensor- input to the first layer\n",
    "    expand_channels: int - depth of the channel dimension after expansion\n",
    "    squeeze_channels: int-depth of channel dimension after linear bottleneck\n",
    "    strides: tuple-strides for the first convolution\n",
    "    \n",
    "    \n",
    "    Inverted residual a la MobileNet V2 note the channel dimension will\n",
    "     be expanded by pointwise conv, processed with depthwise conv, then \n",
    "     compressed by a linear bottleneck\n",
    "    \"\"\"\n",
    "    x = Conv2D(expand_channels, (1, 1), strides=strides, padding='same')(inputs)\n",
    "    x = BatchNormalization(**bn_params)(x)\n",
    "    x = ReLU(max_value=6)(x)  # the paper uses a thresholded ReLU (3-bit output)\n",
    "    \n",
    "    x = DepthwiseConv2D((3,3), strides=(1,1), **conv_params)(x)\n",
    "    x = BatchNormalization(**bn_params)(x)\n",
    "    x = ReLU(max_value=6)(x)\n",
    "    \n",
    "    x = Conv2D(squeeze_channels, (1, 1), strides=(1, 1), padding='same')(x)\n",
    "    x = BatchNormalization(**bn_params)(x) #No activation here (Linear BottleNeck)\n",
    "    \n",
    "    if strides==(2,2): # maintain dimensions during downsampling\n",
    "        inputs = Conv2D(squeeze_channels, (1, 1), strides=strides, padding='same')(inputs)\n",
    "    \n",
    "    return Add()([x, inputs])"
   ]
  },
  {
   "cell_type": "code",
   "execution_count": null,
   "metadata": {
    "ExecuteTime": {
     "end_time": "2020-02-27T03:08:35.336676Z",
     "start_time": "2020-02-27T03:00:45.778895Z"
    }
   },
   "outputs": [],
   "source": [
    "#################################################################\n",
    "#mobilenet v2\n",
    "#################################################################\n",
    "model_input = Input(shape=(DATA_CROP_ROWS, DATA_CROP_COLS, DATA_CHANNELS))\n",
    "x = model_input\n",
    "x = Conv2D(16, (3,3), **conv_params)(x)\n",
    "\n",
    "#INCREASE-DEPTH BOTTLENECK 16 -> 64\n",
    "x = inverted_residual(x, 64, 16, strides=(1,1))\n",
    "\n",
    "for i in range(MODEL_LEVEL_0_BLOCKS-1):\n",
    "    x = inverted_residual(x, 64, 16, strides=(1,1))\n",
    "        \n",
    "###########\n",
    "\n",
    "#Down sample INCREASE-DEPTH BOTTLENECK 64 -> 128\n",
    "x = inverted_residual(x, 128, 64, strides=(2,2))\n",
    "\n",
    "for i in range(MODEL_LEVEL_1_BLOCKS):\n",
    "    #RESIDUAL PATH ->\n",
    "    x = inverted_residual(x, 128, 64, strides=(1,1))\n",
    "    \n",
    "#############\n",
    "\n",
    "    \n",
    "#INCREASE-DEPTH BOTTLENECK 128 -> 256\n",
    "x = inverted_residual(x, 256, 128, strides=(2,2))\n",
    "\n",
    "for i in range(MODEL_LEVEL_2_BLOCKS):\n",
    "    x = inverted_residual(x, 256, 128, strides=(1,1))\n",
    "\n",
    "x = Conv2D(256, (1, 1), strides=(1,1), padding='same')(x)\n",
    "##############    \n",
    "    \n",
    "x = GlobalAveragePooling2D()(x)\n",
    "x = Dense(DATA_NUM_CLASSES, activation='softmax')(x)\n",
    "model_output = x\n",
    "\n",
    "mobilenet_v2 = tf.keras.Model(inputs=model_input, outputs=model_output, name='mobilenet_v2')    \n",
    "mobilenet_v2.compile(optimizer=tf.keras.optimizers.Adam(TRAINING_LR_MAX), loss='sparse_categorical_crossentropy', metrics=['accuracy'])\n",
    "\n",
    "hist = benchmark(mobilenet_v2, 'mobilenet_v2')"
   ]
  },
  {
   "cell_type": "code",
   "execution_count": null,
   "metadata": {},
   "outputs": [],
   "source": []
  },
  {
   "cell_type": "markdown",
   "metadata": {},
   "source": [
    "# I am continuing this notebook in the Implementations directory."
   ]
  },
  {
   "cell_type": "code",
   "execution_count": null,
   "metadata": {},
   "outputs": [],
   "source": []
  }
 ],
 "metadata": {
  "kernelspec": {
   "display_name": "Python [conda env:deep-learning]",
   "language": "python",
   "name": "conda-env-deep-learning-py"
  },
  "language_info": {
   "codemirror_mode": {
    "name": "ipython",
    "version": 3
   },
   "file_extension": ".py",
   "mimetype": "text/x-python",
   "name": "python",
   "nbconvert_exporter": "python",
   "pygments_lexer": "ipython3",
   "version": "3.7.6"
  },
  "toc": {
   "base_numbering": 1,
   "nav_menu": {},
   "number_sections": true,
   "sideBar": true,
   "skip_h1_title": false,
   "title_cell": "Table of Contents",
   "title_sidebar": "Contents",
   "toc_cell": false,
   "toc_position": {},
   "toc_section_display": true,
   "toc_window_display": false
  },
  "varInspector": {
   "cols": {
    "lenName": 16,
    "lenType": 16,
    "lenVar": 40
   },
   "kernels_config": {
    "python": {
     "delete_cmd_postfix": "",
     "delete_cmd_prefix": "del ",
     "library": "var_list.py",
     "varRefreshCmd": "print(var_dic_list())"
    },
    "r": {
     "delete_cmd_postfix": ") ",
     "delete_cmd_prefix": "rm(",
     "library": "var_list.r",
     "varRefreshCmd": "cat(var_dic_list()) "
    }
   },
   "types_to_exclude": [
    "module",
    "function",
    "builtin_function_or_method",
    "instance",
    "_Feature"
   ],
   "window_display": false
  }
 },
 "nbformat": 4,
 "nbformat_minor": 2
}
