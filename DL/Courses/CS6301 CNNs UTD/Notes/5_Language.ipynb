{
 "cells": [
  {
   "cell_type": "code",
   "execution_count": 9,
   "metadata": {
    "ExecuteTime": {
     "end_time": "2020-04-23T18:14:36.918843Z",
     "start_time": "2020-04-23T18:14:36.544186Z"
    }
   },
   "outputs": [
    {
     "name": "stdout",
     "output_type": "stream",
     "text": [
      "2.1.0\n"
     ]
    }
   ],
   "source": [
    "import tensorflow as tf\n",
    "from tensorflow.keras import layers\n",
    "import tensorflow_datasets as tfds\n",
    "print(tf.__version__)"
   ]
  },
  {
   "cell_type": "markdown",
   "metadata": {
    "toc": true
   },
   "source": [
    "<h1>Table of Contents<span class=\"tocSkip\"></span></h1>\n",
    "<div class=\"toc\"><ul class=\"toc-item\"><li><span><a href=\"#Language\" data-toc-modified-id=\"Language-1\">Language</a></span><ul class=\"toc-item\"><li><span><a href=\"#Character-and-Word-Embeddings\" data-toc-modified-id=\"Character-and-Word-Embeddings-1.1\">Character and Word Embeddings</a></span><ul class=\"toc-item\"><li><span><a href=\"#Methods-of-Word-Embedding\" data-toc-modified-id=\"Methods-of-Word-Embedding-1.1.1\">Methods of Word Embedding</a></span><ul class=\"toc-item\"><li><span><a href=\"#SVD-Based-Word-Embeddings\" data-toc-modified-id=\"SVD-Based-Word-Embeddings-1.1.1.1\">SVD Based Word Embeddings</a></span></li><li><span><a href=\"#Word2Vec\" data-toc-modified-id=\"Word2Vec-1.1.1.2\">Word2Vec</a></span></li><li><span><a href=\"#Glove\" data-toc-modified-id=\"Glove-1.1.1.3\">Glove</a></span></li></ul></li></ul></li><li><span><a href=\"#Language-Models\" data-toc-modified-id=\"Language-Models-1.2\">Language Models</a></span><ul class=\"toc-item\"><li><span><a href=\"#Count-Based-N-Gram-Models\" data-toc-modified-id=\"Count-Based-N-Gram-Models-1.2.1\">Count Based N Gram Models</a></span></li><li><span><a href=\"#Neural-Language-Models\" data-toc-modified-id=\"Neural-Language-Models-1.2.2\">Neural Language Models</a></span></li><li><span><a href=\"#Evaluation\" data-toc-modified-id=\"Evaluation-1.2.3\">Evaluation</a></span></li></ul></li><li><span><a href=\"#Sentence-Embeddings\" data-toc-modified-id=\"Sentence-Embeddings-1.3\">Sentence Embeddings</a></span></li></ul></li><li><span><a href=\"#Code\" data-toc-modified-id=\"Code-2\">Code</a></span><ul class=\"toc-item\"><li><span><a href=\"#Word-Embeddings-(Tutorial)\" data-toc-modified-id=\"Word-Embeddings-(Tutorial)-2.1\">Word Embeddings (<a href=\"https://www.tensorflow.org/tutorials/text/word_embeddings\" target=\"_blank\">Tutorial</a>)</a></span><ul class=\"toc-item\"><li><span><a href=\"#Learning-Embeddings\" data-toc-modified-id=\"Learning-Embeddings-2.1.1\">Learning Embeddings</a></span></li></ul></li><li><span><a href=\"#Text-Generation-w-RNN-(Tutorial)\" data-toc-modified-id=\"Text-Generation-w-RNN-(Tutorial)-2.2\">Text Generation w RNN (<a href=\"https://www.tensorflow.org/tutorials/text/text_generation\" target=\"_blank\">Tutorial</a>)</a></span></li></ul></li></ul></div>"
   ]
  },
  {
   "cell_type": "markdown",
   "metadata": {},
   "source": [
    "# Language\n",
    "\n",
    "## Character and Word Embeddings\n",
    "\n",
    "__Character embeddings__ assign a vector for each character in a written language.\n",
    "\n",
    "__Word Embeddings__ assign a vector for each word. use dense vectors instead of One Hot Encoding (100-1000 dimension vector) Useful if vector assignment captures semantic meaning of words.\n",
    "\n",
    "__Distributional Hypothesis__ Words that appear in similar contexts have similar meaning. (Judege a word by the company it keeps) Every method that embeds words into a dense representation uses this assumption.\n",
    "\n",
    "### Methods of Word Embedding\n",
    "\n",
    "#### SVD Based Word Embeddings\n",
    "Use the contextual neighbors of a word to build a matrix representation of the language.(requires lots of data) Context can be a window of variable size (two neighbors or full document)\n",
    "\n",
    " Forms a matrix $X$ w/ unique words as rows and unique contexts as columns. Each entry is the probability or counts (sometimes smoothed) of a word being in a given context.\n",
    " \n",
    " Next $X$ is decomposed with SVD. \n",
    " $$X = U \\cdot S \\cdot V^T$$\n",
    " \n",
    "Decide the number of rows in $U$ and $V^T$, Each row of $U\\cdot S$ is a word embedding.\n",
    "\n",
    "#### Word2Vec\n",
    "\n",
    "creates a dense vector representation by predicting context igven word (skip-gram) or word given context (CBOW). Uses a two-layer neural network to learn the representation (two dense laters w/ hierarchical softmax)\n",
    "\n",
    "CBOW (word given context)\n",
    "- input is OHE word vector for each word in context\n",
    "- Embedding (Layer 1) is $NUM_WORDS\\times REPR_LENGTH$ representing the word embeddings\n",
    "- embedding (layer 2) is $REPR_LENGTH \\times NUM_WORDS$ context embeddings\n",
    "\n",
    "Skip Gram (context given word) \n",
    "\n",
    "Does a better job with infrequent words,\n",
    "slightly worse with small data sets, slightly\n",
    "better with large data sets\n",
    "- input is OHE vector with word\n",
    "\n",
    "Optimization methods: \n",
    "- Hierarchical softmax. (quicker computation for a softmax output with huge numbe of dimensions)\n",
    "- Negative sampling - only update a subset of all words for each sample (Predict is this in context YES/NO)\n",
    "- Sample inversely based on word frequency. (so rarer words can be processed more often)"
   ]
  },
  {
   "cell_type": "code",
   "execution_count": 4,
   "metadata": {
    "ExecuteTime": {
     "end_time": "2020-04-23T17:47:12.489868Z",
     "start_time": "2020-04-23T17:47:12.427036Z"
    }
   },
   "outputs": [],
   "source": [
    "#CBOW WORD2VEC\n",
    "WINDOW_SIZE = 5\n",
    "LANGUAGE_SIZE = 1000\n",
    "EMB_DIMENSIONS = 200\n",
    "\n",
    "#Matrix of OHE Vectors\n",
    "inputs = tf.keras.Input(shape=(LANGUAGE_SIZE, WINDOW_SIZE*2), batch_size=32)\n",
    "#WORD EMBEDDINGS (Lang_Size, emb_size)\n",
    "dense1 = tf.keras.layers.Dense(EMB_DIMENSIONS, activation=None)(inputs)\n",
    "#CONTEXT EMBEDDINGS (emb_size, Lang_Size)\n",
    "outputs = tf.keras.layers.Dense(LANGUAGE_SIZE, activation='softmax')(dense1)\n",
    "\n",
    "Word2Vec = tf.keras.Model(inputs=inputs, outputs=outputs) "
   ]
  },
  {
   "cell_type": "markdown",
   "metadata": {},
   "source": [
    "#### Glove\n",
    "\n",
    "Purpose is to combine statistical benefits of global matrix factorization methods with analogy benefits of context window based methods."
   ]
  },
  {
   "cell_type": "markdown",
   "metadata": {},
   "source": [
    "## Language Models\n",
    "\n",
    "Predict the Nth word in a N word sequence given the first N-1 words. Estimate the conditional probabilities $P(W_N|W_{N-1},...W_1)$"
   ]
  },
  {
   "cell_type": "markdown",
   "metadata": {},
   "source": [
    "### Count Based N Gram Models\n",
    "\n",
    "Assign probabilities based on counts of word cooccurences in a training dataset. Suffers from issues when a combo of words has not been seen before (count based approach gives this a zero probability since it hasnt been seen before)\n",
    "\n",
    "__Smoothing__ Distribute the probability masss function evenly across all input so there are no zero probability combinationsa of words.\n",
    "\n",
    "__Backoff__ Use N-2 sequence of last words if N-1 sequence has never been seen before. If N-2 has never been seen before, continue recursively."
   ]
  },
  {
   "cell_type": "markdown",
   "metadata": {},
   "source": [
    "### Neural Language Models\n",
    "\n",
    "Start with an embedding layer that seeks to encode each of the first N-1 words. Concatenate the word vectors, and process through multiple intermediate layers, softmax classifier head to predict PMF of Nth word. \n",
    "\n",
    "Benefits: count-based methods employed a look-up table $\\rightarrow$ very large storage size. Neural models are significantly smaller, and can learn nonlinear relationships\n",
    "\n",
    "__Standard Neural Network (Dense layers)__ is akin to N-grams since there is a required, fixed-size input. Must make the context window a parameter in architecture creation.\n",
    "\n",
    "__Recurrent Neural Networks__ process each of the N-1 words, retaining a hidden state vector at each time step. The Final timestep at N-1 is processed with a softmax head to predict the output word"
   ]
  },
  {
   "cell_type": "markdown",
   "metadata": {},
   "source": [
    "### Evaluation\n",
    "\n",
    "Generally use CrossEntropy to compare the difference between learned PMF representation and the training dataset PMF. Estimate the true distribution with the training data.\n",
    "\n",
    "__Cross Entropy__\n",
    "\n",
    "$$H(p,q)=-\\sum_x \\frac{1}{N}log_2(q(x))$$\n",
    "\n",
    "\n",
    "__Perplexity__ $$Perplexity = 2^{H(training data, q}$$"
   ]
  },
  {
   "cell_type": "markdown",
   "metadata": {},
   "source": [
    "## Sentence Embeddings\n",
    "\n",
    "__Basic Strategy__\n",
    "- Input data, words mapped to vectors w w2v model\n",
    "- Encoder, Transformer\n",
    "- Output features viewed as input embedding\n",
    "- Decoder for semisupervised task (predict next word, masked word)\n",
    "- Remove decoder, use encoder for embeddings\n",
    "- Fine tune encoder on new task\n",
    "\n",
    "\n"
   ]
  },
  {
   "cell_type": "markdown",
   "metadata": {},
   "source": [
    "# Code"
   ]
  },
  {
   "cell_type": "markdown",
   "metadata": {},
   "source": [
    "## Word Embeddings ([Tutorial](https://www.tensorflow.org/tutorials/text/word_embeddings))"
   ]
  },
  {
   "cell_type": "code",
   "execution_count": 20,
   "metadata": {
    "ExecuteTime": {
     "end_time": "2020-04-23T18:20:39.424718Z",
     "start_time": "2020-04-23T18:20:39.414744Z"
    }
   },
   "outputs": [
    {
     "data": {
      "text/plain": [
       "array([[ 0.02164057,  0.03744939, -0.0439635 ,  0.02033074, -0.04208026],\n",
       "       [-0.0128045 , -0.00542085,  0.04022874,  0.01654496,  0.02081278],\n",
       "       [ 0.01869465, -0.0223659 ,  0.00361943, -0.02965592,  0.02137938]],\n",
       "      dtype=float32)"
      ]
     },
     "execution_count": 20,
     "metadata": {},
     "output_type": "execute_result"
    }
   ],
   "source": [
    "LANGUAGE_SIZE = 1000\n",
    "EMBED_SIZE = 5\n",
    "\n",
    "#Takes a tensor of integers as input (integer indices of words)\n",
    "emb_layer = layers.Embedding(LANGUAGE_SIZE, EMBED_SIZE)\n",
    "#output has one more axis dim than the input, emb_dim is aligned to final axis\n",
    "emb_layer(tf.constant([1,25,4])).numpy()"
   ]
  },
  {
   "cell_type": "markdown",
   "metadata": {},
   "source": [
    "### Learning Embeddings"
   ]
  },
  {
   "cell_type": "code",
   "execution_count": 11,
   "metadata": {
    "ExecuteTime": {
     "end_time": "2020-04-23T18:17:14.958512Z",
     "start_time": "2020-04-23T18:17:14.852700Z"
    }
   },
   "outputs": [],
   "source": [
    "(train_data, test_data), info = tfds.load(\n",
    "    'imdb_reviews/subwords8k', \n",
    "    split = (tfds.Split.TRAIN, tfds.Split.TEST), \n",
    "    with_info=True, as_supervised=True)"
   ]
  },
  {
   "cell_type": "code",
   "execution_count": 13,
   "metadata": {
    "ExecuteTime": {
     "end_time": "2020-04-23T18:17:37.275631Z",
     "start_time": "2020-04-23T18:17:37.261290Z"
    }
   },
   "outputs": [],
   "source": [
    "train_batches = train_data.shuffle(1000).padded_batch(10, padded_shapes=([None],[]))\n",
    "test_batches = test_data.shuffle(1000).padded_batch(10, padded_shapes=([None],[]))"
   ]
  },
  {
   "cell_type": "code",
   "execution_count": 25,
   "metadata": {
    "ExecuteTime": {
     "end_time": "2020-04-23T18:26:50.368079Z",
     "start_time": "2020-04-23T18:26:50.284282Z"
    }
   },
   "outputs": [
    {
     "name": "stdout",
     "output_type": "stream",
     "text": [
      "[[  62    9 2639 ...    0    0    0]\n",
      " [ 324   12  284 ...    0    0    0]\n",
      " [ 156   12   77 ...    0    0    0]\n",
      " ...\n",
      " [ 133   32   60 ...    0    0    0]\n",
      " [  62   27 1915 ...    0    0    0]\n",
      " [7971  264 3442 ... 2296  106 7996]]\n",
      "[1 1 0 0 0 0 0 0 0 0]\n"
     ]
    }
   ],
   "source": [
    "train_batch, train_labels = next(iter(train_batches))\n",
    "print(train_batch.numpy())\n",
    "print(train_labels.numpy())"
   ]
  },
  {
   "cell_type": "code",
   "execution_count": 18,
   "metadata": {
    "ExecuteTime": {
     "end_time": "2020-04-23T18:19:43.454534Z",
     "start_time": "2020-04-23T18:19:43.448567Z"
    }
   },
   "outputs": [
    {
     "data": {
      "text/plain": [
       "['the_', ', ', '. ', 'a_', 'and_']"
      ]
     },
     "execution_count": 18,
     "metadata": {},
     "output_type": "execute_result"
    }
   ],
   "source": [
    "encoder = info.features['text'].encoder\n",
    "encoder.subwords[:5]"
   ]
  },
  {
   "cell_type": "code",
   "execution_count": 23,
   "metadata": {
    "ExecuteTime": {
     "end_time": "2020-04-23T18:24:23.443043Z",
     "start_time": "2020-04-23T18:24:23.395806Z"
    }
   },
   "outputs": [
    {
     "name": "stdout",
     "output_type": "stream",
     "text": [
      "Model: \"sequential\"\n",
      "_________________________________________________________________\n",
      "Layer (type)                 Output Shape              Param #   \n",
      "=================================================================\n",
      "embedding_5 (Embedding)      (None, None, 50)          409250    \n",
      "_________________________________________________________________\n",
      "global_average_pooling1d (Gl (None, 50)                0         \n",
      "_________________________________________________________________\n",
      "dense (Dense)                (None, 50)                2550      \n",
      "_________________________________________________________________\n",
      "dense_1 (Dense)              (None, 1)                 51        \n",
      "=================================================================\n",
      "Total params: 411,851\n",
      "Trainable params: 411,851\n",
      "Non-trainable params: 0\n",
      "_________________________________________________________________\n"
     ]
    }
   ],
   "source": [
    "EMBED_SIZE = 50\n",
    "\n",
    "CBOW = tf.keras.Sequential([\n",
    "    layers.Embedding(encoder.vocab_size, EMBED_SIZE),\n",
    "    layers.GlobalAvgPool1D(), #returns a fixed-length output (avgs all wordvecs)\n",
    "    layers.Dense(EMBED_SIZE, activation='relu'),\n",
    "    layers.Dense(1)\n",
    "])\n",
    "\n",
    "CBOW.summary()"
   ]
  },
  {
   "cell_type": "code",
   "execution_count": 26,
   "metadata": {
    "ExecuteTime": {
     "end_time": "2020-04-23T18:30:57.480430Z",
     "start_time": "2020-04-23T18:27:38.815121Z"
    }
   },
   "outputs": [
    {
     "name": "stdout",
     "output_type": "stream",
     "text": [
      "Epoch 1/10\n",
      "2500/2500 [==============================] - 26s 11ms/step - loss: 0.4440 - accuracy: 0.7516 - val_loss: 0.3267 - val_accuracy: 0.8380\n",
      "Epoch 2/10\n",
      "2500/2500 [==============================] - 19s 8ms/step - loss: 0.2502 - accuracy: 0.8994 - val_loss: 0.3668 - val_accuracy: 0.8240\n",
      "Epoch 3/10\n",
      "2500/2500 [==============================] - 19s 8ms/step - loss: 0.2050 - accuracy: 0.9211 - val_loss: 0.3438 - val_accuracy: 0.8660\n",
      "Epoch 4/10\n",
      "2500/2500 [==============================] - 19s 8ms/step - loss: 0.1750 - accuracy: 0.9324 - val_loss: 0.3726 - val_accuracy: 0.8720\n",
      "Epoch 5/10\n",
      "2500/2500 [==============================] - 19s 8ms/step - loss: 0.1580 - accuracy: 0.9399 - val_loss: 0.3603 - val_accuracy: 0.8640\n",
      "Epoch 6/10\n",
      "2500/2500 [==============================] - 19s 8ms/step - loss: 0.1402 - accuracy: 0.9469 - val_loss: 0.4017 - val_accuracy: 0.8720\n",
      "Epoch 7/10\n",
      "2500/2500 [==============================] - 19s 8ms/step - loss: 0.1243 - accuracy: 0.9548 - val_loss: 0.5332 - val_accuracy: 0.8440\n",
      "Epoch 8/10\n",
      "2500/2500 [==============================] - 19s 8ms/step - loss: 0.1141 - accuracy: 0.9561 - val_loss: 0.5591 - val_accuracy: 0.8340\n",
      "Epoch 9/10\n",
      "2500/2500 [==============================] - 19s 8ms/step - loss: 0.1035 - accuracy: 0.9602 - val_loss: 0.5597 - val_accuracy: 0.8560\n",
      "Epoch 10/10\n",
      "2500/2500 [==============================] - 19s 7ms/step - loss: 0.0943 - accuracy: 0.9626 - val_loss: 0.6635 - val_accuracy: 0.8300\n"
     ]
    }
   ],
   "source": [
    "CBOW.compile(optimizer='adam',\n",
    "             loss=tf.keras.losses.BinaryCrossentropy(from_logits=True),\n",
    "              metrics=['accuracy'])\n",
    "history = CBOW.fit(train_batches, \n",
    "                   epochs=10,\n",
    "                  validation_data=test_batches,\n",
    "                  validation_steps=50)"
   ]
  },
  {
   "cell_type": "code",
   "execution_count": 27,
   "metadata": {
    "ExecuteTime": {
     "end_time": "2020-04-23T18:30:58.063052Z",
     "start_time": "2020-04-23T18:30:57.511344Z"
    }
   },
   "outputs": [
    {
     "data": {
      "image/png": "[encoded data removed]",
      "text/plain": [
       "<Figure size 864x648 with 1 Axes>"
      ]
     },
     "metadata": {
      "needs_background": "light"
     },
     "output_type": "display_data"
    },
    {
     "data": {
      "image/png": "[encoded data removed]",
      "text/plain": [
       "<Figure size 864x648 with 1 Axes>"
      ]
     },
     "metadata": {
      "needs_background": "light"
     },
     "output_type": "display_data"
    }
   ],
   "source": [
    "import matplotlib.pyplot as plt\n",
    "\n",
    "history_dict = history.history\n",
    "\n",
    "acc = history_dict['accuracy']\n",
    "val_acc = history_dict['val_accuracy']\n",
    "loss=history_dict['loss']\n",
    "val_loss=history_dict['val_loss']\n",
    "\n",
    "epochs = range(1, len(acc) + 1)\n",
    "\n",
    "plt.figure(figsize=(12,9))\n",
    "plt.plot(epochs, loss, label='Training loss')\n",
    "plt.plot(epochs, val_loss, label='Validation loss')\n",
    "plt.title('Training and validation loss')\n",
    "plt.xlabel('Epochs')\n",
    "plt.ylabel('Loss')\n",
    "plt.legend()\n",
    "plt.show()\n",
    "\n",
    "plt.figure(figsize=(12,9))\n",
    "plt.plot(epochs, acc, label='Training acc')\n",
    "plt.plot(epochs, val_acc, label='Validation acc')\n",
    "plt.title('Training and validation accuracy')\n",
    "plt.xlabel('Epochs')\n",
    "plt.ylabel('Accuracy')\n",
    "plt.legend(loc='lower right')\n",
    "plt.ylim((0.5,1))\n",
    "plt.show()"
   ]
  },
  {
   "cell_type": "code",
   "execution_count": 30,
   "metadata": {
    "ExecuteTime": {
     "end_time": "2020-04-23T18:31:22.103190Z",
     "start_time": "2020-04-23T18:31:22.093679Z"
    }
   },
   "outputs": [
    {
     "data": {
      "text/plain": [
       "array([[-0.01638222, -0.00261636, -0.00324426, ...,  0.01645428,\n",
       "        -0.00083825, -0.00332281],\n",
       "       [ 0.07070546, -0.06580278,  0.07252844, ..., -0.062823  ,\n",
       "         0.09458104, -0.05641985],\n",
       "       [ 0.06520953, -0.06563348,  0.06022033, ..., -0.07197564,\n",
       "         0.09575895, -0.0450202 ],\n",
       "       ...,\n",
       "       [-0.03457276, -0.00926349,  0.04601792, ...,  0.01853222,\n",
       "         0.00895938,  0.03236464],\n",
       "       [ 0.01728059, -0.04150518,  0.00160787, ...,  0.02900282,\n",
       "        -0.02033439, -0.01486714],\n",
       "       [-0.03211838,  0.04820878,  0.02725622, ...,  0.00728808,\n",
       "         0.01759252, -0.04223058]], dtype=float32)"
      ]
     },
     "execution_count": 30,
     "metadata": {},
     "output_type": "execute_result"
    }
   ],
   "source": [
    "emb = CBOW.layers[0].get_weights()[0]\n",
    "emb"
   ]
  },
  {
   "cell_type": "code",
   "execution_count": 35,
   "metadata": {
    "ExecuteTime": {
     "end_time": "2020-04-23T18:36:39.646298Z",
     "start_time": "2020-04-23T18:36:39.188255Z"
    }
   },
   "outputs": [],
   "source": [
    "import io\n",
    "\n",
    "path = \"F:\\\\Models\\\\Language_Models\\\\Embeddings\\\\\"\n",
    "out_v = io.open(path+'vecs.tsv', 'w', encoding='utf-8')\n",
    "out_m = io.open(path+'meta.tsv', 'w', encoding='utf-8')\n",
    "\n",
    "for num, word in enumerate(encoder.subwords): #list of words\n",
    "    vec = emb[num+1] # skip 0, it's padding.\n",
    "    out_m.write(word + \"\\n\")\n",
    "    out_v.write('\\t'.join([str(x) for x in vec]) + \"\\n\") #floats seperated by \\t\n",
    "out_v.close()\n",
    "out_m.close()"
   ]
  },
  {
   "cell_type": "markdown",
   "metadata": {},
   "source": [
    "## Text Generation w RNN ([Tutorial](https://www.tensorflow.org/tutorials/text/text_generation))"
   ]
  },
  {
   "cell_type": "code",
   "execution_count": 57,
   "metadata": {
    "ExecuteTime": {
     "end_time": "2020-04-23T19:22:51.646528Z",
     "start_time": "2020-04-23T19:22:51.642539Z"
    }
   },
   "outputs": [],
   "source": [
    "import numpy as np\n",
    "import os"
   ]
  },
  {
   "cell_type": "code",
   "execution_count": 36,
   "metadata": {
    "ExecuteTime": {
     "end_time": "2020-04-23T18:52:42.048809Z",
     "start_time": "2020-04-23T18:52:41.691651Z"
    }
   },
   "outputs": [
    {
     "name": "stdout",
     "output_type": "stream",
     "text": [
      "Downloading data from https://storage.googleapis.com/download.tensorflow.org/data/shakespeare.txt\n",
      "1122304/1115394 [==============================] - 0s 0us/step\n",
      "Length of text: 1115394 characters\n"
     ]
    }
   ],
   "source": [
    "path_to_file = tf.keras.utils.get_file('shakespeare.txt', 'https://storage.googleapis.com/download.tensorflow.org/data/shakespeare.txt')\n",
    "# Read, then decode for py2 compat.\n",
    "text = open(path_to_file, 'rb').read().decode(encoding='utf-8')\n",
    "# length of text is the number of characters in it\n",
    "print ('Length of text: {} characters'.format(len(text)))"
   ]
  },
  {
   "cell_type": "code",
   "execution_count": 39,
   "metadata": {
    "ExecuteTime": {
     "end_time": "2020-04-23T18:53:10.948646Z",
     "start_time": "2020-04-23T18:53:10.944629Z"
    }
   },
   "outputs": [
    {
     "name": "stdout",
     "output_type": "stream",
     "text": [
      "First Citizen:\n",
      "Before we proceed any further, hear me speak.\n",
      "\n",
      "All:\n",
      "Speak, speak.\n",
      "\n",
      "First Citizen:\n",
      "You are all resolved rather to die than to famish?\n",
      "\n",
      "All:\n",
      "Resolved. resolved.\n",
      "\n",
      "First Citizen:\n",
      "First, you know Caius Marcius is chief enemy to the people.\n",
      "\n"
     ]
    }
   ],
   "source": [
    "print(text[:250])"
   ]
  },
  {
   "cell_type": "code",
   "execution_count": 42,
   "metadata": {
    "ExecuteTime": {
     "end_time": "2020-04-23T18:53:53.822487Z",
     "start_time": "2020-04-23T18:53:53.800579Z"
    }
   },
   "outputs": [
    {
     "name": "stdout",
     "output_type": "stream",
     "text": [
      "['\\n', ' ', '!', '$', '&', \"'\", ',', '-', '.', '3', ':', ';', '?', 'A', 'B', 'C', 'D', 'E', 'F', 'G', 'H', 'I', 'J', 'K', 'L', 'M', 'N', 'O', 'P', 'Q', 'R', 'S', 'T', 'U', 'V', 'W', 'X', 'Y', 'Z', 'a', 'b', 'c', 'd', 'e', 'f', 'g', 'h', 'i', 'j', 'k', 'l', 'm', 'n', 'o', 'p', 'q', 'r', 's', 't', 'u', 'v', 'w', 'x', 'y', 'z']\n"
     ]
    }
   ],
   "source": [
    "vocab = sorted(set(text))\n",
    "print(vocab)"
   ]
  },
  {
   "cell_type": "code",
   "execution_count": 46,
   "metadata": {
    "ExecuteTime": {
     "end_time": "2020-04-23T18:59:43.406035Z",
     "start_time": "2020-04-23T18:59:43.210957Z"
    }
   },
   "outputs": [],
   "source": [
    "char2idx = {u:i for i,u in enumerate(vocab)}\n",
    "idx2char = np.array(vocab)\n",
    "text_as_int = np.array([char2idx[char] for char in text])"
   ]
  },
  {
   "cell_type": "code",
   "execution_count": 49,
   "metadata": {
    "ExecuteTime": {
     "end_time": "2020-04-23T19:03:39.807532Z",
     "start_time": "2020-04-23T19:03:39.782582Z"
    }
   },
   "outputs": [
    {
     "name": "stdout",
     "output_type": "stream",
     "text": [
      "'First Citizen:\\nBefore we proceed any further, hear me speak.\\n\\nAll:\\nSpeak, speak.\\n\\nFirst Citizen:\\nYou '\n",
      "'are all resolved rather to die than to famish?\\n\\nAll:\\nResolved. resolved.\\n\\nFirst Citizen:\\nFirst, you k'\n",
      "\"now Caius Marcius is chief enemy to the people.\\n\\nAll:\\nWe know't, we know't.\\n\\nFirst Citizen:\\nLet us ki\"\n",
      "\"ll him, and we'll have corn at our own price.\\nIs't a verdict?\\n\\nAll:\\nNo more talking on't; let it be d\"\n",
      "'one: away, away!\\n\\nSecond Citizen:\\nOne word, good citizens.\\n\\nFirst Citizen:\\nWe are accounted poor citi'\n"
     ]
    }
   ],
   "source": [
    "SEQ_LENGTH = 100\n",
    "examples_per_epoch = len(text)//(SEQ_LENGTH+1)\n",
    "\n",
    "sequences = tf.data.Dataset.from_tensor_slices(text_as_int).batch(SEQ_LENGTH+1, drop_remainder=True)\n",
    "\n",
    "for item in sequences.take(5):\n",
    "    print(repr(''.join(idx2char[item.numpy()])))"
   ]
  },
  {
   "cell_type": "code",
   "execution_count": 54,
   "metadata": {
    "ExecuteTime": {
     "end_time": "2020-04-23T19:17:28.486076Z",
     "start_time": "2020-04-23T19:17:28.423190Z"
    }
   },
   "outputs": [],
   "source": [
    "def split_input_target(chunk):\n",
    "    input_text = chunk[:-1]\n",
    "    target_text = chunk[1:]\n",
    "    return input_text, target_text\n",
    "\n",
    "dataset = sequences.map(split_input_target)"
   ]
  },
  {
   "cell_type": "code",
   "execution_count": 55,
   "metadata": {
    "ExecuteTime": {
     "end_time": "2020-04-23T19:17:28.609031Z",
     "start_time": "2020-04-23T19:17:28.604044Z"
    }
   },
   "outputs": [],
   "source": [
    "BATCH_SIZE = 64\n",
    "BUFFER_SIZE = 1000\n",
    "\n",
    "dataset = dataset.shuffle(BUFFER_SIZE).batch(BATCH_SIZE, drop_remainder=True)"
   ]
  },
  {
   "cell_type": "code",
   "execution_count": 56,
   "metadata": {
    "ExecuteTime": {
     "end_time": "2020-04-23T19:17:30.599142Z",
     "start_time": "2020-04-23T19:17:29.637198Z"
    }
   },
   "outputs": [
    {
     "name": "stdout",
     "output_type": "stream",
     "text": [
      "Model: \"sequential_3\"\n",
      "_________________________________________________________________\n",
      "Layer (type)                 Output Shape              Param #   \n",
      "=================================================================\n",
      "embedding_8 (Embedding)      (64, None, 50)            3250      \n",
      "_________________________________________________________________\n",
      "gru_2 (GRU)                  (64, None, 1024)          3305472   \n",
      "_________________________________________________________________\n",
      "dense_4 (Dense)              (64, None, 65)            66625     \n",
      "=================================================================\n",
      "Total params: 3,375,347\n",
      "Trainable params: 3,375,347\n",
      "Non-trainable params: 0\n",
      "_________________________________________________________________\n"
     ]
    }
   ],
   "source": [
    "EMB_DIM = 50\n",
    "RNN_UNITS = 1024\n",
    "VOCAB_SIZE = len(vocab)\n",
    "\n",
    "model = tf.keras.Sequential([\n",
    "    layers.Embedding( VOCAB_SIZE, EMB_DIM, \n",
    "                     batch_input_shape=[BATCH_SIZE, None]),\n",
    "    layers.GRU(RNN_UNITS, \n",
    "              return_sequences=True,\n",
    "               stateful=True),\n",
    "    layers.Dense(VOCAB_SIZE)\n",
    "])\n",
    "model.summary()"
   ]
  },
  {
   "cell_type": "code",
   "execution_count": 62,
   "metadata": {
    "ExecuteTime": {
     "end_time": "2020-04-23T19:25:30.994488Z",
     "start_time": "2020-04-23T19:25:30.971516Z"
    }
   },
   "outputs": [],
   "source": [
    "def loss(labels, logits):\n",
    "    return tf.keras.losses.sparse_categorical_crossentropy(labels, logits, from_logits=True)\n",
    "\n",
    "model.compile(optimizer='adam',\n",
    "            loss = loss)"
   ]
  },
  {
   "cell_type": "code",
   "execution_count": 68,
   "metadata": {
    "ExecuteTime": {
     "end_time": "2020-04-23T19:31:29.842805Z",
     "start_time": "2020-04-23T19:31:29.837819Z"
    }
   },
   "outputs": [],
   "source": [
    "base_path = \"F:\\\\Models\\\\Language_Models\\\\RNN_Language_Generation\\\\\"\n",
    "path = os.path.join(base_path, \"ckpt_{epoch}\")\n",
    "\n",
    "checkpoint_callback = tf.keras.callbacks.ModelCheckpoint(\n",
    "filepath = path,\n",
    "save_weights_only = True)"
   ]
  },
  {
   "cell_type": "code",
   "execution_count": 64,
   "metadata": {
    "ExecuteTime": {
     "end_time": "2020-04-23T19:27:13.814111Z",
     "start_time": "2020-04-23T19:25:46.805156Z"
    }
   },
   "outputs": [
    {
     "name": "stdout",
     "output_type": "stream",
     "text": [
      "Train for 172 steps\n",
      "Epoch 1/10\n",
      "172/172 [==============================] - 11s 62ms/step - loss: 2.8199\n",
      "Epoch 2/10\n",
      "172/172 [==============================] - 8s 48ms/step - loss: 2.1167\n",
      "Epoch 3/10\n",
      "172/172 [==============================] - 8s 48ms/step - loss: 1.8556\n",
      "Epoch 4/10\n",
      "172/172 [==============================] - 8s 49ms/step - loss: 1.6759\n",
      "Epoch 5/10\n",
      "172/172 [==============================] - 8s 49ms/step - loss: 1.5573\n",
      "Epoch 6/10\n",
      "172/172 [==============================] - 9s 50ms/step - loss: 1.4778\n",
      "Epoch 7/10\n",
      "172/172 [==============================] - 8s 49ms/step - loss: 1.4170: 2s - loss: 1.41\n",
      "Epoch 8/10\n",
      "172/172 [==============================] - 9s 50ms/step - loss: 1.3699\n",
      "Epoch 9/10\n",
      "172/172 [==============================] - 9s 50ms/step - loss: 1.3284\n",
      "Epoch 10/10\n",
      "172/172 [==============================] - 9s 50ms/step - loss: 1.2904\n"
     ]
    }
   ],
   "source": [
    "EPOCHS = 10\n",
    "history = model.fit(dataset, epochs=EPOCHS, callbacks=[checkpoint_callback])"
   ]
  },
  {
   "cell_type": "code",
   "execution_count": 69,
   "metadata": {
    "ExecuteTime": {
     "end_time": "2020-04-23T19:31:35.523439Z",
     "start_time": "2020-04-23T19:31:34.515138Z"
    }
   },
   "outputs": [],
   "source": [
    "BATCH_SIZE = 1\n",
    "\n",
    "model = tf.keras.Sequential([\n",
    "    layers.Embedding( VOCAB_SIZE, EMB_DIM, \n",
    "                     batch_input_shape=[BATCH_SIZE, None]),\n",
    "    layers.GRU(RNN_UNITS, \n",
    "              return_sequences=True,\n",
    "               stateful=True),\n",
    "    layers.Dense(VOCAB_SIZE)\n",
    "])\n",
    "model.load_weights(tf.train.latest_checkpoint(base_path))\n",
    "model.build(tf.TensorShape([1,None])) #one char at a time"
   ]
  },
  {
   "cell_type": "code",
   "execution_count": null,
   "metadata": {},
   "outputs": [],
   "source": [
    "def generate_text(model, start_string):\n",
    "    # Evaluation step (generating text using the learned model)\n",
    "\n",
    "    # Number of characters to generate\n",
    "    num_generate = 1000\n",
    "\n",
    "    # Converting our start string to numbers (vectorizing)\n",
    "    input_eval = [char2idx[s] for s in start_string]\n",
    "    input_eval = tf.expand_dims(input_eval, 0)\n",
    "\n",
    "    # Empty string to store our results\n",
    "    text_generated = []\n",
    "\n",
    "    # Low temperatures results in more predictable text.\n",
    "    # Higher temperatures results in more surprising text.\n",
    "    # Experiment to find the best setting.\n",
    "    temperature = 1.0\n",
    "\n",
    "    # Here batch size == 1\n",
    "    model.reset_states()\n",
    "    for i in range(num_generate):\n",
    "        predictions = model(input_eval)\n",
    "        # remove the batch dimension\n",
    "        predictions = tf.squeeze(predictions, 0)\n",
    "\n",
    "        # using a categorical distribution to predict the character returned by the model\n",
    "        predictions = predictions / temperature\n",
    "        predicted_id = tf.random.categorical(predictions, num_samples=1)[-1,0].numpy()\n",
    "\n",
    "        # We pass the predicted character as the next input to the model\n",
    "        # along with the previous hidden state\n",
    "        input_eval = tf.expand_dims([predicted_id], 0)\n",
    "\n",
    "        text_generated.append(idx2char[predicted_id])\n",
    "\n",
    "    return (start_string + ''.join(text_generated))"
   ]
  }
 ],
 "metadata": {
  "kernelspec": {
   "display_name": "Python [conda env:deep-learning]",
   "language": "python",
   "name": "conda-env-deep-learning-py"
  },
  "language_info": {
   "codemirror_mode": {
    "name": "ipython",
    "version": 3
   },
   "file_extension": ".py",
   "mimetype": "text/x-python",
   "name": "python",
   "nbconvert_exporter": "python",
   "pygments_lexer": "ipython3",
   "version": "3.7.6"
  },
  "toc": {
   "base_numbering": 1,
   "nav_menu": {},
   "number_sections": false,
   "sideBar": true,
   "skip_h1_title": false,
   "title_cell": "Table of Contents",
   "title_sidebar": "Contents",
   "toc_cell": true,
   "toc_position": {
    "height": "calc(100% - 180px)",
    "left": "10px",
    "top": "150px",
    "width": "165px"
   },
   "toc_section_display": true,
   "toc_window_display": false
  },
  "varInspector": {
   "cols": {
    "lenName": 16,
    "lenType": 16,
    "lenVar": 40
   },
   "kernels_config": {
    "python": {
     "delete_cmd_postfix": "",
     "delete_cmd_prefix": "del ",
     "library": "var_list.py",
     "varRefreshCmd": "print(var_dic_list())"
    },
    "r": {
     "delete_cmd_postfix": ") ",
     "delete_cmd_prefix": "rm(",
     "library": "var_list.r",
     "varRefreshCmd": "cat(var_dic_list()) "
    }
   },
   "types_to_exclude": [
    "module",
    "function",
    "builtin_function_or_method",
    "instance",
    "_Feature"
   ],
   "window_display": false
  }
 },
 "nbformat": 4,
 "nbformat_minor": 2
}
