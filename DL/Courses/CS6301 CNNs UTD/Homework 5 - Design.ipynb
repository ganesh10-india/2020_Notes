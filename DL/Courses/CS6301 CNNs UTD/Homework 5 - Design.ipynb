{
 "cells": [
  {
   "cell_type": "markdown",
   "metadata": {},
   "source": [
    "# Homework 5 - Design\n",
    "\n",
    "\n",
    "## Theory\n",
    "\n",
    "1. Using pencil and paper, compute the receptive field size at the input to the global average pooling layer for ResNet 50.\n",
    "\n",
    "__Why use paper when you can use `Python`__"
   ]
  },
  {
   "cell_type": "code",
   "execution_count": 1,
   "metadata": {
    "ExecuteTime": {
     "end_time": "2020-02-27T03:09:48.254174Z",
     "start_time": "2020-02-27T03:09:48.241190Z"
    }
   },
   "outputs": [
    {
     "name": "stdout",
     "output_type": "stream",
     "text": [
      "ResNet Receptive Field (wOut bottle neck): 951\n"
     ]
    }
   ],
   "source": [
    "\"\"\" This calculation is for Resnet without bottle neck\n",
    "Each block is 3x3 -> 3x3\n",
    "\"\"\"\n",
    "\n",
    "def add_filter(rf, f):\n",
    "    return rf + f-1\n",
    "\n",
    "def add_pool(rf, S):\n",
    "    return (rf * S) - (S-1)\n",
    "\n",
    "rf = 1\n",
    "for i in range(3):\n",
    "    rf = add_filter(rf,3)\n",
    "    rf = add_filter(rf,3)\n",
    "rf = add_pool(rf, 2)\n",
    "\n",
    "for i in range(6):\n",
    "    rf = add_filter(rf,3)\n",
    "    rf = add_filter(rf,3)\n",
    "rf = add_pool(rf, 2)\n",
    "\n",
    "for i in range(4):\n",
    "    rf = add_filter(rf,3)\n",
    "    rf = add_filter(rf,3)\n",
    "rf = add_pool(rf, 2)\n",
    "\n",
    "for i in range(3):\n",
    "    rf = add_filter(rf,3)\n",
    "    rf = add_filter(rf,3)\n",
    "\n",
    "#TAIL\n",
    "rf = add_pool(rf, 2)\n",
    "rf = add_pool(rf, 2)\n",
    "rf = add_filter(rf,7)\n",
    "print(\"ResNet Receptive Field (wOut bottle neck): {}\".format(rf))"
   ]
  },
  {
   "cell_type": "code",
   "execution_count": 2,
   "metadata": {
    "ExecuteTime": {
     "end_time": "2020-02-27T03:09:48.268118Z",
     "start_time": "2020-02-27T03:09:48.256149Z"
    }
   },
   "outputs": [
    {
     "name": "stdout",
     "output_type": "stream",
     "text": [
      "ResNet Receptive Field (w bottle neck): 479\n"
     ]
    }
   ],
   "source": [
    "\"\"\" This calculation is for Resnet with bottle neck\n",
    "Each block is 1x1 -> 3x3 -> 1x1\"\"\"\n",
    "\n",
    "rf = 1\n",
    "for i in range(3):\n",
    "    rf = add_filter(rf,3)\n",
    "rf = add_pool(rf, 2)\n",
    "\n",
    "for i in range(6):\n",
    "    rf = add_filter(rf,3)\n",
    "rf = add_pool(rf, 2)\n",
    "\n",
    "for i in range(4):\n",
    "    rf = add_filter(rf,3)\n",
    "rf = add_pool(rf, 2)\n",
    "\n",
    "for i in range(3):\n",
    "    rf = add_filter(rf,3)\n",
    "\n",
    "#TAIL\n",
    "rf = add_pool(rf, 2)\n",
    "rf = add_pool(rf, 2)\n",
    "rf = add_filter(rf,7)\n",
    "print(\"ResNet Receptive Field (w bottle neck): {}\".format(rf))"
   ]
  },
  {
   "cell_type": "markdown",
   "metadata": {},
   "source": [
    "## Practice w MobileNet V2\n",
    "\n",
    "\n",
    "\n",
    "\n",
    "\n",
    "### The receptive field at GAP\n",
    "\n",
    "Because MobileNet has a almost identical architecture to that of ResNet w Bottlenecks, the answer is the same as above."
   ]
  },
  {
   "cell_type": "code",
   "execution_count": 9,
   "metadata": {
    "ExecuteTime": {
     "end_time": "2020-02-27T03:39:39.727788Z",
     "start_time": "2020-02-27T03:39:39.719807Z"
    }
   },
   "outputs": [
    {
     "name": "stdout",
     "output_type": "stream",
     "text": [
      "MovileNet V2 Receptive Field (w bottle neck): 73\n"
     ]
    }
   ],
   "source": [
    "\"\"\" This calculation is for MobileNet V2 with bottle neck\n",
    "Each block is 1x1 -> 3x3 -> 1x1\"\"\"\n",
    "\n",
    "rf = 1\n",
    "for i in range(MODEL_LEVEL_2_BLOCKS):\n",
    "    rf = add_filter(rf,3)\n",
    "rf = add_filter(rf,3)\n",
    "rf = add_pool(rf, 2)\n",
    "\n",
    "for i in range(MODEL_LEVEL_1_BLOCKS):\n",
    "    rf = add_filter(rf,3)\n",
    "rf = add_filter(rf,3)\n",
    "rf = add_pool(rf, 2)\n",
    "\n",
    "for i in range(MODEL_LEVEL_0_BLOCKS):\n",
    "    rf = add_filter(rf,3)\n",
    "rf = add_filter(rf,3)\n",
    "\n",
    "rf = add_filter(rf,3)\n",
    "print(\"MovileNet V2 Receptive Field (w bottle neck): {}\".format(rf))"
   ]
  },
  {
   "cell_type": "markdown",
   "metadata": {},
   "source": [
    "### Compute feature map size for each linear layer.\n",
    "Each inverted residual block requires a `expand_dim` and a `squeeze_dim` as well as a `strides parameter`. \n",
    "\n",
    "We start the network with a 28x28x3 tensor.\n",
    "__Tail__ \n",
    "\n",
    "Conv2D (3x3, 16 filters)-> 28x28x16 -> 12544*32 bits\n",
    "\n",
    "__Level 1__ \n",
    "\n",
    "Inv. Resid. x4  -> \n",
    "\n",
    "        -> 28x28x64 -> 50176*32bits     (1x1 Conv)\n",
    "        \n",
    "        -> 28x28x64 -> 50176*32bits     (3x3 Dconv)\n",
    "        \n",
    "        -> 28x28x16 -> 12544*32bits     (1x1 Conv)\n",
    "  \n",
    "__Level 2__\n",
    "\n",
    "Inv. Resid. x6  -> \n",
    "\n",
    "        -> 14x14x128 -> 25088*32bits\n",
    "        \n",
    "        -> 14x14x128 -> 25088*32bits \n",
    "        \n",
    "        -> 14x14x64 -> 12544*32bits \n",
    "      \n",
    "__Level 3__\n",
    "\n",
    "Inv. Resid. x3  -> \n",
    "\n",
    "        -> 7x7x256 -> 12544*32bits\n",
    "        \n",
    "        -> 7x7x256 -> 12544*32bits \n",
    "        \n",
    "        -> 7x7x128 -> 6272*32bits \n",
    " \n",
    "Conv2D -> 7x7x256 -> 12544*32bits   (1x1 Conv)\n",
    "        \n",
    "__Head__\n",
    "\n",
    "GAP -> 1x256 -> 256*32 bits\n",
    "\n",
    "Dense -> 1x200\n",
    "\n",
    "\n",
    "*It seems that the memory required to retain feature maps is focused towards the beginning of the networ. The single largest feature map came from the first 1x1 explansion layer in the first block*"
   ]
  },
  {
   "cell_type": "markdown",
   "metadata": {},
   "source": [
    "### Compute filter coefficient size and memory for a complete block at each level. Which level has the highest filter memory requirements?\n",
    "\n",
    "\n",
    "We start the network with a 28x28x3 tensor.\n",
    "__Tail__ \n",
    "\n",
    "Conv2D (3x3, 16 filters)-> 3x3x3x16 -> 12544*32 bits\n",
    "\n",
    "__Level 1__ \n",
    "\n",
    "Inv. Resid. x4  -> \n",
    "\n",
    "        -> 1x1x16x64 -> 1024*32bits     (1x1 Conv)\n",
    "        \n",
    "        -> 3x3x64 -> 576*32bits     (3x3 Dconv)\n",
    "        \n",
    "        -> 1x1x64x16 -> 1024*32bits     (1x1 Conv)\n",
    "  \n",
    "__Level 2__\n",
    "\n",
    "Inv. Resid. x6  -> \n",
    "\n",
    "        -> 1x1x64x128 -> 8192*32bits\n",
    "        \n",
    "        -> 3x3x128 -> 1152*32bits \n",
    "        \n",
    "        -> 1x1x128x64 -> 8192*32bits \n",
    "      \n",
    "__Level 3__\n",
    "\n",
    "Inv. Resid. x3  -> \n",
    "\n",
    "        -> 1x1x128x256 -> 32768*32bits\n",
    "        \n",
    "        -> 3x3x256 -> 2304*32bits \n",
    "        \n",
    "        -> 1x1x256x128 -> 32768*32bits \n",
    " \n",
    "Conv2D -> 1x1x128x256 -> 32768*32bits   (1x1 Conv)\n",
    "        \n",
    "__Head__\n",
    "\n",
    "GAP -> 0 -> 0*32 bits\n",
    "\n",
    "Dense -> 256x200 -> 51200*32bits \n",
    "\n",
    "\n",
    "*The model parameters become more dense as the network progresses. The final level has the most parameter memory requirements , while the earliest level has ver few parameters to store*"
   ]
  },
  {
   "cell_type": "markdown",
   "metadata": {},
   "source": [
    "### Compute MACS for a complete block at each level. Which level has the highest MAC requirements?\n",
    "\n",
    "\n",
    "We start the network with a 28x28x3 tensor.\n",
    "__Tail__ \n",
    "\n",
    "Conv2D (3x3, 16 filters)\n",
    "\n",
    "__Level 1__ \n",
    "\n",
    "Inv. Resid. x4  -> \n",
    "\n",
    "        -> 1x1x16x64x28x28 ->  802K MACs    (1x1 Conv)\n",
    "        \n",
    "        -> 3x3x64x(28+2)x(28+2) ->  518k MACs   (3x3 Dconv)\n",
    "        \n",
    "        -> 1x1x64x16x28x28 -> 802K MACs      (1x1 Conv)\n",
    "  \n",
    "__Level 2__\n",
    "\n",
    "Inv. Resid. x6  -> \n",
    "\n",
    "        -> 1x1x64x128x14x14 -> 1.6M MACS\n",
    "        \n",
    "        -> 3x3x128x(14+2)x(14+2) -> 294k MACS\n",
    "        \n",
    "        -> 1x1x128x64x14x14  -> 1.6M MACS \n",
    "      \n",
    "__Level 3__\n",
    "\n",
    "Inv. Resid. x3  -> \n",
    "\n",
    "        -> 1x1x128x256x7x7 ->  1.6M MACs\n",
    "        \n",
    "        -> 3x3x256x(7+2)x(7+2) -> 186k MACS\n",
    "        \n",
    "        -> 1x1x256x128x7x7 -> 1.6M MACs\n",
    " \n",
    "Conv2D -> \n",
    "        \n",
    "__Head__\n",
    "\n",
    "GAP -> 0 -> 0*32 bits\n",
    "\n",
    "Dense -> 256x200 -> \n",
    "\n",
    "\n",
    "*The MACs increase quickly as the network progresses, but plateau as the width/height of the feature maps shrink. The second layer has the most MACs and the first has the fewest.*"
   ]
  },
  {
   "cell_type": "markdown",
   "metadata": {},
   "source": [
    "### Which level is best?\n",
    "\n",
    "Third or fourth probably."
   ]
  },
  {
   "cell_type": "code",
   "execution_count": null,
   "metadata": {},
   "outputs": [],
   "source": []
  },
  {
   "cell_type": "code",
   "execution_count": null,
   "metadata": {},
   "outputs": [],
   "source": []
  },
  {
   "cell_type": "code",
   "execution_count": null,
   "metadata": {},
   "outputs": [],
   "source": []
  },
  {
   "cell_type": "markdown",
   "metadata": {},
   "source": [
    "### Model Implementations"
   ]
  },
  {
   "cell_type": "code",
   "execution_count": 3,
   "metadata": {
    "ExecuteTime": {
     "end_time": "2020-02-27T03:09:51.819995Z",
     "start_time": "2020-02-27T03:09:48.270112Z"
    }
   },
   "outputs": [],
   "source": [
    "import tensorflow_datasets as tfds\n",
    "import tensorflow as     tf\n",
    "import math\n",
    "import numpy             as np\n",
    "import matplotlib.pyplot as plt\n",
    "from tensorflow.keras.layers import *"
   ]
  },
  {
   "cell_type": "code",
   "execution_count": 4,
   "metadata": {
    "ExecuteTime": {
     "end_time": "2020-02-27T03:09:53.285532Z",
     "start_time": "2020-02-27T03:09:51.822988Z"
    }
   },
   "outputs": [],
   "source": [
    "DATA_NUM_CLASSES        = 10\n",
    "DATA_CHANNELS           = 3\n",
    "DATA_ROWS               = 32\n",
    "DATA_COLS               = 32\n",
    "DATA_CROP_ROWS          = 28\n",
    "DATA_CROP_COLS          = 28\n",
    "DATA_MEAN               = np.array([[[125.30691805, 122.95039414, 113.86538318]]]) # CIFAR10\n",
    "DATA_STD_DEV            = np.array([[[ 62.99321928,  62.08870764,  66.70489964]]]) # CIFAR10\n",
    "\n",
    "# model\n",
    "MODEL_LEVEL_0_BLOCKS    = 4\n",
    "MODEL_LEVEL_1_BLOCKS    = 6\n",
    "MODEL_LEVEL_2_BLOCKS    = 3\n",
    "\n",
    "# training\n",
    "TRAINING_BATCH_SIZE      = 128\n",
    "TRAINING_SHUFFLE_BUFFER  = 5000\n",
    "TRAINING_BN_MOMENTUM     = 0.9\n",
    "TRAINING_BN_EPSILON      = 0.001\n",
    "\n",
    "TRAINING_LR_MAX          = 0.001\n",
    "# TRAINING_LR_SCALE        = 0.1\n",
    "# TRAINING_LR_EPOCHS       = 2\n",
    "TRAINING_LR_INIT_SCALE   = 0.01\n",
    "TRAINING_LR_INIT_EPOCHS  = 5\n",
    "TRAINING_LR_FINAL_SCALE  = 0.01\n",
    "TRAINING_LR_FINAL_EPOCHS = 25\n",
    "\n",
    "# training (derived)\n",
    "TRAINING_NUM_EPOCHS = TRAINING_LR_INIT_EPOCHS + TRAINING_LR_FINAL_EPOCHS\n",
    "TRAINING_LR_INIT    = TRAINING_LR_MAX*TRAINING_LR_INIT_SCALE\n",
    "TRAINING_LR_FINAL   = TRAINING_LR_MAX*TRAINING_LR_FINAL_SCALE\n",
    "\n",
    "# saving\n",
    "SAVE_MODEL_PATH = 'F://Models/Model_Design/'\n",
    "\n",
    "def pre_processing_train(example):\n",
    "    image = example[\"image\"]\n",
    "    label = example[\"label\"]\n",
    "    image = tf.math.divide(tf.math.subtract(tf.dtypes.cast(image, tf.float32), DATA_MEAN), DATA_STD_DEV)\n",
    "    image = tf.image.random_flip_left_right(image)\n",
    "    image = tf.image.random_crop(image, size=[DATA_CROP_ROWS, DATA_CROP_COLS, 3])\n",
    "    label = tf.dtypes.cast(label, tf.int32)\n",
    "    return image, label\n",
    "\n",
    "def pre_processing_test(example):\n",
    "    image = example[\"image\"]\n",
    "    label = example[\"label\"]\n",
    "    image = tf.math.divide(tf.math.subtract(tf.dtypes.cast(image, tf.float32), DATA_MEAN), DATA_STD_DEV)\n",
    "    image = tf.image.crop_to_bounding_box(image, (DATA_ROWS - DATA_CROP_ROWS) // 2, (DATA_COLS - DATA_CROP_COLS) // 2, DATA_CROP_ROWS, DATA_CROP_COLS)\n",
    "    label = tf.dtypes.cast(label, tf.int32)\n",
    "    return image, label\n",
    "\n",
    "# learning rate schedule\n",
    "def lr_schedule(epoch):\n",
    "    # linear warmup followed by cosine decay\n",
    "    if epoch < TRAINING_LR_INIT_EPOCHS:\n",
    "        lr = (TRAINING_LR_MAX - TRAINING_LR_INIT)*(float(epoch)/TRAINING_LR_INIT_EPOCHS) + TRAINING_LR_INIT\n",
    "    else:\n",
    "        lr = (TRAINING_LR_MAX - TRAINING_LR_FINAL)*max(0.0, math.cos(((float(epoch) - TRAINING_LR_INIT_EPOCHS)/(TRAINING_LR_FINAL_EPOCHS - 1.0))*(math.pi/2.0))) + TRAINING_LR_FINAL\n",
    "\n",
    "    # debug - learning rate display\n",
    "    # print(epoch)\n",
    "    # print(lr)\n",
    "\n",
    "    return lr\n",
    "\n",
    "def plot_training_curves(history):\n",
    "    # training and validation data accuracy\n",
    "    acc     = history.history['accuracy']\n",
    "    val_acc = history.history['val_accuracy']\n",
    "\n",
    "    # training and validation data loss\n",
    "    loss     = history.history['loss']\n",
    "    val_loss = history.history['val_loss']\n",
    "\n",
    "    # plot accuracy\n",
    "    plt.figure(figsize=(8, 8))\n",
    "    plt.subplot(2, 1, 1)\n",
    "    plt.plot(acc, label='Training Accuracy')\n",
    "    plt.plot(val_acc, label='Validation Accuracy')\n",
    "    plt.legend(loc='lower right')\n",
    "    plt.ylabel('Accuracy')\n",
    "    plt.ylim([min(plt.ylim()), 1])\n",
    "    plt.title('Training and Validation Accuracy')\n",
    "\n",
    "    # plot loss\n",
    "    plt.subplot(2, 1, 2)\n",
    "    plt.plot(loss, label='Training Loss')\n",
    "    plt.plot(val_loss, label='Validation Loss')\n",
    "    plt.legend(loc='upper right')\n",
    "    plt.ylabel('Cross Entropy')\n",
    "    plt.ylim([0, 2.0])\n",
    "    plt.title('Training and Validation Loss')\n",
    "    plt.xlabel('epoch')\n",
    "    plt.show()\n",
    "\n",
    "\n",
    "def benchmark(MODEL, model_name, logs=False):\n",
    "    \"\"\"Helper function to train a model and ouput performance metrics\"\"\"\n",
    "    \n",
    "    print(\"######################################################\")\n",
    "    print(model_name)\n",
    "    print(\"######################################################\")\n",
    "    \n",
    "    callbacks = [tf.keras.callbacks.LearningRateScheduler(lr_schedule),\n",
    "                 tf.keras.callbacks.ModelCheckpoint(filepath=str(SAVE_MODEL_PATH)+model_name+'/', \n",
    "                                                    save_best_only=True, \n",
    "                                                    monitor='val_loss', \n",
    "                                                    verbose=0)]\n",
    "    # training\n",
    "    initial_epoch_num = 0\n",
    "    print(\"Training model {}...\".format(model_name))\n",
    "    history  = MODEL.fit(x=dataset_train, \n",
    "                          epochs=TRAINING_NUM_EPOCHS, \n",
    "                          verbose=logs, \n",
    "                          callbacks=callbacks, \n",
    "                          validation_data=dataset_test,                               \n",
    "                          initial_epoch=initial_epoch_num)\n",
    "\n",
    "    print(\"Training complete.\")\n",
    "    # plot accuracy and loss curves\n",
    "    plot_training_curves(history)\n",
    "\n",
    "    # test\n",
    "    test_loss, test_accuracy = MODEL.evaluate(x=dataset_test)\n",
    "    print('Test loss:     ', test_loss)\n",
    "    print('Test accuracy: ', test_accuracy)\n",
    "    return history\n",
    "\n",
    "# download data and split into training and testing datasets\n",
    "dataset_train, info = tfds.load(\"cifar10\", split=tfds.Split.TRAIN, with_info=True)\n",
    "dataset_test,  info = tfds.load(\"cifar10\", split=tfds.Split.TEST,  with_info=True)\n",
    "\n",
    "dataset_train = dataset_train.map(pre_processing_train, num_parallel_calls=4)\n",
    "dataset_train = dataset_train.shuffle(buffer_size=TRAINING_SHUFFLE_BUFFER)\n",
    "dataset_train = dataset_train.batch(TRAINING_BATCH_SIZE)\n",
    "dataset_train = dataset_train.prefetch(buffer_size=3)\n",
    "\n",
    "# transform testing dataset\n",
    "dataset_test = dataset_test.map(pre_processing_test, num_parallel_calls=4)\n",
    "dataset_test = dataset_test.batch(TRAINING_BATCH_SIZE)\n",
    "dataset_test = dataset_test.prefetch(buffer_size=3)"
   ]
  },
  {
   "cell_type": "code",
   "execution_count": 5,
   "metadata": {
    "ExecuteTime": {
     "end_time": "2020-02-27T03:09:53.300449Z",
     "start_time": "2020-02-27T03:09:53.286485Z"
    }
   },
   "outputs": [],
   "source": [
    "from tensorflow.keras.layers import *\n",
    "\n",
    "conv_params = {\"padding\":'same',\n",
    "              \"use_bias\":False, #why? (Because the paper says so)\n",
    "              \"activation\":None}\n",
    "\n",
    "bn_params = {\"axis\":-1,\n",
    "             \"momentum\":TRAINING_BN_MOMENTUM, \n",
    "             \"epsilon\":TRAINING_BN_EPSILON, \n",
    "             \"center\":True, \n",
    "             \"scale\":True}\n",
    "\n",
    "def conv_block(inputs, filters, kernel_size=(3,3), strides=(1,1)):\n",
    "    x = Conv2D(filters, kernel_size, strides=strides, **conv_params)(inputs)\n",
    "    x = BatchNormalization(**bn_params)(x)\n",
    "    x = ReLU()(x)\n",
    "    return x\n",
    "\n",
    "\n",
    "def inverted_residual(inputs, expand_channels, squeeze_channels, strides=(1,1)):\n",
    "    \"\"\"\n",
    "    inputs: Tensor- input to the first layer\n",
    "    expand_channels: int - depth of the channel dimension after expansion\n",
    "    squeeze_channels: int-depth of channel dimension after linear bottleneck\n",
    "    strides: tuple-strides for the first convolution\n",
    "    \n",
    "    \n",
    "    Inverted residual a la MobileNet V2 note the channel dimension will\n",
    "     be expanded by pointwise conv, processed with depthwise conv, then \n",
    "     compressed by a linear bottleneck\n",
    "    \"\"\"\n",
    "    x = Conv2D(expand_channels, (1, 1), strides=strides, padding='same')(inputs)\n",
    "    x = BatchNormalization(**bn_params)(x)\n",
    "    x = ReLU(max_value=6)(x)  # the paper uses a thresholded ReLU (3-bit output)\n",
    "    \n",
    "    x = DepthwiseConv2D((3,3), strides=(1,1), **conv_params)(x)\n",
    "    x = BatchNormalization(**bn_params)(x)\n",
    "    x = ReLU(max_value=6)(x)\n",
    "    \n",
    "    x = Conv2D(squeeze_channels, (1, 1), strides=(1, 1), padding='same')(x)\n",
    "    x = BatchNormalization(**bn_params)(x) #No activation here (Linear BottleNeck)\n",
    "    \n",
    "    if strides==(2,2): # maintain dimensions during downsampling\n",
    "        inputs = Conv2D(squeeze_channels, (1, 1), strides=strides, padding='same')(inputs)\n",
    "    \n",
    "    return Add()([x, inputs])\n"
   ]
  },
  {
   "cell_type": "code",
   "execution_count": 6,
   "metadata": {
    "ExecuteTime": {
     "end_time": "2020-02-27T03:34:58.217457Z",
     "start_time": "2020-02-27T03:09:53.301448Z"
    },
    "scrolled": false
   },
   "outputs": [
    {
     "name": "stdout",
     "output_type": "stream",
     "text": [
      "######################################################\n",
      "mobilenet_v2\n",
      "######################################################\n",
      "Training model mobilenet_v2...\n",
      "WARNING:tensorflow:From C:\\Users\\harri\\Anaconda3\\envs\\deep-learning\\lib\\site-packages\\tensorflow_core\\python\\ops\\resource_variable_ops.py:1786: calling BaseResourceVariable.__init__ (from tensorflow.python.ops.resource_variable_ops) with constraint is deprecated and will be removed in a future version.\n",
      "Instructions for updating:\n",
      "If using Keras pass *_constraint arguments to layers.\n"
     ]
    },
    {
     "name": "stderr",
     "output_type": "stream",
     "text": [
      "WARNING:tensorflow:From C:\\Users\\harri\\Anaconda3\\envs\\deep-learning\\lib\\site-packages\\tensorflow_core\\python\\ops\\resource_variable_ops.py:1786: calling BaseResourceVariable.__init__ (from tensorflow.python.ops.resource_variable_ops) with constraint is deprecated and will be removed in a future version.\n",
      "Instructions for updating:\n",
      "If using Keras pass *_constraint arguments to layers.\n"
     ]
    },
    {
     "name": "stdout",
     "output_type": "stream",
     "text": [
      "INFO:tensorflow:Assets written to: F://Models/Model_Design/mobilenet_v2/assets\n"
     ]
    },
    {
     "name": "stderr",
     "output_type": "stream",
     "text": [
      "INFO:tensorflow:Assets written to: F://Models/Model_Design/mobilenet_v2/assets\n"
     ]
    },
    {
     "name": "stdout",
     "output_type": "stream",
     "text": [
      "INFO:tensorflow:Assets written to: F://Models/Model_Design/mobilenet_v2/assets\n"
     ]
    },
    {
     "name": "stderr",
     "output_type": "stream",
     "text": [
      "INFO:tensorflow:Assets written to: F://Models/Model_Design/mobilenet_v2/assets\n"
     ]
    },
    {
     "name": "stdout",
     "output_type": "stream",
     "text": [
      "INFO:tensorflow:Assets written to: F://Models/Model_Design/mobilenet_v2/assets\n"
     ]
    },
    {
     "name": "stderr",
     "output_type": "stream",
     "text": [
      "INFO:tensorflow:Assets written to: F://Models/Model_Design/mobilenet_v2/assets\n"
     ]
    },
    {
     "name": "stdout",
     "output_type": "stream",
     "text": [
      "INFO:tensorflow:Assets written to: F://Models/Model_Design/mobilenet_v2/assets\n"
     ]
    },
    {
     "name": "stderr",
     "output_type": "stream",
     "text": [
      "INFO:tensorflow:Assets written to: F://Models/Model_Design/mobilenet_v2/assets\n"
     ]
    },
    {
     "name": "stdout",
     "output_type": "stream",
     "text": [
      "INFO:tensorflow:Assets written to: F://Models/Model_Design/mobilenet_v2/assets\n"
     ]
    },
    {
     "name": "stderr",
     "output_type": "stream",
     "text": [
      "INFO:tensorflow:Assets written to: F://Models/Model_Design/mobilenet_v2/assets\n"
     ]
    },
    {
     "name": "stdout",
     "output_type": "stream",
     "text": [
      "INFO:tensorflow:Assets written to: F://Models/Model_Design/mobilenet_v2/assets\n"
     ]
    },
    {
     "name": "stderr",
     "output_type": "stream",
     "text": [
      "INFO:tensorflow:Assets written to: F://Models/Model_Design/mobilenet_v2/assets\n"
     ]
    },
    {
     "name": "stdout",
     "output_type": "stream",
     "text": [
      "INFO:tensorflow:Assets written to: F://Models/Model_Design/mobilenet_v2/assets\n"
     ]
    },
    {
     "name": "stderr",
     "output_type": "stream",
     "text": [
      "INFO:tensorflow:Assets written to: F://Models/Model_Design/mobilenet_v2/assets\n"
     ]
    },
    {
     "name": "stdout",
     "output_type": "stream",
     "text": [
      "INFO:tensorflow:Assets written to: F://Models/Model_Design/mobilenet_v2/assets\n"
     ]
    },
    {
     "name": "stderr",
     "output_type": "stream",
     "text": [
      "INFO:tensorflow:Assets written to: F://Models/Model_Design/mobilenet_v2/assets\n"
     ]
    },
    {
     "name": "stdout",
     "output_type": "stream",
     "text": [
      "INFO:tensorflow:Assets written to: F://Models/Model_Design/mobilenet_v2/assets\n"
     ]
    },
    {
     "name": "stderr",
     "output_type": "stream",
     "text": [
      "INFO:tensorflow:Assets written to: F://Models/Model_Design/mobilenet_v2/assets\n"
     ]
    },
    {
     "name": "stdout",
     "output_type": "stream",
     "text": [
      "INFO:tensorflow:Assets written to: F://Models/Model_Design/mobilenet_v2/assets\n"
     ]
    },
    {
     "name": "stderr",
     "output_type": "stream",
     "text": [
      "INFO:tensorflow:Assets written to: F://Models/Model_Design/mobilenet_v2/assets\n"
     ]
    },
    {
     "name": "stdout",
     "output_type": "stream",
     "text": [
      "INFO:tensorflow:Assets written to: F://Models/Model_Design/mobilenet_v2/assets\n"
     ]
    },
    {
     "name": "stderr",
     "output_type": "stream",
     "text": [
      "INFO:tensorflow:Assets written to: F://Models/Model_Design/mobilenet_v2/assets\n"
     ]
    },
    {
     "name": "stdout",
     "output_type": "stream",
     "text": [
      "INFO:tensorflow:Assets written to: F://Models/Model_Design/mobilenet_v2/assets\n"
     ]
    },
    {
     "name": "stderr",
     "output_type": "stream",
     "text": [
      "INFO:tensorflow:Assets written to: F://Models/Model_Design/mobilenet_v2/assets\n"
     ]
    },
    {
     "name": "stdout",
     "output_type": "stream",
     "text": [
      "INFO:tensorflow:Assets written to: F://Models/Model_Design/mobilenet_v2/assets\n"
     ]
    },
    {
     "name": "stderr",
     "output_type": "stream",
     "text": [
      "INFO:tensorflow:Assets written to: F://Models/Model_Design/mobilenet_v2/assets\n"
     ]
    },
    {
     "name": "stdout",
     "output_type": "stream",
     "text": [
      "INFO:tensorflow:Assets written to: F://Models/Model_Design/mobilenet_v2/assets\n"
     ]
    },
    {
     "name": "stderr",
     "output_type": "stream",
     "text": [
      "INFO:tensorflow:Assets written to: F://Models/Model_Design/mobilenet_v2/assets\n"
     ]
    },
    {
     "name": "stdout",
     "output_type": "stream",
     "text": [
      "INFO:tensorflow:Assets written to: F://Models/Model_Design/mobilenet_v2/assets\n"
     ]
    },
    {
     "name": "stderr",
     "output_type": "stream",
     "text": [
      "INFO:tensorflow:Assets written to: F://Models/Model_Design/mobilenet_v2/assets\n"
     ]
    },
    {
     "name": "stdout",
     "output_type": "stream",
     "text": [
      "INFO:tensorflow:Assets written to: F://Models/Model_Design/mobilenet_v2/assets\n"
     ]
    },
    {
     "name": "stderr",
     "output_type": "stream",
     "text": [
      "INFO:tensorflow:Assets written to: F://Models/Model_Design/mobilenet_v2/assets\n"
     ]
    },
    {
     "name": "stdout",
     "output_type": "stream",
     "text": [
      "INFO:tensorflow:Assets written to: F://Models/Model_Design/mobilenet_v2/assets\n"
     ]
    },
    {
     "name": "stderr",
     "output_type": "stream",
     "text": [
      "INFO:tensorflow:Assets written to: F://Models/Model_Design/mobilenet_v2/assets\n"
     ]
    },
    {
     "name": "stdout",
     "output_type": "stream",
     "text": [
      "INFO:tensorflow:Assets written to: F://Models/Model_Design/mobilenet_v2/assets\n"
     ]
    },
    {
     "name": "stderr",
     "output_type": "stream",
     "text": [
      "INFO:tensorflow:Assets written to: F://Models/Model_Design/mobilenet_v2/assets\n"
     ]
    },
    {
     "name": "stdout",
     "output_type": "stream",
     "text": [
      "INFO:tensorflow:Assets written to: F://Models/Model_Design/mobilenet_v2/assets\n"
     ]
    },
    {
     "name": "stderr",
     "output_type": "stream",
     "text": [
      "INFO:tensorflow:Assets written to: F://Models/Model_Design/mobilenet_v2/assets\n"
     ]
    },
    {
     "name": "stdout",
     "output_type": "stream",
     "text": [
      "INFO:tensorflow:Assets written to: F://Models/Model_Design/mobilenet_v2/assets\n"
     ]
    },
    {
     "name": "stderr",
     "output_type": "stream",
     "text": [
      "INFO:tensorflow:Assets written to: F://Models/Model_Design/mobilenet_v2/assets\n"
     ]
    },
    {
     "name": "stdout",
     "output_type": "stream",
     "text": [
      "INFO:tensorflow:Assets written to: F://Models/Model_Design/mobilenet_v2/assets\n"
     ]
    },
    {
     "name": "stderr",
     "output_type": "stream",
     "text": [
      "INFO:tensorflow:Assets written to: F://Models/Model_Design/mobilenet_v2/assets\n"
     ]
    },
    {
     "name": "stdout",
     "output_type": "stream",
     "text": [
      "INFO:tensorflow:Assets written to: F://Models/Model_Design/mobilenet_v2/assets\n"
     ]
    },
    {
     "name": "stderr",
     "output_type": "stream",
     "text": [
      "INFO:tensorflow:Assets written to: F://Models/Model_Design/mobilenet_v2/assets\n"
     ]
    },
    {
     "name": "stdout",
     "output_type": "stream",
     "text": [
      "INFO:tensorflow:Assets written to: F://Models/Model_Design/mobilenet_v2/assets\n"
     ]
    },
    {
     "name": "stderr",
     "output_type": "stream",
     "text": [
      "INFO:tensorflow:Assets written to: F://Models/Model_Design/mobilenet_v2/assets\n"
     ]
    },
    {
     "name": "stdout",
     "output_type": "stream",
     "text": [
      "Training complete.\n"
     ]
    },
    {
     "data": {
      "image/png": "[encoded data removed]",
      "text/plain": [
       "<Figure size 576x576 with 2 Axes>"
      ]
     },
     "metadata": {
      "needs_background": "light"
     },
     "output_type": "display_data"
    },
    {
     "name": "stdout",
     "output_type": "stream",
     "text": [
      "     79/Unknown - 3s 32ms/step - loss: 0.3410 - accuracy: 0.8948Test loss:      0.34096199821067763\n",
      "Test accuracy:  0.8948\n"
     ]
    }
   ],
   "source": [
    "#################################################################\n",
    "#MOBILENET V2\n",
    "#################################################################\n",
    "model_input = Input(shape=(DATA_CROP_ROWS, DATA_CROP_COLS, DATA_CHANNELS))\n",
    "x = model_input\n",
    "x = Conv2D(16, (3,3), **conv_params)(x)\n",
    "\n",
    "#INCREASE-DEPTH BOTTLENECK 16 -> 64\n",
    "x = inverted_residual(x, 64, 16, strides=(1,1))\n",
    "\n",
    "for i in range(MODEL_LEVEL_0_BLOCKS-1):\n",
    "    x = inverted_residual(x, 64, 16, strides=(1,1))\n",
    "        \n",
    "###########\n",
    "\n",
    "#Down sample INCREASE-DEPTH BOTTLENECK 64 -> 128\n",
    "x = inverted_residual(x, 128, 64, strides=(2,2))\n",
    "\n",
    "for i in range(MODEL_LEVEL_1_BLOCKS):\n",
    "    #RESIDUAL PATH ->\n",
    "    x = inverted_residual(x, 128, 64, strides=(1,1))\n",
    "    \n",
    "#############\n",
    "\n",
    "    \n",
    "#INCREASE-DEPTH BOTTLENECK 128 -> 256\n",
    "x = inverted_residual(x, 256, 128, strides=(2,2))\n",
    "\n",
    "for i in range(MODEL_LEVEL_2_BLOCKS):\n",
    "    x = inverted_residual(x, 256, 128, strides=(1,1))\n",
    "\n",
    "x = Conv2D(256, (1, 1), strides=(1,1), padding='same')(x)\n",
    "##############    \n",
    "    \n",
    "x = GlobalAveragePooling2D()(x)\n",
    "x = Dense(DATA_NUM_CLASSES, activation='softmax')(x)\n",
    "model_output = x\n",
    "\n",
    "mobilenet_v2 = tf.keras.Model(inputs=model_input, outputs=model_output, name='mobilenet_v2')    \n",
    "mobilenet_v2.compile(optimizer=tf.keras.optimizers.Adam(TRAINING_LR_MAX), loss='sparse_categorical_crossentropy', metrics=['accuracy'])\n",
    "\n",
    "hist = benchmark(mobilenet_v2, 'mobilenet_v2')"
   ]
  },
  {
   "cell_type": "markdown",
   "metadata": {},
   "source": [
    "# Further Exploration"
   ]
  },
  {
   "cell_type": "code",
   "execution_count": 8,
   "metadata": {
    "ExecuteTime": {
     "end_time": "2020-02-27T03:34:58.813880Z",
     "start_time": "2020-02-27T03:34:58.378029Z"
    }
   },
   "outputs": [
    {
     "ename": "NameError",
     "evalue": "name 'pathlib' is not defined",
     "output_type": "error",
     "traceback": [
      "\u001b[1;31m---------------------------------------------------------------------------\u001b[0m",
      "\u001b[1;31mNameError\u001b[0m                                 Traceback (most recent call last)",
      "\u001b[1;32m<ipython-input-8-04e0ff9efb07>\u001b[0m in \u001b[0;36m<module>\u001b[1;34m\u001b[0m\n\u001b[0;32m     39\u001b[0m     \u001b[1;32mreturn\u001b[0m \u001b[0mds\u001b[0m\u001b[1;33m\u001b[0m\u001b[1;33m\u001b[0m\u001b[0m\n\u001b[0;32m     40\u001b[0m \u001b[1;33m\u001b[0m\u001b[0m\n\u001b[1;32m---> 41\u001b[1;33m \u001b[0mdata_root\u001b[0m \u001b[1;33m=\u001b[0m \u001b[0mpathlib\u001b[0m\u001b[1;33m.\u001b[0m\u001b[0mPath\u001b[0m\u001b[1;33m(\u001b[0m\u001b[0mDATA_PATH\u001b[0m\u001b[1;33m)\u001b[0m\u001b[1;33m\u001b[0m\u001b[1;33m\u001b[0m\u001b[0m\n\u001b[0m\u001b[0;32m     42\u001b[0m \u001b[0mCLASSES\u001b[0m \u001b[1;33m=\u001b[0m \u001b[0mos\u001b[0m\u001b[1;33m.\u001b[0m\u001b[0mlistdir\u001b[0m\u001b[1;33m(\u001b[0m\u001b[0mdata_root\u001b[0m\u001b[1;33m/\u001b[0m\u001b[1;34m'train'\u001b[0m\u001b[1;33m)\u001b[0m\u001b[1;33m\u001b[0m\u001b[1;33m\u001b[0m\u001b[0m\n\u001b[0;32m     43\u001b[0m train_ds_cachefile = prepare_dataset(data_root/'train', \n",
      "\u001b[1;31mNameError\u001b[0m: name 'pathlib' is not defined"
     ]
    }
   ],
   "source": [
    "#IMAGENET DATA LOADING\n",
    "def get_label(file_path):\n",
    "  # convert the path to a list of path components\n",
    "  parts = tf.strings.split(file_path, os.path.sep)\n",
    "  # The second to last is the class-directory\n",
    "  return parts[-2] == CLASSES\n",
    "\n",
    "def decode_image(img):\n",
    "    img = tf.image.decode_image(img, channels=3)\n",
    "    img = tf.image.convert_image_dtype(img, tf.float32)\n",
    "    img = tf.image.random_flip_left_right(img)\n",
    "    #img = tf.image.random_crop(img, size=[DATA_CROP_ROWS, DATA_CROP_COLS, 3])\n",
    "    return img\n",
    "\n",
    "def process_path(path):\n",
    "    \"\"\"\n",
    "    Input: file_path of a sample image\n",
    "    Output: image in 3x64x64 float32 Tensor and one hot tensor\n",
    "    \"\"\"\n",
    "    label = get_label(path)\n",
    "    image = tf.io.read_file(path)\n",
    "    image = decode_image(image)\n",
    "    return image, label\n",
    "\n",
    "\n",
    "def prepare_dataset(data_path, cache=False, shuffle_buffer_size=TRAINING_SHUFFLE_BUFFER):\n",
    "    list_files = tf.data.Dataset.list_files(str(data_path/'*/*'))\n",
    "    #map the above function to file_name dataset\n",
    "    ds = list_files.map(process_path, num_parallel_calls=AUTOTUNE) \n",
    "    if cache:\n",
    "        if isinstance(cache, str):\n",
    "            ds = ds.cache(cache)\n",
    "        else:\n",
    "            ds = ds.cache()\n",
    "    ds = ds.shuffle(buffer_size=shuffle_buffer_size)\n",
    "    ds = ds.repeat()\n",
    "    ds = ds.batch(TRAINING_BATCH_SIZE)\n",
    "    ds = ds.prefetch(buffer_size=AUTOTUNE)\n",
    "    return ds\n",
    "\n",
    "data_root = pathlib.Path(DATA_PATH)\n",
    "CLASSES = os.listdir(data_root/'train')\n",
    "train_ds_cachefile = prepare_dataset(data_root/'train', \n",
    "                                          cache=str(SAVE_MODEL_PATH.parent/\"cache.tfcache\"), \n",
    "                                          shuffle_buffer_size=TRAINING_SHUFFLE_BUFFER)\n",
    "\n",
    "valid_ds_cachefile = prepare_dataset(data_root/'val', \n",
    "                                          cache=str(SAVE_MODEL_PATH.parent/\"valid_cache.tfcache\"), \n",
    "                                          shuffle_buffer_size=TRAINING_SHUFFLE_BUFFER)\n",
    "\n",
    "test_ds_nocache = prepare_dataset(data_root/'test', \n",
    "                                          cache=False, \n",
    "                                          shuffle_buffer_size=TRAINING_SHUFFLE_BUFFER)"
   ]
  },
  {
   "cell_type": "code",
   "execution_count": null,
   "metadata": {
    "ExecuteTime": {
     "end_time": "2020-02-27T03:34:58.820843Z",
     "start_time": "2020-02-27T03:09:48.266Z"
    }
   },
   "outputs": [],
   "source": [
    "#ResNext Implementation  https://arxiv.org/abs/1611.05431"
   ]
  },
  {
   "cell_type": "code",
   "execution_count": null,
   "metadata": {
    "ExecuteTime": {
     "end_time": "2020-02-27T03:34:58.821842Z",
     "start_time": "2020-02-27T03:09:48.269Z"
    }
   },
   "outputs": [],
   "source": [
    "#MobileNetV2 Implementation  https://arxiv.org/abs/1801.04381"
   ]
  },
  {
   "cell_type": "code",
   "execution_count": null,
   "metadata": {
    "ExecuteTime": {
     "end_time": "2020-02-27T03:34:58.823836Z",
     "start_time": "2020-02-27T03:09:48.272Z"
    }
   },
   "outputs": [],
   "source": [
    "#Xception Implementation  https://arxiv.org/abs/1610.02357"
   ]
  },
  {
   "cell_type": "code",
   "execution_count": null,
   "metadata": {
    "ExecuteTime": {
     "end_time": "2020-02-27T03:34:58.825830Z",
     "start_time": "2020-02-27T03:09:48.276Z"
    }
   },
   "outputs": [],
   "source": [
    "#MobileNetV3 Implementation  https://arxiv.org/abs/1905.02244v5"
   ]
  },
  {
   "cell_type": "code",
   "execution_count": null,
   "metadata": {
    "ExecuteTime": {
     "end_time": "2020-02-27T03:34:58.827825Z",
     "start_time": "2020-02-27T03:09:48.278Z"
    }
   },
   "outputs": [],
   "source": [
    "#Inception V4 Implementation  https://arxiv.org/abs/1602.07261"
   ]
  },
  {
   "cell_type": "code",
   "execution_count": null,
   "metadata": {
    "ExecuteTime": {
     "end_time": "2020-02-27T03:34:58.828822Z",
     "start_time": "2020-02-27T03:09:48.280Z"
    }
   },
   "outputs": [],
   "source": [
    "#NASNet Implementation  https://arxiv.org/abs/1707.07012"
   ]
  },
  {
   "cell_type": "code",
   "execution_count": null,
   "metadata": {
    "ExecuteTime": {
     "end_time": "2020-02-27T03:34:58.830817Z",
     "start_time": "2020-02-27T03:09:48.283Z"
    }
   },
   "outputs": [],
   "source": [
    "#MnasNet Implementation  https://arxiv.org/abs/1807.11626"
   ]
  },
  {
   "cell_type": "code",
   "execution_count": null,
   "metadata": {
    "ExecuteTime": {
     "end_time": "2020-02-27T03:34:58.831814Z",
     "start_time": "2020-02-27T03:09:48.285Z"
    }
   },
   "outputs": [],
   "source": [
    "#AmoebaNet Implementation  https://arxiv.org/abs/1802.01548"
   ]
  },
  {
   "cell_type": "code",
   "execution_count": null,
   "metadata": {
    "ExecuteTime": {
     "end_time": "2020-02-27T03:34:58.832812Z",
     "start_time": "2020-02-27T03:09:48.289Z"
    }
   },
   "outputs": [],
   "source": [
    "#Squeeze and Excite Implementation   https://arxiv.org/abs/1709.01507"
   ]
  },
  {
   "cell_type": "code",
   "execution_count": null,
   "metadata": {
    "ExecuteTime": {
     "end_time": "2020-02-27T03:34:58.833809Z",
     "start_time": "2020-02-27T03:09:48.291Z"
    }
   },
   "outputs": [],
   "source": [
    "#ShuffleNet V2 Implementation  https://arxiv.org/abs/1707.01083"
   ]
  },
  {
   "cell_type": "code",
   "execution_count": null,
   "metadata": {
    "ExecuteTime": {
     "end_time": "2020-02-27T03:34:58.834806Z",
     "start_time": "2020-02-27T03:09:48.293Z"
    }
   },
   "outputs": [],
   "source": [
    "#EfficientNet Implementation https://arxiv.org/abs/1905.11946v3"
   ]
  }
 ],
 "metadata": {
  "kernelspec": {
   "display_name": "Python [conda env:deep-learning]",
   "language": "python",
   "name": "conda-env-deep-learning-py"
  },
  "language_info": {
   "codemirror_mode": {
    "name": "ipython",
    "version": 3
   },
   "file_extension": ".py",
   "mimetype": "text/x-python",
   "name": "python",
   "nbconvert_exporter": "python",
   "pygments_lexer": "ipython3",
   "version": "3.7.6"
  },
  "toc": {
   "base_numbering": 1,
   "nav_menu": {},
   "number_sections": true,
   "sideBar": true,
   "skip_h1_title": false,
   "title_cell": "Table of Contents",
   "title_sidebar": "Contents",
   "toc_cell": false,
   "toc_position": {},
   "toc_section_display": true,
   "toc_window_display": false
  },
  "varInspector": {
   "cols": {
    "lenName": 16,
    "lenType": 16,
    "lenVar": 40
   },
   "kernels_config": {
    "python": {
     "delete_cmd_postfix": "",
     "delete_cmd_prefix": "del ",
     "library": "var_list.py",
     "varRefreshCmd": "print(var_dic_list())"
    },
    "r": {
     "delete_cmd_postfix": ") ",
     "delete_cmd_prefix": "rm(",
     "library": "var_list.r",
     "varRefreshCmd": "cat(var_dic_list()) "
    }
   },
   "types_to_exclude": [
    "module",
    "function",
    "builtin_function_or_method",
    "instance",
    "_Feature"
   ],
   "window_display": false
  }
 },
 "nbformat": 4,
 "nbformat_minor": 2
}
