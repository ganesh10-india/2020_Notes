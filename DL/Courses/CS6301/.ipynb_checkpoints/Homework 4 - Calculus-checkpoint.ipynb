{
 "cells": [
  {
   "cell_type": "markdown",
   "metadata": {},
   "source": [
    "# Theory\n",
    "\n",
    "\n",
    "4. Let x be the K x 1 vector output of the last layer of a xNN and e = crossEntropy(p*, softMax(x)) be the error where p* is a K x 1 vector with a 1 in position k* representing the correct class and 0s elsewhere. Derive ∂e/∂x. Large portions of this are shown in the slides, however, the purpose of this question is for you to derive all of the parts yourself to gain more confidence with error gradients. Here’s a cookbook of steps and hints:"
   ]
  },
  {
   "cell_type": "markdown",
   "metadata": {},
   "source": [
    "4.1. Derive the gradient of the cross entropy for a 1 hot label at position k*. Use the derivative rule for log (assume base e) and note that only 1 element of the gradient is non zero.\n",
    "\n",
    "$$e = crossEntropy(p^*,softMax(x))$$\n",
    "\n",
    "$$crossEntropy(p^*,p_x)=-\\sum p^*log(p_x)$$\n",
    "$$=-log(p_{x_*})$$\n",
    "$$=-log(softMax(x_*))$$\n",
    "\n",
    "$$\\frac{\\delta e}{\\delta softMax} = [0,0,...,\\frac{-1}{softMax(x_*)},...,0,0]^T$$"
   ]
  },
  {
   "cell_type": "markdown",
   "metadata": {},
   "source": [
    "4.2. Derive the Jacobian of the soft max. Use the derivative quotient rule and note 2 cases: i != j and i == j (where i and j refer to the Jacobian row and col). Apply a common trick for functions with exponentials and re write the derivatives in terms of original function.\n",
    "\n",
    "$$softMax(x) = \\frac{e^{x_j}}{\\sum e^{x_i}}$$\n",
    "\n",
    "$$\\frac{\\delta softmax(i=j)}{\\delta x} = \\frac{(\\sum e^{x_i}*e^{x_j}) - (e^{x_j} *e^{x_i})}{(\\sum e^{x_i})^2}$$\n",
    "\n",
    "\n",
    "$$=\\frac{e^{x_j}}{\\sum e^{x_i}}*\\frac{\\sum e^{x_i}-e^{x_i}}{\\sum e^{x_i}}$$\n",
    "\n",
    "\n",
    "$$=S_j(1-S_i)$$\n",
    "\n",
    "\n",
    "<br>\n",
    "\n",
    "$$\\frac{\\delta softmax(i\\neq j)}{\\delta x} = \\frac{0 - (e^{x_j} *e^{x_i})}{(\\sum e^{x_i})^2}$$\n",
    "\n",
    "$$=-S_i*S_j$$\n",
    "\n",
    "For any i,j in the Jacobian matrix, \n",
    "- if $i=j$ : $\\frac{\\delta Softmax}{\\delta x} = $ Softmax(i)(1-Softmax(j)\n",
    "- if $i \\neq j$: $\\frac{\\delta Softmax}{\\delta x} = $ -Softmax(i)Softmax(j)"
   ]
  },
  {
   "cell_type": "markdown",
   "metadata": {},
   "source": [
    "4.3. Apply the chain rule to derive the gradient of e = crossEntropy(p*, softMax(x)) as the Jacobian matrix times the gradient vector. Take advantage of only 1 element of the gradient vector being non zero effectively selecting the corresponding col of the Jacobian matrix.\n",
    "\n",
    "\n",
    "$$\\frac{\\delta e}{\\delta x} = \\frac{\\delta e}{\\delta softMax}\\frac{\\delta Softmax}{\\delta x}$$\n",
    "\n",
    "$$ = [p_0,...,p_{k^*}-1,...,p_N]$$\n",
    "\n",
    "Through matrix-vector multiplication where we will multiply the gradient (\\frac{\\delta e}{\\delta softMax}) across each column of the Jacobian. The result will be a vector formed from the $k^*$th row of each Jacobian column multiplied by $\\frac{-1}{P_{k*}}$"
   ]
  },
  {
   "cell_type": "markdown",
   "metadata": {},
   "source": [
    "4.4. Note the beautiful and numerically stable result\n",
    "\n",
    "\n",
    "4.5. Remind yourself in the future when implementing classification networks in\n",
    "software, use a single call to the high level library’s built in combined soft max cross entropy function if it’s available instead of making 2 calls to separate soft max and cross entropy functions. But realize that some libraries combine separate functions as an optimization step behind the scenes for you so if it’s not available then it’s probably still ok.\n",
    "\n",
    "\n",
    "\n",
    "5. Consider a simple residual block of the form y = x + f(H x + v) where x is a K x 1 input feature vector, H is K x K linear transformation matrix, v is a K x 1 bias vector, f is a ReLU pointwise nonlinearity and y is a K x 1 output feature vector. Assume that ∂e/∂y is given. Write out a single expression using the chain rule for ∂e/∂x in terms of ∂e/∂y and the Jacobians of the other operations. For the ReLU, define the Jacobian as a K x K diagonal matrix I{0, 1}. Note the clean flow of the gradient from the output to the input, this is a key for training deep networks.\n",
    "\n",
    "\n",
    "$$\\frac{\\delta y}{\\delta x} = Identity(k,k) + I(0,1)H$$\n",
    "$$\\frac{\\delta e}{\\delta x}  = \\frac{\\delta e}{\\delta y} \\cdot (Identity(k,k) + I(0,1)H)$$"
   ]
  },
  {
   "cell_type": "markdown",
   "metadata": {},
   "source": [
    "6. Write out the gradient descent update for H and v in the above example. Define intermediate feature maps as necessary. Note the need to save feature maps from the forward pass which has memory implications for xNN training.\n",
    "\n",
    "$$\\frac{\\delta e}{\\delta v} = \\frac{\\delta e}{\\delta y} \\cdot I(0,1)$$\n",
    "$$\\frac{\\delta e}{\\delta H} = \\frac{\\delta e}{\\delta y}I(0,1)H$$\n",
    "\n",
    "$$v_{t+1}=v_{t}-\\alpha \\frac{\\delta e}{\\delta v}$$\n",
    "$$H_{t+1}=H_{t}-\\alpha \\frac{\\delta e}{\\delta H}$$"
   ]
  },
  {
   "cell_type": "markdown",
   "metadata": {},
   "source": [
    "# Practice"
   ]
  },
  {
   "cell_type": "code",
   "execution_count": 1,
   "metadata": {
    "ExecuteTime": {
     "end_time": "2020-02-25T05:10:09.035976Z",
     "start_time": "2020-02-25T05:10:04.538324Z"
    }
   },
   "outputs": [
    {
     "data": {
      "text/plain": [
       "'2.1.0'"
      ]
     },
     "execution_count": 1,
     "metadata": {},
     "output_type": "execute_result"
    }
   ],
   "source": [
    "import tensorflow as tf\n",
    "import tensorflow_hub as hub\n",
    "import os\n",
    "import datetime\n",
    "import pathlib\n",
    "import numpy as np\n",
    "import PIL.Image as Image\n",
    "import matplotlib.pyplot as plt\n",
    "import time\n",
    "import math\n",
    "from tqdm.notebook import tqdm\n",
    "#tf.debugging.set_log_device_placement(True)\n",
    "\n",
    "AUTOTUNE = tf.data.experimental.AUTOTUNE\n",
    "BATCH_SIZE = 64\n",
    "OG_IMAGENET_SIZE = (224,224)\n",
    "IMAGE_SIZE = (64,64)\n",
    "\n",
    "tf.__version__ "
   ]
  },
  {
   "cell_type": "markdown",
   "metadata": {},
   "source": [
    "## Data Extraction w MobileNet_V2\n",
    "\n",
    "I Used the TinyImageNet dataset found [here](https://tiny-imagenet.herokuapp.com/). To extract the data into a standard format I had to restructure the train/val folders with pythonic folder restructuring. The test data was without labels, so I used MovileNet V2 to label these.\n",
    "\n",
    "__My main reason for using Tiny Imagenet, is that the assigned dataset is currently in the process of decompressing with 32 hours remaining...__ (I had to switch the processed data to a different hard-drive because my external HDD drive couldnt handle the IO)"
   ]
  },
  {
   "cell_type": "raw",
   "metadata": {},
   "source": [
    "\"\"\"\n",
    "Preprocessing for the Tiny ImageNet dataset to add labels to directories\n",
    "\"\"\"\n",
    "with open(os.path.join(dir_path,'words.txt'), 'r') as f:\n",
    "    ids = f.readlines()\n",
    "ids = list(map(lambda x: x.rstrip().split('\\t'), ids))\n",
    "ids = {row[0]:row[1].split(',')[0] for row in ids}\n",
    "\n",
    "for folder in os.listdir(os.path.join(dir_path,\"train\")):\n",
    "    path = os.path.join(dir_path,'train',folder)\n",
    "    if folder in ids:\n",
    "        os.rename(path, os.path.join(dir_path,'train',ids[folder]))\n",
    "    else:\n",
    "        print(\"{} not found.\".format(folder))\n",
    "        \n",
    "for folder in os.listdir(data_root):\n",
    "    if len(os.listdir(data_root/folder))==2:\n",
    "        for item in os.listdir(data_root/folder):\n",
    "            if item.endswith(\".txt\"): #remove the bounding box file\n",
    "                os.remove(data_root/folder/item)\n",
    "                \n",
    "            if os.path.isdir(data_root/folder/item): # move the images up a directory\n",
    "                for file in os.listdir(data_root/folder/item):\n",
    "                    os.rename(data_root/folder/item/file, data_root/folder/file)\n",
    "                os.rmdir(data_root/folder/item)"
   ]
  },
  {
   "cell_type": "code",
   "execution_count": 12,
   "metadata": {
    "ExecuteTime": {
     "end_time": "2020-02-25T05:04:51.985033Z",
     "start_time": "2020-02-25T05:04:51.899572Z"
    }
   },
   "outputs": [
    {
     "data": {
      "text/plain": [
       "['F:\\\\Data\\\\Imagenet\\\\tiny-imagenet-200\\\\test\\\\test_6.JPEG',\n",
       " 'F:\\\\Data\\\\Imagenet\\\\tiny-imagenet-200\\\\test\\\\test_7.JPEG',\n",
       " 'F:\\\\Data\\\\Imagenet\\\\tiny-imagenet-200\\\\test\\\\test_8.JPEG',\n",
       " 'F:\\\\Data\\\\Imagenet\\\\tiny-imagenet-200\\\\test\\\\test_9.JPEG',\n",
       " 'F:\\\\Data\\\\Imagenet\\\\tiny-imagenet-200\\\\test\\\\test_10.JPEG']"
      ]
     },
     "execution_count": 12,
     "metadata": {},
     "output_type": "execute_result"
    }
   ],
   "source": [
    "data_root = pathlib.Path(\"F://Data/Imagenet/tiny-imagenet-200/test/\")\n",
    "file_names = list(data_root.glob(\"*.jpeg\"))\n",
    "file_names = [str(f) for f in file_names]\n",
    "file_names[:5]"
   ]
  },
  {
   "cell_type": "code",
   "execution_count": 15,
   "metadata": {
    "ExecuteTime": {
     "end_time": "2020-02-25T05:05:31.929241Z",
     "start_time": "2020-02-25T05:05:31.878388Z"
    }
   },
   "outputs": [
    {
     "name": "stdout",
     "output_type": "stream",
     "text": [
      "tf.Tensor(b'F:\\\\Data\\\\Imagenet\\\\tiny-imagenet-200\\\\test\\\\test_6.JPEG', shape=(), dtype=string)\n"
     ]
    }
   ],
   "source": [
    "def decode_image(path):\n",
    "    img = tf.io.read_file(path)\n",
    "    img = tf.image.decode_jpeg(img, channels=3)\n",
    "    img = tf.image.convert_image_dtype(img, tf.float32)\n",
    "    img = tf.image.resize(img, OG_IMAGENET_SIZE)\n",
    "    return img\n",
    "\n",
    "filename_dataset = tf.data.Dataset.from_tensor_slices(file_names)\n",
    "for x in filename_dataset.take(1):\n",
    "    print(x)"
   ]
  },
  {
   "cell_type": "code",
   "execution_count": 16,
   "metadata": {
    "ExecuteTime": {
     "end_time": "2020-02-25T05:05:34.284773Z",
     "start_time": "2020-02-25T05:05:34.179372Z"
    }
   },
   "outputs": [],
   "source": [
    "inference_data = filename_dataset.map(decode_image, num_parallel_calls = AUTOTUNE)\n",
    "inference_data = tf.data.Dataset.zip((filename_dataset, inference_data))\n",
    "inference_data = inference_data.batch(BATCH_SIZE)\n",
    "inference_data = inference_data.prefetch(AUTOTUNE)"
   ]
  },
  {
   "cell_type": "code",
   "execution_count": 17,
   "metadata": {
    "ExecuteTime": {
     "end_time": "2020-02-25T05:05:39.433137Z",
     "start_time": "2020-02-25T05:05:39.413177Z"
    }
   },
   "outputs": [],
   "source": [
    "labels_path = tf.keras.utils.get_file('ImageNetLabels.txt','https://storage.googleapis.com/download.tensorflow.org/data/ImageNetLabels.txt')\n",
    "imagenet_labels = np.array(open(labels_path).read().splitlines())\n",
    "def get_classes(predictions):\n",
    "    return imagenet_labels[np.argmax(predictions, axis=-1)] "
   ]
  },
  {
   "cell_type": "code",
   "execution_count": 18,
   "metadata": {
    "ExecuteTime": {
     "end_time": "2020-02-25T05:05:43.073589Z",
     "start_time": "2020-02-25T05:05:40.280220Z"
    }
   },
   "outputs": [],
   "source": [
    "classifier_url =\"https://tfhub.dev/google/tf2-preview/mobilenet_v2/classification/2\" \n",
    "classifier = tf.keras.Sequential([\n",
    "    hub.KerasLayer(classifier_url, input_shape = OG_IMAGENET_SIZE+(3,))\n",
    "])"
   ]
  },
  {
   "cell_type": "code",
   "execution_count": 19,
   "metadata": {
    "ExecuteTime": {
     "end_time": "2020-02-25T05:06:51.594351Z",
     "start_time": "2020-02-25T05:05:43.970891Z"
    }
   },
   "outputs": [
    {
     "data": {
      "application/vnd.jupyter.widget-view+json": {
       "model_id": "377f594d41634d78b9f5a3702314d424",
       "version_major": 2,
       "version_minor": 0
      },
      "text/plain": [
       "HBox(children=(FloatProgress(value=0.0, max=156.0), HTML(value='')))"
      ]
     },
     "metadata": {},
     "output_type": "display_data"
    },
    {
     "name": "stdout",
     "output_type": "stream",
     "text": [
      "\n"
     ]
    }
   ],
   "source": [
    "num_files = len(file_names)//BATCH_SIZE\n",
    "for files, x in tqdm(inference_data, total=num_files):\n",
    "    with tf.device('/GPU:0'):\n",
    "        pred = classifier.predict(x)\n",
    "    classes = get_classes(pred)\n",
    "    for i, file in enumerate(files):\n",
    "        f = pathlib.Path(file.numpy().decode('ascii'))\n",
    "        if not os.path.exists(f.parent/classes[i]):\n",
    "            os.mkdir(f.parent / classes[i])\n",
    "        else:    \n",
    "            pass\n",
    "        os.rename(f, f.parent / classes[i] / f.parts[-1])"
   ]
  },
  {
   "cell_type": "markdown",
   "metadata": {},
   "source": [
    "## Training Data Pipeline"
   ]
  },
  {
   "cell_type": "code",
   "execution_count": 2,
   "metadata": {
    "ExecuteTime": {
     "end_time": "2020-02-25T05:10:10.878710Z",
     "start_time": "2020-02-25T05:10:10.861754Z"
    }
   },
   "outputs": [],
   "source": [
    "# data\n",
    "DATA_NUM_CLASSES        = 200\n",
    "DATA_CHANNELS           = 3\n",
    "DATA_ROWS               = 64\n",
    "DATA_COLS               = 64\n",
    "#DATA_CROP_ROWS          = 28\n",
    "#DATA_CROP_COLS          = 28\n",
    "\n",
    "# model\n",
    "MODEL_LEVEL_0_REPEATS   = 3\n",
    "MODEL_LEVEL_1_REPEATS   = 3\n",
    "MODEL_LEVEL_2_REPEATS   = 3\n",
    "\n",
    "# training\n",
    "TRAINING_BATCH_SIZE      = 32\n",
    "TRAINING_SHUFFLE_BUFFER  = 5000\n",
    "TRAINING_LR_MAX          = 0.001\n",
    "# TRAINING_LR_SCALE        = 0.1\n",
    "# TRAINING_LR_EPOCHS       = 2\n",
    "TRAINING_LR_INIT_SCALE   = 0.01\n",
    "TRAINING_LR_INIT_EPOCHS  = 5\n",
    "TRAINING_LR_FINAL_SCALE  = 0.01\n",
    "TRAINING_LR_FINAL_EPOCHS = 25\n",
    "\n",
    "# training (derived)\n",
    "TRAINING_NUM_EPOCHS = TRAINING_LR_INIT_EPOCHS + TRAINING_LR_FINAL_EPOCHS\n",
    "TRAINING_LR_INIT    = TRAINING_LR_MAX*TRAINING_LR_INIT_SCALE\n",
    "TRAINING_LR_FINAL   = TRAINING_LR_MAX*TRAINING_LR_FINAL_SCALE\n",
    "\n",
    "DATA_PATH = 'F://Data/ImageNet/tiny-imagenet-200/'\n",
    "SAVE_MODEL_PATH = pathlib.Path('F://Models/ImageNet_64/1/')\n",
    "#!mkdir -p \"$SAVE_MODEL_PATH\"\n",
    "\n",
    "AUTOTUNE = tf.data.experimental.AUTOTUNE\n",
    "\n",
    "def get_label(file_path):\n",
    "  # convert the path to a list of path components\n",
    "  parts = tf.strings.split(file_path, os.path.sep)\n",
    "  # The second to last is the class-directory\n",
    "  return parts[-2] == CLASSES\n",
    "\n",
    "def decode_image(img):\n",
    "    img = tf.image.decode_image(img, channels=3)\n",
    "    img = tf.image.convert_image_dtype(img, tf.float32)\n",
    "    img = tf.image.random_flip_left_right(img)\n",
    "    #img = tf.image.random_crop(img, size=[DATA_CROP_ROWS, DATA_CROP_COLS, 3])\n",
    "    return img\n",
    "\n",
    "def process_path(path):\n",
    "    \"\"\"\n",
    "    Input: file_path of a sample image\n",
    "    Output: image in 3x64x64 float32 Tensor and one hot tensor\n",
    "    \"\"\"\n",
    "    label = get_label(path)\n",
    "    image = tf.io.read_file(path)\n",
    "    image = decode_image(image)\n",
    "    return image, label\n",
    "\n",
    "\n",
    "def prepare_dataset(data_path, cache=False, shuffle_buffer_size=TRAINING_SHUFFLE_BUFFER):\n",
    "    list_files = tf.data.Dataset.list_files(str(data_path/'*/*'))\n",
    "    #map the above function to file_name dataset\n",
    "    ds = list_files.map(process_path, num_parallel_calls=AUTOTUNE) \n",
    "    if cache:\n",
    "        if isinstance(cache, str):\n",
    "            ds = ds.cache(cache)\n",
    "        else:\n",
    "            ds = ds.cache()\n",
    "    ds = ds.shuffle(buffer_size=shuffle_buffer_size)\n",
    "    ds = ds.repeat()\n",
    "    ds = ds.batch(TRAINING_BATCH_SIZE)\n",
    "    ds = ds.prefetch(buffer_size=AUTOTUNE)\n",
    "    return ds"
   ]
  },
  {
   "cell_type": "code",
   "execution_count": 3,
   "metadata": {
    "ExecuteTime": {
     "end_time": "2020-02-25T05:10:33.300879Z",
     "start_time": "2020-02-25T05:10:11.303138Z"
    }
   },
   "outputs": [],
   "source": [
    "data_root = pathlib.Path(DATA_PATH)\n",
    "CLASSES = os.listdir(data_root/'train')\n",
    "train_ds_cachefile = prepare_dataset(data_root/'train', \n",
    "                                          cache=str(SAVE_MODEL_PATH.parent/\"cache.tfcache\"), \n",
    "                                          shuffle_buffer_size=TRAINING_SHUFFLE_BUFFER)\n",
    "\n",
    "valid_ds_cachefile = prepare_dataset(data_root/'val', \n",
    "                                          cache=str(SAVE_MODEL_PATH.parent/\"valid_cache.tfcache\"), \n",
    "                                          shuffle_buffer_size=TRAINING_SHUFFLE_BUFFER)\n",
    "\n",
    "test_ds_nocache = prepare_dataset(data_root/'test', \n",
    "                                          cache=False, \n",
    "                                          shuffle_buffer_size=TRAINING_SHUFFLE_BUFFER)"
   ]
  },
  {
   "cell_type": "markdown",
   "metadata": {},
   "source": [
    "## Model Specifications"
   ]
  },
  {
   "cell_type": "code",
   "execution_count": 4,
   "metadata": {
    "ExecuteTime": {
     "end_time": "2020-02-25T05:10:33.463496Z",
     "start_time": "2020-02-25T05:10:33.439562Z"
    }
   },
   "outputs": [],
   "source": [
    "class ResNet_Block(tf.keras.Model):\n",
    "    def __init__(self, filters):\n",
    "        super(ResNet_Block, self).__init__()\n",
    "        \n",
    "        self.conv1 = tf.keras.layers.Conv2D(filters, (1,1))\n",
    "        self.bn1 = tf.keras.layers.BatchNormalization()\n",
    "        \n",
    "        self.conv2 = tf.keras.layers.Conv2D(filters,(3,3), padding='same')\n",
    "        self.bn2 = tf.keras.layers.BatchNormalization()\n",
    "        \n",
    "        self.conv3 = tf.keras.layers.Conv2D(filters, (1,1))\n",
    "        self.bn3 = tf.keras.layers.BatchNormalization()\n",
    "    \n",
    "    def call(self, x, training=False):\n",
    "        f_x = self.bn1(self.conv1(x), training=training)\n",
    "        f_x = tf.nn.relu(f_x)\n",
    "        f_x = self.bn2(self.conv2(f_x), training=training)\n",
    "        f_x = tf.nn.relu(f_x)\n",
    "        f_x = self.bn3(self.conv3(f_x), training=training)\n",
    "        f_x = tf.nn.relu(f_x)\n",
    "        return x + f_x\n",
    "\n",
    "\n",
    "def create_model(conv_block, level_repeats=[3,3,3], initial_filter_size=32):\n",
    "    # encoder - input\n",
    "    model_input = tf.keras.Input(shape=(DATA_ROWS, DATA_COLS, DATA_CHANNELS), name='input_image')\n",
    "    x           = model_input\n",
    "    \n",
    "    x = tf.keras.layers.Conv2D(initial_filter_size, \n",
    "                               (7,7), \n",
    "                               strides=(1,1),\n",
    "                               activation='relu',\n",
    "                               padding='same')(x)\n",
    "    \n",
    "    \n",
    "    filter_size = initial_filter_size\n",
    "    for i in range(len(level_repeats)):\n",
    "        x = tf.keras.layers.Conv2D(filter_size, (3,3), strides=(2,2), activation='relu', padding='same')(x)\n",
    "        for n0 in range(level_repeats[i]):\n",
    "            x = conv_block(filter_size)(x)    \n",
    "        filter_size *= 2\n",
    "        \n",
    "        \n",
    "    encoder_output = x\n",
    "    # decoder\n",
    "    y              = tf.keras.layers.GlobalAveragePooling2D()(encoder_output)\n",
    "    decoder_output = tf.keras.layers.Dense(DATA_NUM_CLASSES, activation='softmax')(y)\n",
    "    \n",
    "    # forward path\n",
    "    model = tf.keras.Model(inputs=model_input, outputs=decoder_output, name='Mymodel')\n",
    "    # loss, backward path (implicit) and weight update\n",
    "    model.compile(optimizer=tf.keras.optimizers.Adam(TRAINING_LR_MAX), loss='categorical_crossentropy', metrics=['acc'])\n",
    "    # return model\n",
    "    return model"
   ]
  },
  {
   "cell_type": "code",
   "execution_count": 5,
   "metadata": {
    "ExecuteTime": {
     "end_time": "2020-02-25T05:10:35.082602Z",
     "start_time": "2020-02-25T05:10:33.604628Z"
    }
   },
   "outputs": [
    {
     "name": "stdout",
     "output_type": "stream",
     "text": [
      "Model: \"Mymodel\"\n",
      "_________________________________________________________________\n",
      "Layer (type)                 Output Shape              Param #   \n",
      "=================================================================\n",
      "input_image (InputLayer)     [(None, 64, 64, 3)]       0         \n",
      "_________________________________________________________________\n",
      "conv2d (Conv2D)              (None, 64, 64, 64)        9472      \n",
      "_________________________________________________________________\n",
      "conv2d_1 (Conv2D)            (None, 32, 32, 64)        36928     \n",
      "_________________________________________________________________\n",
      "res_net__block (ResNet_Block (None, 32, 32, 64)        46016     \n",
      "_________________________________________________________________\n",
      "res_net__block_1 (ResNet_Blo (None, 32, 32, 64)        46016     \n",
      "_________________________________________________________________\n",
      "res_net__block_2 (ResNet_Blo (None, 32, 32, 64)        46016     \n",
      "_________________________________________________________________\n",
      "conv2d_11 (Conv2D)           (None, 16, 16, 128)       73856     \n",
      "_________________________________________________________________\n",
      "res_net__block_3 (ResNet_Blo (None, 16, 16, 128)       182144    \n",
      "_________________________________________________________________\n",
      "res_net__block_4 (ResNet_Blo (None, 16, 16, 128)       182144    \n",
      "_________________________________________________________________\n",
      "res_net__block_5 (ResNet_Blo (None, 16, 16, 128)       182144    \n",
      "_________________________________________________________________\n",
      "conv2d_21 (Conv2D)           (None, 8, 8, 256)         295168    \n",
      "_________________________________________________________________\n",
      "res_net__block_6 (ResNet_Blo (None, 8, 8, 256)         724736    \n",
      "_________________________________________________________________\n",
      "res_net__block_7 (ResNet_Blo (None, 8, 8, 256)         724736    \n",
      "_________________________________________________________________\n",
      "res_net__block_8 (ResNet_Blo (None, 8, 8, 256)         724736    \n",
      "_________________________________________________________________\n",
      "global_average_pooling2d (Gl (None, 256)               0         \n",
      "_________________________________________________________________\n",
      "dense (Dense)                (None, 200)               51400     \n",
      "=================================================================\n",
      "Total params: 3,325,512\n",
      "Trainable params: 3,317,448\n",
      "Non-trainable params: 8,064\n",
      "_________________________________________________________________\n"
     ]
    }
   ],
   "source": [
    "# create and compile model\n",
    "model = create_model(ResNet_Block, level_repeats=[3,3,3], initial_filter_size=64)\n",
    "# model description and figure\n",
    "model.summary()"
   ]
  },
  {
   "cell_type": "markdown",
   "metadata": {},
   "source": [
    "## Training"
   ]
  },
  {
   "cell_type": "code",
   "execution_count": 6,
   "metadata": {
    "ExecuteTime": {
     "end_time": "2020-02-25T05:10:35.393972Z",
     "start_time": "2020-02-25T05:10:35.210472Z"
    }
   },
   "outputs": [
    {
     "data": {
      "text/plain": [
       "[]"
      ]
     },
     "execution_count": 6,
     "metadata": {},
     "output_type": "execute_result"
    },
    {
     "data": {
      "image/png": "[encoded data removed]",
      "text/plain": [
       "<Figure size 432x288 with 1 Axes>"
      ]
     },
     "metadata": {
      "needs_background": "light"
     },
     "output_type": "display_data"
    }
   ],
   "source": [
    "# learning rate schedule\n",
    "def lr_schedule(epoch):\n",
    "\n",
    "    # staircase\n",
    "    # lr = TRAINING_LR_MAX*math.pow(TRAINING_LR_SCALE, math.floor(epoch/TRAINING_LR_EPOCHS))\n",
    "\n",
    "    # linear warmup followed by cosine decay\n",
    "    if epoch < TRAINING_LR_INIT_EPOCHS:\n",
    "        lr = (TRAINING_LR_MAX - TRAINING_LR_INIT)*(float(epoch)/TRAINING_LR_INIT_EPOCHS) + TRAINING_LR_INIT\n",
    "    else:\n",
    "        lr = (TRAINING_LR_MAX - TRAINING_LR_FINAL)*max(0.0, math.cos(((float(epoch) - TRAINING_LR_INIT_EPOCHS)/(TRAINING_LR_FINAL_EPOCHS - 1.0))*(math.pi/2.0))) + TRAINING_LR_FINAL\n",
    "    return lr\n",
    "\n",
    "plt.plot(range(1,TRAINING_NUM_EPOCHS+1), [lr_schedule(i) for i in np.arange(TRAINING_NUM_EPOCHS)+1])\n",
    "plt.title(\"Learning Rate Schedule\")\n",
    "plt.xlabel(\"Epoch\")\n",
    "plt.ylabel(\"l.r.\")\n",
    "plt.plot()"
   ]
  },
  {
   "cell_type": "code",
   "execution_count": 7,
   "metadata": {
    "ExecuteTime": {
     "end_time": "2020-02-25T05:10:35.533280Z",
     "start_time": "2020-02-25T05:10:35.523304Z"
    }
   },
   "outputs": [],
   "source": [
    "# plot training accuracy and loss curves\n",
    "def plot_training_curves(history):\n",
    "\n",
    "    # training and validation data accuracy\n",
    "    acc     = history.history['accuracy']\n",
    "    val_acc = history.history['val_accuracy']\n",
    "\n",
    "    # training and validation data loss\n",
    "    loss     = history.history['loss']\n",
    "    val_loss = history.history['val_loss']\n",
    "\n",
    "    # plot accuracy\n",
    "    plt.figure(figsize=(8, 8))\n",
    "    plt.subplot(2, 1, 1)\n",
    "    plt.plot(acc, label='Training Accuracy')\n",
    "    plt.plot(val_acc, label='Validation Accuracy')\n",
    "    plt.legend(loc='lower right')\n",
    "    plt.ylabel('Accuracy')\n",
    "    plt.ylim([min(plt.ylim()), 1])\n",
    "    plt.title('Training and Validation Accuracy')\n",
    "\n",
    "    # plot loss\n",
    "    plt.subplot(2, 1, 2)\n",
    "    plt.plot(loss, label='Training Loss')\n",
    "    plt.plot(val_loss, label='Validation Loss')\n",
    "    plt.legend(loc='upper right')\n",
    "    plt.ylabel('Cross Entropy')\n",
    "    plt.ylim([0, 2.0])\n",
    "    plt.title('Training and Validation Loss')\n",
    "    plt.xlabel('epoch')\n",
    "    plt.show()"
   ]
  },
  {
   "cell_type": "code",
   "execution_count": 8,
   "metadata": {
    "ExecuteTime": {
     "end_time": "2020-02-25T06:47:03.152036Z",
     "start_time": "2020-02-25T05:10:35.677408Z"
    },
    "scrolled": false
   },
   "outputs": [
    {
     "name": "stdout",
     "output_type": "stream",
     "text": [
      "Train for 3333 steps, validate for 333 steps\n",
      "Epoch 1/30\n",
      "3332/3333 [============================>.] - ETA: 0s - loss: 5.2676 - acc: 0.0213\n",
      "Epoch 00001: val_loss improved from inf to 4.96955, saving model to F:\\Models\\ImageNet_64\\1\n",
      "WARNING:tensorflow:From C:\\Users\\harri\\Anaconda3\\envs\\deep-learning\\lib\\site-packages\\tensorflow_core\\python\\ops\\resource_variable_ops.py:1786: calling BaseResourceVariable.__init__ (from tensorflow.python.ops.resource_variable_ops) with constraint is deprecated and will be removed in a future version.\n",
      "Instructions for updating:\n",
      "If using Keras pass *_constraint arguments to layers.\n",
      "INFO:tensorflow:Assets written to: F:\\Models\\ImageNet_64\\1\\assets\n",
      "3333/3333 [==============================] - 265s 80ms/step - loss: 5.2676 - acc: 0.0213 - val_loss: 4.9696 - val_acc: 0.0411\n",
      "Epoch 2/30\n",
      "3332/3333 [============================>.] - ETA: 0s - loss: 4.4421 - acc: 0.0841\n",
      "Epoch 00002: val_loss improved from 4.96955 to 4.58747, saving model to F:\\Models\\ImageNet_64\\1\n",
      "INFO:tensorflow:Assets written to: F:\\Models\\ImageNet_64\\1\\assets\n",
      "3333/3333 [==============================] - 212s 64ms/step - loss: 4.4419 - acc: 0.0841 - val_loss: 4.5875 - val_acc: 0.0787\n",
      "Epoch 3/30\n",
      "3332/3333 [============================>.] - ETA: 0s - loss: 3.7590 - acc: 0.1679\n",
      "Epoch 00003: val_loss improved from 4.58747 to 3.99326, saving model to F:\\Models\\ImageNet_64\\1\n",
      "INFO:tensorflow:Assets written to: F:\\Models\\ImageNet_64\\1\\assets\n",
      "3333/3333 [==============================] - 215s 64ms/step - loss: 3.7589 - acc: 0.1679 - val_loss: 3.9933 - val_acc: 0.1475\n",
      "Epoch 4/30\n",
      "3332/3333 [============================>.] - ETA: 0s - loss: 3.4004 - acc: 0.2255\n",
      "Epoch 00004: val_loss improved from 3.99326 to 3.53790, saving model to F:\\Models\\ImageNet_64\\1\n",
      "INFO:tensorflow:Assets written to: F:\\Models\\ImageNet_64\\1\\assets\n",
      "3333/3333 [==============================] - 213s 64ms/step - loss: 3.4004 - acc: 0.2255 - val_loss: 3.5379 - val_acc: 0.2121\n",
      "Epoch 5/30\n",
      "3332/3333 [============================>.] - ETA: 0s - loss: 3.1520 - acc: 0.2719\n",
      "Epoch 00005: val_loss did not improve from 3.53790\n",
      "3333/3333 [==============================] - 198s 59ms/step - loss: 3.1521 - acc: 0.2719 - val_loss: 3.9109 - val_acc: 0.1845\n",
      "Epoch 6/30\n",
      "3332/3333 [============================>.] - ETA: 0s - loss: 2.9501 - acc: 0.3076\n",
      "Epoch 00006: val_loss did not improve from 3.53790\n",
      "3333/3333 [==============================] - 197s 59ms/step - loss: 2.9501 - acc: 0.3075 - val_loss: 3.5945 - val_acc: 0.2316\n",
      "Epoch 7/30\n",
      "3332/3333 [============================>.] - ETA: 0s - loss: 2.7030 - acc: 0.3552- ETA: 1s - lo\n",
      "Epoch 00007: val_loss improved from 3.53790 to 3.19018, saving model to F:\\Models\\ImageNet_64\\1\n",
      "INFO:tensorflow:Assets written to: F:\\Models\\ImageNet_64\\1\\assets\n",
      "3333/3333 [==============================] - 214s 64ms/step - loss: 2.7030 - acc: 0.3552 - val_loss: 3.1902 - val_acc: 0.2824\n",
      "Epoch 8/30\n",
      "3332/3333 [============================>.] - ETA: 0s - loss: 2.4826 - acc: 0.3991- ETA: 3s - l\n",
      "Epoch 00008: val_loss did not improve from 3.19018\n",
      "3333/3333 [==============================] - 203s 61ms/step - loss: 2.4827 - acc: 0.3991 - val_loss: 3.3543 - val_acc: 0.2633\n",
      "Epoch 9/30\n",
      "3332/3333 [============================>.] - ETA: 0s - loss: 2.2943 - acc: 0.4369- ETA: 0s - loss: 2.2948 -  - ETA: 0s - loss: 2.2945 - acc: 0.4369\n",
      "Epoch 00009: val_loss improved from 3.19018 to 2.81472, saving model to F:\\Models\\ImageNet_64\\1\n",
      "INFO:tensorflow:Assets written to: F:\\Models\\ImageNet_64\\1\\assets\n",
      "3333/3333 [==============================] - 222s 67ms/step - loss: 2.2942 - acc: 0.4370 - val_loss: 2.8147 - val_acc: 0.3508\n",
      "Epoch 10/30\n",
      "3332/3333 [============================>.] - ETA: 0s - loss: 2.1131 - acc: 0.4732- ETA: 2s - loss: 2.1142 - acc: 0.473 - ETA: 2s - loss: 2.1142  - ETA: 1s - loss: 2.1134  - ETA: 0s - loss: 2.1130 - ac\n",
      "Epoch 00010: val_loss did not improve from 2.81472\n",
      "3333/3333 [==============================] - 204s 61ms/step - loss: 2.1130 - acc: 0.4732 - val_loss: 3.0097 - val_acc: 0.3295\n",
      "Epoch 11/30\n",
      "3332/3333 [============================>.] - ETA: 0s - loss: 1.9453 - acc: 0.5089- E\n",
      "Epoch 00011: val_loss did not improve from 2.81472\n",
      "3333/3333 [==============================] - 204s 61ms/step - loss: 1.9454 - acc: 0.5088 - val_loss: 2.9549 - val_acc: 0.3552\n",
      "Epoch 12/30\n",
      "3332/3333 [============================>.] - ETA: 0s - loss: 1.7843 - acc: 0.5419- - ETA: 3s - loss:\n",
      "Epoch 00012: val_loss did not improve from 2.81472\n",
      "3333/3333 [==============================] - 204s 61ms/step - loss: 1.7842 - acc: 0.5419 - val_loss: 2.9389 - val_acc: 0.3609\n",
      "Epoch 13/30\n",
      "3332/3333 [============================>.] - ETA: 0s - loss: 1.6204 - acc: 0.5773\n",
      "Epoch 00013: val_loss improved from 2.81472 to 2.69689, saving model to F:\\Models\\ImageNet_64\\1\n",
      "INFO:tensorflow:Assets written to: F:\\Models\\ImageNet_64\\1\\assets\n",
      "3333/3333 [==============================] - 223s 67ms/step - loss: 1.6204 - acc: 0.5773 - val_loss: 2.6969 - val_acc: 0.4145\n",
      "Epoch 14/30\n",
      "3332/3333 [============================>.] - ETA: 0s - loss: 1.4565 - acc: 0.6128\n",
      "Epoch 00014: val_loss did not improve from 2.69689\n",
      "3333/3333 [==============================] - 192s 58ms/step - loss: 1.4565 - acc: 0.6128 - val_loss: 2.8123 - val_acc: 0.3898\n",
      "Epoch 15/30\n",
      "3332/3333 [============================>.] - ETA: 0s - loss: 1.2890 - acc: 0.6521\n",
      "Epoch 00015: val_loss did not improve from 2.69689\n",
      "3333/3333 [==============================] - 176s 53ms/step - loss: 1.2890 - acc: 0.6521 - val_loss: 3.0485 - val_acc: 0.3833\n",
      "Epoch 16/30\n",
      "3332/3333 [============================>.] - ETA: 0s - loss: 1.1434 - acc: 0.6855\n",
      "Epoch 00016: val_loss did not improve from 2.69689\n",
      "3333/3333 [==============================] - 176s 53ms/step - loss: 1.1433 - acc: 0.6855 - val_loss: 2.8970 - val_acc: 0.4185\n",
      "Epoch 17/30\n",
      "3332/3333 [============================>.] - ETA: 0s - loss: 0.9838 - acc: 0.7252\n",
      "Epoch 00017: val_loss did not improve from 2.69689\n",
      "3333/3333 [==============================] - 176s 53ms/step - loss: 0.9839 - acc: 0.7252 - val_loss: 2.9006 - val_acc: 0.4219\n",
      "Epoch 18/30\n",
      "3332/3333 [============================>.] - ETA: 0s - loss: 0.8399 - acc: 0.7600\n",
      "Epoch 00018: val_loss did not improve from 2.69689\n",
      "3333/3333 [==============================] - 176s 53ms/step - loss: 0.8400 - acc: 0.7600 - val_loss: 3.4069 - val_acc: 0.3735\n",
      "Epoch 19/30\n",
      "3331/3333 [============================>.] - ETA: 0s - loss: 0.7001 - acc: 0.7957\n",
      "Epoch 00019: val_loss did not improve from 2.69689\n",
      "3333/3333 [==============================] - 176s 53ms/step - loss: 0.6999 - acc: 0.7958 - val_loss: 3.2918 - val_acc: 0.3960\n",
      "Epoch 20/30\n",
      "3332/3333 [============================>.] - ETA: 0s - loss: 0.5773 - acc: 0.8303\n",
      "Epoch 00020: val_loss did not improve from 2.69689\n",
      "3333/3333 [==============================] - 176s 53ms/step - loss: 0.5772 - acc: 0.8303 - val_loss: 3.1989 - val_acc: 0.4102\n",
      "Epoch 21/30\n",
      "3331/3333 [============================>.] - ETA: 0s - loss: 0.4632 - acc: 0.8615\n",
      "Epoch 00021: val_loss did not improve from 2.69689\n",
      "3333/3333 [==============================] - 176s 53ms/step - loss: 0.4632 - acc: 0.8615 - val_loss: 3.3688 - val_acc: 0.4020\n",
      "Epoch 22/30\n",
      "3332/3333 [============================>.] - ETA: 0s - loss: 0.3635 - acc: 0.8923\n",
      "Epoch 00022: val_loss did not improve from 2.69689\n",
      "3333/3333 [==============================] - 177s 53ms/step - loss: 0.3635 - acc: 0.8923 - val_loss: 3.6743 - val_acc: 0.3992\n",
      "Epoch 23/30\n",
      "3332/3333 [============================>.] - ETA: 0s - loss: 0.2831 - acc: 0.9170\n",
      "Epoch 00023: val_loss did not improve from 2.69689\n",
      "3333/3333 [==============================] - 176s 53ms/step - loss: 0.2831 - acc: 0.9170 - val_loss: 3.5634 - val_acc: 0.4223\n",
      "Epoch 24/30\n",
      "3332/3333 [============================>.] - ETA: 0s - loss: 0.2155 - acc: 0.9381\n",
      "Epoch 00024: val_loss did not improve from 2.69689\n",
      "3333/3333 [==============================] - 176s 53ms/step - loss: 0.2155 - acc: 0.9381 - val_loss: 3.7998 - val_acc: 0.4108\n",
      "Epoch 25/30\n",
      "3332/3333 [============================>.] - ETA: 0s - loss: 0.1568 - acc: 0.9570- ETA:\n",
      "Epoch 00025: val_loss did not improve from 2.69689\n",
      "3333/3333 [==============================] - 176s 53ms/step - loss: 0.1568 - acc: 0.9570 - val_loss: 3.7619 - val_acc: 0.4227\n"
     ]
    },
    {
     "name": "stdout",
     "output_type": "stream",
     "text": [
      "Epoch 26/30\n",
      "3332/3333 [============================>.] - ETA: 0s - loss: 0.1119 - acc: 0.9719\n",
      "Epoch 00026: val_loss did not improve from 2.69689\n",
      "3333/3333 [==============================] - 176s 53ms/step - loss: 0.1119 - acc: 0.9719 - val_loss: 3.7851 - val_acc: 0.4223\n",
      "Epoch 27/30\n",
      "3332/3333 [============================>.] - ETA: 0s - loss: 0.0750 - acc: 0.9834\n",
      "Epoch 00027: val_loss did not improve from 2.69689\n",
      "3333/3333 [==============================] - 176s 53ms/step - loss: 0.0750 - acc: 0.9834 - val_loss: 3.8124 - val_acc: 0.4261\n",
      "Epoch 28/30\n",
      "3332/3333 [============================>.] - ETA: 0s - loss: 0.0522 - acc: 0.9902\n",
      "Epoch 00028: val_loss did not improve from 2.69689\n",
      "3333/3333 [==============================] - 176s 53ms/step - loss: 0.0522 - acc: 0.9902 - val_loss: 3.7269 - val_acc: 0.4337\n",
      "Epoch 29/30\n",
      "3332/3333 [============================>.] - ETA: 0s - loss: 0.0355 - acc: 0.9946\n",
      "Epoch 00029: val_loss did not improve from 2.69689\n",
      "3333/3333 [==============================] - 177s 53ms/step - loss: 0.0355 - acc: 0.9946 - val_loss: 3.7248 - val_acc: 0.4422\n",
      "Epoch 30/30\n",
      "3332/3333 [============================>.] - ETA: 0s - loss: 0.0271 - acc: 0.9968\n",
      "Epoch 00030: val_loss did not improve from 2.69689\n",
      "3333/3333 [==============================] - 176s 53ms/step - loss: 0.0271 - acc: 0.9968 - val_loss: 3.6735 - val_acc: 0.4434\n"
     ]
    },
    {
     "ename": "KeyError",
     "evalue": "'accuracy'",
     "output_type": "error",
     "traceback": [
      "\u001b[1;31m---------------------------------------------------------------------------\u001b[0m",
      "\u001b[1;31mKeyError\u001b[0m                                  Traceback (most recent call last)",
      "\u001b[1;32m<ipython-input-8-62711cedcc0f>\u001b[0m in \u001b[0;36m<module>\u001b[1;34m\u001b[0m\n\u001b[0;32m     22\u001b[0m \u001b[1;33m\u001b[0m\u001b[0m\n\u001b[0;32m     23\u001b[0m \u001b[1;31m# plot accuracy and loss curves\u001b[0m\u001b[1;33m\u001b[0m\u001b[1;33m\u001b[0m\u001b[1;33m\u001b[0m\u001b[0m\n\u001b[1;32m---> 24\u001b[1;33m \u001b[0mplot_training_curves\u001b[0m\u001b[1;33m(\u001b[0m\u001b[0mhistory\u001b[0m\u001b[1;33m)\u001b[0m\u001b[1;33m\u001b[0m\u001b[1;33m\u001b[0m\u001b[0m\n\u001b[0m",
      "\u001b[1;32m<ipython-input-7-fcc6d00279ac>\u001b[0m in \u001b[0;36mplot_training_curves\u001b[1;34m(history)\u001b[0m\n\u001b[0;32m      3\u001b[0m \u001b[1;33m\u001b[0m\u001b[0m\n\u001b[0;32m      4\u001b[0m     \u001b[1;31m# training and validation data accuracy\u001b[0m\u001b[1;33m\u001b[0m\u001b[1;33m\u001b[0m\u001b[1;33m\u001b[0m\u001b[0m\n\u001b[1;32m----> 5\u001b[1;33m     \u001b[0macc\u001b[0m     \u001b[1;33m=\u001b[0m \u001b[0mhistory\u001b[0m\u001b[1;33m.\u001b[0m\u001b[0mhistory\u001b[0m\u001b[1;33m[\u001b[0m\u001b[1;34m'accuracy'\u001b[0m\u001b[1;33m]\u001b[0m\u001b[1;33m\u001b[0m\u001b[1;33m\u001b[0m\u001b[0m\n\u001b[0m\u001b[0;32m      6\u001b[0m     \u001b[0mval_acc\u001b[0m \u001b[1;33m=\u001b[0m \u001b[0mhistory\u001b[0m\u001b[1;33m.\u001b[0m\u001b[0mhistory\u001b[0m\u001b[1;33m[\u001b[0m\u001b[1;34m'val_accuracy'\u001b[0m\u001b[1;33m]\u001b[0m\u001b[1;33m\u001b[0m\u001b[1;33m\u001b[0m\u001b[0m\n\u001b[0;32m      7\u001b[0m \u001b[1;33m\u001b[0m\u001b[0m\n",
      "\u001b[1;31mKeyError\u001b[0m: 'accuracy'"
     ]
    }
   ],
   "source": [
    "training_step_size = 100000//TRAINING_NUM_EPOCHS\n",
    "val_step_size = 10000//TRAINING_NUM_EPOCHS\n",
    "\n",
    "# callbacks (learning rate schedule, model checkpointing during training)\n",
    "callbacks = [tf.keras.callbacks.LearningRateScheduler(lr_schedule),\n",
    "             tf.keras.callbacks.ModelCheckpoint(filepath=str(SAVE_MODEL_PATH), \n",
    "                                                save_best_only=True, \n",
    "                                                monitor='val_loss', \n",
    "                                                verbose=1)]\n",
    "\n",
    "# training\n",
    "initial_epoch_num = 0\n",
    "history           = model.fit(x=train_ds_cachefile, \n",
    "                              epochs=TRAINING_NUM_EPOCHS, \n",
    "                              verbose=1, \n",
    "                              steps_per_epoch=training_step_size,\n",
    "                              callbacks=callbacks, \n",
    "                              validation_data=valid_ds_cachefile,                               \n",
    "                              validation_steps=val_step_size,\n",
    "                              initial_epoch=initial_epoch_num)\n",
    "\n",
    "\n",
    "# plot accuracy and loss curves\n",
    "plot_training_curves(history)"
   ]
  },
  {
   "cell_type": "markdown",
   "metadata": {},
   "source": [
    "## Evaluation"
   ]
  },
  {
   "cell_type": "code",
   "execution_count": 10,
   "metadata": {
    "ExecuteTime": {
     "end_time": "2020-02-25T16:29:13.286596Z",
     "start_time": "2020-02-25T16:29:02.841250Z"
    }
   },
   "outputs": [
    {
     "name": "stdout",
     "output_type": "stream",
     "text": [
      "333/333 [==============================] - 10s 31ms/step - loss: 0.9630 - acc: 0.1566\n",
      "Test loss:      0.9630128982597151\n",
      "Test accuracy:  0.15662538\n"
     ]
    }
   ],
   "source": [
    "# test\n",
    "test_loss, test_accuracy = model.evaluate(x=test_ds_nocache, steps=val_step_size)\n",
    "print('Test loss:     ', test_loss)\n",
    "print('Test accuracy: ', test_accuracy)"
   ]
  },
  {
   "cell_type": "code",
   "execution_count": null,
   "metadata": {},
   "outputs": [],
   "source": []
  }
 ],
 "metadata": {
  "kernelspec": {
   "display_name": "Python [conda env:deep-learning]",
   "language": "python",
   "name": "conda-env-deep-learning-py"
  },
  "toc": {
   "base_numbering": 1,
   "nav_menu": {},
   "number_sections": true,
   "sideBar": true,
   "skip_h1_title": false,
   "title_cell": "Table of Contents",
   "title_sidebar": "Contents",
   "toc_cell": false,
   "toc_position": {},
   "toc_section_display": true,
   "toc_window_display": false
  },
  "varInspector": {
   "cols": {
    "lenName": 16,
    "lenType": 16,
    "lenVar": 40
   },
   "kernels_config": {
    "python": {
     "delete_cmd_postfix": "",
     "delete_cmd_prefix": "del ",
     "library": "var_list.py",
     "varRefreshCmd": "print(var_dic_list())"
    },
    "r": {
     "delete_cmd_postfix": ") ",
     "delete_cmd_prefix": "rm(",
     "library": "var_list.r",
     "varRefreshCmd": "cat(var_dic_list()) "
    }
   },
   "types_to_exclude": [
    "module",
    "function",
    "builtin_function_or_method",
    "instance",
    "_Feature"
   ],
   "window_display": false
  }
 },
 "nbformat": 4,
 "nbformat_minor": 2
}
