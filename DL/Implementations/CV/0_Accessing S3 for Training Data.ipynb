{
 "cells": [
  {
   "cell_type": "code",
   "execution_count": 1,
   "metadata": {},
   "outputs": [],
   "source": [
    "import boto3\n",
    "s3 = boto3.client('s3')"
   ]
  },
  {
   "cell_type": "markdown",
   "metadata": {},
   "source": [
    "## Listing Available Buckets"
   ]
  },
  {
   "cell_type": "code",
   "execution_count": 2,
   "metadata": {},
   "outputs": [
    {
     "name": "stdout",
     "output_type": "stream",
     "text": [
      "{'Name': 'deep-learning-2020', 'CreationDate': datetime.datetime(2020, 1, 27, 18, 15, 45, tzinfo=tzlocal())} \n",
      "\n",
      "{'Name': 'elasticbeanstalk-us-east-2-345924873717', 'CreationDate': datetime.datetime(2018, 11, 3, 19, 26, 1, tzinfo=tzlocal())} \n",
      "\n",
      "{'Name': 'harrisonjansma.com', 'CreationDate': datetime.datetime(2019, 11, 23, 21, 41, 42, tzinfo=tzlocal())} \n",
      "\n",
      "{'Name': 'www.harrisonjansma.com', 'CreationDate': datetime.datetime(2019, 11, 23, 20, 26, 59, tzinfo=tzlocal())} \n",
      "\n"
     ]
    }
   ],
   "source": [
    "response = s3.list_buckets()\n",
    "for b in response['Buckets']:\n",
    "    print(b, '\\n')"
   ]
  },
  {
   "cell_type": "markdown",
   "metadata": {},
   "source": [
    "## Uploading Files from Local"
   ]
  },
  {
   "cell_type": "code",
   "execution_count": 3,
   "metadata": {},
   "outputs": [],
   "source": [
    "with open('taco.txt', 'w') as f:\n",
    "    f.write('yum')"
   ]
  },
  {
   "cell_type": "code",
   "execution_count": 4,
   "metadata": {},
   "outputs": [],
   "source": [
    "s3.upload_file('taco.txt','deep-learning-2020', 'taco.txt')"
   ]
  },
  {
   "cell_type": "markdown",
   "metadata": {},
   "source": [
    "## Looking At Objects in Bucket"
   ]
  },
  {
   "cell_type": "code",
   "execution_count": 8,
   "metadata": {},
   "outputs": [
    {
     "name": "stdout",
     "output_type": "stream",
     "text": [
      "{'Key': 'taco.txt', 'LastModified': datetime.datetime(2020, 1, 27, 18, 55, 56, tzinfo=tzlocal()), 'ETag': '\"1de0b4f0d139f781b3b4de87edb4de70\"', 'Size': 3, 'StorageClass': 'STANDARD', 'Owner': {'ID': '61be53a7731a0aa7919380392122702949fa7d6c1df62203619327391731416c'}} \n",
      "\n"
     ]
    }
   ],
   "source": [
    "response = s3.list_objects(Bucket='deep-learning-2020') #you can also filter by prefix\n",
    "for c in response['Contents']:\n",
    "    print(c,'\\n')"
   ]
  },
  {
   "cell_type": "markdown",
   "metadata": {},
   "source": [
    "## Download File to Local"
   ]
  },
  {
   "cell_type": "code",
   "execution_count": 9,
   "metadata": {},
   "outputs": [],
   "source": [
    "!rm taco.txt"
   ]
  },
  {
   "cell_type": "code",
   "execution_count": 10,
   "metadata": {},
   "outputs": [],
   "source": [
    "s3.download_file('deep-learning-2020', 'taco.txt', 'taco2.txt')"
   ]
  },
  {
   "cell_type": "code",
   "execution_count": 11,
   "metadata": {},
   "outputs": [
    {
     "name": "stdout",
     "output_type": "stream",
     "text": [
      "0_Accessing S3 for Training Data.ipynb\ttaco2.txt\r\n"
     ]
    }
   ],
   "source": [
    "!ls"
   ]
  },
  {
   "cell_type": "markdown",
   "metadata": {},
   "source": [
    "## Reading Files"
   ]
  },
  {
   "cell_type": "code",
   "execution_count": 13,
   "metadata": {},
   "outputs": [
    {
     "data": {
      "text/plain": [
       "b'yum'"
      ]
     },
     "execution_count": 13,
     "metadata": {},
     "output_type": "execute_result"
    }
   ],
   "source": [
    "BUCKET_NAME = \"deep-learning-2020\"\n",
    "\n",
    "obj = s3.get_object(Bucket=BUCKET_NAME, Key='taco.txt')\n",
    "obj[\"Body\"].read()"
   ]
  },
  {
   "cell_type": "code",
   "execution_count": 14,
   "metadata": {},
   "outputs": [
    {
     "data": {
      "text/plain": [
       "<_io.BytesIO at 0x7f36a8fc8258>"
      ]
     },
     "execution_count": 14,
     "metadata": {},
     "output_type": "execute_result"
    }
   ],
   "source": [
    "from io import BytesIO\n",
    "obj = s3.get_object(Bucket=BUCKET_NAME, Key='taco.txt')\n",
    "BytesIO(obj[\"Body\"].read())"
   ]
  },
  {
   "cell_type": "code",
   "execution_count": null,
   "metadata": {},
   "outputs": [],
   "source": []
  },
  {
   "cell_type": "code",
   "execution_count": null,
   "metadata": {},
   "outputs": [],
   "source": []
  },
  {
   "cell_type": "code",
   "execution_count": null,
   "metadata": {},
   "outputs": [],
   "source": []
  },
  {
   "cell_type": "code",
   "execution_count": null,
   "metadata": {},
   "outputs": [],
   "source": []
  },
  {
   "cell_type": "code",
   "execution_count": null,
   "metadata": {},
   "outputs": [],
   "source": []
  },
  {
   "cell_type": "code",
   "execution_count": null,
   "metadata": {},
   "outputs": [],
   "source": []
  }
 ],
 "metadata": {
  "kernelspec": {
   "display_name": "Environment (conda_tensorflow2_p36)",
   "language": "python",
   "name": "conda_tensorflow2_p36"
  },
  "language_info": {
   "codemirror_mode": {
    "name": "ipython",
    "version": 3
   },
   "file_extension": ".py",
   "mimetype": "text/x-python",
   "name": "python",
   "nbconvert_exporter": "python",
   "pygments_lexer": "ipython3",
   "version": "3.6.5"
  }
 },
 "nbformat": 4,
 "nbformat_minor": 2
}
