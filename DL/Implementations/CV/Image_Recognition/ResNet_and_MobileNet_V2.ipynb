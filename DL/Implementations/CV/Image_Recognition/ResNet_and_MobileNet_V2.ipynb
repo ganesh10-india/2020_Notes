{
 "cells": [
  {
   "cell_type": "markdown",
   "metadata": {},
   "source": [
    "# CNN Image Recognition Architecture Implementation\n"
   ]
  },
  {
   "cell_type": "code",
   "execution_count": 1,
   "metadata": {
    "ExecuteTime": {
     "end_time": "2020-02-29T00:46:23.099949Z",
     "start_time": "2020-02-29T00:46:19.654034Z"
    }
   },
   "outputs": [],
   "source": [
    "#GETTING THE CIFAR DATASET READY FOR EXPERIMENTATION\n",
    "import tensorflow_datasets as tfds\n",
    "import tensorflow as     tf\n",
    "import math\n",
    "import numpy             as np\n",
    "import matplotlib.pyplot as plt\n",
    "from tensorflow.keras.layers import *"
   ]
  },
  {
   "cell_type": "code",
   "execution_count": 2,
   "metadata": {
    "ExecuteTime": {
     "end_time": "2020-02-29T00:46:23.127873Z",
     "start_time": "2020-02-29T00:46:23.100944Z"
    }
   },
   "outputs": [],
   "source": [
    "DATA_NUM_CLASSES        = 10\n",
    "DATA_CHANNELS           = 3\n",
    "DATA_ROWS               = 32\n",
    "DATA_COLS               = 32\n",
    "DATA_CROP_ROWS          = 28\n",
    "DATA_CROP_COLS          = 28\n",
    "DATA_MEAN               = np.array([[[125.30691805, 122.95039414, 113.86538318]]]) # CIFAR10\n",
    "DATA_STD_DEV            = np.array([[[ 62.99321928,  62.08870764,  66.70489964]]]) # CIFAR10\n",
    "\n",
    "# model\n",
    "MODEL_LEVEL_0_BLOCKS    = 4\n",
    "MODEL_LEVEL_1_BLOCKS    = 4\n",
    "MODEL_LEVEL_2_BLOCKS    = 5\n",
    "BLOCK_REPEATS = [MODEL_LEVEL_0_BLOCKS,MODEL_LEVEL_1_BLOCKS,MODEL_LEVEL_2_BLOCKS]\n",
    "\n",
    "# training\n",
    "TRAINING_BATCH_SIZE      = 128\n",
    "TRAINING_SHUFFLE_BUFFER  = 5000\n",
    "TRAINING_BN_MOMENTUM     = 0.9\n",
    "TRAINING_BN_EPSILON      = 0.001\n",
    "\n",
    "TRAINING_LR_MAX          = 0.001\n",
    "TRAINING_LR_INIT_SCALE   = 0.01\n",
    "TRAINING_LR_INIT_EPOCHS  = 5\n",
    "TRAINING_LR_FINAL_SCALE  = 0.01\n",
    "TRAINING_LR_FINAL_EPOCHS = 25\n",
    "\n",
    "# training (derived)\n",
    "TRAINING_NUM_EPOCHS = TRAINING_LR_INIT_EPOCHS + TRAINING_LR_FINAL_EPOCHS\n",
    "TRAINING_LR_INIT    = TRAINING_LR_MAX*TRAINING_LR_INIT_SCALE\n",
    "TRAINING_LR_FINAL   = TRAINING_LR_MAX*TRAINING_LR_FINAL_SCALE\n",
    "\n",
    "# saving\n",
    "SAVE_MODEL_PATH = 'F://Models/Model_Design/'\n",
    "\n",
    "\n",
    "######################################################################\n",
    "# TRAINING FUNCTIONS FOR THE CIFAR DATASET\n",
    "######################################################################\n",
    "def pre_processing_train(example):\n",
    "    image = example[\"image\"]\n",
    "    label = example[\"label\"]\n",
    "    image = tf.math.divide(tf.math.subtract(tf.dtypes.cast(image, tf.float32), DATA_MEAN), DATA_STD_DEV)\n",
    "    image = tf.image.random_flip_left_right(image)\n",
    "    image = tf.image.random_crop(image, size=[DATA_CROP_ROWS, DATA_CROP_COLS, 3])\n",
    "    label = tf.dtypes.cast(label, tf.int32)\n",
    "    return image, label\n",
    "\n",
    "def pre_processing_test(example):\n",
    "    image = example[\"image\"]\n",
    "    label = example[\"label\"]\n",
    "    image = tf.math.divide(tf.math.subtract(tf.dtypes.cast(image, tf.float32), DATA_MEAN), DATA_STD_DEV)\n",
    "    image = tf.image.crop_to_bounding_box(image, (DATA_ROWS - DATA_CROP_ROWS) // 2, (DATA_COLS - DATA_CROP_COLS) // 2, DATA_CROP_ROWS, DATA_CROP_COLS)\n",
    "    label = tf.dtypes.cast(label, tf.int32)\n",
    "    return image, label\n",
    "\n",
    "# learning rate schedule\n",
    "def lr_schedule(epoch):\n",
    "    if epoch < TRAINING_LR_INIT_EPOCHS:\n",
    "        lr = (TRAINING_LR_MAX - TRAINING_LR_INIT)*(float(epoch)/TRAINING_LR_INIT_EPOCHS) + TRAINING_LR_INIT\n",
    "    else:\n",
    "        lr = (TRAINING_LR_MAX - TRAINING_LR_FINAL)*max(0.0, math.cos(((float(epoch) - TRAINING_LR_INIT_EPOCHS)/(TRAINING_LR_FINAL_EPOCHS - 1.0))*(math.pi/2.0))) + TRAINING_LR_FINAL\n",
    "    return lr\n",
    "\n",
    "def plot_training_curves(history):\n",
    "    # training and validation data accuracy\n",
    "    acc     = history.history['accuracy']\n",
    "    val_acc = history.history['val_accuracy']\n",
    "\n",
    "    # training and validation data loss\n",
    "    loss     = history.history['loss']\n",
    "    val_loss = history.history['val_loss']\n",
    "\n",
    "    # plot accuracy\n",
    "    plt.figure(figsize=(8, 8))\n",
    "    plt.subplot(2, 1, 1)\n",
    "    plt.plot(acc, label='Training Accuracy')\n",
    "    plt.plot(val_acc, label='Validation Accuracy')\n",
    "    plt.legend(loc='lower right')\n",
    "    plt.ylabel('Accuracy')\n",
    "    plt.ylim([min(plt.ylim()), 1])\n",
    "    plt.title('Training and Validation Accuracy')\n",
    "\n",
    "    # plot loss\n",
    "    plt.subplot(2, 1, 2)\n",
    "    plt.plot(loss, label='Training Loss')\n",
    "    plt.plot(val_loss, label='Validation Loss')\n",
    "    plt.legend(loc='upper right')\n",
    "    plt.ylabel('Cross Entropy')\n",
    "    plt.ylim([0, 2.0])\n",
    "    plt.title('Training and Validation Loss')\n",
    "    plt.xlabel('epoch')\n",
    "    plt.show()\n",
    "\n",
    "\n",
    "def train(MODEL, model_name, logs=False):\n",
    "    \"\"\"\n",
    "    Inputs:\n",
    "    MODEL: tf.keras.Model - used for training\n",
    "    model_name: string - name of the trained model\n",
    "    logs: Bool - whether to print logs for each training epoch\n",
    "    \n",
    "    Trains MODEL for TRAINING_NUM_EPOCHS epochs, saving best model at \n",
    "    each epoch. Plots the training curve and evaluates the final model on\n",
    "    the validation dataset.\n",
    "    \n",
    "    \"\"\"\n",
    "    print(\"######################################################\")\n",
    "    print(model_name)\n",
    "    print(\"######################################################\")\n",
    "    \n",
    "    callbacks = [tf.keras.callbacks.LearningRateScheduler(lr_schedule),\n",
    "                 tf.keras.callbacks.ModelCheckpoint(filepath=str(SAVE_MODEL_PATH)+model_name+'/', \n",
    "                                                    save_best_only=True, \n",
    "                                                    period=10,\n",
    "                                                    monitor='val_loss', \n",
    "                                                    verbose=0)]\n",
    "    # training\n",
    "    initial_epoch_num = 0\n",
    "    print(\"Training model {}...\".format(model_name))\n",
    "    history  = MODEL.fit(x=dataset_train, \n",
    "                          epochs=TRAINING_NUM_EPOCHS, \n",
    "                          verbose=logs, \n",
    "                          callbacks=callbacks, \n",
    "                          validation_data=dataset_test,                               \n",
    "                          initial_epoch=initial_epoch_num)\n",
    "\n",
    "    print(\"Training complete.\")\n",
    "    return history\n",
    "\n",
    "def benchmark(MODEL, history, model_name):\n",
    "    # plot accuracy and loss curves\n",
    "    plot_training_curves(history)\n",
    "    # test\n",
    "    test_loss, test_accuracy = MODEL.evaluate(x=dataset_test)\n",
    "    print('Test loss:     ', test_loss)\n",
    "    print('Test accuracy: ', test_accuracy)"
   ]
  },
  {
   "cell_type": "code",
   "execution_count": 3,
   "metadata": {
    "ExecuteTime": {
     "end_time": "2020-02-29T00:46:24.522920Z",
     "start_time": "2020-02-29T00:46:23.129867Z"
    }
   },
   "outputs": [],
   "source": [
    "#PREPARE THE CIFAR DATASET\n",
    "# download data and split into training and testing datasets\n",
    "dataset_train, info = tfds.load(\"cifar10\", split=tfds.Split.TRAIN, with_info=True)\n",
    "dataset_test,  info = tfds.load(\"cifar10\", split=tfds.Split.TEST,  with_info=True)\n",
    "\n",
    "dataset_train = dataset_train.map(pre_processing_train, num_parallel_calls=4)\n",
    "dataset_train = dataset_train.shuffle(buffer_size=TRAINING_SHUFFLE_BUFFER)\n",
    "dataset_train = dataset_train.batch(TRAINING_BATCH_SIZE)\n",
    "dataset_train = dataset_train.prefetch(buffer_size=3)\n",
    "\n",
    "# transform testing dataset\n",
    "dataset_test = dataset_test.map(pre_processing_test, num_parallel_calls=4)\n",
    "dataset_test = dataset_test.batch(TRAINING_BATCH_SIZE)\n",
    "dataset_test = dataset_test.prefetch(buffer_size=3)"
   ]
  },
  {
   "cell_type": "markdown",
   "metadata": {},
   "source": [
    "## CNN Architecture Utilities"
   ]
  },
  {
   "cell_type": "code",
   "execution_count": 4,
   "metadata": {
    "ExecuteTime": {
     "end_time": "2020-02-29T00:46:24.534848Z",
     "start_time": "2020-02-29T00:46:24.524845Z"
    }
   },
   "outputs": [],
   "source": [
    "conv_params = {\"padding\":'same',\n",
    "              \"use_bias\":False,\n",
    "              \"activation\":None}\n",
    "\n",
    "bn_params = {\"axis\":-1,\n",
    "             \"momentum\":TRAINING_BN_MOMENTUM, \n",
    "             \"epsilon\":TRAINING_BN_EPSILON, \n",
    "             \"center\":True, \n",
    "             \"scale\":True}\n",
    "\n",
    "def conv_block(inputs, filters, kernel_size=(3,3), strides=(1,1)):\n",
    "    \"\"\"Generic Conv -> BN -> ReLU abstraction\"\"\"\n",
    "    x = Conv2D(filters, kernel_size, strides=strides, **conv_params)(inputs)\n",
    "    x = BatchNormalization(**bn_params)(x)\n",
    "    x = ReLU()(x)\n",
    "    return x  \n",
    "\n",
    "def VGG_Like_CNN(tail_function, block_function, head_function, input_shape=None, num_levels=None, block_repeats=None, start_dims=32):\n",
    "    \"\"\"\n",
    "    INPUTS:\n",
    "    tail_function: function(in_tensor, dims, **kwargs) -> out tensor\n",
    "    block_function: function(in_tensor, dims, downsampling=Bool, **kwargs) -> out tensor\n",
    "    head_function: function(in_tensor, dims=None, **kwargs) -> out tensor\n",
    "    input_shape: tuple- input shape of the network ex. (15,) or (3,32,32)\n",
    "    num_levels: int - number of levels in the VGG-like architecture\n",
    "    block_repeats: list - number of block repeats for each level of VGG-like architecture\n",
    "    start_dims: int - number of filters to be given to the head block. will double each level\n",
    "    \"\"\"\n",
    "    model_input = Input(shape=input_shape)\n",
    "    dims = int(start_dims)\n",
    "    \n",
    "    #TAIL\n",
    "    x = tail_function(model_input, dims)\n",
    "    \n",
    "    #BODY\n",
    "    for level in range(num_levels):\n",
    "        for block in range(block_repeats[level]):\n",
    "            x = block_function(x, dims)\n",
    "        dims = int(dims*2)\n",
    "        x = block_function(x, dims, downsample=True)\n",
    "        \n",
    "    #HEAD\n",
    "    model_output = head_function(x, dims=dims)\n",
    "    return tf.keras.Model(inputs=model_input, outputs=model_output)"
   ]
  },
  {
   "cell_type": "markdown",
   "metadata": {},
   "source": [
    "## ResNet Architecture\n",
    "\n",
    "### Sources \n",
    "- [1](https://arxiv.org/pdf/1611.05431.pdf)\n",
    "- [2](https://arxiv.org/pdf/1512.03385.pdf)\n",
    "- [3](https://arxiv.org/pdf/1603.05027.pdf)\n",
    "\n",
    "### Notes\n",
    "[ResNet V1 Paper](https://arxiv.org/pdf/1512.03385.pdf)\n",
    "\n",
    "__Intuition behind Residual Connenction__\n",
    "\n",
    "*The degradation (of training accuracy) indicates that not\n",
    "all systems are similarly easy to optimize... There exists a solution by construction\n",
    "to the deeper model: the added layers are identity mapping,\n",
    "and the other layers are copied from the learned shallower\n",
    "model. The existence of this constructed solution indicates\n",
    "that a deeper model should produce no higher training error\n",
    "than its shallower counterpart.*\n",
    "\n",
    "*or unable to do so in feasible time).\n",
    "In this paper, we address the degradation problem by\n",
    "introducing a deep residual learning framework.... we let the stacked nonlinear\n",
    "layers fit another mapping of F(x) := H(x)−x. The original mapping is recast into F(x)+x. We hypothesize that it\n",
    "is easier to optimize the residual mapping than to optimize\n",
    "the original, unreferenced mapping. To the extreme, if an\n",
    "identity mapping were optimal, it would be easier to push\n",
    "the residual to zero than to fit an identity mapping by a stack\n",
    "of nonlinear layers.*\n",
    "\n",
    "*. With the residual learning reformulation, if identity mappings are optimal, the solvers\n",
    "may simply drive the weights of the multiple nonlinear layers toward zero to approach identity mappings.*\n",
    "VGG style architecture with bottleneck \"residual blocks\" that allow propagation of gradients cleanly anywhere in the network. Allows the training of arbitratily deep networks by allowing the network to easily map a layer to an *identity function*, zeroeing out the parameters of network layers that do not improve performance.\n",
    "\n",
    "More Notes: \n",
    "- For downsampling blocks where the shape of the input is changed, the \"identity path\" must go through a 1x1 Conv layer w/ stride 2 and no activation.\n",
    "- Activation and batch norm are best applied __before__ the convolution operation (within the residual path).\n",
    "\n",
    "__What to do during down sampling__\n",
    "\n",
    "*The dimensions of x and F must be equal in Eqn.(1).\n",
    "If this is not the case (e.g., when changing the input/output\n",
    "channels), we can perform a __linear projection Ws__ by the\n",
    "shortcut connections to match the dimensions:\n",
    "y = F(x, {Wi}) + Wsx.*\n",
    "\n",
    "*The identity shortcuts (Eqn.(1)) can be directly used when the input and utput are of the same dimensions (solid line shortcuts in ig. 3). When the dimensions increase (dotted line shortcuts in Fig. 3), we consider two options: (A) The shortcut still performs identity mapping, with extra zero entries padded for increasing dimensions. This option introduces no extra parameter; (B) __The projection shortcut in Eqn.(2) is used to match dimensions (done by 1×1 convolutions)__. For both options, when the shortcuts go across feature maps of two sizes, they are performed with a stride of 2.*"
   ]
  },
  {
   "cell_type": "code",
   "execution_count": 5,
   "metadata": {
    "ExecuteTime": {
     "end_time": "2020-02-29T00:46:24.552092Z",
     "start_time": "2020-02-29T00:46:24.536812Z"
    }
   },
   "outputs": [],
   "source": [
    "#RESNET V1\n",
    "def resnet_tail(inputs, dims):\n",
    "    return Conv2D(dims, (3,3), **conv_params)(inputs)\n",
    "\n",
    "def resnet_block(inputs, expand_dims, squeeze_ratio=.25, downsample=False):\n",
    "    \"\"\"\n",
    "    INPUTS\n",
    "    inputs: tensor\n",
    "    exand_dims: int\n",
    "    squeeze_ratio: float - multiplier to squeeze channel dimenions in bottleneck\n",
    "    \n",
    "    Bottleneck implementation of a ResNet block\n",
    "    conv 1x1 -> squeeze the number of channel dimensions to squeeze_channels\n",
    "    conv 3x3 -> map spatial data still low dim\n",
    "    conv 1x1 -> expand dimensions on channel axis to expand_dims\n",
    "    \"\"\"\n",
    "    squeeze_dims= int(expand_dims // (1/squeeze_ratio))\n",
    "    if downsample:\n",
    "        strides =(2,2)\n",
    "    else:\n",
    "        strides=(1,1)\n",
    "        \n",
    "    #RESIDUAL PATH\n",
    "    resid = BatchNormalization(**bn_params)(inputs)  #Note that BN and ReLU are preactivations\n",
    "    resid = ReLU()(resid)\n",
    "    resid = conv_block(resid, squeeze_dims, kernel_size=(1,1), strides=strides) #potential improvement, no activation after squeeze\n",
    "    resid = conv_block(resid, squeeze_dims, kernel_size=(3,3))\n",
    "    resid = Conv2D(expand_dims, (1,1), **conv_params)(resid)\n",
    "    \n",
    "    #IDENTITY PATH\n",
    "    if downsample:\n",
    "        inputs = Conv2D(expand_dims, (1,1), strides=strides, **conv_params)(inputs)\n",
    "    \n",
    "    #COMBINE\n",
    "    return Add()([inputs, resid])\n",
    "\n",
    "def resnet_head(inputs, dims=None):\n",
    "    # NOT SURE IF THERE NEEDS TO BE A BN RELU HERE\n",
    "    # IT WILL OBSTRUCT BACKPROP THROUGH IDENTITY\n",
    "    x = BatchNormalization(**bn_params)\n",
    "    x = GlobalAveragePooling2D()(inputs)\n",
    "    return Dense(DATA_NUM_CLASSES, activation='softmax')(x)"
   ]
  },
  {
   "cell_type": "code",
   "execution_count": 6,
   "metadata": {
    "ExecuteTime": {
     "end_time": "2020-02-29T00:46:26.689931Z",
     "start_time": "2020-02-29T00:46:24.554087Z"
    },
    "scrolled": false
   },
   "outputs": [],
   "source": [
    "resnet = VGG_Like_CNN(resnet_tail,\n",
    "            resnet_block,\n",
    "            resnet_head,\n",
    "            input_shape = (DATA_CROP_ROWS, DATA_CROP_COLS, DATA_CHANNELS),\n",
    "            num_levels= 3,\n",
    "            block_repeats=BLOCK_REPEATS)\n",
    "\n",
    "resnet.compile(optimizer = tf.keras.optimizers.Adam(TRAINING_LR_MAX),\n",
    "              loss='sparse_categorical_crossentropy',\n",
    "               metrics=['accuracy'])"
   ]
  },
  {
   "cell_type": "code",
   "execution_count": 7,
   "metadata": {
    "ExecuteTime": {
     "end_time": "2020-02-29T00:56:28.004367Z",
     "start_time": "2020-02-29T00:46:26.690884Z"
    },
    "scrolled": false
   },
   "outputs": [
    {
     "name": "stdout",
     "output_type": "stream",
     "text": [
      "######################################################\n",
      "resnet_w_bottleneck\n",
      "######################################################\n",
      "WARNING:tensorflow:`period` argument is deprecated. Please use `save_freq` to specify the frequency in number of samples seen.\n"
     ]
    },
    {
     "name": "stderr",
     "output_type": "stream",
     "text": [
      "WARNING:tensorflow:`period` argument is deprecated. Please use `save_freq` to specify the frequency in number of samples seen.\n"
     ]
    },
    {
     "name": "stdout",
     "output_type": "stream",
     "text": [
      "Training model resnet_w_bottleneck...\n",
      "WARNING:tensorflow:From C:\\Users\\harri\\Anaconda3\\envs\\deep-learning\\lib\\site-packages\\tensorflow_core\\python\\ops\\resource_variable_ops.py:1786: calling BaseResourceVariable.__init__ (from tensorflow.python.ops.resource_variable_ops) with constraint is deprecated and will be removed in a future version.\n",
      "Instructions for updating:\n",
      "If using Keras pass *_constraint arguments to layers.\n"
     ]
    },
    {
     "name": "stderr",
     "output_type": "stream",
     "text": [
      "WARNING:tensorflow:From C:\\Users\\harri\\Anaconda3\\envs\\deep-learning\\lib\\site-packages\\tensorflow_core\\python\\ops\\resource_variable_ops.py:1786: calling BaseResourceVariable.__init__ (from tensorflow.python.ops.resource_variable_ops) with constraint is deprecated and will be removed in a future version.\n",
      "Instructions for updating:\n",
      "If using Keras pass *_constraint arguments to layers.\n"
     ]
    },
    {
     "name": "stdout",
     "output_type": "stream",
     "text": [
      "INFO:tensorflow:Assets written to: F://Models/Model_Design/resnet_w_bottleneck/assets\n"
     ]
    },
    {
     "name": "stderr",
     "output_type": "stream",
     "text": [
      "INFO:tensorflow:Assets written to: F://Models/Model_Design/resnet_w_bottleneck/assets\n"
     ]
    },
    {
     "name": "stdout",
     "output_type": "stream",
     "text": [
      "INFO:tensorflow:Assets written to: F://Models/Model_Design/resnet_w_bottleneck/assets\n"
     ]
    },
    {
     "name": "stderr",
     "output_type": "stream",
     "text": [
      "INFO:tensorflow:Assets written to: F://Models/Model_Design/resnet_w_bottleneck/assets\n"
     ]
    },
    {
     "name": "stdout",
     "output_type": "stream",
     "text": [
      "INFO:tensorflow:Assets written to: F://Models/Model_Design/resnet_w_bottleneck/assets\n"
     ]
    },
    {
     "name": "stderr",
     "output_type": "stream",
     "text": [
      "INFO:tensorflow:Assets written to: F://Models/Model_Design/resnet_w_bottleneck/assets\n"
     ]
    },
    {
     "name": "stdout",
     "output_type": "stream",
     "text": [
      "Training complete.\n"
     ]
    }
   ],
   "source": [
    "hist = train(resnet, 'resnet_w_bottleneck')"
   ]
  },
  {
   "cell_type": "code",
   "execution_count": 8,
   "metadata": {
    "ExecuteTime": {
     "end_time": "2020-02-29T00:56:29.774189Z",
     "start_time": "2020-02-29T00:56:28.007359Z"
    }
   },
   "outputs": [
    {
     "data": {
      "image/png": "[encoded data removed]",
      "text/plain": [
       "<Figure size 576x576 with 2 Axes>"
      ]
     },
     "metadata": {
      "needs_background": "light"
     },
     "output_type": "display_data"
    },
    {
     "name": "stdout",
     "output_type": "stream",
     "text": [
      "     79/Unknown - 1s 17ms/step - loss: 0.4663 - accuracy: 0.8393Test loss:      0.4662646779531165\n",
      "Test accuracy:  0.8393\n"
     ]
    }
   ],
   "source": [
    "benchmark(resnet, hist, 'resnet_w_bottleneck')"
   ]
  },
  {
   "cell_type": "markdown",
   "metadata": {},
   "source": [
    "### Potential Improvements\n",
    "- MobileNet V2 paper suggested that the ReLU activation throws away a lot of information in the bottleneck layer output. Their suggestion, no activation after the bottleneck layer."
   ]
  },
  {
   "cell_type": "code",
   "execution_count": null,
   "metadata": {},
   "outputs": [],
   "source": []
  },
  {
   "cell_type": "markdown",
   "metadata": {},
   "source": [
    "## MobileNet V2 Architecture\n",
    "\n",
    "- [1](https://arxiv.org/pdf/1801.04381.pdf)\n",
    "\n",
    "- [2](https://towardsdatascience.com/mobilenetv2-inverted-residuals-and-linear-bottlenecks-8a4362f4ffd5)\n",
    "\n",
    "__Main Contributions__\n",
    "- Depthwise Seperable Convolutions - reduce the computational complexity of a standard 2D Conv by replacing this layer with two layers. The first, a __3x3 depthwise convolution__ applying K kernels with each channel (where K is the number of input channels). Second, a __1x1 pointwise convolution__ to produce linear combinations of channel pixels.\n",
    "\n",
    "- Linear Bottlenecks - TLDR when you are compressing your representation with a convolutional operation, do not use a nonlinearity after the compression. (especially ReLU which throws out negative activations) Instead, make bottleneck layers linear operations.\n",
    "\n",
    "- Inverted Residuals"
   ]
  },
  {
   "cell_type": "code",
   "execution_count": 9,
   "metadata": {
    "ExecuteTime": {
     "end_time": "2020-02-29T00:56:29.788131Z",
     "start_time": "2020-02-29T00:56:29.776163Z"
    }
   },
   "outputs": [],
   "source": [
    "def mobilenet_v2_tail(inputs, dims):\n",
    "    return Conv2D(dims, (3,3), **conv_params)(inputs)\n",
    "\n",
    "def inverted_residual(inputs, squeeze_dims, expand_ratio=4, downsample=False):\n",
    "    \"\"\"\n",
    "    inputs: Tensor- input to the first layer\n",
    "    squeeze_dims: int - depth of the channel dimension after squeeze\n",
    "    expand_ratio: float - multiplier to expand channel dimenions after bottleneck\n",
    "    downsample: bool - whether to downsample the image\n",
    "    \n",
    "    Inverted residual a la MobileNet V2 note the channel dimension will\n",
    "     be expanded by pointwise conv, processed with depthwise conv, then \n",
    "     compressed by a linear bottleneck\n",
    "    \"\"\"\n",
    "    \n",
    "    expand_dims = int(squeeze_dims * expand_ratio)\n",
    "    if downsample:\n",
    "        strides =(2,2)\n",
    "    else:\n",
    "        strides=(1,1)\n",
    "                \n",
    "    #RESIDUAL PATH (EXPAND - > COMPRESS)\n",
    "    x = Conv2D(expand_dims, (1, 1), strides=strides, **conv_params)(inputs) #expansion (linear comb across channels)\n",
    "    x = BatchNormalization(**bn_params)(x)\n",
    "    x = ReLU(max_value=6)(x)  # the paper uses ReLU6, a thresholded ReLU (3-bit output)\n",
    "\n",
    "    x = DepthwiseConv2D((3,3), strides=(1,1), **conv_params)(x) #depthwise conv (for spatial data)\n",
    "    x = BatchNormalization(**bn_params)(x)\n",
    "    x = ReLU(max_value=6)(x)\n",
    "    \n",
    "    x = Conv2D(squeeze_dims, (1, 1), strides=(1, 1), **conv_params)(x) #bottleneck layer\n",
    "    x = BatchNormalization(**bn_params)(x) #No activation here (Linear BottleNeck)\n",
    "    \n",
    "    #IDENTITY PATH\n",
    "    if downsample: # maintain dimensions during downsampling\n",
    "        inputs = Conv2D(squeeze_dims, (1, 1), strides=strides, padding='same')(inputs)\n",
    "    \n",
    "    #COMBINE\n",
    "    return Add()([x, inputs])\n",
    "\n",
    "def mobilenet_v2_head(inputs, dims=None):\n",
    "    x = Conv2D(dims, (1, 1), strides=(1,1), padding='same')(inputs)\n",
    "    x = GlobalAveragePooling2D()(x)\n",
    "    return Dense(DATA_NUM_CLASSES, activation='softmax')(x)"
   ]
  },
  {
   "cell_type": "code",
   "execution_count": 10,
   "metadata": {
    "ExecuteTime": {
     "end_time": "2020-02-29T00:56:31.553467Z",
     "start_time": "2020-02-29T00:56:29.789647Z"
    }
   },
   "outputs": [],
   "source": [
    "mobilenet_v2 = VGG_Like_CNN(mobilenet_v2_tail,\n",
    "            inverted_residual,\n",
    "            mobilenet_v2_head,\n",
    "            input_shape = (DATA_CROP_ROWS, DATA_CROP_COLS, DATA_CHANNELS),\n",
    "            num_levels= 3,\n",
    "            block_repeats=BLOCK_REPEATS)\n",
    "\n",
    "mobilenet_v2.compile(optimizer = tf.keras.optimizers.Adam(TRAINING_LR_MAX),\n",
    "              loss='sparse_categorical_crossentropy',\n",
    "               metrics=['accuracy'])"
   ]
  },
  {
   "cell_type": "code",
   "execution_count": 11,
   "metadata": {
    "ExecuteTime": {
     "end_time": "2020-02-29T01:23:54.945628Z",
     "start_time": "2020-02-29T00:56:31.555425Z"
    }
   },
   "outputs": [
    {
     "name": "stdout",
     "output_type": "stream",
     "text": [
      "######################################################\n",
      "mobilenet_v2\n",
      "######################################################\n",
      "WARNING:tensorflow:`period` argument is deprecated. Please use `save_freq` to specify the frequency in number of samples seen.\n"
     ]
    },
    {
     "name": "stderr",
     "output_type": "stream",
     "text": [
      "WARNING:tensorflow:`period` argument is deprecated. Please use `save_freq` to specify the frequency in number of samples seen.\n"
     ]
    },
    {
     "name": "stdout",
     "output_type": "stream",
     "text": [
      "Training model mobilenet_v2...\n",
      "INFO:tensorflow:Assets written to: F://Models/Model_Design/mobilenet_v2/assets\n"
     ]
    },
    {
     "name": "stderr",
     "output_type": "stream",
     "text": [
      "INFO:tensorflow:Assets written to: F://Models/Model_Design/mobilenet_v2/assets\n"
     ]
    },
    {
     "name": "stdout",
     "output_type": "stream",
     "text": [
      "INFO:tensorflow:Assets written to: F://Models/Model_Design/mobilenet_v2/assets\n"
     ]
    },
    {
     "name": "stderr",
     "output_type": "stream",
     "text": [
      "INFO:tensorflow:Assets written to: F://Models/Model_Design/mobilenet_v2/assets\n"
     ]
    },
    {
     "name": "stdout",
     "output_type": "stream",
     "text": [
      "INFO:tensorflow:Assets written to: F://Models/Model_Design/mobilenet_v2/assets\n"
     ]
    },
    {
     "name": "stderr",
     "output_type": "stream",
     "text": [
      "INFO:tensorflow:Assets written to: F://Models/Model_Design/mobilenet_v2/assets\n"
     ]
    },
    {
     "name": "stdout",
     "output_type": "stream",
     "text": [
      "Training complete.\n"
     ]
    }
   ],
   "source": [
    "hist = train(mobilenet_v2, 'mobilenet_v2')"
   ]
  },
  {
   "cell_type": "code",
   "execution_count": 12,
   "metadata": {
    "ExecuteTime": {
     "end_time": "2020-02-29T01:23:58.817685Z",
     "start_time": "2020-02-29T01:23:54.947625Z"
    }
   },
   "outputs": [
    {
     "data": {
      "image/png": "[encoded data removed]",
      "text/plain": [
       "<Figure size 576x576 with 2 Axes>"
      ]
     },
     "metadata": {
      "needs_background": "light"
     },
     "output_type": "display_data"
    },
    {
     "name": "stdout",
     "output_type": "stream",
     "text": [
      "     79/Unknown - 3s 44ms/step - loss: 0.3133 - accuracy: 0.9154Test loss:      0.3132816130601907\n",
      "Test accuracy:  0.9154\n"
     ]
    }
   ],
   "source": [
    "benchmark(mobilenet_v2, hist, 'mobilenet_v2')"
   ]
  },
  {
   "cell_type": "code",
   "execution_count": null,
   "metadata": {},
   "outputs": [],
   "source": []
  },
  {
   "cell_type": "markdown",
   "metadata": {},
   "source": [
    "## how do you save a Keras History object?"
   ]
  },
  {
   "cell_type": "markdown",
   "metadata": {},
   "source": [
    "## ResNeXT Architecture\n",
    "\n",
    "### Sources\n",
    "- [1](https://arxiv.org/pdf/1611.05431.pdf)\n",
    "\n",
    "\n",
    "*. Our network is constructed\n",
    "by repeating a building block that aggregates a set of transformations with the same topology. Our simple design results in a homogeneous, multi-branch architecture that has\n",
    "only a few hyper-parameters to set. This strategy exposes a\n",
    "new dimension, which we call “cardinality” (the size of the\n",
    "set of transformations), as an essential factor in addition to\n",
    "the dimensions of depth and width*\n",
    "\n",
    "*In this paper, we present a simple architecture which\n",
    "adopts VGG/ResNets’ strategy of repeating layers, while\n",
    "exploiting the split-transform-merge strategy in an easy, extensible way. A module in our network performs a set\n",
    "of transformations, each on a low-dimensional embedding,\n",
    "whose outputs are aggregated by summation. We pursuit a\n",
    "simple realization of this idea — the transformations to be\n",
    "aggregated are all of the same topology (e.g., Fig. 1 (right)).\n",
    "This design allows us to extend to any large number of\n",
    "transformations without specialized designs*\n"
   ]
  },
  {
   "cell_type": "code",
   "execution_count": 13,
   "metadata": {
    "ExecuteTime": {
     "end_time": "2020-02-29T01:23:58.822671Z",
     "start_time": "2020-02-29T01:23:58.819677Z"
    }
   },
   "outputs": [],
   "source": [
    "#Xception Implementation  https://arxiv.org/abs/1610.02357"
   ]
  },
  {
   "cell_type": "code",
   "execution_count": 14,
   "metadata": {
    "ExecuteTime": {
     "end_time": "2020-02-29T01:23:58.843680Z",
     "start_time": "2020-02-29T01:23:58.825134Z"
    }
   },
   "outputs": [],
   "source": [
    "#MobileNetV3 Implementation  https://arxiv.org/abs/1905.02244v5"
   ]
  },
  {
   "cell_type": "code",
   "execution_count": 15,
   "metadata": {
    "ExecuteTime": {
     "end_time": "2020-02-29T01:23:58.856732Z",
     "start_time": "2020-02-29T01:23:58.845643Z"
    }
   },
   "outputs": [],
   "source": [
    "#Inception V4 Implementation  https://arxiv.org/abs/1602.07261"
   ]
  },
  {
   "cell_type": "code",
   "execution_count": 16,
   "metadata": {
    "ExecuteTime": {
     "end_time": "2020-02-29T01:23:58.870866Z",
     "start_time": "2020-02-29T01:23:58.858693Z"
    }
   },
   "outputs": [],
   "source": [
    "#NASNet Implementation  https://arxiv.org/abs/1707.07012"
   ]
  },
  {
   "cell_type": "code",
   "execution_count": 17,
   "metadata": {
    "ExecuteTime": {
     "end_time": "2020-02-29T01:23:58.884848Z",
     "start_time": "2020-02-29T01:23:58.872805Z"
    }
   },
   "outputs": [],
   "source": [
    "#MnasNet Implementation  https://arxiv.org/abs/1807.11626"
   ]
  },
  {
   "cell_type": "code",
   "execution_count": 18,
   "metadata": {
    "ExecuteTime": {
     "end_time": "2020-02-29T01:23:58.898805Z",
     "start_time": "2020-02-29T01:23:58.886767Z"
    }
   },
   "outputs": [],
   "source": [
    "#AmoebaNet Implementation  https://arxiv.org/abs/1802.01548"
   ]
  },
  {
   "cell_type": "code",
   "execution_count": 19,
   "metadata": {
    "ExecuteTime": {
     "end_time": "2020-02-29T01:23:58.912697Z",
     "start_time": "2020-02-29T01:23:58.900730Z"
    }
   },
   "outputs": [],
   "source": [
    "#Squeeze and Excite Implementation   https://arxiv.org/abs/1709.01507"
   ]
  },
  {
   "cell_type": "code",
   "execution_count": 20,
   "metadata": {
    "ExecuteTime": {
     "end_time": "2020-02-29T01:23:58.925692Z",
     "start_time": "2020-02-29T01:23:58.914693Z"
    }
   },
   "outputs": [],
   "source": [
    "#ShuffleNet V2 Implementation  https://arxiv.org/abs/1707.01083"
   ]
  },
  {
   "cell_type": "code",
   "execution_count": 21,
   "metadata": {
    "ExecuteTime": {
     "end_time": "2020-02-29T01:23:58.939646Z",
     "start_time": "2020-02-29T01:23:58.927660Z"
    }
   },
   "outputs": [],
   "source": [
    "#EfficientNet Implementation https://arxiv.org/abs/1905.11946v3"
   ]
  },
  {
   "cell_type": "markdown",
   "metadata": {},
   "source": [
    "# Awesome Papers\n",
    "\n",
    "## ImageNet\n",
    "\n",
    "https://paperswithcode.com/paper/self-training-with-noisy-student-improves\n",
    "\n",
    "https://paperswithcode.com/paper/large-scale-learning-of-general-visual\n",
    "\n",
    "https://paperswithcode.com/paper/fixing-the-train-test-resolution-discrepancy\n",
    "\n",
    "https://paperswithcode.com/paper/exploring-the-limits-of-weakly-supervised\n",
    "\n",
    "https://paperswithcode.com/paper/gpipe-efficient-training-of-giant-neural\n",
    "\n",
    "https://paperswithcode.com/paper/compounding-the-performance-improvements-of\n",
    "\n",
    "https://paperswithcode.com/paper/billion-scale-semi-supervised-learning-for\n",
    "\n",
    "https://paperswithcode.com/paper/randaugment-practical-data-augmentation-with\n",
    "\n",
    "https://paperswithcode.com/paper/adversarial-examples-improve-image\n",
    "\n",
    "https://paperswithcode.com/paper/multigrain-a-unified-image-embedding-for\n",
    "\n",
    "https://paperswithcode.com/paper/drop-an-octave-reducing-spatial-redundancy-in\n",
    "\n",
    "https://paperswithcode.com/paper/harmonic-convolutional-networks-based-on\n",
    "\n",
    "https://paperswithcode.com/paper/selective-kernel-networks\n",
    "\n",
    "https://paperswithcode.com/paper/ghostnet-more-features-from-cheap-operations\n",
    "\n",
    "https://paperswithcode.com/paper/shufflenet-v2-practical-guidelines-for\n",
    "\n",
    "https://paperswithcode.com/paper/searching-for-mobilenetv3\n",
    "\n",
    "https://paperswithcode.com/paper/whats-hidden-in-a-randomly-weighted-neural\n",
    "\n",
    "https://paperswithcode.com/paper/xception-deep-learning-with-depthwise\n",
    "\n",
    "https://paperswithcode.com/paper/polynet-a-pursuit-of-structural-diversity-in\n",
    "\n",
    "\n",
    "## MNIST\n",
    "\n",
    "https://paperswithcode.com/paper/a-branching-and-merging-convolutional-network\n",
    "\n",
    "https://paperswithcode.com/paper/stochastic-optimization-of-plain\n",
    "\n",
    "\n",
    "\n",
    "## CIFAR -10\n",
    "\n",
    "\n",
    "https://paperswithcode.com/paper/large-scale-learning-of-general-visual\n",
    "\n",
    "https://paperswithcode.com/paper/gpipe-efficient-training-of-giant-neural\n",
    "\n",
    "https://paperswithcode.com/paper/efficientnet-rethinking-model-scaling-for\n",
    "\n",
    "https://paperswithcode.com/paper/understanding-and-enhancing-mixed-sample-data\n",
    "\n",
    "https://paperswithcode.com/paper/large-scale-learning-of-general-visual\n",
    "\n",
    "https://paperswithcode.com/paper/fast-autoaugment\n",
    "\n",
    "https://paperswithcode.com/paper/enaet-self-trained-ensemble-autoencoding\n",
    "\n",
    "https://paperswithcode.com/paper/proxylessnas-direct-neural-architecture\n",
    "\n",
    "https://paperswithcode.com/paper/squeeze-and-excitation-networks\n",
    "\n",
    "https://paperswithcode.com/paper/proxylessnas-direct-neural-architecture\n",
    "\n",
    "https://paperswithcode.com/paper/squeeze-and-excitation-networks\n",
    "\n",
    "https://paperswithcode.com/paper/fixup-initialization-residual-learning\n",
    "\n",
    "https://paperswithcode.com/paper/batchboost-regularization-for-stabilizing\n",
    "\n",
    "https://paperswithcode.com/paper/learning-implicitly-recurrent-cnns-through\n",
    "\n",
    "https://paperswithcode.com/paper/manifold-mixup-better-representations-by\n",
    "\n",
    "https://paperswithcode.com/paper/mixup-beyond-empirical-risk-minimization\n",
    "\n",
    "https://paperswithcode.com/paper/averaging-weights-leads-to-wider-optima-and\n",
    "\n",
    "https://paperswithcode.com/paper/deep-pyramidal-residual-networks\n",
    "\n",
    "\n",
    "## CIFAR 100\n",
    "\n",
    "https://paperswithcode.com/paper/cutmix-regularization-strategy-to-train\n",
    "\n",
    "https://paperswithcode.com/paper/fast-autoaugment\n",
    "\n",
    "https://paperswithcode.com/paper/understanding-and-enhancing-mixed-sample-data\n",
    "\n",
    "https://paperswithcode.com/paper/res2net-a-new-multi-scale-backbone\n",
    "\n",
    "https://paperswithcode.com/paper/enaet-self-trained-ensemble-autoencoding\n",
    "\n",
    "https://paperswithcode.com/paper/single-bit-per-weight-deep-convolutional\n",
    "\n",
    "https://paperswithcode.com/paper/towards-principled-design-of-deep\n",
    "\n",
    "https://paperswithcode.com/paper/training-neural-networks-with-local-error"
   ]
  },
  {
   "cell_type": "code",
   "execution_count": null,
   "metadata": {},
   "outputs": [],
   "source": []
  }
 ],
 "metadata": {
  "kernelspec": {
   "display_name": "Python [conda env:deep-learning]",
   "language": "python",
   "name": "conda-env-deep-learning-py"
  },
  "language_info": {
   "codemirror_mode": {
    "name": "ipython",
    "version": 3
   },
   "file_extension": ".py",
   "mimetype": "text/x-python",
   "name": "python",
   "nbconvert_exporter": "python",
   "pygments_lexer": "ipython3",
   "version": "3.7.6"
  },
  "toc": {
   "base_numbering": 1,
   "nav_menu": {},
   "number_sections": true,
   "sideBar": true,
   "skip_h1_title": false,
   "title_cell": "Table of Contents",
   "title_sidebar": "Contents",
   "toc_cell": false,
   "toc_position": {},
   "toc_section_display": true,
   "toc_window_display": false
  },
  "varInspector": {
   "cols": {
    "lenName": 16,
    "lenType": 16,
    "lenVar": 40
   },
   "kernels_config": {
    "python": {
     "delete_cmd_postfix": "",
     "delete_cmd_prefix": "del ",
     "library": "var_list.py",
     "varRefreshCmd": "print(var_dic_list())"
    },
    "r": {
     "delete_cmd_postfix": ") ",
     "delete_cmd_prefix": "rm(",
     "library": "var_list.r",
     "varRefreshCmd": "cat(var_dic_list()) "
    }
   },
   "types_to_exclude": [
    "module",
    "function",
    "builtin_function_or_method",
    "instance",
    "_Feature"
   ],
   "window_display": false
  }
 },
 "nbformat": 4,
 "nbformat_minor": 2
}
