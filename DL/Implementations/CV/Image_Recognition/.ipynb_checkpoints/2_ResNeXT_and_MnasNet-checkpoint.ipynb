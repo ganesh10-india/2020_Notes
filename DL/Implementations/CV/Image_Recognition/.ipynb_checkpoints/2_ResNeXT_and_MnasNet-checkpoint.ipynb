{
 "cells": [
  {
   "cell_type": "markdown",
   "metadata": {},
   "source": [
    "# CNN Image Recognition Architecture Implementation\n"
   ]
  },
  {
   "cell_type": "code",
   "execution_count": 1,
   "metadata": {
    "ExecuteTime": {
     "end_time": "2020-03-04T02:10:25.788894Z",
     "start_time": "2020-03-04T02:10:20.770792Z"
    }
   },
   "outputs": [],
   "source": [
    "#GETTING THE CIFAR DATASET READY FOR EXPERIMENTATION\n",
    "import tensorflow_datasets as tfds\n",
    "import tensorflow as     tf\n",
    "import math\n",
    "import numpy             as np\n",
    "import matplotlib.pyplot as plt\n",
    "from tensorflow.keras.layers import *"
   ]
  },
  {
   "cell_type": "markdown",
   "metadata": {},
   "source": [
    "## CNN Architecture Utilities"
   ]
  },
  {
   "cell_type": "code",
   "execution_count": 2,
   "metadata": {
    "ExecuteTime": {
     "end_time": "2020-03-04T02:10:28.200635Z",
     "start_time": "2020-03-04T02:10:25.797522Z"
    }
   },
   "outputs": [],
   "source": [
    "from utils.cifar_functions import *\n",
    "\n",
    "#PREPARE THE CIFAR DATASET\n",
    "# download data and split into training and testing datasets\n",
    "dataset_train, info = tfds.load(\"cifar10\", split=tfds.Split.TRAIN, with_info=True)\n",
    "dataset_test,  info = tfds.load(\"cifar10\", split=tfds.Split.TEST,  with_info=True)\n",
    "\n",
    "dataset_train = dataset_train.map(pre_processing_train, num_parallel_calls=4)\n",
    "dataset_train = dataset_train.shuffle(buffer_size=TRAINING_SHUFFLE_BUFFER)\n",
    "dataset_train = dataset_train.batch(TRAINING_BATCH_SIZE)\n",
    "dataset_train = dataset_train.prefetch(buffer_size=3)\n",
    "\n",
    "# transform testing dataset\n",
    "dataset_test = dataset_test.map(pre_processing_test, num_parallel_calls=4)\n",
    "dataset_test = dataset_test.batch(TRAINING_BATCH_SIZE)\n",
    "dataset_test = dataset_test.prefetch(buffer_size=3)"
   ]
  },
  {
   "cell_type": "markdown",
   "metadata": {},
   "source": [
    "## ResNeXT Architecture\n",
    "\n",
    "### Sources\n",
    "- [1](https://arxiv.org/pdf/1611.05431.pdf)\n",
    "\n",
    "### Intro\n",
    "\n",
    "__VGGNet__ style architecture of stacking identical blocks of convolutional operations on top of each other to form a deep network is popular because it reduces the complexiy of designing a network. (Reduces the hyperparameters in design)\n",
    "\n",
    "\n",
    "\n",
    "*The __Inception models__ have evolved\n",
    "over time [38, 39], but an important common property is\n",
    "a __split-transform-merge strategy__. In an Inception module,\n",
    "the input is split into a few lower-dimensional embeddings\n",
    "(by 1×1 convolutions), transformed by a set of specialized\n",
    "filters (3×3, 5×5, etc.), and merged by concatenation.*\n",
    "\n",
    "Similar to what we learned with __ResNet__ paper. Training multiple pathways must take major compute. So the designers of Inception used a bottleneck to reduce the computational complexity. __More representation for less compute.__"
   ]
  },
  {
   "cell_type": "markdown",
   "metadata": {},
   "source": [
    "### Method\n",
    "\n",
    "\n",
    "#### Aggregated Transformations\n",
    "\n",
    "The author argues for an *aggregated transformation* $$F(x) = \\sum^{C}_{i=1}\\tau_i(x)$$ where C is the __cardinality__, and $\\tau_i$ are bottleneck-shaped architectures.\n",
    "\n",
    "\n",
    "Combined with ResNet style connections between layers, the final model takes the form \n",
    "$$y = x+\\sum^{C}_{i=1}\\tau_i(x)$$\n",
    "\n",
    "\n",
    "### Implementaion Details\n",
    "![](imgs/resnext.PNG)\n",
    "\n",
    "*Our models are realized by the form of Fig. 3(c). We\n",
    "perform batch normalization (BN) [17] right after the con\n",
    "volutions in Fig. 3(c).6 ReLU is performed right after each\n",
    "BN, expect for the output of the block where ReLU is performed after the adding to the shortcut, following [14].\n",
    "We note that the three forms in Fig. 3 are strictly equivalent, when BN and ReLU are appropriately addressed as\n",
    "mentioned above. We have trained all three forms and\n",
    "obtained the same results. We choose to implement by\n",
    "Fig. 3(c) because it is more succinct and faster than the other\n",
    "two forms*\n",
    "\n",
    "\n"
   ]
  },
  {
   "cell_type": "code",
   "execution_count": 3,
   "metadata": {
    "ExecuteTime": {
     "end_time": "2020-03-04T02:10:32.736366Z",
     "start_time": "2020-03-04T02:10:32.724398Z"
    }
   },
   "outputs": [],
   "source": [
    "#RESNET V1\n",
    "def generic_tail(inputs, dims):\n",
    "    return Conv2D(dims, (3,3), activation='relu', padding='same')(inputs)\n",
    "\n",
    "def resnext_block(inputs, expand_dims, cardinality=8, squeeze_ratio=.25, downsample=False):\n",
    "    \"\"\"\n",
    "    Implementation of the ResNext Style blocks introduced in \"Aggregated Residual \n",
    "    Transformations for Deep Neural Networks\"\n",
    "\n",
    "    Parameters:\n",
    "    inputs: tensor -  shape(batch, height, width, channels) input tensor for the block\n",
    "    expand_dims: int - number of dimensions in the channel dimension that the block will output\n",
    "    cardinality: int - number of parallel and identical bottlenecks within a block.\n",
    "    squeeze_ratio: float - the relative size of the channel dimension to compress to in bottleneck\n",
    "    downsample: bool - whether this block should VGG-style downsample (divide HxW by 2)\n",
    "\n",
    "    \"\"\"\n",
    "    to_aggregate = []\n",
    "    squeeze_dims = int(expand_dims//(1/squeeze_ratio))\n",
    "    if expand_dims>=64:\n",
    "        squeeze_dims= squeeze_dims//4\n",
    "    strides=(1,1)\n",
    "    if downsample:\n",
    "        strides=(2,2)\n",
    "    \n",
    "    #RESIDUAL PATHS\n",
    "    for i in range(cardinality):\n",
    "        x = conv_block(inputs, squeeze_dims, kernel_size=(1,1), strides=(1,1))\n",
    "        x = conv_block(x, squeeze_dims, kernel_size=(3,3), strides=strides)\n",
    "        x = Conv2D(expand_dims, (1,1), strides=(1,1), **conv_params)(x)\n",
    "        x = BatchNormalization(**bn_params)(x)\n",
    "        to_aggregate.append(x)\n",
    "    path_outputs = Add()(to_aggregate) #ADD PATHS TOGETHER\n",
    "    \n",
    "    #IDENTITY PATH\n",
    "    if downsample:\n",
    "        inputs = Conv2D(expand_dims,(1,1), strides=strides, **conv_params)(inputs)\n",
    "    \n",
    "    #COMBINE\n",
    "    return tf.nn.relu(Add()([inputs, path_outputs]))\n",
    "\n",
    "def generic_head(inputs, dims=None):\n",
    "    x = GlobalAveragePooling2D()(inputs)\n",
    "    return Dense(DATA_NUM_CLASSES, activation='softmax')(x)"
   ]
  },
  {
   "cell_type": "code",
   "execution_count": 4,
   "metadata": {
    "ExecuteTime": {
     "end_time": "2020-03-04T02:10:47.255161Z",
     "start_time": "2020-03-04T02:10:33.682018Z"
    },
    "scrolled": false
   },
   "outputs": [],
   "source": [
    "resnext = VGG_Like_CNN(generic_tail,\n",
    "            resnext_block,\n",
    "            generic_head,\n",
    "            input_shape = (DATA_CROP_ROWS, DATA_CROP_COLS, DATA_CHANNELS),\n",
    "            num_levels= 3,\n",
    "            num_downsamples=2,\n",
    "            block_repeats=BLOCK_REPEATS)\n",
    "\n",
    "resnext.compile(optimizer = tf.keras.optimizers.Adam(TRAINING_LR_MAX),\n",
    "              loss='sparse_categorical_crossentropy',\n",
    "               metrics=['accuracy'])"
   ]
  },
  {
   "cell_type": "code",
   "execution_count": 5,
   "metadata": {
    "ExecuteTime": {
     "end_time": "2020-03-04T02:10:47.288105Z",
     "start_time": "2020-03-04T02:10:47.267129Z"
    },
    "scrolled": false
   },
   "outputs": [
    {
     "name": "stdout",
     "output_type": "stream",
     "text": [
      "Number of trainable parameters:  216971\n"
     ]
    }
   ],
   "source": [
    "print(\"Number of trainable parameters: \", get_num_params(resnext))"
   ]
  },
  {
   "cell_type": "code",
   "execution_count": 6,
   "metadata": {
    "ExecuteTime": {
     "end_time": "2020-03-04T03:41:08.295472Z",
     "start_time": "2020-03-04T02:10:47.299044Z"
    },
    "scrolled": false
   },
   "outputs": [
    {
     "name": "stdout",
     "output_type": "stream",
     "text": [
      "######################################################\n",
      "resnext\n",
      "######################################################\n",
      "WARNING:tensorflow:`period` argument is deprecated. Please use `save_freq` to specify the frequency in number of samples seen.\n"
     ]
    },
    {
     "name": "stderr",
     "output_type": "stream",
     "text": [
      "WARNING:tensorflow:`period` argument is deprecated. Please use `save_freq` to specify the frequency in number of samples seen.\n"
     ]
    },
    {
     "name": "stdout",
     "output_type": "stream",
     "text": [
      "Training model resnext...\n",
      "Epoch 1/30\n",
      "782/782 [==============================] - 176s 225ms/step - loss: 3.8758 - accuracy: 0.1332 - val_loss: 2.6947 - val_accuracy: 0.1539\n",
      "Epoch 2/30\n",
      "782/782 [==============================] - 133s 170ms/step - loss: 2.0998 - accuracy: 0.2394 - val_loss: 1.9175 - val_accuracy: 0.2946\n",
      "Epoch 3/30\n",
      "782/782 [==============================] - 131s 168ms/step - loss: 1.8350 - accuracy: 0.3233 - val_loss: 1.7387 - val_accuracy: 0.3595\n",
      "Epoch 4/30\n",
      "782/782 [==============================] - 130s 166ms/step - loss: 1.6992 - accuracy: 0.3759 - val_loss: 1.6226 - val_accuracy: 0.4112\n",
      "Epoch 5/30\n",
      "782/782 [==============================] - 132s 168ms/step - loss: 1.5834 - accuracy: 0.4219 - val_loss: 1.5361 - val_accuracy: 0.4564\n",
      "Epoch 6/30\n",
      "782/782 [==============================] - 133s 170ms/step - loss: 1.4628 - accuracy: 0.4693 - val_loss: 1.3571 - val_accuracy: 0.5012\n",
      "Epoch 7/30\n",
      "782/782 [==============================] - 136s 174ms/step - loss: 1.3099 - accuracy: 0.5281 - val_loss: 1.2648 - val_accuracy: 0.5495\n",
      "Epoch 8/30\n",
      "782/782 [==============================] - 138s 176ms/step - loss: 1.1755 - accuracy: 0.5807 - val_loss: 1.1119 - val_accuracy: 0.6041\n",
      "Epoch 9/30\n",
      "782/782 [==============================] - 139s 178ms/step - loss: 1.0644 - accuracy: 0.6245 - val_loss: 1.0638 - val_accuracy: 0.6227\n",
      "Epoch 10/30\n",
      "781/782 [============================>.] - ETA: 0s - loss: 0.9714 - accuracy: 0.6591WARNING:tensorflow:From C:\\Users\\harri\\Anaconda3\\envs\\deep-learning\\lib\\site-packages\\tensorflow_core\\python\\ops\\resource_variable_ops.py:1786: calling BaseResourceVariable.__init__ (from tensorflow.python.ops.resource_variable_ops) with constraint is deprecated and will be removed in a future version.\n",
      "Instructions for updating:\n",
      "If using Keras pass *_constraint arguments to layers.\n"
     ]
    },
    {
     "name": "stderr",
     "output_type": "stream",
     "text": [
      "WARNING:tensorflow:From C:\\Users\\harri\\Anaconda3\\envs\\deep-learning\\lib\\site-packages\\tensorflow_core\\python\\ops\\resource_variable_ops.py:1786: calling BaseResourceVariable.__init__ (from tensorflow.python.ops.resource_variable_ops) with constraint is deprecated and will be removed in a future version.\n",
      "Instructions for updating:\n",
      "If using Keras pass *_constraint arguments to layers.\n"
     ]
    },
    {
     "name": "stdout",
     "output_type": "stream",
     "text": [
      "INFO:tensorflow:Assets written to: F://Models/Model_Design/resnext/assets\n"
     ]
    },
    {
     "name": "stderr",
     "output_type": "stream",
     "text": [
      "INFO:tensorflow:Assets written to: F://Models/Model_Design/resnext/assets\n"
     ]
    },
    {
     "name": "stdout",
     "output_type": "stream",
     "text": [
      "782/782 [==============================] - 284s 363ms/step - loss: 0.9711 - accuracy: 0.6591 - val_loss: 0.9387 - val_accuracy: 0.6732\n",
      "Epoch 11/30\n",
      "782/782 [==============================] - 140s 180ms/step - loss: 0.8954 - accuracy: 0.6865 - val_loss: 0.8420 - val_accuracy: 0.7072\n",
      "Epoch 12/30\n",
      "782/782 [==============================] - 140s 178ms/step - loss: 0.8295 - accuracy: 0.7049 - val_loss: 0.8413 - val_accuracy: 0.7031\n",
      "Epoch 13/30\n",
      "782/782 [==============================] - 138s 177ms/step - loss: 0.7681 - accuracy: 0.7300 - val_loss: 0.7508 - val_accuracy: 0.7395\n",
      "Epoch 14/30\n",
      "782/782 [==============================] - 138s 177ms/step - loss: 0.7082 - accuracy: 0.7518 - val_loss: 0.7010 - val_accuracy: 0.7597\n",
      "Epoch 15/30\n",
      "782/782 [==============================] - 137s 176ms/step - loss: 0.6658 - accuracy: 0.7664 - val_loss: 0.6625 - val_accuracy: 0.7706\n",
      "Epoch 16/30\n",
      "782/782 [==============================] - 139s 177ms/step - loss: 0.6156 - accuracy: 0.7858 - val_loss: 0.6151 - val_accuracy: 0.7897\n",
      "Epoch 17/30\n",
      "782/782 [==============================] - 138s 176ms/step - loss: 0.5830 - accuracy: 0.7973 - val_loss: 0.6145 - val_accuracy: 0.7903\n",
      "Epoch 18/30\n",
      "782/782 [==============================] - 139s 177ms/step - loss: 0.5509 - accuracy: 0.8067 - val_loss: 0.5883 - val_accuracy: 0.8002\n",
      "Epoch 19/30\n",
      "782/782 [==============================] - 139s 177ms/step - loss: 0.5138 - accuracy: 0.8209 - val_loss: 0.5533 - val_accuracy: 0.8098\n",
      "Epoch 20/30\n",
      "781/782 [============================>.] - ETA: 0s - loss: 0.4940 - accuracy: 0.8280INFO:tensorflow:Assets written to: F://Models/Model_Design/resnext/assets\n"
     ]
    },
    {
     "name": "stderr",
     "output_type": "stream",
     "text": [
      "INFO:tensorflow:Assets written to: F://Models/Model_Design/resnext/assets\n"
     ]
    },
    {
     "name": "stdout",
     "output_type": "stream",
     "text": [
      "782/782 [==============================] - 285s 364ms/step - loss: 0.4944 - accuracy: 0.8280 - val_loss: 0.5422 - val_accuracy: 0.8171\n",
      "Epoch 21/30\n",
      "782/782 [==============================] - 140s 179ms/step - loss: 0.4720 - accuracy: 0.8346 - val_loss: 0.5159 - val_accuracy: 0.8270\n",
      "Epoch 22/30\n",
      "782/782 [==============================] - 139s 177ms/step - loss: 0.4451 - accuracy: 0.8454 - val_loss: 0.5252 - val_accuracy: 0.8201\n",
      "Epoch 23/30\n",
      "782/782 [==============================] - 140s 178ms/step - loss: 0.4242 - accuracy: 0.8524 - val_loss: 0.4761 - val_accuracy: 0.8398\n",
      "Epoch 24/30\n",
      "782/782 [==============================] - 662s 847ms/step - loss: 0.4042 - accuracy: 0.8581 - val_loss: 0.4712 - val_accuracy: 0.8397\n",
      "Epoch 25/30\n",
      "782/782 [==============================] - 424s 542ms/step - loss: 0.3867 - accuracy: 0.8656 - val_loss: 0.4593 - val_accuracy: 0.8428\n",
      "Epoch 26/30\n",
      "782/782 [==============================] - 139s 177ms/step - loss: 0.3658 - accuracy: 0.8725 - val_loss: 0.4457 - val_accuracy: 0.8505\n",
      "Epoch 27/30\n",
      "782/782 [==============================] - 140s 179ms/step - loss: 0.3470 - accuracy: 0.8796 - val_loss: 0.4522 - val_accuracy: 0.8466\n",
      "Epoch 28/30\n",
      "782/782 [==============================] - 140s 179ms/step - loss: 0.3293 - accuracy: 0.8860 - val_loss: 0.4353 - val_accuracy: 0.8526\n",
      "Epoch 29/30\n",
      "782/782 [==============================] - 140s 179ms/step - loss: 0.3161 - accuracy: 0.8909 - val_loss: 0.4353 - val_accuracy: 0.8542\n",
      "Epoch 30/30\n",
      "781/782 [============================>.] - ETA: 0s - loss: 0.3054 - accuracy: 0.8946INFO:tensorflow:Assets written to: F://Models/Model_Design/resnext/assets\n"
     ]
    },
    {
     "name": "stderr",
     "output_type": "stream",
     "text": [
      "INFO:tensorflow:Assets written to: F://Models/Model_Design/resnext/assets\n"
     ]
    },
    {
     "name": "stdout",
     "output_type": "stream",
     "text": [
      "782/782 [==============================] - 294s 375ms/step - loss: 0.3053 - accuracy: 0.8947 - val_loss: 0.4265 - val_accuracy: 0.8561\n",
      "Training complete.\n"
     ]
    }
   ],
   "source": [
    "hist = train(resnext, dataset_train, dataset_test, 'resnext', logs=True)"
   ]
  },
  {
   "cell_type": "code",
   "execution_count": 7,
   "metadata": {
    "ExecuteTime": {
     "end_time": "2020-03-04T03:41:17.945077Z",
     "start_time": "2020-03-04T03:41:08.319428Z"
    }
   },
   "outputs": [
    {
     "data": {
      "image/png": "[encoded data removed]",
      "text/plain": [
       "<Figure size 576x576 with 2 Axes>"
      ]
     },
     "metadata": {
      "needs_background": "light"
     },
     "output_type": "display_data"
    },
    {
     "name": "stdout",
     "output_type": "stream",
     "text": [
      "    157/Unknown - 9s 58ms/step - loss: 0.4265 - accuracy: 0.8561Test loss:      0.4265193906938954\n",
      "Test accuracy:  0.8561\n"
     ]
    }
   ],
   "source": [
    "benchmark(resnext, dataset_test, hist, 'resnext')"
   ]
  },
  {
   "cell_type": "markdown",
   "metadata": {},
   "source": [
    "### More\n",
    "https://paperswithcode.com/paper/shakedrop-regularization-for-deep-residual"
   ]
  },
  {
   "cell_type": "markdown",
   "metadata": {},
   "source": [
    "## ShuffleNet V1\n",
    "\n",
    "### Sources\n",
    "- [1](https://arxiv.org/pdf/1707.01083.pdf)"
   ]
  }
 ],
 "metadata": {
  "kernelspec": {
   "display_name": "Python [conda env:deep-learning]",
   "language": "python",
   "name": "conda-env-deep-learning-py"
  },
  "language_info": {
   "codemirror_mode": {
    "name": "ipython",
    "version": 3
   },
   "file_extension": ".py",
   "mimetype": "text/x-python",
   "name": "python",
   "nbconvert_exporter": "python",
   "pygments_lexer": "ipython3",
   "version": "3.7.6"
  },
  "toc": {
   "base_numbering": 1,
   "nav_menu": {},
   "number_sections": true,
   "sideBar": true,
   "skip_h1_title": false,
   "title_cell": "Table of Contents",
   "title_sidebar": "Contents",
   "toc_cell": false,
   "toc_position": {},
   "toc_section_display": true,
   "toc_window_display": false
  },
  "varInspector": {
   "cols": {
    "lenName": 16,
    "lenType": 16,
    "lenVar": 40
   },
   "kernels_config": {
    "python": {
     "delete_cmd_postfix": "",
     "delete_cmd_prefix": "del ",
     "library": "var_list.py",
     "varRefreshCmd": "print(var_dic_list())"
    },
    "r": {
     "delete_cmd_postfix": ") ",
     "delete_cmd_prefix": "rm(",
     "library": "var_list.r",
     "varRefreshCmd": "cat(var_dic_list()) "
    }
   },
   "types_to_exclude": [
    "module",
    "function",
    "builtin_function_or_method",
    "instance",
    "_Feature"
   ],
   "window_display": false
  }
 },
 "nbformat": 4,
 "nbformat_minor": 2
}
