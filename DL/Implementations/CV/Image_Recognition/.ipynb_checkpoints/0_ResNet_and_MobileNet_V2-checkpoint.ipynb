{
 "cells": [
  {
   "cell_type": "markdown",
   "metadata": {
    "toc": true
   },
   "source": [
    "<h1>Table of Contents<span class=\"tocSkip\"></span></h1>\n",
    "<div class=\"toc\"><ul class=\"toc-item\"><li><span><a href=\"#CNN-Image-Recognition-Architecture-Implementation\" data-toc-modified-id=\"CNN-Image-Recognition-Architecture-Implementation-1\"><span class=\"toc-item-num\">1&nbsp;&nbsp;</span>CNN Image Recognition Architecture Implementation</a></span><ul class=\"toc-item\"><li><span><a href=\"#CNN-Architecture-Utilities\" data-toc-modified-id=\"CNN-Architecture-Utilities-1.1\"><span class=\"toc-item-num\">1.1&nbsp;&nbsp;</span>CNN Architecture Utilities</a></span></li><li><span><a href=\"#ResNet-Architecture\" data-toc-modified-id=\"ResNet-Architecture-1.2\"><span class=\"toc-item-num\">1.2&nbsp;&nbsp;</span>ResNet Architecture</a></span><ul class=\"toc-item\"><li><span><a href=\"#Sources\" data-toc-modified-id=\"Sources-1.2.1\"><span class=\"toc-item-num\">1.2.1&nbsp;&nbsp;</span>Sources</a></span></li><li><span><a href=\"#Notes\" data-toc-modified-id=\"Notes-1.2.2\"><span class=\"toc-item-num\">1.2.2&nbsp;&nbsp;</span>Notes</a></span></li><li><span><a href=\"#Potential-Improvements\" data-toc-modified-id=\"Potential-Improvements-1.2.3\"><span class=\"toc-item-num\">1.2.3&nbsp;&nbsp;</span>Potential Improvements</a></span></li></ul></li><li><span><a href=\"#MobileNet-V2-Architecture\" data-toc-modified-id=\"MobileNet-V2-Architecture-1.3\"><span class=\"toc-item-num\">1.3&nbsp;&nbsp;</span>MobileNet V2 Architecture</a></span></li><li><span><a href=\"#Comparisons\" data-toc-modified-id=\"Comparisons-1.4\"><span class=\"toc-item-num\">1.4&nbsp;&nbsp;</span>Comparisons</a></span></li></ul></li><li><span><a href=\"#Awesome-Papers\" data-toc-modified-id=\"Awesome-Papers-2\"><span class=\"toc-item-num\">2&nbsp;&nbsp;</span>Awesome Papers</a></span><ul class=\"toc-item\"><li><span><a href=\"#ImageNet\" data-toc-modified-id=\"ImageNet-2.1\"><span class=\"toc-item-num\">2.1&nbsp;&nbsp;</span>ImageNet</a></span></li><li><span><a href=\"#MNIST\" data-toc-modified-id=\"MNIST-2.2\"><span class=\"toc-item-num\">2.2&nbsp;&nbsp;</span>MNIST</a></span></li><li><span><a href=\"#CIFAR--10\" data-toc-modified-id=\"CIFAR--10-2.3\"><span class=\"toc-item-num\">2.3&nbsp;&nbsp;</span>CIFAR -10</a></span></li><li><span><a href=\"#CIFAR-100\" data-toc-modified-id=\"CIFAR-100-2.4\"><span class=\"toc-item-num\">2.4&nbsp;&nbsp;</span>CIFAR 100</a></span></li></ul></li></ul></div>"
   ]
  },
  {
   "cell_type": "markdown",
   "metadata": {},
   "source": [
    "# CNN Image Recognition Architecture Implementation\n"
   ]
  },
  {
   "cell_type": "code",
   "execution_count": 1,
   "metadata": {
    "ExecuteTime": {
     "end_time": "2020-03-05T05:06:21.601168Z",
     "start_time": "2020-03-05T05:06:14.623788Z"
    }
   },
   "outputs": [],
   "source": [
    "#GETTING THE CIFAR DATASET READY FOR EXPERIMENTATION\n",
    "import tensorflow_datasets as tfds\n",
    "import tensorflow as     tf\n",
    "import math\n",
    "import numpy             as np\n",
    "import matplotlib.pyplot as plt\n",
    "from tensorflow.keras.layers import *\n",
    "from utils.cifar_functions import *\n",
    "\n",
    "#PREPARE THE CIFAR DATASET\n",
    "# download data and split into training and testing datasets\n",
    "dataset_train, info = tfds.load(\"cifar10\", split=tfds.Split.TRAIN, with_info=True)\n",
    "dataset_test,  info = tfds.load(\"cifar10\", split=tfds.Split.TEST,  with_info=True)\n",
    "\n",
    "dataset_train = dataset_train.map(pre_processing_train, num_parallel_calls=4)\n",
    "dataset_train = dataset_train.shuffle(buffer_size=TRAINING_SHUFFLE_BUFFER)\n",
    "dataset_train = dataset_train.batch(TRAINING_BATCH_SIZE)\n",
    "dataset_train = dataset_train.prefetch(buffer_size=3)\n",
    "\n",
    "# transform testing dataset\n",
    "dataset_test = dataset_test.map(pre_processing_test, num_parallel_calls=4)\n",
    "dataset_test = dataset_test.batch(TRAINING_BATCH_SIZE)\n",
    "dataset_test = dataset_test.prefetch(buffer_size=3)"
   ]
  },
  {
   "cell_type": "markdown",
   "metadata": {},
   "source": [
    "## CNN Architecture Utilities"
   ]
  },
  {
   "cell_type": "code",
   "execution_count": 2,
   "metadata": {
    "ExecuteTime": {
     "end_time": "2020-03-05T05:06:21.644735Z",
     "start_time": "2020-03-05T05:06:21.640065Z"
    }
   },
   "outputs": [],
   "source": [
    "from utils.cifar_functions import *"
   ]
  },
  {
   "cell_type": "markdown",
   "metadata": {},
   "source": [
    "## ResNet Architecture\n",
    "\n",
    "### Sources \n",
    "- [1](https://arxiv.org/pdf/1611.05431.pdf)\n",
    "- [2](https://arxiv.org/pdf/1512.03385.pdf)\n",
    "- [3](https://arxiv.org/pdf/1603.05027.pdf)\n",
    "\n",
    "### Notes\n",
    "[ResNet V1 Paper](https://arxiv.org/pdf/1512.03385.pdf)\n",
    "\n",
    "__Intuition behind Residual Connenction__\n",
    "\n",
    "*The degradation (of training accuracy) indicates that not\n",
    "all systems are similarly easy to optimize... There exists a solution by construction\n",
    "to the deeper model: the added layers are identity mapping,\n",
    "and the other layers are copied from the learned shallower\n",
    "model. The existence of this constructed solution indicates\n",
    "that a deeper model should produce no higher training error\n",
    "than its shallower counterpart.*\n",
    "\n",
    "*or unable to do so in feasible time).\n",
    "In this paper, we address the degradation problem by\n",
    "introducing a deep residual learning framework.... we let the stacked nonlinear\n",
    "layers fit another mapping of F(x) := H(x)−x. The original mapping is recast into F(x)+x. We hypothesize that it\n",
    "is easier to optimize the residual mapping than to optimize\n",
    "the original, unreferenced mapping. To the extreme, if an\n",
    "identity mapping were optimal, it would be easier to push\n",
    "the residual to zero than to fit an identity mapping by a stack\n",
    "of nonlinear layers.*\n",
    "\n",
    "*. With the residual learning reformulation, if identity mappings are optimal, the solvers\n",
    "may simply drive the weights of the multiple nonlinear layers toward zero to approach identity mappings.*\n",
    "VGG style architecture with bottleneck \"residual blocks\" that allow propagation of gradients cleanly anywhere in the network. Allows the training of arbitratily deep networks by allowing the network to easily map a layer to an *identity function*, zeroeing out the parameters of network layers that do not improve performance.\n",
    "\n",
    "More Notes: \n",
    "- For downsampling blocks where the shape of the input is changed, the \"identity path\" must go through a 1x1 Conv layer w/ stride 2 and no activation.\n",
    "- Activation and batch norm are best applied __before__ the convolution operation (within the residual path).\n",
    "\n",
    "__What to do during down sampling__\n",
    "\n",
    "*The dimensions of x and F must be equal in Eqn.(1).\n",
    "If this is not the case (e.g., when changing the input/output\n",
    "channels), we can perform a __linear projection Ws__ by the\n",
    "shortcut connections to match the dimensions:\n",
    "y = F(x, {Wi}) + Wsx.*\n",
    "\n",
    "*The identity shortcuts (Eqn.(1)) can be directly used when the input and utput are of the same dimensions (solid line shortcuts in ig. 3). When the dimensions increase (dotted line shortcuts in Fig. 3), we consider two options: (A) The shortcut still performs identity mapping, with extra zero entries padded for increasing dimensions. This option introduces no extra parameter; (B) __The projection shortcut in Eqn.(2) is used to match dimensions (done by 1×1 convolutions)__. For both options, when the shortcuts go across feature maps of two sizes, they are performed with a stride of 2.*"
   ]
  },
  {
   "cell_type": "code",
   "execution_count": 3,
   "metadata": {
    "ExecuteTime": {
     "end_time": "2020-03-03T04:30:08.781940Z",
     "start_time": "2020-03-03T04:30:08.769973Z"
    }
   },
   "outputs": [],
   "source": [
    "#RESNET V1\n",
    "def resnet_tail(inputs, dims):\n",
    "    return Conv2D(dims, (3,3), **conv_params)(inputs)\n",
    "\n",
    "def resnet_block(inputs, expand_dims, squeeze_ratio=.25, downsample=False):\n",
    "    \"\"\"\n",
    "    INPUTS\n",
    "    inputs: tensor\n",
    "    exand_dims: int\n",
    "    squeeze_ratio: float - multiplier to squeeze channel dimenions in bottleneck\n",
    "    \n",
    "    Bottleneck implementation of a ResNet block\n",
    "    conv 1x1 -> squeeze the number of channel dimensions to squeeze_channels\n",
    "    conv 3x3 -> map spatial data still low dim\n",
    "    conv 1x1 -> expand dimensions on channel axis to expand_dims\n",
    "    \"\"\"\n",
    "    squeeze_dims= int(expand_dims // (1/squeeze_ratio))\n",
    "    if downsample:\n",
    "        strides =(2,2)\n",
    "    else:\n",
    "        strides=(1,1)\n",
    "        \n",
    "    #RESIDUAL PATH\n",
    "    resid = BatchNormalization(**bn_params)(inputs)  #Note that BN and ReLU are preactivations\n",
    "    resid = ReLU()(resid)\n",
    "    resid = conv_block(resid, squeeze_dims, kernel_size=(1,1), strides=strides) #potential improvement, no activation after squeeze\n",
    "    resid = conv_block(resid, squeeze_dims, kernel_size=(3,3))\n",
    "    resid = Conv2D(expand_dims, (1,1), **conv_params)(resid)\n",
    "    \n",
    "    #IDENTITY PATH\n",
    "    if downsample:\n",
    "        inputs = Conv2D(expand_dims, (1,1), strides=strides, **conv_params)(inputs)\n",
    "    \n",
    "    #COMBINE\n",
    "    return Add()([inputs, resid])\n",
    "\n",
    "def resnet_head(inputs, dims=None):\n",
    "    # NOT SURE IF THERE NEEDS TO BE A BN RELU HERE\n",
    "    # IT WILL OBSTRUCT BACKPROP THROUGH IDENTITY\n",
    "    x = BatchNormalization(**bn_params)\n",
    "    x = GlobalAveragePooling2D()(inputs)\n",
    "    return Dense(DATA_NUM_CLASSES, activation='softmax')(x)"
   ]
  },
  {
   "cell_type": "code",
   "execution_count": 4,
   "metadata": {
    "ExecuteTime": {
     "end_time": "2020-03-03T04:30:10.984006Z",
     "start_time": "2020-03-03T04:30:08.783937Z"
    },
    "scrolled": false
   },
   "outputs": [],
   "source": [
    "resnet = VGG_Like_CNN(resnet_tail,\n",
    "            resnet_block,\n",
    "            resnet_head,\n",
    "            input_shape = (DATA_CROP_ROWS, DATA_CROP_COLS, DATA_CHANNELS),\n",
    "            num_levels= 3,\n",
    "             num_downsamples=2,\n",
    "            block_repeats=BLOCK_REPEATS)\n",
    "\n",
    "resnet.compile(optimizer = tf.keras.optimizers.Adam(TRAINING_LR_MAX),\n",
    "              loss='sparse_categorical_crossentropy',\n",
    "               metrics=['accuracy'])"
   ]
  },
  {
   "cell_type": "code",
   "execution_count": 5,
   "metadata": {
    "ExecuteTime": {
     "end_time": "2020-03-03T04:44:37.018700Z",
     "start_time": "2020-03-03T04:30:10.986000Z"
    },
    "scrolled": false
   },
   "outputs": [
    {
     "name": "stdout",
     "output_type": "stream",
     "text": [
      "######################################################\n",
      "resnet_w_bottleneck\n",
      "######################################################\n",
      "WARNING:tensorflow:`period` argument is deprecated. Please use `save_freq` to specify the frequency in number of samples seen.\n"
     ]
    },
    {
     "name": "stderr",
     "output_type": "stream",
     "text": [
      "WARNING:tensorflow:`period` argument is deprecated. Please use `save_freq` to specify the frequency in number of samples seen.\n"
     ]
    },
    {
     "name": "stdout",
     "output_type": "stream",
     "text": [
      "Training model resnet_w_bottleneck...\n",
      "Epoch 1/30\n",
      "782/782 [==============================] - 34s 44ms/step - loss: 2.2166 - accuracy: 0.1782 - val_loss: 2.0735 - val_accuracy: 0.2308\n",
      "Epoch 2/30\n",
      "782/782 [==============================] - 26s 34ms/step - loss: 1.7082 - accuracy: 0.3645 - val_loss: 1.4906 - val_accuracy: 0.4414\n",
      "Epoch 3/30\n",
      "782/782 [==============================] - 26s 34ms/step - loss: 1.4410 - accuracy: 0.4686 - val_loss: 1.3008 - val_accuracy: 0.5280\n",
      "Epoch 4/30\n",
      "782/782 [==============================] - 26s 34ms/step - loss: 1.2760 - accuracy: 0.5399 - val_loss: 1.2030 - val_accuracy: 0.5573\n",
      "Epoch 5/30\n",
      "782/782 [==============================] - 27s 34ms/step - loss: 1.1363 - accuracy: 0.5931 - val_loss: 1.0579 - val_accuracy: 0.6262\n",
      "Epoch 6/30\n",
      "782/782 [==============================] - 26s 34ms/step - loss: 1.0271 - accuracy: 0.6367 - val_loss: 1.0920 - val_accuracy: 0.6235\n",
      "Epoch 7/30\n",
      "782/782 [==============================] - 26s 34ms/step - loss: 0.9209 - accuracy: 0.6749 - val_loss: 0.8427 - val_accuracy: 0.7028\n",
      "Epoch 8/30\n",
      "782/782 [==============================] - 27s 35ms/step - loss: 0.8442 - accuracy: 0.7019 - val_loss: 0.7944 - val_accuracy: 0.7235\n",
      "Epoch 9/30\n",
      "782/782 [==============================] - 27s 34ms/step - loss: 0.7816 - accuracy: 0.7280 - val_loss: 0.7273 - val_accuracy: 0.7448\n",
      "Epoch 10/30\n",
      "781/782 [============================>.] - ETA: 0s - loss: 0.7246 - accuracy: 0.7481WARNING:tensorflow:From C:\\Users\\harri\\Anaconda3\\envs\\deep-learning\\lib\\site-packages\\tensorflow_core\\python\\ops\\resource_variable_ops.py:1786: calling BaseResourceVariable.__init__ (from tensorflow.python.ops.resource_variable_ops) with constraint is deprecated and will be removed in a future version.\n",
      "Instructions for updating:\n",
      "If using Keras pass *_constraint arguments to layers.\n"
     ]
    },
    {
     "name": "stderr",
     "output_type": "stream",
     "text": [
      "WARNING:tensorflow:From C:\\Users\\harri\\Anaconda3\\envs\\deep-learning\\lib\\site-packages\\tensorflow_core\\python\\ops\\resource_variable_ops.py:1786: calling BaseResourceVariable.__init__ (from tensorflow.python.ops.resource_variable_ops) with constraint is deprecated and will be removed in a future version.\n",
      "Instructions for updating:\n",
      "If using Keras pass *_constraint arguments to layers.\n"
     ]
    },
    {
     "name": "stdout",
     "output_type": "stream",
     "text": [
      "INFO:tensorflow:Assets written to: F://Models/Model_Design/resnet_w_bottleneck/assets\n"
     ]
    },
    {
     "name": "stderr",
     "output_type": "stream",
     "text": [
      "INFO:tensorflow:Assets written to: F://Models/Model_Design/resnet_w_bottleneck/assets\n"
     ]
    },
    {
     "name": "stdout",
     "output_type": "stream",
     "text": [
      "782/782 [==============================] - 46s 59ms/step - loss: 0.7246 - accuracy: 0.7481 - val_loss: 0.7503 - val_accuracy: 0.7416\n",
      "Epoch 11/30\n",
      "782/782 [==============================] - 27s 34ms/step - loss: 0.6842 - accuracy: 0.7626 - val_loss: 0.6891 - val_accuracy: 0.7566\n",
      "Epoch 12/30\n",
      "782/782 [==============================] - 27s 34ms/step - loss: 0.6543 - accuracy: 0.7732 - val_loss: 0.6746 - val_accuracy: 0.7691\n",
      "Epoch 13/30\n",
      "782/782 [==============================] - 27s 34ms/step - loss: 0.6201 - accuracy: 0.7849 - val_loss: 0.6363 - val_accuracy: 0.7806\n",
      "Epoch 14/30\n",
      "782/782 [==============================] - 27s 35ms/step - loss: 0.5895 - accuracy: 0.7939 - val_loss: 0.5833 - val_accuracy: 0.7994\n",
      "Epoch 15/30\n",
      "782/782 [==============================] - 28s 36ms/step - loss: 0.5694 - accuracy: 0.8030 - val_loss: 0.5765 - val_accuracy: 0.8039\n",
      "Epoch 16/30\n",
      "782/782 [==============================] - 27s 34ms/step - loss: 0.5426 - accuracy: 0.8102 - val_loss: 0.5497 - val_accuracy: 0.8084\n",
      "Epoch 17/30\n",
      "782/782 [==============================] - 26s 34ms/step - loss: 0.5266 - accuracy: 0.8162 - val_loss: 0.5535 - val_accuracy: 0.8069\n",
      "Epoch 18/30\n",
      "782/782 [==============================] - 27s 35ms/step - loss: 0.5080 - accuracy: 0.8230 - val_loss: 0.5594 - val_accuracy: 0.8062\n",
      "Epoch 19/30\n",
      "782/782 [==============================] - 26s 34ms/step - loss: 0.4873 - accuracy: 0.8294 - val_loss: 0.5221 - val_accuracy: 0.8205\n",
      "Epoch 20/30\n",
      "780/782 [============================>.] - ETA: 0s - loss: 0.4689 - accuracy: 0.8377INFO:tensorflow:Assets written to: F://Models/Model_Design/resnet_w_bottleneck/assets\n"
     ]
    },
    {
     "name": "stderr",
     "output_type": "stream",
     "text": [
      "INFO:tensorflow:Assets written to: F://Models/Model_Design/resnet_w_bottleneck/assets\n"
     ]
    },
    {
     "name": "stdout",
     "output_type": "stream",
     "text": [
      "782/782 [==============================] - 46s 59ms/step - loss: 0.4689 - accuracy: 0.8377 - val_loss: 0.5233 - val_accuracy: 0.8235\n",
      "Epoch 21/30\n",
      "782/782 [==============================] - 26s 33ms/step - loss: 0.4543 - accuracy: 0.8407 - val_loss: 0.4981 - val_accuracy: 0.8291\n",
      "Epoch 22/30\n",
      "782/782 [==============================] - 26s 34ms/step - loss: 0.4357 - accuracy: 0.8479 - val_loss: 0.4758 - val_accuracy: 0.8341\n",
      "Epoch 23/30\n",
      "782/782 [==============================] - 26s 33ms/step - loss: 0.4160 - accuracy: 0.8561 - val_loss: 0.4649 - val_accuracy: 0.8391\n",
      "Epoch 24/30\n",
      "782/782 [==============================] - 27s 35ms/step - loss: 0.4060 - accuracy: 0.8577 - val_loss: 0.4712 - val_accuracy: 0.8397\n",
      "Epoch 25/30\n",
      "782/782 [==============================] - 27s 35ms/step - loss: 0.3880 - accuracy: 0.8649 - val_loss: 0.4473 - val_accuracy: 0.8462\n",
      "Epoch 26/30\n",
      "782/782 [==============================] - 27s 35ms/step - loss: 0.3752 - accuracy: 0.8687 - val_loss: 0.4420 - val_accuracy: 0.8502\n",
      "Epoch 27/30\n",
      "782/782 [==============================] - 27s 34ms/step - loss: 0.3570 - accuracy: 0.8765 - val_loss: 0.4434 - val_accuracy: 0.8503\n",
      "Epoch 28/30\n",
      "782/782 [==============================] - 26s 34ms/step - loss: 0.3473 - accuracy: 0.8793 - val_loss: 0.4342 - val_accuracy: 0.8527\n",
      "Epoch 29/30\n",
      "782/782 [==============================] - 27s 34ms/step - loss: 0.3341 - accuracy: 0.8845 - val_loss: 0.4248 - val_accuracy: 0.8558\n",
      "Epoch 30/30\n",
      "780/782 [============================>.] - ETA: 0s - loss: 0.3246 - accuracy: 0.8858INFO:tensorflow:Assets written to: F://Models/Model_Design/resnet_w_bottleneck/assets\n"
     ]
    },
    {
     "name": "stderr",
     "output_type": "stream",
     "text": [
      "INFO:tensorflow:Assets written to: F://Models/Model_Design/resnet_w_bottleneck/assets\n"
     ]
    },
    {
     "name": "stdout",
     "output_type": "stream",
     "text": [
      "782/782 [==============================] - 46s 59ms/step - loss: 0.3249 - accuracy: 0.8858 - val_loss: 0.4230 - val_accuracy: 0.8555\n",
      "Training complete.\n"
     ]
    }
   ],
   "source": [
    "hist = train(resnet,dataset_train, dataset_test,  'resnet_w_bottleneck', logs=True)"
   ]
  },
  {
   "cell_type": "code",
   "execution_count": 6,
   "metadata": {
    "ExecuteTime": {
     "end_time": "2020-03-03T04:44:39.470731Z",
     "start_time": "2020-03-03T04:44:37.020694Z"
    }
   },
   "outputs": [
    {
     "data": {
      "image/png": "[encoded data removed]",
      "text/plain": [
       "<Figure size 576x576 with 2 Axes>"
      ]
     },
     "metadata": {
      "needs_background": "light"
     },
     "output_type": "display_data"
    },
    {
     "name": "stdout",
     "output_type": "stream",
     "text": [
      "    157/Unknown - 2s 13ms/step - loss: 0.4230 - accuracy: 0.8555 2s 13ms/stTest loss:      0.42297725218116855\n",
      "Test accuracy:  0.8555\n"
     ]
    }
   ],
   "source": [
    "benchmark(resnet, dataset_test, hist, 'resnet_w_bottleneck')"
   ]
  },
  {
   "cell_type": "markdown",
   "metadata": {},
   "source": [
    "### Potential Improvements\n",
    "- MobileNet V2 paper suggested that the ReLU activation throws away a lot of information in the bottleneck layer output. Their suggestion, no activation after the bottleneck layer."
   ]
  },
  {
   "cell_type": "code",
   "execution_count": null,
   "metadata": {},
   "outputs": [],
   "source": []
  },
  {
   "cell_type": "markdown",
   "metadata": {},
   "source": [
    "## MobileNet V2 Architecture\n",
    "\n",
    "- [1](https://arxiv.org/pdf/1801.04381.pdf)\n",
    "\n",
    "- [2](https://towardsdatascience.com/mobilenetv2-inverted-residuals-and-linear-bottlenecks-8a4362f4ffd5)\n",
    "\n",
    "__Main Contributions__\n",
    "- Depthwise Seperable Convolutions - reduce the computational complexity of a standard 2D Conv by replacing this layer with two layers. The first, a __3x3 depthwise convolution__ applying K kernels with each channel (where K is the number of input channels). Second, a __1x1 pointwise convolution__ to produce linear combinations of channel pixels.\n",
    "\n",
    "- Linear Bottlenecks - TLDR when you are compressing your representation with a convolutional operation, do not use a nonlinearity after the compression. (especially ReLU which throws out negative activations) Instead, make bottleneck layers linear operations.\n",
    "\n",
    "- Inverted Residuals"
   ]
  },
  {
   "cell_type": "code",
   "execution_count": 7,
   "metadata": {
    "ExecuteTime": {
     "end_time": "2020-03-03T04:44:39.485691Z",
     "start_time": "2020-03-03T04:44:39.472726Z"
    }
   },
   "outputs": [],
   "source": [
    "def mobilenet_v2_tail(inputs, dims):\n",
    "    return Conv2D(dims, (3,3), **conv_params)(inputs)\n",
    "\n",
    "def inverted_residual(inputs, squeeze_dims, expand_ratio=4, downsample=False):\n",
    "    \"\"\"\n",
    "    inputs: Tensor- input to the first layer\n",
    "    squeeze_dims: int - depth of the channel dimension after squeeze\n",
    "    expand_ratio: float - multiplier to expand channel dimenions after bottleneck\n",
    "    downsample: bool - whether to downsample the image\n",
    "    \n",
    "    Inverted residual a la MobileNet V2 note the channel dimension will\n",
    "     be expanded by pointwise conv, processed with depthwise conv, then \n",
    "     compressed by a linear bottleneck\n",
    "    \"\"\"\n",
    "    \n",
    "    expand_dims = int(squeeze_dims * expand_ratio)\n",
    "    if downsample:\n",
    "        strides =(2,2)\n",
    "    else:\n",
    "        strides=(1,1)\n",
    "                \n",
    "    #RESIDUAL PATH (EXPAND - > COMPRESS)\n",
    "    x = Conv2D(expand_dims, (1, 1), strides=strides, **conv_params)(inputs) #expansion (linear comb across channels)\n",
    "    x = BatchNormalization(**bn_params)(x)\n",
    "    x = ReLU(max_value=6)(x)  # the paper uses ReLU6, a thresholded ReLU (3-bit output)\n",
    "\n",
    "    x = DepthwiseConv2D((3,3), strides=(1,1), **conv_params)(x) #depthwise conv (for spatial data)\n",
    "    x = BatchNormalization(**bn_params)(x)\n",
    "    x = ReLU(max_value=6)(x)\n",
    "    \n",
    "    x = Conv2D(squeeze_dims, (1, 1), strides=(1, 1), **conv_params)(x) #bottleneck layer\n",
    "    x = BatchNormalization(**bn_params)(x) #No activation here (Linear BottleNeck)\n",
    "    \n",
    "    #IDENTITY PATH\n",
    "    if downsample: # maintain dimensions during downsampling\n",
    "        inputs = Conv2D(squeeze_dims, (1, 1), strides=strides, padding='same')(inputs)\n",
    "    \n",
    "    #COMBINE\n",
    "    return Add()([x, inputs])\n",
    "\n",
    "def mobilenet_v2_head(inputs, dims=None):\n",
    "    x = Conv2D(dims, (1, 1), strides=(1,1), padding='same')(inputs)\n",
    "    x = GlobalAveragePooling2D()(x)\n",
    "    return Dense(DATA_NUM_CLASSES, activation='softmax')(x)"
   ]
  },
  {
   "cell_type": "code",
   "execution_count": 8,
   "metadata": {
    "ExecuteTime": {
     "end_time": "2020-03-03T04:44:41.396436Z",
     "start_time": "2020-03-03T04:44:39.488683Z"
    }
   },
   "outputs": [],
   "source": [
    "mobilenet_v2 = VGG_Like_CNN(mobilenet_v2_tail,\n",
    "            inverted_residual,\n",
    "            mobilenet_v2_head,\n",
    "            input_shape = (DATA_CROP_ROWS, DATA_CROP_COLS, DATA_CHANNELS),\n",
    "            num_levels= 3,\n",
    "            num_downsamples=2,\n",
    "            block_repeats=BLOCK_REPEATS)\n",
    "\n",
    "mobilenet_v2.compile(optimizer = tf.keras.optimizers.Adam(TRAINING_LR_MAX),\n",
    "              loss='sparse_categorical_crossentropy',\n",
    "               metrics=['accuracy'])"
   ]
  },
  {
   "cell_type": "code",
   "execution_count": 9,
   "metadata": {
    "ExecuteTime": {
     "end_time": "2020-03-03T05:18:24.077099Z",
     "start_time": "2020-03-03T04:44:41.398388Z"
    },
    "scrolled": false
   },
   "outputs": [
    {
     "name": "stdout",
     "output_type": "stream",
     "text": [
      "######################################################\n",
      "mobilenet_v2\n",
      "######################################################\n",
      "WARNING:tensorflow:`period` argument is deprecated. Please use `save_freq` to specify the frequency in number of samples seen.\n"
     ]
    },
    {
     "name": "stderr",
     "output_type": "stream",
     "text": [
      "WARNING:tensorflow:`period` argument is deprecated. Please use `save_freq` to specify the frequency in number of samples seen.\n"
     ]
    },
    {
     "name": "stdout",
     "output_type": "stream",
     "text": [
      "Training model mobilenet_v2...\n",
      "Epoch 1/30\n",
      "782/782 [==============================] - 72s 92ms/step - loss: 1.9231 - accuracy: 0.3059 - val_loss: 1.6549 - val_accuracy: 0.3964\n",
      "Epoch 2/30\n",
      "782/782 [==============================] - 66s 84ms/step - loss: 1.3542 - accuracy: 0.5134 - val_loss: 1.1472 - val_accuracy: 0.5860\n",
      "Epoch 3/30\n",
      "782/782 [==============================] - 66s 84ms/step - loss: 1.0593 - accuracy: 0.6243 - val_loss: 0.9590 - val_accuracy: 0.6571\n",
      "Epoch 4/30\n",
      "782/782 [==============================] - 66s 84ms/step - loss: 0.8609 - accuracy: 0.7008 - val_loss: 0.8085 - val_accuracy: 0.7226\n",
      "Epoch 5/30\n",
      "782/782 [==============================] - 66s 85ms/step - loss: 0.7350 - accuracy: 0.7457 - val_loss: 0.7436 - val_accuracy: 0.7453\n",
      "Epoch 6/30\n",
      "782/782 [==============================] - 66s 84ms/step - loss: 0.6562 - accuracy: 0.7736 - val_loss: 0.6915 - val_accuracy: 0.7636\n",
      "Epoch 7/30\n",
      "782/782 [==============================] - 64s 82ms/step - loss: 0.5734 - accuracy: 0.8018 - val_loss: 0.6660 - val_accuracy: 0.7720\n",
      "Epoch 8/30\n",
      "782/782 [==============================] - 66s 84ms/step - loss: 0.5176 - accuracy: 0.8205 - val_loss: 0.5615 - val_accuracy: 0.8114\n",
      "Epoch 9/30\n",
      "782/782 [==============================] - 62s 80ms/step - loss: 0.4684 - accuracy: 0.8402 - val_loss: 0.5444 - val_accuracy: 0.8188\n",
      "Epoch 10/30\n",
      "781/782 [============================>.] - ETA: 0s - loss: 0.4343 - accuracy: 0.8502INFO:tensorflow:Assets written to: F://Models/Model_Design/mobilenet_v2/assets\n"
     ]
    },
    {
     "name": "stderr",
     "output_type": "stream",
     "text": [
      "INFO:tensorflow:Assets written to: F://Models/Model_Design/mobilenet_v2/assets\n"
     ]
    },
    {
     "name": "stdout",
     "output_type": "stream",
     "text": [
      "782/782 [==============================] - 85s 108ms/step - loss: 0.4342 - accuracy: 0.8502 - val_loss: 0.4951 - val_accuracy: 0.8293\n",
      "Epoch 11/30\n",
      "782/782 [==============================] - 65s 83ms/step - loss: 0.4017 - accuracy: 0.8624 - val_loss: 0.4323 - val_accuracy: 0.8547\n",
      "Epoch 12/30\n",
      "782/782 [==============================] - 64s 82ms/step - loss: 0.3762 - accuracy: 0.8681 - val_loss: 0.4413 - val_accuracy: 0.8522\n",
      "Epoch 13/30\n",
      "782/782 [==============================] - 64s 82ms/step - loss: 0.3482 - accuracy: 0.8805 - val_loss: 0.4157 - val_accuracy: 0.8622\n",
      "Epoch 14/30\n",
      "782/782 [==============================] - 65s 83ms/step - loss: 0.3216 - accuracy: 0.8886 - val_loss: 0.3820 - val_accuracy: 0.8749\n",
      "Epoch 15/30\n",
      "782/782 [==============================] - 65s 83ms/step - loss: 0.2981 - accuracy: 0.8946 - val_loss: 0.3927 - val_accuracy: 0.8708\n",
      "Epoch 16/30\n",
      "782/782 [==============================] - 65s 83ms/step - loss: 0.2769 - accuracy: 0.9031 - val_loss: 0.3576 - val_accuracy: 0.8788\n",
      "Epoch 17/30\n",
      "782/782 [==============================] - 64s 82ms/step - loss: 0.2516 - accuracy: 0.9123 - val_loss: 0.3613 - val_accuracy: 0.8851\n",
      "Epoch 18/30\n",
      "782/782 [==============================] - 66s 84ms/step - loss: 0.2349 - accuracy: 0.9189 - val_loss: 0.3303 - val_accuracy: 0.8928\n",
      "Epoch 19/30\n",
      "782/782 [==============================] - 68s 87ms/step - loss: 0.2123 - accuracy: 0.9266 - val_loss: 0.3429 - val_accuracy: 0.8880\n",
      "Epoch 20/30\n",
      "781/782 [============================>.] - ETA: 0s - loss: 0.1959 - accuracy: 0.9321INFO:tensorflow:Assets written to: F://Models/Model_Design/mobilenet_v2/assets\n"
     ]
    },
    {
     "name": "stderr",
     "output_type": "stream",
     "text": [
      "INFO:tensorflow:Assets written to: F://Models/Model_Design/mobilenet_v2/assets\n"
     ]
    },
    {
     "name": "stdout",
     "output_type": "stream",
     "text": [
      "782/782 [==============================] - 85s 109ms/step - loss: 0.1957 - accuracy: 0.9321 - val_loss: 0.3106 - val_accuracy: 0.8983\n",
      "Epoch 21/30\n",
      "782/782 [==============================] - 65s 84ms/step - loss: 0.1740 - accuracy: 0.9383 - val_loss: 0.3271 - val_accuracy: 0.8943\n",
      "Epoch 22/30\n",
      "782/782 [==============================] - 65s 83ms/step - loss: 0.1576 - accuracy: 0.9448 - val_loss: 0.3117 - val_accuracy: 0.9050\n",
      "Epoch 23/30\n",
      "782/782 [==============================] - 65s 83ms/step - loss: 0.1397 - accuracy: 0.9513 - val_loss: 0.3277 - val_accuracy: 0.9030\n",
      "Epoch 24/30\n",
      "782/782 [==============================] - 65s 83ms/step - loss: 0.1228 - accuracy: 0.9569 - val_loss: 0.3119 - val_accuracy: 0.9064\n",
      "Epoch 25/30\n",
      "782/782 [==============================] - 65s 83ms/step - loss: 0.1029 - accuracy: 0.9640 - val_loss: 0.3104 - val_accuracy: 0.9099\n",
      "Epoch 26/30\n",
      "782/782 [==============================] - 67s 85ms/step - loss: 0.0834 - accuracy: 0.9707 - val_loss: 0.3097 - val_accuracy: 0.9112\n",
      "Epoch 27/30\n",
      "782/782 [==============================] - 65s 83ms/step - loss: 0.0741 - accuracy: 0.9739 - val_loss: 0.2958 - val_accuracy: 0.9167\n",
      "Epoch 28/30\n",
      "782/782 [==============================] - 65s 83ms/step - loss: 0.0581 - accuracy: 0.9804 - val_loss: 0.3015 - val_accuracy: 0.9180\n",
      "Epoch 29/30\n",
      "782/782 [==============================] - 65s 82ms/step - loss: 0.0496 - accuracy: 0.9832 - val_loss: 0.2935 - val_accuracy: 0.9211\n",
      "Epoch 30/30\n",
      "781/782 [============================>.] - ETA: 0s - loss: 0.0418 - accuracy: 0.9858INFO:tensorflow:Assets written to: F://Models/Model_Design/mobilenet_v2/assets\n"
     ]
    },
    {
     "name": "stderr",
     "output_type": "stream",
     "text": [
      "INFO:tensorflow:Assets written to: F://Models/Model_Design/mobilenet_v2/assets\n"
     ]
    },
    {
     "name": "stdout",
     "output_type": "stream",
     "text": [
      "782/782 [==============================] - 86s 111ms/step - loss: 0.0418 - accuracy: 0.9858 - val_loss: 0.2948 - val_accuracy: 0.9215\n",
      "Training complete.\n"
     ]
    }
   ],
   "source": [
    "hist = train(mobilenet_v2,dataset_train, dataset_test, 'mobilenet_v2', logs=True)"
   ]
  },
  {
   "cell_type": "code",
   "execution_count": 10,
   "metadata": {
    "ExecuteTime": {
     "end_time": "2020-03-03T05:18:28.960933Z",
     "start_time": "2020-03-03T05:18:24.080091Z"
    }
   },
   "outputs": [
    {
     "data": {
      "image/png": "[encoded data removed]",
      "text/plain": [
       "<Figure size 576x576 with 2 Axes>"
      ]
     },
     "metadata": {
      "needs_background": "light"
     },
     "output_type": "display_data"
    },
    {
     "name": "stdout",
     "output_type": "stream",
     "text": [
      "    157/Unknown - 4s 28ms/step - loss: 0.2948 - accuracy: 0.9215 4s 28ms/step - loss: 0.2966 - accuracy: Test loss:      0.2948434254166427\n",
      "Test accuracy:  0.9215\n"
     ]
    }
   ],
   "source": [
    "benchmark(mobilenet_v2, dataset_test, hist, 'mobilenet_v2')"
   ]
  },
  {
   "cell_type": "code",
   "execution_count": null,
   "metadata": {},
   "outputs": [],
   "source": []
  },
  {
   "cell_type": "markdown",
   "metadata": {},
   "source": [
    "## Comparisons\n"
   ]
  },
  {
   "cell_type": "code",
   "execution_count": 3,
   "metadata": {
    "ExecuteTime": {
     "end_time": "2020-03-05T05:06:45.058743Z",
     "start_time": "2020-03-05T05:06:44.555497Z"
    }
   },
   "outputs": [
    {
     "data": {
      "image/png": "[encoded data removed]",
      "text/plain": [
       "<Figure size 576x576 with 2 Axes>"
      ]
     },
     "metadata": {
      "needs_background": "light"
     },
     "output_type": "display_data"
    }
   ],
   "source": [
    "model_names = ['mobilenet_v2', 'resnet_w_bottleneck']\n",
    "plot_multiple_training_curves(model_names)"
   ]
  },
  {
   "cell_type": "code",
   "execution_count": null,
   "metadata": {},
   "outputs": [],
   "source": []
  },
  {
   "cell_type": "code",
   "execution_count": 11,
   "metadata": {
    "ExecuteTime": {
     "end_time": "2020-03-03T05:18:28.968913Z",
     "start_time": "2020-03-03T05:18:28.963925Z"
    }
   },
   "outputs": [],
   "source": [
    "#Xception Implementation  https://arxiv.org/abs/1610.02357"
   ]
  },
  {
   "cell_type": "code",
   "execution_count": 12,
   "metadata": {
    "ExecuteTime": {
     "end_time": "2020-03-03T05:18:28.982613Z",
     "start_time": "2020-03-03T05:18:28.970905Z"
    }
   },
   "outputs": [],
   "source": [
    "#Inception V4 Implementation  https://arxiv.org/abs/1602.07261"
   ]
  },
  {
   "cell_type": "code",
   "execution_count": 13,
   "metadata": {
    "ExecuteTime": {
     "end_time": "2020-03-03T05:18:28.996721Z",
     "start_time": "2020-03-03T05:18:28.984552Z"
    }
   },
   "outputs": [],
   "source": [
    "#NASNet Implementation  https://arxiv.org/abs/1707.07012"
   ]
  },
  {
   "cell_type": "code",
   "execution_count": 14,
   "metadata": {
    "ExecuteTime": {
     "end_time": "2020-03-03T05:18:29.011656Z",
     "start_time": "2020-03-03T05:18:28.998667Z"
    }
   },
   "outputs": [],
   "source": [
    "#MnasNet Implementation  https://arxiv.org/abs/1807.11626"
   ]
  },
  {
   "cell_type": "code",
   "execution_count": 15,
   "metadata": {
    "ExecuteTime": {
     "end_time": "2020-03-03T05:18:29.024645Z",
     "start_time": "2020-03-03T05:18:29.014624Z"
    }
   },
   "outputs": [],
   "source": [
    "#AmoebaNet Implementation  https://arxiv.org/abs/1802.01548"
   ]
  },
  {
   "cell_type": "code",
   "execution_count": 16,
   "metadata": {
    "ExecuteTime": {
     "end_time": "2020-03-03T05:18:29.039602Z",
     "start_time": "2020-03-03T05:18:29.026635Z"
    }
   },
   "outputs": [],
   "source": [
    "#Squeeze and Excite Implementation   https://arxiv.org/abs/1709.01507"
   ]
  },
  {
   "cell_type": "code",
   "execution_count": 17,
   "metadata": {
    "ExecuteTime": {
     "end_time": "2020-03-03T05:18:29.057847Z",
     "start_time": "2020-03-03T05:18:29.043581Z"
    }
   },
   "outputs": [],
   "source": [
    "#ShuffleNet V2 Implementation  https://arxiv.org/abs/1707.01083"
   ]
  },
  {
   "cell_type": "code",
   "execution_count": 18,
   "metadata": {
    "ExecuteTime": {
     "end_time": "2020-03-03T05:18:29.073001Z",
     "start_time": "2020-03-03T05:18:29.059392Z"
    }
   },
   "outputs": [],
   "source": [
    "#EfficientNet Implementation https://arxiv.org/abs/1905.11946v3"
   ]
  },
  {
   "cell_type": "markdown",
   "metadata": {},
   "source": [
    "# Awesome Papers\n",
    "\n",
    "## ImageNet\n",
    "\n",
    "https://paperswithcode.com/paper/self-training-with-noisy-student-improves\n",
    "\n",
    "https://paperswithcode.com/paper/large-scale-learning-of-general-visual\n",
    "\n",
    "https://paperswithcode.com/paper/fixing-the-train-test-resolution-discrepancy\n",
    "\n",
    "https://paperswithcode.com/paper/exploring-the-limits-of-weakly-supervised\n",
    "\n",
    "https://paperswithcode.com/paper/gpipe-efficient-training-of-giant-neural\n",
    "\n",
    "https://paperswithcode.com/paper/compounding-the-performance-improvements-of\n",
    "\n",
    "https://paperswithcode.com/paper/billion-scale-semi-supervised-learning-for\n",
    "\n",
    "https://paperswithcode.com/paper/randaugment-practical-data-augmentation-with\n",
    "\n",
    "https://paperswithcode.com/paper/adversarial-examples-improve-image\n",
    "\n",
    "https://paperswithcode.com/paper/multigrain-a-unified-image-embedding-for\n",
    "\n",
    "https://paperswithcode.com/paper/drop-an-octave-reducing-spatial-redundancy-in\n",
    "\n",
    "https://paperswithcode.com/paper/harmonic-convolutional-networks-based-on\n",
    "\n",
    "https://paperswithcode.com/paper/selective-kernel-networks\n",
    "\n",
    "https://paperswithcode.com/paper/ghostnet-more-features-from-cheap-operations\n",
    "\n",
    "https://paperswithcode.com/paper/shufflenet-v2-practical-guidelines-for\n",
    "\n",
    "https://paperswithcode.com/paper/searching-for-mobilenetv3\n",
    "\n",
    "https://paperswithcode.com/paper/whats-hidden-in-a-randomly-weighted-neural\n",
    "\n",
    "https://paperswithcode.com/paper/xception-deep-learning-with-depthwise\n",
    "\n",
    "https://paperswithcode.com/paper/polynet-a-pursuit-of-structural-diversity-in\n",
    "\n",
    "\n",
    "## MNIST\n",
    "\n",
    "https://paperswithcode.com/paper/a-branching-and-merging-convolutional-network\n",
    "\n",
    "https://paperswithcode.com/paper/stochastic-optimization-of-plain\n",
    "\n",
    "\n",
    "\n",
    "## CIFAR -10\n",
    "\n",
    "\n",
    "https://paperswithcode.com/paper/large-scale-learning-of-general-visual\n",
    "\n",
    "https://paperswithcode.com/paper/gpipe-efficient-training-of-giant-neural\n",
    "\n",
    "https://paperswithcode.com/paper/efficientnet-rethinking-model-scaling-for\n",
    "\n",
    "https://paperswithcode.com/paper/understanding-and-enhancing-mixed-sample-data\n",
    "\n",
    "https://paperswithcode.com/paper/large-scale-learning-of-general-visual\n",
    "\n",
    "https://paperswithcode.com/paper/fast-autoaugment\n",
    "\n",
    "https://paperswithcode.com/paper/enaet-self-trained-ensemble-autoencoding\n",
    "\n",
    "https://paperswithcode.com/paper/proxylessnas-direct-neural-architecture\n",
    "\n",
    "https://paperswithcode.com/paper/squeeze-and-excitation-networks\n",
    "\n",
    "https://paperswithcode.com/paper/proxylessnas-direct-neural-architecture\n",
    "\n",
    "https://paperswithcode.com/paper/squeeze-and-excitation-networks\n",
    "\n",
    "https://paperswithcode.com/paper/fixup-initialization-residual-learning\n",
    "\n",
    "https://paperswithcode.com/paper/batchboost-regularization-for-stabilizing\n",
    "\n",
    "https://paperswithcode.com/paper/learning-implicitly-recurrent-cnns-through\n",
    "\n",
    "https://paperswithcode.com/paper/manifold-mixup-better-representations-by\n",
    "\n",
    "https://paperswithcode.com/paper/mixup-beyond-empirical-risk-minimization\n",
    "\n",
    "https://paperswithcode.com/paper/averaging-weights-leads-to-wider-optima-and\n",
    "\n",
    "https://paperswithcode.com/paper/deep-pyramidal-residual-networks\n",
    "\n",
    "\n",
    "## CIFAR 100\n",
    "\n",
    "https://paperswithcode.com/paper/cutmix-regularization-strategy-to-train\n",
    "\n",
    "https://paperswithcode.com/paper/fast-autoaugment\n",
    "\n",
    "https://paperswithcode.com/paper/understanding-and-enhancing-mixed-sample-data\n",
    "\n",
    "https://paperswithcode.com/paper/res2net-a-new-multi-scale-backbone\n",
    "\n",
    "https://paperswithcode.com/paper/enaet-self-trained-ensemble-autoencoding\n",
    "\n",
    "https://paperswithcode.com/paper/single-bit-per-weight-deep-convolutional\n",
    "\n",
    "https://paperswithcode.com/paper/towards-principled-design-of-deep\n",
    "\n",
    "https://paperswithcode.com/paper/training-neural-networks-with-local-error"
   ]
  },
  {
   "cell_type": "code",
   "execution_count": null,
   "metadata": {},
   "outputs": [],
   "source": []
  }
 ],
 "metadata": {
  "kernelspec": {
   "display_name": "Python [conda env:deep-learning]",
   "language": "python",
   "name": "conda-env-deep-learning-py"
  },
  "language_info": {
   "codemirror_mode": {
    "name": "ipython",
    "version": 3
   },
   "file_extension": ".py",
   "mimetype": "text/x-python",
   "name": "python",
   "nbconvert_exporter": "python",
   "pygments_lexer": "ipython3",
   "version": "3.7.6"
  },
  "toc": {
   "base_numbering": 1,
   "nav_menu": {},
   "number_sections": true,
   "sideBar": true,
   "skip_h1_title": false,
   "title_cell": "Table of Contents",
   "title_sidebar": "Contents",
   "toc_cell": true,
   "toc_position": {},
   "toc_section_display": true,
   "toc_window_display": true
  },
  "varInspector": {
   "cols": {
    "lenName": 16,
    "lenType": 16,
    "lenVar": 40
   },
   "kernels_config": {
    "python": {
     "delete_cmd_postfix": "",
     "delete_cmd_prefix": "del ",
     "library": "var_list.py",
     "varRefreshCmd": "print(var_dic_list())"
    },
    "r": {
     "delete_cmd_postfix": ") ",
     "delete_cmd_prefix": "rm(",
     "library": "var_list.r",
     "varRefreshCmd": "cat(var_dic_list()) "
    }
   },
   "types_to_exclude": [
    "module",
    "function",
    "builtin_function_or_method",
    "instance",
    "_Feature"
   ],
   "window_display": false
  }
 },
 "nbformat": 4,
 "nbformat_minor": 2
}
