{
 "cells": [
  {
   "cell_type": "code",
   "execution_count": null,
   "metadata": {},
   "outputs": [],
   "source": []
  },
  {
   "cell_type": "code",
   "execution_count": null,
   "metadata": {},
   "outputs": [],
   "source": []
  },
  {
   "cell_type": "code",
   "execution_count": null,
   "metadata": {},
   "outputs": [],
   "source": []
  },
  {
   "cell_type": "code",
   "execution_count": null,
   "metadata": {},
   "outputs": [],
   "source": []
  },
  {
   "cell_type": "markdown",
   "metadata": {},
   "source": [
    "## MobileNet V3 Architecture\n",
    "\n",
    "### Sources\n",
    "- [1](https://arxiv.org/abs/1905.02244v5)\n",
    "\n",
    "\n",
    "### Related Work\n",
    "\n",
    "- __SqueezeNet__ uses 1x1 convolutions with squeeze and expand modules to reduce the number of model parameters. \n",
    "- __MobileNetV1__ introduced depthwise seperable convolutions to reduce the number of computations. \n",
    "- __MobileNetV2__ indroduced inverted residual blocks and linear bottlenecks.\n",
    "- __ShuffleNet__ introduced group convolutions and channel shuffle operations \n",
    "- __ShiftNet__ proposed a shift operation combined with point-wise convolutions to replace spatial convolutions.\n",
    "\n",
    "__Quantization__ reduces the precision of the convolution arithmetic.\n",
    "\n",
    "### Efficient Mobile Building Blocks\n",
    "\n",
    "__Depthwise seperable convolutions__ are defined by a depthwise convolution for mixing spatial information, and a 1x1 pointwise convolution for feature generation. Decoupling information extraction of channel and spatial dimensions improves the performance by reducing the number of computations.\n",
    "\n",
    "__Linear Bottleneck__ is a pointqise convolution that compresses the number of channel dimensions. This operation does not terminate with a nonlinearity, as applying a nonlinearity to the compressed representation would result in a loss of information. \n",
    "\n",
    "__Inverted Residual Block__ 1x1 conv expansion followed by a depthwise seperable convolution and a 1x1 linear bottleneck. input and output are connected with a residual connection. \n",
    "\n",
    "*This structure\n",
    "maintains a compact representation at the input and the output while expanding to a higher-dimensional feature space\n",
    "internally to increase the expressiveness of nonlinear perchannel transformations.\n",
    "*\n",
    "\n"
   ]
  },
  {
   "cell_type": "code",
   "execution_count": null,
   "metadata": {},
   "outputs": [],
   "source": []
  }
 ],
 "metadata": {
  "kernelspec": {
   "display_name": "Python [conda env:py36]",
   "language": "python",
   "name": "conda-env-py36-py"
  },
  "language_info": {
   "codemirror_mode": {
    "name": "ipython",
    "version": 3
   },
   "file_extension": ".py",
   "mimetype": "text/x-python",
   "name": "python",
   "nbconvert_exporter": "python",
   "pygments_lexer": "ipython3",
   "version": "3.6.5"
  },
  "toc": {
   "base_numbering": 1,
   "nav_menu": {},
   "number_sections": true,
   "sideBar": true,
   "skip_h1_title": false,
   "title_cell": "Table of Contents",
   "title_sidebar": "Contents",
   "toc_cell": false,
   "toc_position": {},
   "toc_section_display": true,
   "toc_window_display": false
  },
  "varInspector": {
   "cols": {
    "lenName": 16,
    "lenType": 16,
    "lenVar": 40
   },
   "kernels_config": {
    "python": {
     "delete_cmd_postfix": "",
     "delete_cmd_prefix": "del ",
     "library": "var_list.py",
     "varRefreshCmd": "print(var_dic_list())"
    },
    "r": {
     "delete_cmd_postfix": ") ",
     "delete_cmd_prefix": "rm(",
     "library": "var_list.r",
     "varRefreshCmd": "cat(var_dic_list()) "
    }
   },
   "types_to_exclude": [
    "module",
    "function",
    "builtin_function_or_method",
    "instance",
    "_Feature"
   ],
   "window_display": false
  }
 },
 "nbformat": 4,
 "nbformat_minor": 2
}
