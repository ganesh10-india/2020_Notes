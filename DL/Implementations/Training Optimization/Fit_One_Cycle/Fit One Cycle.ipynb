{
 "cells": [
  {
   "cell_type": "markdown",
   "metadata": {},
   "source": [
    "# Fit One Cycle\n",
    "\n",
    "## Resources\n",
    "- [The 1cycle Policy Sylvain Gugger](https://sgugger.github.io/the-1cycle-policy.html)\n",
    "- [FastAI Docs fitonecycle](https://docs.fast.ai/callbacks.one_cycle.html)\n",
    "- [1cycle-learning-rate-policy](https://iconof.com/1cycle-learning-rate-policy/)\n",
    "\n",
    "## The Problem of Learning Rates\n",
    "\n",
    "One method *learning rate scheduling* gradually decreases the learning rate until training concludes. This does method does not take into account the error surface during gradient descent.\n",
    "\n",
    "Another method *adaptive learning rate schedules* modify the weight update process to adjust the learning rate based on the dynamics of the error surface. 3. says that this is computationally expensive, but I don't see how that could be (more research)\n",
    "\n",
    "__Cyclical Learning Rates__ *this method lets the learning rate cyclically vary between reasonable boundary values. Training with cyclical learning rates instead of fixed values achieves improved classification accuracy without a need to tune and often in fewer iterations* [paper abstract](https://arxiv.org/abs/1506.01186)\n",
    "\n",
    "### Finding reasonable bounds\n",
    "\n",
    "__LR range test__ essentially just train the model for a few epochs while gradually increasing the learning rate. Weight for the model to diverge.\n",
    "\n",
    "## One Cycle Learning\n",
    "\n",
    "__Super Convergence__ [paper](https://arxiv.org/abs/1708.07120) NNs train faster with one learning rate cycle and a large maximum learning rate.  \n",
    "*The cycle’s size must be smaller than the total number of iterations/epochs. After the cycle is complete, for the remaining iteration/epochs learning rate should decrease even further, several orders of magnitude less than its initial value. Smith named this the 1cycle policy.*[*](https://iconof.com/1cycle-learning-rate-policy/)\n",
    "\n",
    "__Momentum__ *To accompany the movement toward larger learning rates, Leslie found in his experiments that decreasing the momentum led to better results. This supports the intuition that in that part of the training, we want the SGD to quickly go in new directions to find a flatter area, so the new gradients need to be given more weight. In practice, he recommends to pick two values likes 0.85 and 0.95, and decrease from the higher one to the lower one when we increase the learning rate, then go back to the higher momentum as the learning rate goes down.*[*](https://sgugger.github.io/the-1cycle-policy.html)\n",
    "\n",
    "__Learning Rate Finder__ * That's why when we run the Learning Rate Finder, it's very important to use it with the exact same conditions as during our training. For instance different batch sizes or weight decays will impact the results*[*](https://sgugger.github.io/the-1cycle-policy.html)\n",
    "\n",
    "__1cycle Regularization__ *Training with the 1cycle policy at high learning rates is a method of regularization in itself, so we shouldn't be surprised if we have to reduce the other forms of regularization we were previously using when we put it in place. It will however be more efficient, since we can train for a long time at large learning rates.*[*](https://sgugger.github.io/the-1cycle-policy.html)"
   ]
  },
  {
   "cell_type": "markdown",
   "metadata": {},
   "source": [
    "# TensorFlow Implementation\n",
    "\n",
    "\n",
    "## Learning Rate Finder\n",
    "\n",
    "*Over an epoch begin your SGD with a very low learning rate (like 10−8) but change it (by multiplying it by a certain factor for instance) at each mini-batch until it reaches a very high value (like 1 or 10). Record the loss each time at each iteration and once you're finished, plot those losses against the learning rate.* [*](https://sgugger.github.io/how-do-you-find-a-good-learning-rate.html)\n",
    "\n",
    "*the learning rate that corresponds to the minimum value is already a bit too high, since we are at the edge between improving and getting all over the place. We want to go one order of magnitude before, a value that's still aggressive (so that we train quickly) but still on the safe side from an explosion.*[*](https://sgugger.github.io/how-do-you-find-a-good-learning-rate.html)\n",
    "\n",
    "__Modifications__\n",
    "1. Smooth the recorder losses for each minibatch with exponentially weighted averages. $avg loss_{i} = \\beta*avg loss_{i-1} + (1-\\beta)*loss_{i}$ $\\beta$ between 0 and 1. Close to 1 means smoother. Plot the following \n",
    "$smoothed loss_{i}=\\frac{avg loss_{i}}{1-\\beta^{i+1}}$\n",
    "2. Stopping criteria... $smoothed loss_i>4*min smoothed loss$\n",
    "3. lr step increase - at each step $lr_i=lr_0*q^i$ where $q=(\\frac{lr_{N-1}}{lr_0})^{\\frac{1}{N-1}}$"
   ]
  },
  {
   "cell_type": "code",
   "execution_count": 1,
   "metadata": {
    "ExecuteTime": {
     "end_time": "2020-02-09T22:10:25.365666Z",
     "start_time": "2020-02-09T22:10:22.268105Z"
    }
   },
   "outputs": [
    {
     "name": "stdout",
     "output_type": "stream",
     "text": [
      "2.1.0\n"
     ]
    }
   ],
   "source": [
    "import tensorflow as tf\n",
    "from tensorflow.keras.callbacks import Callback\n",
    "import tensorflow.keras.backend as K\n",
    "import numpy as np\n",
    "import matplotlib.pyplot as plt\n",
    "import math\n",
    "\n",
    "print(tf.__version__)"
   ]
  },
  {
   "cell_type": "code",
   "execution_count": 2,
   "metadata": {
    "ExecuteTime": {
     "end_time": "2020-02-09T22:10:25.384646Z",
     "start_time": "2020-02-09T22:10:25.367660Z"
    }
   },
   "outputs": [],
   "source": [
    "class find_lr(Callback):\n",
    "    \"\"\"\n",
    "    Modified from https://sgugger.github.io/how-do-you-find-a-good-learning-rate.html\n",
    "    \n",
    "    Prograsses through a single epoch, increasing the learning rate until the \n",
    "    NN diverges. should be run in the same conditions as training (same batch size)\n",
    "    \n",
    "    The max_lr should be one order of magnitude smaller than the graph minimum.\n",
    "    \"\"\"\n",
    "    def __init__(self, num_batches,  init_value = 1e-6, final_value=10., beta = 0.98):\n",
    "        self.init_value = init_value\n",
    "        self.final_value = final_value\n",
    "        self.beta = beta\n",
    "        self.q = (final_value / init_value) ** (1/(num_batches-1)) #l.r. multiplier: see formula above. \n",
    "        self.avg_loss = 0.\n",
    "        self.best_loss = 0.\n",
    "        self.batch_num = 0\n",
    "        self.losses = []\n",
    "        self.log_lrs = []\n",
    "        \n",
    "    def on_train_begin(self, logs={}):\n",
    "        if not hasattr(self.model.optimizer, 'lr'):\n",
    "            raise ValueError('Optimizer must have a \"lr\" attribute.')\n",
    "        logs = logs or {}\n",
    "        K.set_value(self.model.optimizer.lr, self.init_value)\n",
    "         \n",
    "    def on_batch_end(self, batch, logs=None):\n",
    "        logs = logs or {}\n",
    "        self.batch_num += 1\n",
    "        lr = K.get_value(self.model.optimizer.lr)\n",
    "        \n",
    "        #Compute the smoothed loss\n",
    "        self.avg_loss = self.beta * self.avg_loss + (1-self.beta) * logs['loss']\n",
    "        smoothed_loss = self.avg_loss / (1 - self.beta**self.batch_num)\n",
    "\n",
    "        #Stop if the loss is exploding\n",
    "        if self.batch_num > 1 and smoothed_loss > 4 * self.best_loss:\n",
    "            return self.log_lrs, self.losses\n",
    "\n",
    "        #Record the best loss\n",
    "        if smoothed_loss < self.best_loss or self.batch_num==1:\n",
    "            self.best_loss = smoothed_loss\n",
    "\n",
    "        #Store the values\n",
    "        self.losses.append(smoothed_loss)\n",
    "        self.log_lrs.append(math.log10(lr))\n",
    "        \n",
    "        #increase the lr \n",
    "        K.set_value(self.model.optimizer.lr, lr * self.q )\n",
    "        \n",
    "    def plot_lr(self):\n",
    "        plt.xlabel('L.R. (log_10)')\n",
    "        plt.ylabel('Loss')\n",
    "        plt.plot(self.log_lrs, self.losses)  \n",
    "\n",
    "        locs, labels = plt.xticks()\n",
    "        for i, lab in enumerate(labels):\n",
    "            labels[i] = \"1e{}\".format(str(int(locs[i])))\n",
    "        plt.xticks(locs, labels)\n",
    "        plt.xlim(-6,1)\n",
    "        plt.show()"
   ]
  },
  {
   "cell_type": "markdown",
   "metadata": {},
   "source": [
    "# Implementation Test\n",
    "\n",
    "https://github.com/nathanhubens/KerasOneCycle/blob/master/OneCycle.ipynb"
   ]
  },
  {
   "cell_type": "code",
   "execution_count": 3,
   "metadata": {
    "ExecuteTime": {
     "end_time": "2020-02-09T22:10:25.887987Z",
     "start_time": "2020-02-09T22:10:25.386756Z"
    }
   },
   "outputs": [
    {
     "name": "stdout",
     "output_type": "stream",
     "text": [
      "60000 train samples\n",
      "10000 test samples\n",
      "(60000, 28, 28, 1)\n",
      "(60000, 10)\n"
     ]
    }
   ],
   "source": [
    "(x_train, y_train), (x_test, y_test) = tf.keras.datasets.mnist.load_data(path='mnist.npz')\n",
    "x_train = x_train.reshape(x_train.shape[0], 28, 28, 1)\n",
    "x_test = x_test.reshape(x_test.shape[0], 28, 28, 1)\n",
    "\n",
    "x_train = x_train.astype('float32')\n",
    "x_test = x_test.astype('float32')\n",
    "x_train /= 255\n",
    "x_test /= 255\n",
    "\n",
    "num_classes = 10\n",
    "y_train = tf.keras.utils.to_categorical(y_train, num_classes)\n",
    "y_test = tf.keras.utils.to_categorical(y_test, num_classes)\n",
    "\n",
    "print(x_train.shape[0], 'train samples')\n",
    "print(x_test.shape[0], 'test samples')\n",
    "print(x_train.shape)\n",
    "print(y_train.shape)"
   ]
  },
  {
   "cell_type": "code",
   "execution_count": 4,
   "metadata": {
    "ExecuteTime": {
     "end_time": "2020-02-09T22:10:25.896967Z",
     "start_time": "2020-02-09T22:10:25.889954Z"
    }
   },
   "outputs": [],
   "source": [
    "input_shape = (28, 28, 1)\n",
    "def Net():\n",
    "    model = tf.keras.models.Sequential([\n",
    "        tf.keras.layers.Conv2D(32, kernel_size=(3,3), \n",
    "                               activation='relu', input_shape = input_shape),\n",
    "        tf.keras.layers.Conv2D(64, kernel_size=(3,3), activation='relu'),\n",
    "        tf.keras.layers.MaxPool2D(pool_size=(3,3)),\n",
    "        tf.keras.layers.Dropout(0.25),\n",
    "        tf.keras.layers.Flatten(),\n",
    "        tf.keras.layers.Dense(128, activation='relu'),\n",
    "        tf.keras.layers.Dropout(0.3),\n",
    "        tf.keras.layers.Dense(10, activation='softmax')\n",
    "    ])\n",
    "    model.compile(loss = tf.keras.losses.categorical_crossentropy,\n",
    "                 optimizer = tf.keras.optimizers.SGD(),\n",
    "                 metrics=['acc'])\n",
    "    return model"
   ]
  },
  {
   "cell_type": "code",
   "execution_count": 5,
   "metadata": {
    "ExecuteTime": {
     "end_time": "2020-02-09T22:10:33.005703Z",
     "start_time": "2020-02-09T22:10:25.897933Z"
    }
   },
   "outputs": [
    {
     "name": "stdout",
     "output_type": "stream",
     "text": [
      "Train on 60000 samples\n",
      "60000/60000 [==============================] - 6s 96us/sample - loss: 2.1750 - acc: 0.2073\n"
     ]
    }
   ],
   "source": [
    "bs = 128\n",
    "model = Net()\n",
    "cb = find_lr(x_train.shape[0]/bs)\n",
    "hist = model.fit(x_train, y_train, batch_size=bs, epochs=1, callbacks=[cb])"
   ]
  },
  {
   "cell_type": "code",
   "execution_count": 6,
   "metadata": {
    "ExecuteTime": {
     "end_time": "2020-02-09T22:10:33.137324Z",
     "start_time": "2020-02-09T22:10:33.007673Z"
    }
   },
   "outputs": [
    {
     "data": {
      "image/png": "[encoded data removed]",
      "text/plain": [
       "<Figure size 432x288 with 1 Axes>"
      ]
     },
     "metadata": {
      "needs_background": "light"
     },
     "output_type": "display_data"
    }
   ],
   "source": [
    "cb.plot_lr()"
   ]
  },
  {
   "cell_type": "code",
   "execution_count": 7,
   "metadata": {
    "ExecuteTime": {
     "end_time": "2020-02-09T22:10:33.159264Z",
     "start_time": "2020-02-09T22:10:33.139317Z"
    }
   },
   "outputs": [],
   "source": [
    "#####################\n",
    "##### OneCycle  #####\n",
    "#https://github.com/nathanhubens/KerasOneCycle/blob/master/utils/keras_OneCycle.py\n",
    "#####################\n",
    "\n",
    "          \n",
    "class OneCycle(Callback):\n",
    "    \"\"\"This callback implements a cyclical learning rate and momentum policy (CLR).\n",
    "    The method cycles the learning rate between two boundaries with\n",
    "    some constant frequency, as detailed in this paper (https://arxiv.org/abs/1506.01186).\n",
    "    The amplitude of the cycle can be scaled on a per-iteration \n",
    "    For more detail, please see paper.\n",
    "    \n",
    "    # Example\n",
    "        ```python\n",
    "            clr = OneCycle(min_lr=1e-3, max_lr=1e-2,\n",
    "                      min_mtm=0.85, max_mtm=0.95,\n",
    "                      annealing=0.1,step_size=np.ceil((X_train.shape[0]*epochs/batch_size)))\n",
    "            model.fit(X_train, Y_train, callbacks=[clr])\n",
    "        ```\n",
    "    \n",
    "    # Arguments\n",
    "        min_lr: initial learning rate which is the\n",
    "            lower boundary in the cycle.\n",
    "        max_lr: upper boundary in the cycle. Functionally,\n",
    "            it defines the cycle amplitude (max_lr - min_lr).\n",
    "        step_size: number of training iterations in the cycle. To define as `np.ceil((X_train.shape[0]*epochs/batch_size))`\n",
    "        max_mtm : initial value of the momentum    \n",
    "        min_mtm : lower boundary in the cycle.\n",
    "        annealing_stage : percentage of the iterations where the lr\n",
    "                    will decrease lower than its min_lr\n",
    "        annealing_rate : in annealing phase learning rate will be decreased to annealing_rate*min_lr\n",
    "                    \n",
    "        # References\n",
    "        Original paper: https://arxiv.org/pdf/1803.09820.pdf\n",
    "        Inspired by : https://sgugger.github.io/the-1cycle-policy.html#the-1cycle-policy\n",
    "    \"\"\"\n",
    "\n",
    "    def __init__(self, min_lr=1e-5, max_lr=1e-2, min_mtm = 0.85, max_mtm=0.95, training_iterations=1000.,\n",
    "                 annealing_stage=0.1, annealing_rate=0.01):\n",
    "\n",
    "        self.min_lr = min_lr\n",
    "        self.max_lr = max_lr\n",
    "        self.min_mtm = min_mtm\n",
    "        self.max_mtm = max_mtm\n",
    "        self.annealing_stage = annealing_stage\n",
    "        self.step_size = training_iterations*(1-self.annealing_stage)/2\n",
    "        self.min_annealing_lr = annealing_rate * min_lr\n",
    "        self.iterations = 0.\n",
    "        self.training_iterations = training_iterations\n",
    "        self.history = {}\n",
    "        \n",
    "    def clr(self):\n",
    "        if self.iterations < 2*self.step_size :\n",
    "            x = np.abs(self.iterations/self.step_size - 1)\n",
    "            return self.min_lr + (self.max_lr-self.min_lr)*(1-x)\n",
    "        else:\n",
    "            x = min(1, float(self.iterations - 2 * self.step_size) / (self.training_iterations - 2 * self.step_size))\n",
    "            return self.min_lr - (self.min_lr - self.min_annealing_lr) * x\n",
    "        \n",
    "    \n",
    "    def cmtm(self):\n",
    "        if self.iterations < 2*self.step_size :   \n",
    "            x = np.abs(self.iterations/self.step_size - 1)\n",
    "        else: \n",
    "            x=1\n",
    "        return self.min_mtm + (self.max_mtm-self.min_mtm)*(x)     \n",
    "        \n",
    "    def on_train_begin(self, logs={}):\n",
    "        if not hasattr(self.model.optimizer, 'lr'):\n",
    "            raise ValueError('Optimizer must have a \"lr\" attribute.')\n",
    "        logs = logs or {}\n",
    "        K.set_value(self.model.optimizer.lr, self.min_lr)\n",
    "        K.set_value(self.model.optimizer.momentum, self.max_mtm)\n",
    "         \n",
    "    def on_batch_end(self, batch, logs=None):\n",
    "        \n",
    "        logs = logs or {}\n",
    "        self.iterations += 1\n",
    "    \n",
    "        self.history.setdefault('lr', []).append(K.get_value(self.model.optimizer.lr))\n",
    "        self.history.setdefault('momentum', []).append(K.get_value(self.model.optimizer.momentum))\n",
    "        self.history.setdefault('iterations', []).append(self.iterations)\n",
    "\n",
    "        for k, v in logs.items():\n",
    "            self.history.setdefault(k, []).append(v)\n",
    "        \n",
    "        #increase/decrease the lr and momentum\n",
    "        K.set_value(self.model.optimizer.lr, self.clr()) \n",
    "        K.set_value(self.model.optimizer.momentum, self.cmtm())\n",
    "        \n",
    "    def plot_lr(self):\n",
    "        plt.xlabel('Training Iterations')\n",
    "        plt.ylabel('Learning Rate')\n",
    "        plt.title(\"CLR - '1 cycle' Policy\")\n",
    "        plt.plot(self.history['iterations'], self.history['lr'])\n",
    "        \n",
    "    def plot_mtm(self):\n",
    "        plt.xlabel('Training Iterations')\n",
    "        plt.ylabel('Momentum')\n",
    "        plt.title(\"CLR - '1 cycle' Policy\")\n",
    "        plt.plot(self.history['iterations'], self.history['momentum'])"
   ]
  },
  {
   "cell_type": "code",
   "execution_count": 8,
   "metadata": {
    "ExecuteTime": {
     "end_time": "2020-02-09T22:10:38.514887Z",
     "start_time": "2020-02-09T22:10:33.161260Z"
    }
   },
   "outputs": [
    {
     "name": "stdout",
     "output_type": "stream",
     "text": [
      "Train on 60000 samples, validate on 10000 samples\n",
      "60000/60000 [==============================] - 5s 87us/sample - loss: 0.7941 - acc: 0.7475 - val_loss: 0.1934 - val_acc: 0.9424\n"
     ]
    }
   ],
   "source": [
    "bs = 128\n",
    "model = Net()\n",
    "cb = OneCycle(min_lr=1e-2,max_lr=1e-1)\n",
    "hist = model.fit(x_train, y_train, validation_data=(x_test,y_test), \n",
    "                 batch_size=bs, epochs=1, callbacks=[cb])"
   ]
  },
  {
   "cell_type": "code",
   "execution_count": 12,
   "metadata": {
    "ExecuteTime": {
     "end_time": "2020-02-09T22:12:39.741340Z",
     "start_time": "2020-02-09T22:12:39.736351Z"
    }
   },
   "outputs": [
    {
     "data": {
      "text/plain": [
       "{'loss': [0.7941481598695119],\n",
       " 'acc': [0.7475],\n",
       " 'val_loss': [0.19344778183698655],\n",
       " 'val_acc': [0.9424]}"
      ]
     },
     "execution_count": 12,
     "metadata": {},
     "output_type": "execute_result"
    }
   ],
   "source": [
    "hist.history"
   ]
  }
 ],
 "metadata": {
  "kernelspec": {
   "display_name": "Python [conda env:deep-learning]",
   "language": "python",
   "name": "conda-env-deep-learning-py"
  },
  "language_info": {
   "codemirror_mode": {
    "name": "ipython",
    "version": 3
   },
   "file_extension": ".py",
   "mimetype": "text/x-python",
   "name": "python",
   "nbconvert_exporter": "python",
   "pygments_lexer": "ipython3",
   "version": "3.7.6"
  },
  "toc": {
   "base_numbering": 1,
   "nav_menu": {},
   "number_sections": true,
   "sideBar": true,
   "skip_h1_title": false,
   "title_cell": "Table of Contents",
   "title_sidebar": "Contents",
   "toc_cell": false,
   "toc_position": {},
   "toc_section_display": true,
   "toc_window_display": false
  },
  "varInspector": {
   "cols": {
    "lenName": 16,
    "lenType": 16,
    "lenVar": 40
   },
   "kernels_config": {
    "python": {
     "delete_cmd_postfix": "",
     "delete_cmd_prefix": "del ",
     "library": "var_list.py",
     "varRefreshCmd": "print(var_dic_list())"
    },
    "r": {
     "delete_cmd_postfix": ") ",
     "delete_cmd_prefix": "rm(",
     "library": "var_list.r",
     "varRefreshCmd": "cat(var_dic_list()) "
    }
   },
   "types_to_exclude": [
    "module",
    "function",
    "builtin_function_or_method",
    "instance",
    "_Feature"
   ],
   "window_display": false
  }
 },
 "nbformat": 4,
 "nbformat_minor": 2
}
