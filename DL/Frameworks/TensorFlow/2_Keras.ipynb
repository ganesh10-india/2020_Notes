{
 "cells": [
  {
   "cell_type": "markdown",
   "metadata": {},
   "source": [
    "# Keras\n",
    "\n",
    "__Keras Documentation__\n",
    "- [Keras Code Docs](https://www.tensorflow.org/api_docs/python/tf/keras)\n",
    "- [Keras Overview](https://www.tensorflow.org/guide/keras/overview)\n",
    "- [Functional API](https://www.tensorflow.org/guide/keras/functional)\n",
    "- [Keras Model Training](https://www.tensorflow.org/guide/keras/train_and_evaluate)\n",
    "- [Custom Model Creation](https://www.tensorflow.org/guide/keras/custom_layers_and_models)\n",
    "- [Custom Callbacks](https://www.tensorflow.org/guide/keras/custom_callback)\n",
    "- [Mixed Precision](https://www.tensorflow.org/guide/keras/mixed_precision)\n",
    "- [Keras FAQs](https://keras.io/getting-started/faq/)\n",
    "\n",
    "\n",
    "\n",
    "__Examples__\n",
    "- [RNNs w Keras](https://www.tensorflow.org/guide/keras/rnn)\n",
    "- [Masking and Padding](https://www.tensorflow.org/guide/keras/masking_and_padding)\n",
    "- [Paper Implementations](https://github.com/GauravBh1010tt/DeepLearn)\n",
    "- [Model Architectures w Keras](https://github.com/fchollet/deep-learning-models)"
   ]
  },
  {
   "cell_type": "code",
   "execution_count": 1,
   "metadata": {
    "ExecuteTime": {
     "end_time": "2020-02-26T04:05:38.890429Z",
     "start_time": "2020-02-26T04:05:35.447463Z"
    }
   },
   "outputs": [
    {
     "name": "stdout",
     "output_type": "stream",
     "text": [
      "2.1.0\n"
     ]
    }
   ],
   "source": [
    "import tensorflow as tf\n",
    "print(tf.__version__)"
   ]
  },
  {
   "cell_type": "markdown",
   "metadata": {},
   "source": [
    "## Building Networks\n",
    "\n"
   ]
  },
  {
   "cell_type": "markdown",
   "metadata": {},
   "source": [
    "### Sequential Models `tf.keras.Sequential()`"
   ]
  },
  {
   "cell_type": "code",
   "execution_count": 4,
   "metadata": {
    "ExecuteTime": {
     "end_time": "2020-02-20T19:18:51.258101Z",
     "start_time": "2020-02-20T19:18:48.921617Z"
    }
   },
   "outputs": [
    {
     "name": "stdout",
     "output_type": "stream",
     "text": [
      "Model: \"sequential_2\"\n",
      "_________________________________________________________________\n",
      "Layer (type)                 Output Shape              Param #   \n",
      "=================================================================\n",
      "dense_6 (Dense)              (None, 100)               10100     \n",
      "_________________________________________________________________\n",
      "dense_7 (Dense)              (None, 30)                3030      \n",
      "_________________________________________________________________\n",
      "dense_8 (Dense)              (None, 10)                310       \n",
      "=================================================================\n",
      "Total params: 13,440\n",
      "Trainable params: 13,440\n",
      "Non-trainable params: 0\n",
      "_________________________________________________________________\n"
     ]
    }
   ],
   "source": [
    "#Pass Sequential a list of Keras layers\n",
    "model = tf.keras.Sequential([\n",
    "    tf.keras.layers.Dense(100, activation='relu', input_shape=(100,)),\n",
    "    tf.keras.layers.Dense(30, activation='relu')])\n",
    "\n",
    "#use the .add() method to append a new layer\n",
    "model.add(tf.keras.layers.Dense(10, activation='softmax'))\n",
    "\n",
    "model.summary()"
   ]
  },
  {
   "cell_type": "markdown",
   "metadata": {},
   "source": [
    "### Functional API [link](https://www.tensorflow.org/guide/keras/functional)"
   ]
  },
  {
   "cell_type": "code",
   "execution_count": 5,
   "metadata": {
    "ExecuteTime": {
     "end_time": "2020-02-20T19:28:04.060885Z",
     "start_time": "2020-02-20T19:28:04.020991Z"
    }
   },
   "outputs": [
    {
     "name": "stdout",
     "output_type": "stream",
     "text": [
      "Model: \"model\"\n",
      "_________________________________________________________________\n",
      "Layer (type)                 Output Shape              Param #   \n",
      "=================================================================\n",
      "input_1 (InputLayer)         [(32, 100)]               0         \n",
      "_________________________________________________________________\n",
      "dense_9 (Dense)              (32, 100)                 10100     \n",
      "_________________________________________________________________\n",
      "dense_10 (Dense)             (32, 30)                  3030      \n",
      "_________________________________________________________________\n",
      "dense_11 (Dense)             (32, 10)                  310       \n",
      "=================================================================\n",
      "Total params: 13,440\n",
      "Trainable params: 13,440\n",
      "Non-trainable params: 0\n",
      "_________________________________________________________________\n"
     ]
    }
   ],
   "source": [
    "inputs = tf.keras.Input(shape=100, batch_size=32)\n",
    "dense1 = tf.keras.layers.Dense(100, activation='relu')(inputs)\n",
    "dense2 = tf.keras.layers.Dense(30, activation='relu')(dense1)\n",
    "outputs = tf.keras.layers.Dense(10, activation='softmax')(dense2)\n",
    "\n",
    "model = tf.keras.Model(inputs=inputs, outputs=outputs)\n",
    "model.summary()"
   ]
  },
  {
   "cell_type": "markdown",
   "metadata": {},
   "source": [
    "### Model Subclassing"
   ]
  },
  {
   "cell_type": "code",
   "execution_count": 14,
   "metadata": {
    "ExecuteTime": {
     "end_time": "2020-02-20T20:08:50.767555Z",
     "start_time": "2020-02-20T20:08:50.761571Z"
    }
   },
   "outputs": [],
   "source": [
    "class MyModel(k.Model):\n",
    "    def __init__(self):\n",
    "        super(MyModel, self).__init__(name=\"Model\")\n",
    "        self.dense1 = k.layers.Dense(100)\n",
    "        self.dense2 = k.layers.Dense(30)\n",
    "        self.outputs = k.layers.Dense(10, activation='softmax')    \n",
    "        \n",
    "    def call(self, Inputs):\n",
    "        x = self.dense1(Inputs)\n",
    "        x = self.dense2(x)\n",
    "        return self.outputs(x)\n",
    "\n",
    "model = MyModel()\n",
    "model.compile(optimizer=tf.keras.optimizers.RMSprop(0.001),\n",
    "              loss=tf.keras.losses.CategoricalCrossentropy(from_logits=True),\n",
    "              metrics=['accuracy'])\n",
    "#cant call model.summarize until the model is fitted"
   ]
  },
  {
   "cell_type": "markdown",
   "metadata": {},
   "source": [
    "## Model Methods\n",
    "\n",
    "`tf.keras.Model` is the base class used by the functional and subclassing model implementations. if you subclass `Model` you can add a `training` argument to the `call` method to specify a different behavior at inference.\n",
    "- `Model.layers` returns a list of the model's layers\n",
    "- `.get_layer(name=__, index=__)` will reurn a layer within layers\n",
    "\n",
    "### `model.compile()`\n",
    "\n",
    "Configures the model for training.\n",
    "\n",
    "`model.compile(loss=___, optimizer=___, metrics=____)`\n",
    "\n",
    "#### Keras Losses [docs](https://www.tensorflow.org/api_docs/python/tf/keras/losses)\n",
    "You instantiate a loss object and `call`ing the loss obj with `y_true` and `y_pred` will output a tensor with a scalar loss value.\n",
    "- `tf.keras.losses.BinaryCrossentropy()`\n",
    "- `tf.keras.losses.CategoricalCrossentropy()`\n",
    "- `tf.keras.losses.Huber()`\n",
    "- `tf.keras.losses.KLDivergence()`\n",
    "- `tf.keras.losses.MeanAbsoluteError()`\n",
    "- `tf.keras.losses.SparseCategoricalCrossentropy()`\n",
    "\n",
    "Note that `SparseCategoricalCrossentropy` requires as input integers NOT in OHE format. ex. [1,4,45,...]"
   ]
  },
  {
   "cell_type": "code",
   "execution_count": 4,
   "metadata": {
    "ExecuteTime": {
     "end_time": "2020-02-26T04:18:34.460092Z",
     "start_time": "2020-02-26T04:18:34.439139Z"
    }
   },
   "outputs": [
    {
     "name": "stdout",
     "output_type": "stream",
     "text": [
      "Loss:  11.522857\n"
     ]
    }
   ],
   "source": [
    "bce = tf.keras.losses.BinaryCrossentropy()\n",
    "loss = bce([0., 0., 1., 1.], [1., 1., 1., 0.]) #outputs a result tensor\n",
    "print(\"Loss: \", loss.numpy())"
   ]
  },
  {
   "cell_type": "markdown",
   "metadata": {},
   "source": [
    "#### Keras Optimizers [docs](https://www.tensorflow.org/api_docs/python/tf/keras/optimizers)\n",
    "Optimizers have `apply_gradients` which is passed (gradients, variable) to update the variables.\n",
    "\n",
    "- `tf.keras.optimizers.Adadelta()`\n",
    "- `tf.keras.optimizers.Adam()`\n",
    "- `tf.keras.optimizers.Nadam()`\n",
    "- `tf.keras.optimizers.RMSprop()`\n",
    "- `tf.keras.optimizers.SGD()`"
   ]
  },
  {
   "cell_type": "markdown",
   "metadata": {},
   "source": [
    "#### Keras Metrics [docs](https://www.tensorflow.org/api_docs/python/tf/keras/metrics)\n",
    "\n",
    "__Classes__\n",
    "Use the methods `update_state(y_true, y_pred)` to accumulate statisitcs. Use `.result()` to compute and return the metric tensor. `.reset_states()` to reset the metric state variables.This implementation of metrics allow output metrics to be computed across many batches\n",
    "\n",
    "- `tf.keras.metrics.accuracy()`\n",
    "- `tf.keras.metrics.BinaryCrossentropy()`\n",
    "- `tf.keras.metrics.CategoricalCrossentropy()`\n",
    "- `tf.keras.metrics.KLDivergence()`\n",
    "- `tf.keras.metrics.MeanSquaredError()`\n",
    "- `tf.keras.metrics.Precision()`\n",
    "- `tf.keras.metrics.Recall()`\n",
    "- `tf.keras.metrics.RootMeanSquaredError()`\n",
    "- `tf.keras.metrics.AUC()`\n",
    "- `tf.keras.metrics.SparseCategoricalAccuracy()`\n",
    "- `tf.keras.metrics.SparseCategoricalCrossentropy()`\n",
    "\n",
    "Note that the CrossEntropy metrics have arguments `from_logits` and `label_smoothing` "
   ]
  },
  {
   "cell_type": "code",
   "execution_count": 3,
   "metadata": {
    "ExecuteTime": {
     "end_time": "2020-02-26T04:08:12.673425Z",
     "start_time": "2020-02-26T04:08:12.648991Z"
    }
   },
   "outputs": [
    {
     "name": "stdout",
     "output_type": "stream",
     "text": [
      "First batch:  0.75\n",
      "Second batch:  0.375\n",
      "After Reset: 0.0\n"
     ]
    }
   ],
   "source": [
    "m = tf.keras.metrics.Accuracy()\n",
    "_ = m.update_state([1,2,3,4],[1,2,3,5])\n",
    "print(\"First batch: \",m.result().numpy())\n",
    "\n",
    "m.update_state([1,2,3,4],[0,0,0,0])\n",
    "print(\"Second batch: \",m.result().numpy())\n",
    "\n",
    "m.reset_states()\n",
    "print(\"After Reset:\",m.result().numpy())"
   ]
  },
  {
   "cell_type": "markdown",
   "metadata": {},
   "source": [
    "### `model.fit()`\n",
    "`model.fit(x, y, batch_size=___, epochs=____)`\n",
    "\n",
    "\n",
    "### `model.evaluate()`\n",
    "`model.evaluate(x_test, y_test)`\n",
    "\n",
    "\n",
    "### `model.predict()`\n",
    "`model.predict(x, batch_size=None, verbose=)`\n",
    "\n",
    "### `model.save()`\n",
    "\n",
    "\n",
    "### `model.save_weights()`\n",
    "\n",
    "*While the formats are the same, do not mix `save_weights` and `tf.train.Checkpoint`. Checkpoints saved by `Model.save_weights` should be loaded using `Model.load_weights`. Checkpoints saved using `tf.train.Checkpoint`.save should be restored using the corresponding `tf.train.Checkpoint.restore`. Prefer tf.train.Checkpoint over save_weights for training checkpoints.*\n",
    "\n",
    "### `model.summary()`\n",
    "\n",
    "### `model.train_on_batch()`\n",
    "\n",
    "Good for initializing the input of a model subclassing `keras.Model` , also could be used to debug a model"
   ]
  },
  {
   "cell_type": "markdown",
   "metadata": {},
   "source": [
    "## Keras Layers [docs](https://www.tensorflow.org/api_docs/python/tf/keras/layers)\n",
    "\n",
    "`tf.keras.layers` share the same common constructor arguments \n",
    "- `activation`\n",
    "- `kernel_initializer` and `bias_initializer`\n",
    "- `kernel_regularizer` and `bias_regularizer`\n",
    "\n",
    "__Notable Examples__\n",
    "- `tf.keras.layers.Additiv2Attention()`[*](https://www.tensorflow.org/api_docs/python/tf/keras/layers/AdditiveAttention) - Bahdanau Attention\n",
    "- `tf.keras.layers.Attention()`[*](https://www.tensorflow.org/api_docs/python/tf/keras/layers/Attention) - Luong Attention\n",
    "- `tf.keras.layers.AveragePooling2D()`\n",
    "- `tf.keras.layers.BatchNormalization()`[*](https://www.tensorflow.org/api_docs/python/tf/keras/layers/BatchNormalization)\n",
    "- `tf.keras.layers.Conv2D()`[*](https://www.tensorflow.org/api_docs/python/tf/keras/layers/Conv2D)\n",
    "- `tf.keras.layers.Conv2DTranspose()`[*](https://www.tensorflow.org/api_docs/python/tf/keras/layers/Conv2DTranspose)\n",
    "\n",
    "- `tf.keras.layers.Dense()`[*](https://www.tensorflow.org/api_docs/python/tf/keras/layers/Dense)\n",
    "- `tf.keras.layers.DepthwiseConv2D`[*](https://www.tensorflow.org/api_docs/python/tf/keras/layers/DepthwiseConv2D)\n",
    "- `tf.keras.layers.Embedding()` [*](https://www.tensorflow.org/api_docs/python/tf/keras/layers/Embedding)\n",
    "- `tf.keras.layers.GRU()`[*](https://www.tensorflow.org/api_docs/python/tf/keras/layers/GRU)\n",
    "- `tf.keras.layers.Dropout()` [*](https://www.tensorflow.org/api_docs/python/tf/keras/layers/Dropout)\n",
    "- `tf.keras.layers.GlobalAveragePooling2D() \n",
    "- `tf.keras.layers.GlobalMaxPool2D()`\n",
    "- `tf.keras.layers.LSTM()`[*](https://www.tensorflow.org/api_docs/python/tf/keras/layers/LSTM)\n",
    "- `tf.keras.layers.MaxPool2D()`\n",
    "- `tf.keras.layers.ReLU()`\n",
    "- `tf.keras.layers.SeparableConv2D()` [*](https://www.tensorflow.org/api_docs/python/tf/keras/layers/SeparableConv2D)\n",
    "- `tf.keras.layers.Softmax()`\n",
    "- `tf.keras.layers.UpSampling2D()`\n",
    "- `tf.keras.layers.ZeroPadding2D()`"
   ]
  },
  {
   "cell_type": "markdown",
   "metadata": {},
   "source": [
    "## Keras Callbacks [docs](https://www.tensorflow.org/api_docs/python/tf/keras/callbacks)\n",
    "- `tf.keras.callbacks.ModelCheckpoint()`\n",
    "- `tf.keras.callbacks.LearningRateScheduler()`\n",
    "- `tf.keras.callbacks.EarlyStopping()`\n",
    "- `tf.keras.callbacks.TensorBoard()`\n",
    "\n",
    "create a list of callbacks and pass it to the models `.fit()` method"
   ]
  },
  {
   "cell_type": "code",
   "execution_count": null,
   "metadata": {},
   "outputs": [],
   "source": [
    "cb = [\n",
    "    tf.keras.callbacks.EarlyStopping(monitor='val_loss', patience=2),\n",
    "    tf.keras.callbacks.TensorBoard(log_dir=\"./logs\")\n",
    "]\n",
    "model.fit(X, y, epochs=1=, callbacks=cb)"
   ]
  },
  {
   "cell_type": "code",
   "execution_count": null,
   "metadata": {},
   "outputs": [],
   "source": []
  }
 ],
 "metadata": {
  "kernelspec": {
   "display_name": "Python [conda env:deep-learning]",
   "language": "python",
   "name": "conda-env-deep-learning-py"
  },
  "language_info": {
   "codemirror_mode": {
    "name": "ipython",
    "version": 3
   },
   "file_extension": ".py",
   "mimetype": "text/x-python",
   "name": "python",
   "nbconvert_exporter": "python",
   "pygments_lexer": "ipython3",
   "version": "3.7.6"
  },
  "toc": {
   "base_numbering": 1,
   "nav_menu": {},
   "number_sections": true,
   "sideBar": true,
   "skip_h1_title": false,
   "title_cell": "Table of Contents",
   "title_sidebar": "Contents",
   "toc_cell": false,
   "toc_position": {},
   "toc_section_display": true,
   "toc_window_display": false
  },
  "varInspector": {
   "cols": {
    "lenName": 16,
    "lenType": 16,
    "lenVar": 40
   },
   "kernels_config": {
    "python": {
     "delete_cmd_postfix": "",
     "delete_cmd_prefix": "del ",
     "library": "var_list.py",
     "varRefreshCmd": "print(var_dic_list())"
    },
    "r": {
     "delete_cmd_postfix": ") ",
     "delete_cmd_prefix": "rm(",
     "library": "var_list.r",
     "varRefreshCmd": "cat(var_dic_list()) "
    }
   },
   "types_to_exclude": [
    "module",
    "function",
    "builtin_function_or_method",
    "instance",
    "_Feature"
   ],
   "window_display": false
  }
 },
 "nbformat": 4,
 "nbformat_minor": 2
}
