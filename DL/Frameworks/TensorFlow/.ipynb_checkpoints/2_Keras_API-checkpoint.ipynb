{
 "cells": [
  {
   "cell_type": "markdown",
   "metadata": {},
   "source": [
    "# Keras\n",
    "\n",
    "__Keras Documentation__\n",
    "- [Keras Code Docs](https://www.tensorflow.org/api_docs/python/tf/keras)\n",
    "- [Keras Overview](https://www.tensorflow.org/guide/keras/overview)\n",
    "- [Functional API](https://www.tensorflow.org/guide/keras/functional)\n",
    "- [Keras Model Training](https://www.tensorflow.org/guide/keras/train_and_evaluate)\n",
    "- [Custom Model Creation](https://www.tensorflow.org/guide/keras/custom_layers_and_models)\n",
    "- [Custom Callbacks](https://www.tensorflow.org/guide/keras/custom_callback)\n",
    "- [Mixed Precision](https://www.tensorflow.org/guide/keras/mixed_precision)\n",
    "- [Keras FAQs](https://keras.io/getting-started/faq/)\n",
    "\n",
    "\n",
    "\n",
    "__Examples__\n",
    "- [RNNs w Keras](https://www.tensorflow.org/guide/keras/rnn)\n",
    "- [Masking and Padding](https://www.tensorflow.org/guide/keras/masking_and_padding)\n",
    "- [Paper Implementations](https://github.com/GauravBh1010tt/DeepLearn)\n",
    "- [Model Architectures w Keras](https://github.com/fchollet/deep-learning-models)"
   ]
  },
  {
   "cell_type": "code",
   "execution_count": 4,
   "metadata": {
    "ExecuteTime": {
     "end_time": "2020-03-03T00:44:03.416769Z",
     "start_time": "2020-03-03T00:44:03.412779Z"
    }
   },
   "outputs": [
    {
     "name": "stdout",
     "output_type": "stream",
     "text": [
      "2.1.0\n"
     ]
    }
   ],
   "source": [
    "import tensorflow as tf\n",
    "print(tf.__version__)"
   ]
  },
  {
   "cell_type": "markdown",
   "metadata": {},
   "source": [
    "## Building Networks\n",
    "\n"
   ]
  },
  {
   "cell_type": "markdown",
   "metadata": {},
   "source": [
    "### Sequential Models `tf.keras.Sequential()`"
   ]
  },
  {
   "cell_type": "code",
   "execution_count": 24,
   "metadata": {
    "ExecuteTime": {
     "end_time": "2020-03-03T00:54:53.221086Z",
     "start_time": "2020-03-03T00:54:53.181681Z"
    }
   },
   "outputs": [
    {
     "name": "stdout",
     "output_type": "stream",
     "text": [
      "Model: \"sequential_1\"\n",
      "_________________________________________________________________\n",
      "Layer (type)                 Output Shape              Param #   \n",
      "=================================================================\n",
      "dense_3 (Dense)              (None, 100)               10100     \n",
      "_________________________________________________________________\n",
      "dense_4 (Dense)              (None, 30)                3030      \n",
      "_________________________________________________________________\n",
      "dense_5 (Dense)              (None, 10)                310       \n",
      "=================================================================\n",
      "Total params: 13,440\n",
      "Trainable params: 13,440\n",
      "Non-trainable params: 0\n",
      "_________________________________________________________________\n"
     ]
    }
   ],
   "source": [
    "#Pass Sequential a list of Keras layers\n",
    "model = tf.keras.Sequential([\n",
    "    tf.keras.layers.Dense(100, activation='relu', input_shape=(100,)),\n",
    "    tf.keras.layers.Dense(30, activation='relu')])\n",
    "\n",
    "#use the .add() method to append a new layer\n",
    "model.add(tf.keras.layers.Dense(10, activation='softmax'))\n",
    "\n",
    "model.summary()"
   ]
  },
  {
   "cell_type": "markdown",
   "metadata": {},
   "source": [
    "### Functional API [link](https://www.tensorflow.org/guide/keras/functional)\n",
    "\n",
    "Note that a model defined with the functional API must begin with an `Input` layer that defines the shape of the input. That returns an input placeholder. This place holder is passed to the first input layer of the model."
   ]
  },
  {
   "cell_type": "code",
   "execution_count": 5,
   "metadata": {
    "ExecuteTime": {
     "end_time": "2020-02-20T19:28:04.060885Z",
     "start_time": "2020-02-20T19:28:04.020991Z"
    }
   },
   "outputs": [
    {
     "name": "stdout",
     "output_type": "stream",
     "text": [
      "Model: \"model\"\n",
      "_________________________________________________________________\n",
      "Layer (type)                 Output Shape              Param #   \n",
      "=================================================================\n",
      "input_1 (InputLayer)         [(32, 100)]               0         \n",
      "_________________________________________________________________\n",
      "dense_9 (Dense)              (32, 100)                 10100     \n",
      "_________________________________________________________________\n",
      "dense_10 (Dense)             (32, 30)                  3030      \n",
      "_________________________________________________________________\n",
      "dense_11 (Dense)             (32, 10)                  310       \n",
      "=================================================================\n",
      "Total params: 13,440\n",
      "Trainable params: 13,440\n",
      "Non-trainable params: 0\n",
      "_________________________________________________________________\n"
     ]
    }
   ],
   "source": [
    "inputs = tf.keras.Input(shape=100, batch_size=32)\n",
    "dense1 = tf.keras.layers.Dense(100, activation='relu')(inputs)\n",
    "dense2 = tf.keras.layers.Dense(30, activation='relu')(dense1)\n",
    "outputs = tf.keras.layers.Dense(10, activation='softmax')(dense2)\n",
    "\n",
    "model = tf.keras.Model(inputs=inputs, outputs=outputs)\n",
    "model.summary()"
   ]
  },
  {
   "cell_type": "code",
   "execution_count": 6,
   "metadata": {
    "ExecuteTime": {
     "end_time": "2020-02-28T19:32:37.459896Z",
     "start_time": "2020-02-28T19:32:37.398898Z"
    }
   },
   "outputs": [
    {
     "data": {
      "text/plain": [
       "[<tensorflow.python.keras.engine.input_layer.InputLayer at 0x1d9bc4bf348>,\n",
       " <tensorflow.python.keras.layers.core.Dense at 0x1d9bc4bf388>,\n",
       " <tensorflow.python.keras.layers.core.Dense at 0x1d9bc4bffc8>,\n",
       " <tensorflow.python.keras.layers.core.Dense at 0x1d9bc4c14c8>,\n",
       " <tensorflow.python.keras.layers.core.Dense at 0x1d9bc4bf508>,\n",
       " <tensorflow.python.keras.layers.core.Dense at 0x1d9bc4ca388>,\n",
       " <tensorflow.python.keras.layers.core.Dense at 0x1d9bc4cdd08>]"
      ]
     },
     "execution_count": 6,
     "metadata": {},
     "output_type": "execute_result"
    }
   ],
   "source": [
    "# the funtional API is great for creating model subcomponents\n",
    "#within functions\n",
    "def model_block(inputs, **kwargs):\n",
    "    x = tf.keras.layers.Dense(100)(inputs)\n",
    "    x = tf.keras.layers.Dense(20)(x)\n",
    "    x = tf.keras.layers.Dense(10)(x)\n",
    "    return x\n",
    "\n",
    "model_inputs = tf.keras.layers.Input(shape=(100,))\n",
    "x = model_block(model_inputs)\n",
    "x = model_block(x)\n",
    "model_outputs = x\n",
    "model = tf.keras.Model(inputs=model_inputs, outputs=model_outputs)\n",
    "model.layers"
   ]
  },
  {
   "cell_type": "markdown",
   "metadata": {},
   "source": [
    "### Model Subclassing"
   ]
  },
  {
   "cell_type": "code",
   "execution_count": 4,
   "metadata": {
    "ExecuteTime": {
     "end_time": "2020-02-28T19:32:25.785751Z",
     "start_time": "2020-02-28T19:32:25.751671Z"
    }
   },
   "outputs": [],
   "source": [
    "class MyModel(tf.keras.Model):\n",
    "    def __init__(self):\n",
    "        super(MyModel, self).__init__(name=\"Model\")\n",
    "        self.dense1 = tf.keras.layers.Dense(100)\n",
    "        self.dense2 = tf.keras.layers.Dense(30)\n",
    "        self.outputs = tf.keras.layers.Dense(10, activation='softmax')    \n",
    "        \n",
    "    def call(self, Inputs):\n",
    "        x = self.dense1(Inputs)\n",
    "        x = self.dense2(x)\n",
    "        return self.outputs(x)\n",
    "\n",
    "model = MyModel()\n",
    "model.compile(optimizer=tf.keras.optimizers.RMSprop(0.001),\n",
    "              loss=tf.keras.losses.CategoricalCrossentropy(from_logits=True),\n",
    "              metrics=['accuracy'])\n",
    "#cant call model.summarize until the model is fitted"
   ]
  },
  {
   "cell_type": "markdown",
   "metadata": {},
   "source": [
    "## Model Methods\n",
    "\n",
    "`tf.keras.Model` is the base class used by the functional and subclassing model implementations. if you subclass `Model` you can add a `training` argument to the `call` method to specify a different behavior at inference.\n",
    "- `Model.layers` returns a list of the model's layers\n",
    "- `.get_layer(name=__, index=__)` will reurn a layer within layers\n",
    "\n",
    "### `model.compile()`\n",
    "\n",
    "Configures the model for training.\n",
    "\n",
    "`model.compile(loss=___, optimizer=___, metrics=____)`\n",
    "\n",
    "#### Keras Losses [docs](https://www.tensorflow.org/api_docs/python/tf/keras/losses)\n",
    " First instantiate a loss object (these are stateful).`call`ing the loss obj with `y_true` and `y_pred` will output a tensor with a scalar loss value.\n",
    "- `tf.keras.losses.BinaryCrossentropy()`\n",
    "- `tf.keras.losses.CategoricalCrossentropy()`\n",
    "- `tf.keras.losses.Huber()`\n",
    "- `tf.keras.losses.KLDivergence()`\n",
    "- `tf.keras.losses.MeanAbsoluteError()`\n",
    "- `tf.keras.losses.SparseCategoricalCrossentropy()`\n",
    "\n",
    "Note that `SparseCategoricalCrossentropy` requires as input integers NOT in OHE format. ex. [1,4,45,...]"
   ]
  },
  {
   "cell_type": "code",
   "execution_count": 4,
   "metadata": {
    "ExecuteTime": {
     "end_time": "2020-02-26T04:18:34.460092Z",
     "start_time": "2020-02-26T04:18:34.439139Z"
    }
   },
   "outputs": [
    {
     "name": "stdout",
     "output_type": "stream",
     "text": [
      "Loss:  11.522857\n"
     ]
    }
   ],
   "source": [
    "bce = tf.keras.losses.BinaryCrossentropy()\n",
    "loss = bce([0., 0., 1., 1.], [1., 1., 1., 0.]) #outputs a result tensor\n",
    "print(\"Loss: \", loss.numpy())"
   ]
  },
  {
   "cell_type": "markdown",
   "metadata": {},
   "source": [
    "#### Keras Optimizers [docs](https://www.tensorflow.org/api_docs/python/tf/keras/optimizers)\n",
    "Optimizers have `apply_gradients` which is passed (gradients, variable) to update the variables.\n",
    "\n",
    "- `tf.keras.optimizers.Adadelta()`\n",
    "- `tf.keras.optimizers.Adam()`\n",
    "- `tf.keras.optimizers.Nadam()`\n",
    "- `tf.keras.optimizers.RMSprop()`\n",
    "- `tf.keras.optimizers.SGD()`"
   ]
  },
  {
   "cell_type": "markdown",
   "metadata": {},
   "source": [
    "#### Keras Metrics [docs](https://www.tensorflow.org/api_docs/python/tf/keras/metrics)\n",
    "\n",
    "__Classes__\n",
    "Use the methods `.update_state(y_true, y_pred)` to accumulate statistics. Use `.result()` to compute and return the metric tensor. `.reset_states()` to reset the metric state variables.This implementation of metrics allow output metrics to be computed across many mini batches.\n",
    "\n",
    "- `tf.keras.metrics.accuracy()`\n",
    "- `tf.keras.metrics.BinaryCrossentropy()`\n",
    "- `tf.keras.metrics.CategoricalCrossentropy()`\n",
    "- `tf.keras.metrics.KLDivergence()`\n",
    "- `tf.keras.metrics.MeanSquaredError()`\n",
    "- `tf.keras.metrics.Precision()`\n",
    "- `tf.keras.metrics.Recall()`\n",
    "- `tf.keras.metrics.RootMeanSquaredError()`\n",
    "- `tf.keras.metrics.AUC()`\n",
    "- `tf.keras.metrics.SparseCategoricalAccuracy()`\n",
    "- `tf.keras.metrics.SparseCategoricalCrossentropy()`\n",
    "\n",
    "Note that the CrossEntropy metrics have arguments `from_logits` and `label_smoothing`. The first allows you to build a classification network without specifying a Softmax activation in the final later."
   ]
  },
  {
   "cell_type": "code",
   "execution_count": 3,
   "metadata": {
    "ExecuteTime": {
     "end_time": "2020-02-26T04:08:12.673425Z",
     "start_time": "2020-02-26T04:08:12.648991Z"
    }
   },
   "outputs": [
    {
     "name": "stdout",
     "output_type": "stream",
     "text": [
      "First batch:  0.75\n",
      "Second batch:  0.375\n",
      "After Reset: 0.0\n"
     ]
    }
   ],
   "source": [
    "m = tf.keras.metrics.Accuracy()\n",
    "_ = m.update_state([1,2,3,4],[1,2,3,5])\n",
    "print(\"First batch: \",m.result().numpy())\n",
    "\n",
    "m.update_state([1,2,3,4],[0,0,0,0])\n",
    "print(\"Second batch: \",m.result().numpy())\n",
    "\n",
    "m.reset_states()\n",
    "print(\"After Reset:\",m.result().numpy())"
   ]
  },
  {
   "cell_type": "markdown",
   "metadata": {},
   "source": [
    "### `model.fit()`\n",
    "`model.fit(x, y, batch_size=___, epochs=____)`\n",
    "\n",
    "\n",
    "### `model.evaluate()`\n",
    "`model.evaluate(x_test, y_test)`\n",
    "\n",
    "\n",
    "### `model.predict()`\n",
    "`model.predict(x, batch_size=None, verbose=)`\n",
    "\n",
    "### `model.save()`\n",
    "\n",
    "\n",
    "### `model.save_weights()`\n",
    "\n",
    "*While the formats are the same, do not mix `save_weights` and `tf.train.Checkpoint`. Checkpoints saved by `Model.save_weights` should be loaded using `Model.load_weights`. Checkpoints saved using `tf.train.Checkpoint`.save should be restored using the corresponding `tf.train.Checkpoint.restore`. Prefer tf.train.Checkpoint over save_weights for training checkpoints.*\n",
    "\n",
    "### `model.to_json()`\n",
    "\n",
    "### `model.summary()`\n",
    "\n",
    "### `model.train_on_batch()`\n",
    "\n",
    "Good for initializing the input of a model subclassing `keras.Model` , also could be used to debug a model"
   ]
  },
  {
   "cell_type": "markdown",
   "metadata": {},
   "source": [
    "## Keras Layers [docs](https://www.tensorflow.org/api_docs/python/tf/keras/layers)\n",
    "\n",
    "`tf.keras.layers` share the same common constructor arguments \n",
    "- `activation`\n",
    "- `kernel_initializer` and `bias_initializer`\n",
    "- `kernel_regularizer` and `bias_regularizer`\n",
    "\n",
    "__Notable Examples__\n",
    "- `tf.keras.layers.AdditiveAttention()`[*](https://www.tensorflow.org/api_docs/python/tf/keras/layers/AdditiveAttention) - Bahdanau Attention\n",
    "- `tf.keras.layers.Attention()`[*](https://www.tensorflow.org/api_docs/python/tf/keras/layers/Attention) - Luong Attention\n",
    "- `tf.keras.layers.AveragePooling2D()`\n",
    "- `tf.keras.layers.BatchNormalization()`[*](https://www.tensorflow.org/api_docs/python/tf/keras/layers/BatchNormalization)\n",
    "- `tf.keras.layers.Conv2D()`[*](https://www.tensorflow.org/api_docs/python/tf/keras/layers/Conv2D)\n",
    "- `tf.keras.layers.Conv2DTranspose()`[*](https://www.tensorflow.org/api_docs/python/tf/keras/layers/Conv2DTranspose)\n",
    "\n",
    "- `tf.keras.layers.Dense()`[*](https://www.tensorflow.org/api_docs/python/tf/keras/layers/Dense)\n",
    "- `tf.keras.layers.DepthwiseConv2D`[*](https://www.tensorflow.org/api_docs/python/tf/keras/layers/DepthwiseConv2D)\n",
    "- `tf.keras.layers.Embedding()` [*](https://www.tensorflow.org/api_docs/python/tf/keras/layers/Embedding)\n",
    "- `tf.keras.layers.GRU()`[*](https://www.tensorflow.org/api_docs/python/tf/keras/layers/GRU)\n",
    "- `tf.keras.layers.Dropout()` [*](https://www.tensorflow.org/api_docs/python/tf/keras/layers/Dropout)\n",
    "- `tf.keras.layers.GlobalAveragePooling2D() `\n",
    "- `tf.keras.layers.GlobalMaxPool2D()`\n",
    "- `tf.keras.layers.LSTM()`[*](https://www.tensorflow.org/api_docs/python/tf/keras/layers/LSTM)\n",
    "- `tf.keras.layers.MaxPool2D()`\n",
    "- `tf.keras.layers.ReLU()`\n",
    "- `tf.keras.layers.SeparableConv2D()` [*](https://www.tensorflow.org/api_docs/python/tf/keras/layers/SeparableConv2D)\n",
    "- `tf.keras.layers.Softmax()`\n",
    "- `tf.keras.layers.UpSampling2D()`\n",
    "- `tf.keras.layers.ZeroPadding2D()`"
   ]
  },
  {
   "cell_type": "markdown",
   "metadata": {},
   "source": [
    "### Custom Layers  [tutorial](https://www.tensorflow.org/guide/keras/custom_layers_and_models)\n",
    "\n",
    "\n",
    "You can make a custom layer by subclassing `tf.keras.layers.Layer`. Within the `init()` method, you can instantiate training weights with `self.add_weights()`\n",
    "\n",
    "You can grab a model's layers with `Model.layers`, after which, you can grab a layers weights with `layer.weights`.\n",
    "\n",
    "The Keras API recommends creating layer weights within a `build()` method, which will be called when the input_shape is known."
   ]
  },
  {
   "cell_type": "code",
   "execution_count": null,
   "metadata": {},
   "outputs": [],
   "source": [
    "class Linear(layers.Layer):\n",
    "\n",
    "    def __init__(self, units=32, input_dim=32):\n",
    "        super(Linear, self).__init__()\n",
    "        self.w = self.add_weight(shape=(input_dim, units),\n",
    "                                 initializer='random_normal',\n",
    "                                 trainable=True)  #USE THIS PARAMETER TO SET IF TRAINABLE\n",
    "        self.b = self.add_weight(shape=(units,),\n",
    "                                 initializer='zeros',\n",
    "                             trainable=True)\n",
    "\n",
    "    def call(self, inputs):\n",
    "        return tf.matmul(inputs, self.w) + self.b"
   ]
  },
  {
   "cell_type": "markdown",
   "metadata": {},
   "source": [
    "## Keras Callbacks [docs](https://www.tensorflow.org/api_docs/python/tf/keras/callbacks)\n",
    "\n",
    "- `tf.keras.callbacks.ModelCheckpoint()` - save model at regular intervals during training\n",
    "- `tf.keras.callbacks.LearningRateScheduler()` - pass a function that takes an epoch number and outputs a lr\n",
    "- `tf.keras.callbacks.EarlyStopping()` - interrupt training if validation sore does not improve across multiple epochs\n",
    "- `tf.keras.callbacks.TensorBoard()`\n",
    "- `tf.keras.callbacks.History()`\n",
    "- `tf.keras.callbacks.CSVLogger()` streams epoh results to a csv file\n",
    "\n",
    "create a list of callbacks and pass it to the models `.fit()` method"
   ]
  },
  {
   "cell_type": "code",
   "execution_count": null,
   "metadata": {},
   "outputs": [],
   "source": [
    "cb = [\n",
    "    tf.keras.callbacks.EarlyStopping(monitor='val_loss', patience=2),\n",
    "    tf.keras.callbacks.TensorBoard(log_dir=\"./logs\")\n",
    "]\n",
    "model.fit(X, y, epochs=1=, callbacks=cb)"
   ]
  },
  {
   "cell_type": "markdown",
   "metadata": {},
   "source": [
    "\n",
    "### Custom Callbacks [tutorial](https://www.tensorflow.org/guide/keras/custom_callback)\n",
    "Custom callbacks can be made by subclassing `tf.keras.callbacks.Callback`. The following methods can be defined to change what the callback does during training.\n",
    "\n",
    "- `on_(train|test|predict)_begin(self, logs=None)` - called at the very beginning of fit/evaluate/predict\n",
    "- `on_(train|test|predict)_end(self, logs=None)` - called at the end of fit/evaluate/predict\n",
    "- `on_(train|test|predict)_batch_begin(self, batch, logs=None)` - Called right before processing a batch during training/testing/predicting. Within this method, logs is a dict with batch and size available keys, representing the current batch number and the size of the batch.\n",
    "- `on_(train|test|predict)_batch_end(self, batch, logs=None)` - Called at the end of training/testing/predicting a batch. The logs dict contains the loss value, and all the metrics at the end of a batch or epoch. \n",
    "- `on_epoch_begin(self, epoch, logs=None)`\n",
    "- `on_epoch_end(self, epoch, logs=None)`\n",
    "\n",
    "Use this to create a custom model checkpointer, or store model metrics."
   ]
  },
  {
   "cell_type": "code",
   "execution_count": null,
   "metadata": {},
   "outputs": [],
   "source": [
    "class LearningRateScheduler(tf.keras.callbacks.Callback):\n",
    "\"\"\"Learning rate scheduler which sets the learning rate according to schedule.\n",
    "\n",
    "Arguments:\n",
    "  schedule: a function that takes an epoch index\n",
    "      (integer, indexed from 0) and current learning rate\n",
    "      as inputs and returns a new learning rate as output (float).\n",
    "  \"\"\"\n",
    "def __init__(self, schedule):\n",
    "    super(LearningRateScheduler, self).__init__()\n",
    "    self.schedule = schedule\n",
    "\n",
    "def on_epoch_begin(self, epoch, logs=None):\n",
    "    if not hasattr(self.model.optimizer, 'lr'):\n",
    "        raise ValueError('Optimizer must have a \"lr\" attribute.')\n",
    "    # Get the current learning rate from model's optimizer.\n",
    "    lr = float(tf.keras.backend.get_value(self.model.optimizer.lr))\n",
    "    # Call schedule function to get the scheduled learning rate.\n",
    "    scheduled_lr = self.schedule(epoch, lr)\n",
    "    # Set the value back to the optimizer before this epoch starts\n",
    "    tf.keras.backend.set_value(self.model.optimizer.lr, scheduled_lr)\n",
    "    print('\\nEpoch %05d: Learning rate is %6.4f.' % (epoch, scheduled_lr))"
   ]
  },
  {
   "cell_type": "markdown",
   "metadata": {},
   "source": [
    "## Keras Mixed Precision [docs](https://www.tensorflow.org/guide/keras/mixed_precision)"
   ]
  },
  {
   "cell_type": "code",
   "execution_count": null,
   "metadata": {},
   "outputs": [],
   "source": []
  },
  {
   "cell_type": "markdown",
   "metadata": {},
   "source": [
    "## FAQs\n",
    "\n",
    "### Getting `Model` intermediate outputs [source](https://keras.io/getting-started/faq/#how-can-i-obtain-the-output-of-an-intermediate-layer)\n",
    "\n",
    "Build a Keras function that will return the layer output given a certain layer input."
   ]
  },
  {
   "cell_type": "code",
   "execution_count": 6,
   "metadata": {
    "ExecuteTime": {
     "end_time": "2020-03-03T00:44:14.848646Z",
     "start_time": "2020-03-03T00:44:14.838673Z"
    }
   },
   "outputs": [
    {
     "data": {
      "text/plain": [
       "[<tensorflow.python.keras.layers.core.Dense at 0x2929418c088>,\n",
       " <tensorflow.python.keras.layers.core.Dense at 0x2929417cc48>,\n",
       " <tensorflow.python.keras.layers.core.Dense at 0x2929418c048>]"
      ]
     },
     "execution_count": 6,
     "metadata": {},
     "output_type": "execute_result"
    }
   ],
   "source": [
    "model.layers"
   ]
  },
  {
   "cell_type": "code",
   "execution_count": 10,
   "metadata": {
    "ExecuteTime": {
     "end_time": "2020-03-03T00:45:00.809043Z",
     "start_time": "2020-03-03T00:45:00.804029Z"
    }
   },
   "outputs": [
    {
     "name": "stdout",
     "output_type": "stream",
     "text": [
      "Tensor(\"dense_input:0\", shape=(None, 100), dtype=float32)\n",
      "Tensor(\"dense_2/Identity:0\", shape=(None, 10), dtype=float32)\n"
     ]
    }
   ],
   "source": [
    "print(model.layers[0].input)\n",
    "print(model.layers[2].output)"
   ]
  },
  {
   "cell_type": "code",
   "execution_count": null,
   "metadata": {
    "ExecuteTime": {
     "end_time": "2020-03-03T00:42:48.917239Z",
     "start_time": "2020-03-03T00:42:45.841058Z"
    }
   },
   "outputs": [],
   "source": [
    "from tensorflow.keras import backend as K\n",
    "\n",
    "get_3rd_layer_output = K.function([model.layers[0].input],\n",
    "                                  [model.layers[2].output])\n",
    "layer_output = get_3rd_layer_output([x])"
   ]
  },
  {
   "cell_type": "markdown",
   "metadata": {},
   "source": [
    "### \"Freezing\" a `Model` Layer [source](https://keras.io/getting-started/faq/#how-can-i-freeze-keras-layers)\n",
    "\n",
    "You can set the `trainable` property of a layer to `True` or `False` after instantiation. __For this to take effect, you will have to call `.compile()` again on the model.__"
   ]
  },
  {
   "cell_type": "code",
   "execution_count": 25,
   "metadata": {
    "ExecuteTime": {
     "end_time": "2020-03-03T00:54:56.842294Z",
     "start_time": "2020-03-03T00:54:56.835339Z"
    },
    "scrolled": false
   },
   "outputs": [
    {
     "data": {
      "text/plain": [
       "[<tf.Variable 'dense_3/kernel:0' shape=(100, 100) dtype=float32, numpy=\n",
       " array([[ 0.04229593,  0.09206483,  0.00455615, ...,  0.16845018,\n",
       "          0.13421744,  0.16722146],\n",
       "        [-0.15613566, -0.01127528, -0.16638912, ...,  0.12586442,\n",
       "         -0.01467061, -0.0880466 ],\n",
       "        [ 0.09727222,  0.15826109, -0.02468204, ...,  0.16805819,\n",
       "          0.02236001,  0.05559266],\n",
       "        ...,\n",
       "        [ 0.0978179 , -0.04568776,  0.03061865, ..., -0.16709602,\n",
       "         -0.10765451,  0.05863138],\n",
       "        [-0.098695  , -0.00828867,  0.1436269 , ...,  0.08958423,\n",
       "          0.00295649,  0.13263074],\n",
       "        [-0.02473371,  0.17144987,  0.13611719, ...,  0.15926453,\n",
       "          0.05085389, -0.04569611]], dtype=float32)>,\n",
       " <tf.Variable 'dense_3/bias:0' shape=(100,) dtype=float32, numpy=\n",
       " array([0., 0., 0., 0., 0., 0., 0., 0., 0., 0., 0., 0., 0., 0., 0., 0., 0.,\n",
       "        0., 0., 0., 0., 0., 0., 0., 0., 0., 0., 0., 0., 0., 0., 0., 0., 0.,\n",
       "        0., 0., 0., 0., 0., 0., 0., 0., 0., 0., 0., 0., 0., 0., 0., 0., 0.,\n",
       "        0., 0., 0., 0., 0., 0., 0., 0., 0., 0., 0., 0., 0., 0., 0., 0., 0.,\n",
       "        0., 0., 0., 0., 0., 0., 0., 0., 0., 0., 0., 0., 0., 0., 0., 0., 0.,\n",
       "        0., 0., 0., 0., 0., 0., 0., 0., 0., 0., 0., 0., 0., 0., 0.],\n",
       "       dtype=float32)>]"
      ]
     },
     "execution_count": 25,
     "metadata": {},
     "output_type": "execute_result"
    }
   ],
   "source": [
    "model.layers[0].trainable_weights"
   ]
  },
  {
   "cell_type": "code",
   "execution_count": 26,
   "metadata": {
    "ExecuteTime": {
     "end_time": "2020-03-03T00:54:58.276703Z",
     "start_time": "2020-03-03T00:54:58.272746Z"
    }
   },
   "outputs": [],
   "source": [
    "model.layers[0].trainable = False"
   ]
  },
  {
   "cell_type": "code",
   "execution_count": 27,
   "metadata": {
    "ExecuteTime": {
     "end_time": "2020-03-03T00:54:58.959934Z",
     "start_time": "2020-03-03T00:54:58.955945Z"
    }
   },
   "outputs": [
    {
     "data": {
      "text/plain": [
       "[]"
      ]
     },
     "execution_count": 27,
     "metadata": {},
     "output_type": "execute_result"
    }
   ],
   "source": [
    "model.layers[0].trainable_weights"
   ]
  },
  {
   "cell_type": "code",
   "execution_count": null,
   "metadata": {},
   "outputs": [],
   "source": []
  }
 ],
 "metadata": {
  "kernelspec": {
   "display_name": "Python [conda env:deep-learning]",
   "language": "python",
   "name": "conda-env-deep-learning-py"
  },
  "language_info": {
   "codemirror_mode": {
    "name": "ipython",
    "version": 3
   },
   "file_extension": ".py",
   "mimetype": "text/x-python",
   "name": "python",
   "nbconvert_exporter": "python",
   "pygments_lexer": "ipython3",
   "version": "3.7.6"
  },
  "toc": {
   "base_numbering": 1,
   "nav_menu": {},
   "number_sections": true,
   "sideBar": true,
   "skip_h1_title": false,
   "title_cell": "Table of Contents",
   "title_sidebar": "Contents",
   "toc_cell": false,
   "toc_position": {},
   "toc_section_display": true,
   "toc_window_display": false
  },
  "varInspector": {
   "cols": {
    "lenName": 16,
    "lenType": 16,
    "lenVar": 40
   },
   "kernels_config": {
    "python": {
     "delete_cmd_postfix": "",
     "delete_cmd_prefix": "del ",
     "library": "var_list.py",
     "varRefreshCmd": "print(var_dic_list())"
    },
    "r": {
     "delete_cmd_postfix": ") ",
     "delete_cmd_prefix": "rm(",
     "library": "var_list.r",
     "varRefreshCmd": "cat(var_dic_list()) "
    }
   },
   "types_to_exclude": [
    "module",
    "function",
    "builtin_function_or_method",
    "instance",
    "_Feature"
   ],
   "window_display": false
  }
 },
 "nbformat": 4,
 "nbformat_minor": 2
}
