{
 "cells": [
  {
   "cell_type": "markdown",
   "metadata": {},
   "source": [
    "# Saving and Loading Models\n",
    "\n",
    "Remember the golden rules, \n",
    "- __learn concepts then tools__\n",
    "- __practice everyday__\n"
   ]
  },
  {
   "cell_type": "code",
   "execution_count": null,
   "metadata": {
    "ExecuteTime": {
     "end_time": "2020-02-04T04:44:40.029528Z",
     "start_time": "2020-02-04T04:44:40.025536Z"
    },
    "colab": {},
    "colab_type": "code",
    "id": "pgrEsa360JEZ"
   },
   "outputs": [],
   "source": [
    "#!pip install --upgrade tensorflow"
   ]
  },
  {
   "cell_type": "code",
   "execution_count": 1,
   "metadata": {
    "ExecuteTime": {
     "end_time": "2020-02-11T22:15:31.269581Z",
     "start_time": "2020-02-11T22:15:26.883978Z"
    },
    "colab": {
     "base_uri": "https://localhost:8080/",
     "height": 35
    },
    "colab_type": "code",
    "id": "KGyZdEOVzsHS",
    "outputId": "04b54108-4c52-47e9-9648-8a090feea5bd"
   },
   "outputs": [
    {
     "data": {
      "text/plain": [
       "'2.1.0'"
      ]
     },
     "execution_count": 1,
     "metadata": {},
     "output_type": "execute_result"
    }
   ],
   "source": [
    "import os\n",
    "import tensorflow as tf\n",
    "tf.__version__"
   ]
  },
  {
   "cell_type": "code",
   "execution_count": 2,
   "metadata": {
    "ExecuteTime": {
     "end_time": "2020-02-11T22:15:31.549574Z",
     "start_time": "2020-02-11T22:15:31.286536Z"
    }
   },
   "outputs": [
    {
     "data": {
      "text/plain": [
       "[PhysicalDevice(name='/physical_device:GPU:0', device_type='GPU')]"
      ]
     },
     "execution_count": 2,
     "metadata": {},
     "output_type": "execute_result"
    }
   ],
   "source": [
    "tf.config.list_physical_devices('GPU')"
   ]
  },
  {
   "cell_type": "markdown",
   "metadata": {
    "colab_type": "text",
    "id": "Nnn5MB_l0X1r"
   },
   "source": [
    "## Making a Basic Model\n"
   ]
  },
  {
   "cell_type": "code",
   "execution_count": 3,
   "metadata": {
    "ExecuteTime": {
     "end_time": "2020-02-11T22:15:34.255419Z",
     "start_time": "2020-02-11T22:15:31.566530Z"
    },
    "colab": {},
    "colab_type": "code",
    "id": "xrphUc9A0P90"
   },
   "outputs": [
    {
     "name": "stdout",
     "output_type": "stream",
     "text": [
      "Model: \"sequential\"\n",
      "_________________________________________________________________\n",
      "Layer (type)                 Output Shape              Param #   \n",
      "=================================================================\n",
      "dense (Dense)                (None, 512)               401920    \n",
      "_________________________________________________________________\n",
      "dropout (Dropout)            (None, 512)               0         \n",
      "_________________________________________________________________\n",
      "dense_1 (Dense)              (None, 10)                5130      \n",
      "=================================================================\n",
      "Total params: 407,050\n",
      "Trainable params: 407,050\n",
      "Non-trainable params: 0\n",
      "_________________________________________________________________\n"
     ]
    }
   ],
   "source": [
    "(x_train, y_train), (x_test, y_test) = tf.keras.datasets.mnist.load_data()\n",
    "\n",
    "x_train = x_train.reshape(60000, 784).astype('float32') / 255\n",
    "x_test = x_test.reshape(10000, 784).astype('float32') / 255\n",
    "\n",
    "\n",
    "# Define a simple sequential model\n",
    "def create_model():\n",
    "    model = tf.keras.models.Sequential([\n",
    "        tf.keras.layers.Dense(512, activation='relu', input_shape=(784,)),\n",
    "        tf.keras.layers.Dropout(0.2),\n",
    "        tf.keras.layers.Dense(10, activation='softmax')\n",
    "        ])\n",
    "    model.compile(optimizer='adam',\n",
    "                loss='sparse_categorical_crossentropy',\n",
    "                metrics=['accuracy'])\n",
    "    return model\n",
    "\n",
    "# Create a basic model instance\n",
    "model = create_model()\n",
    "\n",
    "model.summary()"
   ]
  },
  {
   "cell_type": "code",
   "execution_count": 4,
   "metadata": {
    "ExecuteTime": {
     "end_time": "2020-02-11T22:15:36.477877Z",
     "start_time": "2020-02-11T22:15:34.275364Z"
    }
   },
   "outputs": [
    {
     "name": "stdout",
     "output_type": "stream",
     "text": [
      "Train on 60000 samples\n",
      "60000/60000 [==============================] - 2s 36us/sample - loss: 0.2888 - accuracy: 0.9171\n"
     ]
    }
   ],
   "source": [
    "hist = model.fit(x=x_train, y=y_train, batch_size=128, epochs=1)"
   ]
  },
  {
   "cell_type": "markdown",
   "metadata": {},
   "source": [
    "## Whole Model Saving `Model.save()`\n",
    "[Save and serialize models with Keras\n",
    "](https://www.tensorflow.org/guide/keras/save_and_serialize)\n",
    "\n",
    "Save the model in its entirety. Including:\n",
    "- model architecture\n",
    "- model weights\n",
    "- model optimizer, loss function, metrics (training configuration)\n",
    "\n",
    "Saved in either __Keras H5 format__ or __TensorFlow SavedModel Format__\n",
    "\n",
    "\n",
    "### H5 Format\n",
    "Provide a filepath that ends in `.h5`. THe model will be saved to a single binarized file. (Works for Keras Sequential Models or Keras Functional API Models "
   ]
  },
  {
   "cell_type": "code",
   "execution_count": 5,
   "metadata": {
    "ExecuteTime": {
     "end_time": "2020-02-11T22:15:40.064875Z",
     "start_time": "2020-02-11T22:15:36.494829Z"
    }
   },
   "outputs": [],
   "source": [
    "h5_save_path = 'E://Models/MNIST_H5-Format.h5'\n",
    "model.save(h5_save_path, save_format='h5') #h5 format"
   ]
  },
  {
   "cell_type": "markdown",
   "metadata": {},
   "source": [
    "### SavedModel Format\n",
    "[Docs](https://www.tensorflow.org/guide/saved_model)\n",
    "Need to create a directory for the model to be saved to. This save serialization is unique to TensorFlow."
   ]
  },
  {
   "cell_type": "code",
   "execution_count": 6,
   "metadata": {
    "ExecuteTime": {
     "end_time": "2020-02-11T22:15:41.231858Z",
     "start_time": "2020-02-11T22:15:40.079835Z"
    }
   },
   "outputs": [
    {
     "name": "stdout",
     "output_type": "stream",
     "text": [
      "WARNING:tensorflow:From C:\\Users\\harri\\Anaconda3\\envs\\deep-learning\\lib\\site-packages\\tensorflow_core\\python\\ops\\resource_variable_ops.py:1786: calling BaseResourceVariable.__init__ (from tensorflow.python.ops.resource_variable_ops) with constraint is deprecated and will be removed in a future version.\n",
      "Instructions for updating:\n",
      "If using Keras pass *_constraint arguments to layers.\n",
      "INFO:tensorflow:Assets written to: E://Models/MNIST_SavedModel-Format/assets\n"
     ]
    }
   ],
   "source": [
    "sm_save_path = 'E://Models/MNIST_SavedModel-Format/'\n",
    "model.save(sm_save_path, save_format='tf')"
   ]
  },
  {
   "cell_type": "markdown",
   "metadata": {},
   "source": [
    "### Loading An Entire Model `keras.models.load_model()`\n",
    "\n",
    "*Saved models can be reinstantiated via `keras.models.load_model`.\n",
    "The model returned by `load_model` is a compiled model ready to be used\n",
    "(unless the saved model was never compiled in the first place).*\n"
   ]
  },
  {
   "cell_type": "code",
   "execution_count": 7,
   "metadata": {
    "ExecuteTime": {
     "end_time": "2020-02-11T22:15:42.204279Z",
     "start_time": "2020-02-11T22:15:41.251802Z"
    }
   },
   "outputs": [
    {
     "name": "stdout",
     "output_type": "stream",
     "text": [
      "Load Model Accuracy: 96.11%\n"
     ]
    }
   ],
   "source": [
    "del model\n",
    "model = tf.keras.models.load_model(h5_save_path) #H5 file\n",
    "# Evaluate the model\n",
    "loss, acc = model.evaluate(x_test,  y_test, verbose=0)\n",
    "print(\"Load Model Accuracy: {:5.2f}%\".format(100*acc))"
   ]
  },
  {
   "cell_type": "code",
   "execution_count": 8,
   "metadata": {
    "ExecuteTime": {
     "end_time": "2020-02-11T22:15:43.283098Z",
     "start_time": "2020-02-11T22:15:42.219802Z"
    }
   },
   "outputs": [
    {
     "name": "stdout",
     "output_type": "stream",
     "text": [
      "Load Model Accuracy: 96.11%\n"
     ]
    }
   ],
   "source": [
    "del model\n",
    "model = tf.keras.models.load_model(sm_save_path) #directory\n",
    "# Evaluate the model\n",
    "loss, acc = model.evaluate(x_test,  y_test, verbose=0)\n",
    "print(\"Load Model Accuracy: {:5.2f}%\".format(100*acc))"
   ]
  },
  {
   "cell_type": "markdown",
   "metadata": {},
   "source": [
    "## Saving Model Architecture and Weights\n",
    "[Architecture-only saving](https://www.tensorflow.org/guide/keras/save_and_serialize#architecture-only_saving)\n",
    "\n",
    "[Weights-only saving](https://www.tensorflow.org/guide/keras/save_and_serialize#weights-only_saving)"
   ]
  },
  {
   "cell_type": "code",
   "execution_count": null,
   "metadata": {
    "ExecuteTime": {
     "end_time": "2020-02-11T22:16:25.084466Z",
     "start_time": "2020-02-11T22:16:25.080475Z"
    }
   },
   "outputs": [],
   "source": [
    "#save model architecture to JSON\n",
    "json_config = model.to_json()\n",
    "with open(\"E://Models/MNIST_config.json\", 'w') as f:\n",
    "    f.write(json_config)\n",
    "\n",
    "#save model weights to H5\n",
    "fpath = \"E://Models/MNIST_Weights.h5\"\n",
    "weights = model.save_weights(fpath, save_format='h5')    \n",
    "  "
   ]
  },
  {
   "cell_type": "code",
   "execution_count": 9,
   "metadata": {
    "ExecuteTime": {
     "end_time": "2020-02-11T22:16:25.084466Z",
     "start_time": "2020-02-11T22:16:25.080475Z"
    }
   },
   "outputs": [],
   "source": [
    "#later use this to load architecture from json\n",
    "with open(\"E://Models/MNIST_config.json\") as f:\n",
    "    json_config = f.read()\n",
    "model = tf.keras.models.model_from_json(json_config)\n",
    "\n",
    "#later load weights to arch from H5 file.\n",
    "model.load_weights(fpath)"
   ]
  },
  {
   "cell_type": "markdown",
   "metadata": {},
   "source": [
    "## Saving Subclassed Models (Clunky)\n",
    "[Saving Subclassed Models](https://www.tensorflow.org/guide/keras/save_and_serialize#saving_subclassed_models)\n",
    "\n",
    "*Until the model has been called, it does not know the shape and dtype of the input data it should be expecting, and thus cannot create its weight variables. You may remember that in the Functional model from the first section, the shape and dtype of the inputs was specified in advance (via keras.Input(...)) -- that's why Functional models have a state as soon as they're instantiated.*"
   ]
  },
  {
   "cell_type": "code",
   "execution_count": null,
   "metadata": {
    "ExecuteTime": {
     "end_time": "2020-02-10T20:03:32.184454Z",
     "start_time": "2020-02-10T20:03:32.177475Z"
    }
   },
   "outputs": [],
   "source": [
    "class subclassedModel(tf.keras.Model):\n",
    "    def __init__(self, name=None):\n",
    "        super(subclassedModel, self).__init__(name=name)\n",
    "        self.dense1 = tf.keras.layers.Dense(64, activation='relu', name='dense1')\n",
    "        self.dense2 = tf.keras.layers.Dense(64, activation='relu', name='dense2')\n",
    "        self.dense3 = tf.keras.layers.Dense(10, activation='softmax', name='dense3')\n",
    "        \n",
    "    def call(self, x):\n",
    "        x = self.dense1(x)\n",
    "        x = self.dense2(x)\n",
    "        return self.dense3(x)      "
   ]
  },
  {
   "cell_type": "code",
   "execution_count": null,
   "metadata": {
    "ExecuteTime": {
     "end_time": "2020-02-10T20:06:54.067752Z",
     "start_time": "2020-02-10T20:06:52.409863Z"
    }
   },
   "outputs": [],
   "source": [
    "model =  subclassedModel(name='TheGreatModel')\n",
    "model.compile(optimizer=tf.keras.optimizers.Adam(),\n",
    "    loss=tf.keras.losses.SparseCategoricalCrossentropy(),\n",
    "             metrics = ['acc'])\n",
    "hist = model.fit(x_train, y_train, batch_size=128, epochs=1)"
   ]
  },
  {
   "cell_type": "markdown",
   "metadata": {},
   "source": [
    "Need to save the weights, since the model is defined by the code. `model.save_weights` will save:\n",
    "- layer weights\n",
    "- optimizer state\n",
    "- stateful model metric variables\n",
    "\n",
    "This is SavedModel format"
   ]
  },
  {
   "cell_type": "code",
   "execution_count": null,
   "metadata": {
    "ExecuteTime": {
     "end_time": "2020-02-10T20:10:21.252625Z",
     "start_time": "2020-02-10T20:10:17.532655Z"
    }
   },
   "outputs": [],
   "source": [
    "save_path = 'E://Models/MNIST_SubClassedModel_2-10-20/'\n",
    "model.save_weights(save_path, save_format='tf')"
   ]
  },
  {
   "cell_type": "code",
   "execution_count": null,
   "metadata": {
    "ExecuteTime": {
     "end_time": "2020-02-10T20:15:33.217414Z",
     "start_time": "2020-02-10T20:15:32.887295Z"
    }
   },
   "outputs": [],
   "source": [
    "del model\n",
    "model = subclassedModel(name='TheGreatModel')\n",
    "model.compile(optimizer=tf.keras.optimizers.Adam(),\n",
    "    loss=tf.keras.losses.SparseCategoricalCrossentropy(),\n",
    "             metrics = ['acc'])\n",
    "# This initializes the variables used by the optimizers,\n",
    "# as well as any stateful metric variables\n",
    "model.train_on_batch(x_train[:1], y_train[:1])\n",
    "\n",
    "# Load the state of the old model\n",
    "model.load_weights(save_path)"
   ]
  },
  {
   "cell_type": "markdown",
   "metadata": {},
   "source": [
    "## Model Checkpointing\n",
    "\n",
    "[Training checkpoints](https://www.tensorflow.org/guide/checkpoint)\n",
    "\n",
    "The `tf.keras.callbacks.ModelCheckpoint` callback allows to continually save the model both during and at the end of training.\n",
    "\n",
    "__Note that saving an entire model will dail unless you end the save_path with a forwardslash__ `save/path/` not `save/path`"
   ]
  },
  {
   "cell_type": "code",
   "execution_count": null,
   "metadata": {
    "ExecuteTime": {
     "end_time": "2020-02-10T20:36:31.369217Z",
     "start_time": "2020-02-10T20:35:33.039522Z"
    },
    "colab": {
     "base_uri": "https://localhost:8080/",
     "height": 784
    },
    "colab_type": "code",
    "id": "l6Y0yIne1nOd",
    "outputId": "8bb4b96d-5213-465d-9bc1-eb15dcb53ba2"
   },
   "outputs": [],
   "source": [
    "checkpoint_path = 'E://Models/MNIST_Checkpoints_2-10-20/cp1/'\n",
    "\n",
    "# Create a callback that saves the model's weights (SavedModel Format)\n",
    "cp_callback = tf.keras.callbacks.ModelCheckpoint(filepath=checkpoint_path,\n",
    "                                                 save_best_only=True,\n",
    "                                                 #save_weights_only=True,\n",
    "                                                 verbose=1)\n",
    "\n",
    "model = create_model()\n",
    "\n",
    "# Train the model with the new callback\n",
    "hist = model.fit(x_train, \n",
    "          y_train,  \n",
    "          epochs=10,\n",
    "          verbose=0,\n",
    "          validation_data=(x_test,y_test),\n",
    "          callbacks=[cp_callback])  # Pass callback to training"
   ]
  },
  {
   "cell_type": "code",
   "execution_count": null,
   "metadata": {
    "ExecuteTime": {
     "end_time": "2020-02-10T20:29:45.092628Z",
     "start_time": "2020-02-10T20:29:44.136813Z"
    },
    "colab": {
     "base_uri": "https://localhost:8080/",
     "height": 52
    },
    "colab_type": "code",
    "id": "dg0Y_e6A3S2C",
    "outputId": "dcad9d11-04ed-407f-fe3f-6403e0b80397"
   },
   "outputs": [],
   "source": [
    "# Loads the weights\n",
    "model = tf.keras.models.load_model(checkpoint_path)\n",
    "\n",
    "# Re-evaluate the model\n",
    "loss, acc = model.evaluate(x_test,  y_test, verbose=2)\n",
    "print(\"Restored model, accuracy: {:5.2f}%\".format(100*acc))"
   ]
  },
  {
   "cell_type": "markdown",
   "metadata": {},
   "source": [
    "### Checkpointing Customization\n",
    "Save weights only every 5 Epochs. This is the __TensorFlow Checkpoint format__"
   ]
  },
  {
   "cell_type": "code",
   "execution_count": null,
   "metadata": {
    "ExecuteTime": {
     "end_time": "2020-02-10T20:40:15.339616Z",
     "start_time": "2020-02-10T20:39:22.336270Z"
    }
   },
   "outputs": [],
   "source": [
    "checkpoint_path = 'E://Models/MNIST_Checkpoints_2-10-20/cp2/model_weights_epoch_{epoch}.ckpt'\n",
    "\n",
    "cb = tf.keras.callbacks.ModelCheckpoint(checkpoint_path,\n",
    "                                       save_weights_only=True,\n",
    "                                       period=5,\n",
    "                                       verbose=1)\n",
    "\n",
    "model = create_model()\n",
    "# Train the model with the new callback\n",
    "hist = model.fit(x_train, \n",
    "          y_train,  \n",
    "          epochs=10,\n",
    "          verbose=0,\n",
    "          validation_data=(x_test,y_test),\n",
    "          callbacks=[cb])  # Pass callback to training"
   ]
  },
  {
   "cell_type": "code",
   "execution_count": null,
   "metadata": {
    "ExecuteTime": {
     "end_time": "2020-02-10T20:41:35.216254Z",
     "start_time": "2020-02-10T20:41:34.371850Z"
    }
   },
   "outputs": [],
   "source": [
    "model = create_model()\n",
    "model.load_weights(checkpoint_path.format(epoch=10))\n",
    "# Re-evaluate the model\n",
    "loss, acc = model.evaluate(x_test,  y_test, verbose=2)\n",
    "print(\"Restored model, accuracy: {:5.2f}%\".format(100*acc))"
   ]
  },
  {
   "cell_type": "markdown",
   "metadata": {},
   "source": [
    "## Using SavedModels from TFHub\n",
    "[SavedModels from TF Hub in TensorFlow 2](https://www.tensorflow.org/hub/tf2_saved_model)\n",
    "\n",
    "[Reusable SavedModels](https://www.tensorflow.org/hub/reusable_saved_models)"
   ]
  },
  {
   "cell_type": "markdown",
   "metadata": {},
   "source": [
    "## Concrete Functions\n",
    "[Concrete functions](https://www.tensorflow.org/guide/concrete_function)"
   ]
  },
  {
   "cell_type": "markdown",
   "metadata": {},
   "source": [
    "## Converting TF2 Models to PyTorch\n",
    "[From TensorFlow to PyTorch](https://medium.com/huggingface/from-tensorflow-to-pytorch-265f40ef2a28)\n",
    "\n",
    "[Converting a Simple Deep Learning Model from PyTorch to TensorFlow](https://towardsdatascience.com/converting-a-simple-deep-learning-model-from-pytorch-to-tensorflow-b6b353351f5d)\n",
    "\n",
    "[Converting Tensorflow Checkpoints](https://huggingface.co/transformers/converting_tensorflow_models.html)"
   ]
  }
 ],
 "metadata": {
  "accelerator": "GPU",
  "colab": {
   "authorship_tag": "ABX9TyN1esAqSCc1TwXfXAEKw9Yh",
   "include_colab_link": true,
   "name": "TensorFlow_Doc_Examples.ipynb",
   "provenance": []
  },
  "kernelspec": {
   "display_name": "Python [conda env:deep-learning]",
   "language": "python",
   "name": "conda-env-deep-learning-py"
  },
  "language_info": {
   "codemirror_mode": {
    "name": "ipython",
    "version": 3
   },
   "file_extension": ".py",
   "mimetype": "text/x-python",
   "name": "python",
   "nbconvert_exporter": "python",
   "pygments_lexer": "ipython3",
   "version": "3.7.6"
  },
  "toc": {
   "base_numbering": 1,
   "nav_menu": {},
   "number_sections": true,
   "sideBar": true,
   "skip_h1_title": false,
   "title_cell": "Table of Contents",
   "title_sidebar": "Contents",
   "toc_cell": false,
   "toc_position": {},
   "toc_section_display": true,
   "toc_window_display": false
  },
  "varInspector": {
   "cols": {
    "lenName": 16,
    "lenType": 16,
    "lenVar": 40
   },
   "kernels_config": {
    "python": {
     "delete_cmd_postfix": "",
     "delete_cmd_prefix": "del ",
     "library": "var_list.py",
     "varRefreshCmd": "print(var_dic_list())"
    },
    "r": {
     "delete_cmd_postfix": ") ",
     "delete_cmd_prefix": "rm(",
     "library": "var_list.r",
     "varRefreshCmd": "cat(var_dic_list()) "
    }
   },
   "types_to_exclude": [
    "module",
    "function",
    "builtin_function_or_method",
    "instance",
    "_Feature"
   ],
   "window_display": false
  }
 },
 "nbformat": 4,
 "nbformat_minor": 1
}
