{
 "cells": [
  {
   "cell_type": "markdown",
   "metadata": {},
   "source": [
    "# Keras\n",
    "\n",
    "__Keras Documentation__\n",
    "- [Keras Code Docs](https://www.tensorflow.org/api_docs/python/tf/keras)\n",
    "- [Keras Overview](https://www.tensorflow.org/guide/keras/overview)\n",
    "- [Functional API](https://www.tensorflow.org/guide/keras/functional)\n",
    "- [Keras Model Training](https://www.tensorflow.org/guide/keras/train_and_evaluate)\n",
    "- [Custom Model Creation](https://www.tensorflow.org/guide/keras/custom_layers_and_models)\n",
    "- [Custom Callbacks](https://www.tensorflow.org/guide/keras/custom_callback)\n",
    "- [Mixed Precision](https://www.tensorflow.org/guide/keras/mixed_precision)\n",
    "- [Keras FAQs](https://keras.io/getting-started/faq/)\n",
    "\n",
    "\n",
    "\n",
    "__Examples__\n",
    "- [RNNs w Keras](https://www.tensorflow.org/guide/keras/rnn)\n",
    "- [Masking and Padding](https://www.tensorflow.org/guide/keras/masking_and_padding)\n",
    "- [Paper Implementations](https://github.com/GauravBh1010tt/DeepLearn)\n",
    "- [Model Architectures w Keras](https://github.com/fchollet/deep-learning-models)"
   ]
  },
  {
   "cell_type": "code",
   "execution_count": 1,
   "metadata": {
    "ExecuteTime": {
     "end_time": "2020-02-20T19:14:48.433297Z",
     "start_time": "2020-02-20T19:14:43.042184Z"
    }
   },
   "outputs": [
    {
     "name": "stdout",
     "output_type": "stream",
     "text": [
      "2.1.0\n"
     ]
    }
   ],
   "source": [
    "import tensorflow as tf\n",
    "print(tf.__version__)"
   ]
  },
  {
   "cell_type": "markdown",
   "metadata": {},
   "source": [
    "## Building Networks"
   ]
  },
  {
   "cell_type": "markdown",
   "metadata": {},
   "source": [
    "### Sequential Models `tf.keras.Sequential()`"
   ]
  },
  {
   "cell_type": "code",
   "execution_count": 4,
   "metadata": {
    "ExecuteTime": {
     "end_time": "2020-02-20T19:18:51.258101Z",
     "start_time": "2020-02-20T19:18:48.921617Z"
    }
   },
   "outputs": [
    {
     "name": "stdout",
     "output_type": "stream",
     "text": [
      "Model: \"sequential_2\"\n",
      "_________________________________________________________________\n",
      "Layer (type)                 Output Shape              Param #   \n",
      "=================================================================\n",
      "dense_6 (Dense)              (None, 100)               10100     \n",
      "_________________________________________________________________\n",
      "dense_7 (Dense)              (None, 30)                3030      \n",
      "_________________________________________________________________\n",
      "dense_8 (Dense)              (None, 10)                310       \n",
      "=================================================================\n",
      "Total params: 13,440\n",
      "Trainable params: 13,440\n",
      "Non-trainable params: 0\n",
      "_________________________________________________________________\n"
     ]
    }
   ],
   "source": [
    "#Pass Sequential a list of Keras layers\n",
    "model = tf.keras.Sequential([\n",
    "    tf.keras.layers.Dense(100, activation='relu', input_shape=(100,)),\n",
    "    tf.keras.layers.Dense(30, activation='relu')])\n",
    "\n",
    "#use the .add() method to append a new layer\n",
    "model.add(tf.keras.layers.Dense(10, activation='softmax'))\n",
    "\n",
    "model.summary()"
   ]
  },
  {
   "cell_type": "markdown",
   "metadata": {},
   "source": [
    "### Functional API [link](https://www.tensorflow.org/guide/keras/functional)"
   ]
  },
  {
   "cell_type": "code",
   "execution_count": 5,
   "metadata": {
    "ExecuteTime": {
     "end_time": "2020-02-20T19:28:04.060885Z",
     "start_time": "2020-02-20T19:28:04.020991Z"
    }
   },
   "outputs": [
    {
     "name": "stdout",
     "output_type": "stream",
     "text": [
      "Model: \"model\"\n",
      "_________________________________________________________________\n",
      "Layer (type)                 Output Shape              Param #   \n",
      "=================================================================\n",
      "input_1 (InputLayer)         [(32, 100)]               0         \n",
      "_________________________________________________________________\n",
      "dense_9 (Dense)              (32, 100)                 10100     \n",
      "_________________________________________________________________\n",
      "dense_10 (Dense)             (32, 30)                  3030      \n",
      "_________________________________________________________________\n",
      "dense_11 (Dense)             (32, 10)                  310       \n",
      "=================================================================\n",
      "Total params: 13,440\n",
      "Trainable params: 13,440\n",
      "Non-trainable params: 0\n",
      "_________________________________________________________________\n"
     ]
    }
   ],
   "source": [
    "inputs = tf.keras.Input(shape=100, batch_size=32)\n",
    "dense1 = tf.keras.layers.Dense(100, activation='relu')(inputs)\n",
    "dense2 = tf.keras.layers.Dense(30, activation='relu')(dense1)\n",
    "outputs = tf.keras.layers.Dense(10, activation='softmax')(dense2)\n",
    "\n",
    "model = tf.keras.Model(inputs=inputs, outputs=outputs)\n",
    "model.summary()"
   ]
  },
  {
   "cell_type": "markdown",
   "metadata": {},
   "source": [
    "You can call a model just like a layer. by calling it an input to another layer."
   ]
  },
  {
   "cell_type": "code",
   "execution_count": 6,
   "metadata": {
    "ExecuteTime": {
     "end_time": "2020-02-20T19:52:15.093258Z",
     "start_time": "2020-02-20T19:52:15.089269Z"
    }
   },
   "outputs": [],
   "source": [
    "from tensorflow import keras as k"
   ]
  },
  {
   "cell_type": "code",
   "execution_count": null,
   "metadata": {},
   "outputs": [],
   "source": [
    "num_tags = 12  # Number of unique issue tags\n",
    "num_words = 10000  # Size of vocabulary obtained when preprocessing text data\n",
    "num_departments = 4  # Number of departments for predictions\n",
    "\n",
    "title_input = k.Input(shape=(None,), name='title')"
   ]
  },
  {
   "cell_type": "markdown",
   "metadata": {},
   "source": [
    "### Model Subclassing"
   ]
  },
  {
   "cell_type": "code",
   "execution_count": 14,
   "metadata": {
    "ExecuteTime": {
     "end_time": "2020-02-20T20:08:50.767555Z",
     "start_time": "2020-02-20T20:08:50.761571Z"
    }
   },
   "outputs": [],
   "source": [
    "class MyModel(k.Model):\n",
    "    def __init__(self):\n",
    "        super(MyModel, self).__init__(name=\"Model\")\n",
    "        self.dense1 = k.layers.Dense(100)\n",
    "        self.dense2 = k.layers.Dense(30)\n",
    "        self.outputs = k.layers.Dense(10, activation='softmax')    \n",
    "        \n",
    "    def call(self, Inputs):\n",
    "        x = self.dense1(Inputs)\n",
    "        x = self.dense2(x)\n",
    "        return self.outputs(x)"
   ]
  },
  {
   "cell_type": "code",
   "execution_count": 15,
   "metadata": {
    "ExecuteTime": {
     "end_time": "2020-02-20T20:08:50.975904Z",
     "start_time": "2020-02-20T20:08:50.968940Z"
    }
   },
   "outputs": [],
   "source": [
    "model = MyModel()\n",
    "model.compile(optimizer=tf.keras.optimizers.RMSprop(0.001),\n",
    "              loss=tf.keras.losses.CategoricalCrossentropy(from_logits=True),\n",
    "              metrics=['accuracy'])"
   ]
  },
  {
   "cell_type": "markdown",
   "metadata": {},
   "source": [
    "## Network Training\n",
    "- `model.compile(loss=___, optimizer=___, metrics=____)`\n",
    "- `model.fit(x, y, batch_size=___, epochs=____)`\n",
    "- `model.evaluate(x_test, y_test)`"
   ]
  },
  {
   "cell_type": "markdown",
   "metadata": {},
   "source": [
    "## Save and Load Trained Models\n",
    "- `model.save(path)`\n",
    "- `tf.keras.models.load_model(path)`"
   ]
  },
  {
   "cell_type": "code",
   "execution_count": null,
   "metadata": {},
   "outputs": [],
   "source": [
    "# Save entire model to a HDF5 file\n",
    "model.save('my_model')\n",
    "\n",
    "# Recreate the exact same model, including weights and optimizer.\n",
    "model = tf.keras.models.load_model('my_model')"
   ]
  },
  {
   "cell_type": "code",
   "execution_count": null,
   "metadata": {},
   "outputs": [],
   "source": [
    "# Save weights to a HDF5 file\n",
    "model.save_weights('my_model.h5', save_format='h5')\n",
    "\n",
    "# Restore the model's state\n",
    "model.load_weights('my_model.h5')"
   ]
  },
  {
   "cell_type": "code",
   "execution_count": null,
   "metadata": {},
   "outputs": [],
   "source": [
    "# Serialize a model to JSON format\n",
    "json_string = model.to_json()\n",
    "\n",
    "fresh_model = tf.keras.models.model_from_json(json_string)"
   ]
  },
  {
   "cell_type": "markdown",
   "metadata": {},
   "source": [
    "## Callbacks\n",
    "- `tf.keras.callbacks.ModelCheckpoint()`\n",
    "- `tf.keras.callbacks.LearningRateScheduler()`\n",
    "- `tf.keras.callbacks.EarlyStopping()`\n",
    "- `tf.keras.callbacks.TensorBoard()`\n",
    "\n",
    "create a list of callbacks and pass it to the models `.fit()` method"
   ]
  },
  {
   "cell_type": "code",
   "execution_count": null,
   "metadata": {},
   "outputs": [],
   "source": [
    "cb = [\n",
    "    tf.keras.callbacks.EarlyStopping(monitor='val_loss', patience=2),\n",
    "    tf.keras.callbacks.TensorBoard(log_dir=\"./logs\")\n",
    "]\n",
    "model.fit(X, y, epochs=1=, callbacks=cb)"
   ]
  },
  {
   "cell_type": "code",
   "execution_count": null,
   "metadata": {},
   "outputs": [],
   "source": []
  },
  {
   "cell_type": "code",
   "execution_count": null,
   "metadata": {},
   "outputs": [],
   "source": []
  },
  {
   "cell_type": "code",
   "execution_count": null,
   "metadata": {},
   "outputs": [],
   "source": []
  }
 ],
 "metadata": {
  "kernelspec": {
   "display_name": "Python [conda env:deep-learning]",
   "language": "python",
   "name": "conda-env-deep-learning-py"
  },
  "language_info": {
   "codemirror_mode": {
    "name": "ipython",
    "version": 3
   },
   "file_extension": ".py",
   "mimetype": "text/x-python",
   "name": "python",
   "nbconvert_exporter": "python",
   "pygments_lexer": "ipython3",
   "version": "3.7.6"
  },
  "toc": {
   "base_numbering": 1,
   "nav_menu": {},
   "number_sections": true,
   "sideBar": true,
   "skip_h1_title": false,
   "title_cell": "Table of Contents",
   "title_sidebar": "Contents",
   "toc_cell": false,
   "toc_position": {},
   "toc_section_display": true,
   "toc_window_display": false
  },
  "varInspector": {
   "cols": {
    "lenName": 16,
    "lenType": 16,
    "lenVar": 40
   },
   "kernels_config": {
    "python": {
     "delete_cmd_postfix": "",
     "delete_cmd_prefix": "del ",
     "library": "var_list.py",
     "varRefreshCmd": "print(var_dic_list())"
    },
    "r": {
     "delete_cmd_postfix": ") ",
     "delete_cmd_prefix": "rm(",
     "library": "var_list.r",
     "varRefreshCmd": "cat(var_dic_list()) "
    }
   },
   "types_to_exclude": [
    "module",
    "function",
    "builtin_function_or_method",
    "instance",
    "_Feature"
   ],
   "window_display": false
  }
 },
 "nbformat": 4,
 "nbformat_minor": 2
}
