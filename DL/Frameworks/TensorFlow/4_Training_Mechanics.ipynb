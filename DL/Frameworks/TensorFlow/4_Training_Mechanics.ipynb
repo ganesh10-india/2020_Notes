{
 "cells": [
  {
   "cell_type": "markdown",
   "metadata": {
    "toc": true
   },
   "source": [
    "<h1>Table of Contents<span class=\"tocSkip\"></span></h1>\n",
    "<div class=\"toc\"><ul class=\"toc-item\"><li><span><a href=\"#Training-Mechanics\" data-toc-modified-id=\"Training-Mechanics-1\"><span class=\"toc-item-num\">1&nbsp;&nbsp;</span>Training Mechanics</a></span><ul class=\"toc-item\"><li><span><a href=\"#Custom-Training\" data-toc-modified-id=\"Custom-Training-1.1\"><span class=\"toc-item-num\">1.1&nbsp;&nbsp;</span>Custom Training</a></span></li><li><span><a href=\"#TensorFlow-GPU\" data-toc-modified-id=\"TensorFlow-GPU-1.2\"><span class=\"toc-item-num\">1.2&nbsp;&nbsp;</span>TensorFlow GPU</a></span></li><li><span><a href=\"#TensorFlow-Model-Optimization\" data-toc-modified-id=\"TensorFlow-Model-Optimization-1.3\"><span class=\"toc-item-num\">1.3&nbsp;&nbsp;</span>TensorFlow Model Optimization</a></span></li><li><span><a href=\"#Debugging\" data-toc-modified-id=\"Debugging-1.4\"><span class=\"toc-item-num\">1.4&nbsp;&nbsp;</span>Debugging</a></span></li></ul></li></ul></div>"
   ]
  },
  {
   "cell_type": "markdown",
   "metadata": {},
   "source": [
    "# Training Mechanics\n",
    "\n",
    "## Custom Training\n"
   ]
  },
  {
   "cell_type": "code",
   "execution_count": 7,
   "metadata": {
    "ExecuteTime": {
     "end_time": "2020-03-09T17:56:20.411355Z",
     "start_time": "2020-03-09T17:56:20.407339Z"
    }
   },
   "outputs": [
    {
     "name": "stdout",
     "output_type": "stream",
     "text": [
      "2.1.0\n"
     ]
    }
   ],
   "source": [
    "import tensorflow as tf\n",
    "from tensorflow.keras.layers import *\n",
    "import os\n",
    "import matplotlib.pyplot as plt\n",
    "\n",
    "\n",
    "print(tf.__version__)"
   ]
  },
  {
   "cell_type": "code",
   "execution_count": 8,
   "metadata": {
    "ExecuteTime": {
     "end_time": "2020-03-09T17:56:20.663306Z",
     "start_time": "2020-03-09T17:56:20.658291Z"
    }
   },
   "outputs": [],
   "source": [
    "import importlib.util\n",
    "spec = importlib.util.spec_from_file_location(\"cifar_functions\", \"C://Users/harri/Desktop/2020_Notes/DL/Implementations/CV/Image_Recognition/utils/cifar_functions.py\")\n",
    "utils = importlib.util.module_from_spec(spec)\n",
    "spec.loader.exec_module(utils)"
   ]
  },
  {
   "cell_type": "code",
   "execution_count": 15,
   "metadata": {
    "ExecuteTime": {
     "end_time": "2020-03-09T17:58:11.285068Z",
     "start_time": "2020-03-09T17:58:11.019928Z"
    }
   },
   "outputs": [],
   "source": [
    "DATA_NUM_CLASSES        = 10\n",
    "DATA_CHANNELS           = 3\n",
    "DATA_ROWS               = 32\n",
    "DATA_COLS               = 32\n",
    "DATA_CROP_ROWS          = 28\n",
    "DATA_CROP_COLS          = 28\n",
    "DATA_MEAN               = np.array([[[125.30691805, 122.95039414, 113.86538318]]]) # CIFAR10\n",
    "DATA_STD_DEV            = np.array([[[ 62.99321928,  62.08870764,  66.70489964]]]) # CIFAR10\n",
    "\n",
    "# model\n",
    "MODEL_LEVEL_0_BLOCKS    = 4\n",
    "MODEL_LEVEL_1_BLOCKS    = 4\n",
    "MODEL_LEVEL_2_BLOCKS    = 5\n",
    "BLOCK_REPEATS = [MODEL_LEVEL_0_BLOCKS,MODEL_LEVEL_1_BLOCKS,MODEL_LEVEL_2_BLOCKS]\n",
    "\n",
    "# training\n",
    "TRAINING_BATCH_SIZE      = 64\n",
    "TRAINING_SHUFFLE_BUFFER  = 5000\n",
    "TRAINING_BN_MOMENTUM     = 0.9\n",
    "TRAINING_BN_EPSILON      = 0.001\n",
    "\n",
    "TRAINING_LR_MAX          = 0.001\n",
    "TRAINING_LR_INIT_SCALE   = 0.01\n",
    "TRAINING_LR_INIT_EPOCHS  = 5\n",
    "TRAINING_LR_FINAL_SCALE  = 0.01\n",
    "TRAINING_LR_FINAL_EPOCHS = 25\n",
    "\n",
    "# training (derived)\n",
    "TRAINING_NUM_EPOCHS = TRAINING_LR_INIT_EPOCHS + TRAINING_LR_FINAL_EPOCHS\n",
    "TRAINING_LR_INIT    = TRAINING_LR_MAX*TRAINING_LR_INIT_SCALE\n",
    "TRAINING_LR_FINAL   = TRAINING_LR_MAX*TRAINING_LR_FINAL_SCALE\n",
    "\n",
    "# saving\n",
    "SAVE_MODEL_PATH = 'F://Models/Model_Design/'\n",
    "\n",
    "conv_params = {\"padding\":'same',\n",
    "              \"use_bias\":False,\n",
    "              \"activation\":None}\n",
    "\n",
    "bn_params = {\"axis\":-1,\n",
    "             \"momentum\":TRAINING_BN_MOMENTUM, \n",
    "             \"epsilon\":TRAINING_BN_EPSILON, \n",
    "             \"center\":True, \n",
    "             \"scale\":True}\n",
    "\n",
    "##########################################################################\n",
    "\n",
    "dataset_train, dataset_test = utils.load_cifar()\n",
    "\n",
    "##################################################################################\n",
    "\n",
    "def mobilenet_v2_tail(inputs, dims):\n",
    "    return Conv2D(dims, (3,3), **conv_params)(inputs)\n",
    "\n",
    "def inverted_residual(inputs, squeeze_dims, expand_ratio=4, downsample=False):\n",
    "    \"\"\"\n",
    "    inputs: Tensor- input to the first layer\n",
    "    squeeze_dims: int - depth of the channel dimension after squeeze\n",
    "    expand_ratio: float - multiplier to expand channel dimenions after bottleneck\n",
    "    downsample: bool - whether to downsample the image\n",
    "    \n",
    "    Inverted residual a la MobileNet V2 note the channel dimension will\n",
    "     be expanded by pointwise conv, processed with depthwise conv, then \n",
    "     compressed by a linear bottleneck\n",
    "    \"\"\"\n",
    "    \n",
    "    expand_dims = int(squeeze_dims * expand_ratio)\n",
    "    if downsample:\n",
    "        strides =(2,2)\n",
    "    else:\n",
    "        strides=(1,1)\n",
    "                \n",
    "    #RESIDUAL PATH (EXPAND - > COMPRESS)\n",
    "    x = Conv2D(expand_dims, (1, 1), strides=strides, **conv_params)(inputs) #expansion (linear comb across channels)\n",
    "    x = BatchNormalization(**bn_params)(x)\n",
    "    x = ReLU(max_value=6)(x)  # the paper uses ReLU6, a thresholded ReLU (3-bit output)\n",
    "\n",
    "    x = DepthwiseConv2D((3,3), strides=(1,1), **conv_params)(x) #depthwise conv (for spatial data)\n",
    "    x = BatchNormalization(**bn_params)(x)\n",
    "    x = ReLU(max_value=6)(x)\n",
    "    \n",
    "    x = Conv2D(squeeze_dims, (1, 1), strides=(1, 1), **conv_params)(x) #bottleneck layer\n",
    "    x = BatchNormalization(**bn_params)(x) #No activation here (Linear BottleNeck)\n",
    "    \n",
    "    #IDENTITY PATH\n",
    "    if downsample: # maintain dimensions during downsampling\n",
    "        inputs = Conv2D(squeeze_dims, (1, 1), strides=strides, padding='same')(inputs)\n",
    "    \n",
    "    #COMBINE\n",
    "    return Add()([x, inputs])\n",
    "\n",
    "def mobilenet_v2_head(inputs, dims=None):\n",
    "    x = Conv2D(dims, (1, 1), strides=(1,1), padding='same')(inputs)\n",
    "    x = GlobalAveragePooling2D()(x)\n",
    "    return Dense(DATA_NUM_CLASSES, activation='softmax')(x)"
   ]
  },
  {
   "cell_type": "code",
   "execution_count": 16,
   "metadata": {
    "ExecuteTime": {
     "end_time": "2020-03-09T17:58:14.544793Z",
     "start_time": "2020-03-09T17:58:12.912181Z"
    }
   },
   "outputs": [],
   "source": [
    "mobilenet_v2 = utils.VGG_Like_CNN(mobilenet_v2_tail,\n",
    "            inverted_residual,\n",
    "            mobilenet_v2_head,\n",
    "            input_shape = (DATA_CROP_ROWS, DATA_CROP_COLS, DATA_CHANNELS),\n",
    "            num_levels= 3,\n",
    "            num_downsamples=2,\n",
    "            block_repeats=BLOCK_REPEATS)\n",
    "\n",
    "mobilenet_v2.compile(optimizer = tf.keras.optimizers.Adam(TRAINING_LR_MAX),\n",
    "              loss='sparse_categorical_crossentropy',\n",
    "               metrics=['accuracy'])"
   ]
  },
  {
   "cell_type": "code",
   "execution_count": null,
   "metadata": {
    "ExecuteTime": {
     "end_time": "2020-03-09T17:58:24.524544Z",
     "start_time": "2020-03-09T17:58:14.823039Z"
    }
   },
   "outputs": [],
   "source": [
    "hist = utils.train(mobilenet_v2, dataset_train, dataset_test, 'mobilenet_v2', logs=True, save=False)"
   ]
  },
  {
   "cell_type": "code",
   "execution_count": null,
   "metadata": {},
   "outputs": [],
   "source": [
    "utils.benchmark(mobilenet_v2, dataset_test, hist, 'mobilenet_v2')"
   ]
  },
  {
   "cell_type": "markdown",
   "metadata": {},
   "source": [
    "## TensorFlow GPU\n",
    "\n",
    "https://www.tensorflow.org/guide/gpu\n",
    "\n",
    "https://medium.com/@colinshaw_36798/fully-utilizing-your-deep-learning-gpus-61ee7acd3e57\n",
    "\n",
    "https://data-flair.training/blogs/gpu-in-tensorflow/\n",
    "\n",
    "https://www.youtube.com/watch?v=26t8MfP8Fo0"
   ]
  },
  {
   "cell_type": "code",
   "execution_count": null,
   "metadata": {},
   "outputs": [],
   "source": []
  },
  {
   "cell_type": "code",
   "execution_count": null,
   "metadata": {},
   "outputs": [],
   "source": []
  },
  {
   "cell_type": "markdown",
   "metadata": {},
   "source": [
    "## TensorFlow Model Optimization\n",
    "\n",
    "- [1](https://www.tensorflow.org/model_optimization/guide)\n",
    "- [2](https://www.tensorflow.org/guide/graph_optimization)\n",
    "\n",
    "\n",
    "Minimize the complexity of a model during inference,"
   ]
  },
  {
   "cell_type": "code",
   "execution_count": null,
   "metadata": {},
   "outputs": [],
   "source": []
  },
  {
   "cell_type": "markdown",
   "metadata": {},
   "source": [
    "## Debugging\n",
    "- [1](https://www.tensorflow.org/api_docs/python/tf/debugging)"
   ]
  }
 ],
 "metadata": {
  "kernelspec": {
   "display_name": "Python [conda env:deep-learning]",
   "language": "python",
   "name": "conda-env-deep-learning-py"
  },
  "language_info": {
   "codemirror_mode": {
    "name": "ipython",
    "version": 3
   },
   "file_extension": ".py",
   "mimetype": "text/x-python",
   "name": "python",
   "nbconvert_exporter": "python",
   "pygments_lexer": "ipython3",
   "version": "3.7.6"
  },
  "toc": {
   "base_numbering": 1,
   "nav_menu": {},
   "number_sections": true,
   "sideBar": true,
   "skip_h1_title": false,
   "title_cell": "Table of Contents",
   "title_sidebar": "Contents",
   "toc_cell": true,
   "toc_position": {},
   "toc_section_display": true,
   "toc_window_display": true
  },
  "varInspector": {
   "cols": {
    "lenName": 16,
    "lenType": 16,
    "lenVar": 40
   },
   "kernels_config": {
    "python": {
     "delete_cmd_postfix": "",
     "delete_cmd_prefix": "del ",
     "library": "var_list.py",
     "varRefreshCmd": "print(var_dic_list())"
    },
    "r": {
     "delete_cmd_postfix": ") ",
     "delete_cmd_prefix": "rm(",
     "library": "var_list.r",
     "varRefreshCmd": "cat(var_dic_list()) "
    }
   },
   "types_to_exclude": [
    "module",
    "function",
    "builtin_function_or_method",
    "instance",
    "_Feature"
   ],
   "window_display": false
  }
 },
 "nbformat": 4,
 "nbformat_minor": 2
}
