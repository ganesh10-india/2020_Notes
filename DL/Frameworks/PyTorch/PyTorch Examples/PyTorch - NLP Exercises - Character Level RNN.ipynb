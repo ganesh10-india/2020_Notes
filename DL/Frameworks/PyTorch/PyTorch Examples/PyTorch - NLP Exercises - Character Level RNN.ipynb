{
 "cells": [
  {
   "cell_type": "markdown",
   "metadata": {},
   "source": [
    "# Classifying Names with a Character Level RNN"
   ]
  },
  {
   "cell_type": "code",
   "execution_count": 2,
   "metadata": {
    "ExecuteTime": {
     "end_time": "2019-10-20T00:01:56.968825Z",
     "start_time": "2019-10-20T00:01:56.965832Z"
    }
   },
   "outputs": [],
   "source": [
    "import torch\n",
    "import torch.nn as nn"
   ]
  },
  {
   "cell_type": "code",
   "execution_count": null,
   "metadata": {},
   "outputs": [],
   "source": [
    "class simpleRNN(torch.nn.Module):\n",
    "    def __init__(self):\n",
    "        super(nn.Module).__init__()\n",
    "        self.W_hy = nn.Parameter(torch.randn(10,1) / math.sqrt(10))\n",
    "        self.W_hx = nn.Parameter(torch.randn(10,10) / math.sqrt(10))\n",
    "        self.W_hh = nn.Parameter(torch.randn(10,10) / math.sqrt(10))\n",
    "        self.h = torch.zeros(10,10)\n",
    "        \n",
    "    def step(self, x):\n",
    "        self.h = nn.ReLU(torch.mm(self.h, self.W_hh)+torch.mm(X, self.W_hx))\n",
    "        return nn.ReLU(torch.mm(self.h, self.W_hy))\n",
    "    \n",
    "    def forward(self, X):\n",
    "        self.h = torch.zeros(10,10)\n",
    "        for x in X:\n",
    "            yield self.step(x)\n",
    "\n",
    "         "
   ]
  }
 ],
 "metadata": {
  "kernelspec": {
   "display_name": "Python [conda env:tensorflow]",
   "language": "python",
   "name": "conda-env-tensorflow-py"
  },
  "language_info": {
   "codemirror_mode": {
    "name": "ipython",
    "version": 3
   },
   "file_extension": ".py",
   "mimetype": "text/x-python",
   "name": "python",
   "nbconvert_exporter": "python",
   "pygments_lexer": "ipython3",
   "version": "3.5.4"
  },
  "varInspector": {
   "cols": {
    "lenName": 16,
    "lenType": 16,
    "lenVar": 40
   },
   "kernels_config": {
    "python": {
     "delete_cmd_postfix": "",
     "delete_cmd_prefix": "del ",
     "library": "var_list.py",
     "varRefreshCmd": "print(var_dic_list())"
    },
    "r": {
     "delete_cmd_postfix": ") ",
     "delete_cmd_prefix": "rm(",
     "library": "var_list.r",
     "varRefreshCmd": "cat(var_dic_list()) "
    }
   },
   "types_to_exclude": [
    "module",
    "function",
    "builtin_function_or_method",
    "instance",
    "_Feature"
   ],
   "window_display": false
  }
 },
 "nbformat": 4,
 "nbformat_minor": 2
}
